{
 "cells": [
  {
   "cell_type": "code",
   "execution_count": 1,
   "id": "7bb9b7c3-bca8-4fef-a902-4d579e468de2",
   "metadata": {},
   "outputs": [],
   "source": [
    "import pandas as pd\n",
    "import numpy as np"
   ]
  },
  {
   "cell_type": "code",
   "execution_count": 2,
   "id": "8e244f12-cf53-4043-882d-251f8a8ddbb9",
   "metadata": {},
   "outputs": [],
   "source": [
    "import matplotlib.pyplot as plt\n",
    "import seaborn as sns"
   ]
  },
  {
   "cell_type": "code",
   "execution_count": 3,
   "id": "94939b56-febb-4882-828b-aa27449b4a40",
   "metadata": {},
   "outputs": [],
   "source": [
    "import re"
   ]
  },
  {
   "cell_type": "code",
   "execution_count": 4,
   "id": "b8af19a4-a391-42a1-b38b-0f4b350f3805",
   "metadata": {},
   "outputs": [],
   "source": [
    "# import NLTK and download required resources\n",
    "import nltk\n",
    "# nltk.download('punkt')  # For tokenization\n",
    "# nltk.download('stopwords')  # For stop words\n",
    "# nltk.download('wordnet')  # For lemmatization\n",
    "# nltk.download('omw-1.4')  # For lemmatizer's extended language support"
   ]
  },
  {
   "cell_type": "code",
   "execution_count": 5,
   "id": "abad809c-cfec-4447-8550-050a380ee932",
   "metadata": {},
   "outputs": [],
   "source": [
    "from nltk.tokenize import word_tokenize\n",
    "from nltk.corpus import stopwords\n",
    "from nltk.stem import PorterStemmer\n",
    "from nltk.stem import WordNetLemmatizer"
   ]
  },
  {
   "cell_type": "code",
   "execution_count": 6,
   "id": "ce7cddee-c8d2-4462-b30f-0ff1f03e81d5",
   "metadata": {},
   "outputs": [],
   "source": [
    "import sklearn"
   ]
  },
  {
   "cell_type": "code",
   "execution_count": 7,
   "id": "45be5bac-dc19-447c-a4c0-2db0ea5e283a",
   "metadata": {},
   "outputs": [],
   "source": [
    "from sklearn.feature_extraction.text import TfidfVectorizer\n",
    "from sklearn.metrics.pairwise import cosine_similarity"
   ]
  },
  {
   "cell_type": "code",
   "execution_count": 8,
   "id": "c9d3cc7d-2cf9-479e-96a0-09595d2a769f",
   "metadata": {},
   "outputs": [
    {
     "name": "stdout",
     "output_type": "stream",
     "text": [
      "cigar_aficionado.csv  clean_cigar_eda.csv   corpus_data.csv\n"
     ]
    }
   ],
   "source": [
    "%ls data"
   ]
  },
  {
   "cell_type": "code",
   "execution_count": 9,
   "id": "e6979257-3464-454d-8642-e83d0d7fd9c1",
   "metadata": {},
   "outputs": [],
   "source": [
    "file_name = '/Users/djbetts/Documents/data_science/projects/top-25-cigars/data/corpus_data.csv'\n",
    "data = pd.read_csv(file_name)"
   ]
  },
  {
   "cell_type": "code",
   "execution_count": 10,
   "id": "922eacfe-cc2c-4c22-81a0-7cd1923df35a",
   "metadata": {},
   "outputs": [],
   "source": [
    "df = data.copy()"
   ]
  },
  {
   "cell_type": "code",
   "execution_count": 11,
   "id": "155ac37f-d325-4028-bcfb-d730c656143c",
   "metadata": {},
   "outputs": [
    {
     "data": {
      "text/plain": [
       "Index(['cigar_id', 'name', 'score', 'length', 'gauge', 'tasting_notes',\n",
       "       'shape', 'filler', 'binder', 'wrapper', 'country', 'strength', 'issue',\n",
       "       'issue_date', 'usd_value', 'word_count', 'clean_notes', 'tokens',\n",
       "       'tokens_no_stopwords', 'lemmatized_tokens', 'corpus'],\n",
       "      dtype='object')"
      ]
     },
     "execution_count": 11,
     "metadata": {},
     "output_type": "execute_result"
    }
   ],
   "source": [
    "df.columns"
   ]
  },
  {
   "cell_type": "code",
   "execution_count": 12,
   "id": "828e8a5c-867d-40c4-9ce5-26bc1a2d63ea",
   "metadata": {},
   "outputs": [],
   "source": [
    "# Initialize the TF-IDF Vectorizer with Bigrams and Unigrams\n",
    "# vectorizer = TfidfVectorizer(ngram_range=(1, 2))  # (1,2) includes both unigrams and bigrams\n",
    "vectorizer = TfidfVectorizer(ngram_range=(1, 1))  # unigrams only"
   ]
  },
  {
   "cell_type": "code",
   "execution_count": 13,
   "id": "e4ed6d25-cb85-41cd-9f41-42f1bfbe7f2c",
   "metadata": {},
   "outputs": [
    {
     "data": {
      "text/plain": [
       "(18904, 4292)"
      ]
     },
     "execution_count": 13,
     "metadata": {},
     "output_type": "execute_result"
    }
   ],
   "source": [
    "# Fit and Transform the Corpus\n",
    "tfidf_matrix = vectorizer.fit_transform(df['corpus'])\n",
    "tfidf_matrix.shape"
   ]
  },
  {
   "cell_type": "code",
   "execution_count": 14,
   "id": "ff8a51b7-0f22-4232-9a40-89285ae3a6d3",
   "metadata": {},
   "outputs": [
    {
     "data": {
      "image/png": "[encoded data removed]",
      "text/plain": [
       "<Figure size 640x480 with 1 Axes>"
      ]
     },
     "metadata": {},
     "output_type": "display_data"
    }
   ],
   "source": [
    "non_zero_values = tfidf_matrix.data  # Extract non-zero values directly\n",
    "plt.hist(non_zero_values, bins=50)\n",
    "plt.title(\"Histogram of Non-zero Values in Sparse Matrix\")\n",
    "plt.show()"
   ]
  },
  {
   "cell_type": "code",
   "execution_count": 15,
   "id": "3625eb44-4a87-41dc-9d89-d75a86ccdacf",
   "metadata": {},
   "outputs": [
    {
     "name": "stdout",
     "output_type": "stream",
     "text": [
      "TF-IDF Matrix Shape: (18904, 4292)\n"
     ]
    }
   ],
   "source": [
    "# Display the shape of the TF-IDF matrix to check results\n",
    "print(\"TF-IDF Matrix Shape:\", tfidf_matrix.shape)"
   ]
  },
  {
   "cell_type": "markdown",
   "id": "88ee2a31-bfe8-41eb-9a73-cd3db80ece72",
   "metadata": {},
   "source": [
    "# viz of tfidf"
   ]
  },
  {
   "cell_type": "code",
   "execution_count": 16,
   "id": "ab9ff49c-599d-49c9-a103-ee97164c9e33",
   "metadata": {},
   "outputs": [
    {
     "name": "stdout",
     "output_type": "stream",
     "text": [
      "      n-gram  avg_tfidf_score\n",
      "673    cigar         0.064423\n",
      "1418  finish         0.051560\n",
      "2468    note         0.049598\n",
      "1462  flavor         0.047812\n",
      "1136    draw         0.046396\n"
     ]
    }
   ],
   "source": [
    "# Get feature names (n-grams) and their corresponding TF-IDF scores\n",
    "feature_names = vectorizer.get_feature_names_out()\n",
    "tfidf_scores = tfidf_matrix.toarray()\n",
    "\n",
    "# Compute average TF-IDF score for each feature across all documents\n",
    "avg_tfidf_scores = np.mean(tfidf_scores, axis=0)\n",
    "\n",
    "# Create a DataFrame with feature names and their average scores\n",
    "tfidf_df = pd.DataFrame({\n",
    "    'n-gram': feature_names,\n",
    "    'avg_tfidf_score': avg_tfidf_scores\n",
    "})\n",
    "\n",
    "# Sort by TF-IDF score to see the most important terms\n",
    "top_tfidf = tfidf_df.sort_values(by='avg_tfidf_score', ascending=False).head(5)\n",
    "print(top_tfidf)"
   ]
  },
  {
   "cell_type": "code",
   "execution_count": 17,
   "id": "cc483156-cde1-4086-8662-2e66909c6957",
   "metadata": {},
   "outputs": [
    {
     "name": "stdout",
     "output_type": "stream",
     "text": [
      "N-gram range: (1, 1)\n",
      "Number of features (terms): 4292\n",
      "Lowercase: True\n",
      "Stop words: None\n",
      "Max features: None\n",
      "Minimum document frequency (min_df): 1\n",
      "Maximum document frequency (max_df): 1.0\n",
      "Use IDF: True\n",
      "Smooth IDF: True\n",
      "Sublinear TF scaling: False\n",
      "TF-IDF Matrix Shape: (18904, 4292)\n"
     ]
    }
   ],
   "source": [
    "# Print vectorizer settings\n",
    "print(\"N-gram range:\", vectorizer.ngram_range)\n",
    "print(\"Number of features (terms):\", len(vectorizer.get_feature_names_out()))\n",
    "print(\"Lowercase:\", vectorizer.lowercase)\n",
    "print(\"Stop words:\", vectorizer.stop_words)\n",
    "print(\"Max features:\", vectorizer.max_features)\n",
    "print(\"Minimum document frequency (min_df):\", vectorizer.min_df)\n",
    "print(\"Maximum document frequency (max_df):\", vectorizer.max_df)\n",
    "print(\"Use IDF:\", vectorizer.use_idf)\n",
    "print(\"Smooth IDF:\", vectorizer.smooth_idf)\n",
    "print(\"Sublinear TF scaling:\", vectorizer.sublinear_tf)\n",
    "\n",
    "# Additionally, display the shape of the TF-IDF matrix\n",
    "print(\"TF-IDF Matrix Shape:\", tfidf_matrix.shape)  # (number of documents, number of terms)"
   ]
  },
  {
   "cell_type": "code",
   "execution_count": 18,
   "id": "f922ba4f-f892-4421-a8bf-871718b9a50c",
   "metadata": {},
   "outputs": [],
   "source": [
    "#1. Visualize the TF-IDF Matrix as a Heatmap"
   ]
  },
  {
   "cell_type": "code",
   "execution_count": 19,
   "id": "849c9203-068d-4086-86f7-efedede0515a",
   "metadata": {},
   "outputs": [
    {
     "data": {
      "image/png": "[encoded data removed]",
      "text/plain": [
       "<Figure size 1200x800 with 2 Axes>"
      ]
     },
     "metadata": {},
     "output_type": "display_data"
    }
   ],
   "source": [
    "# Convert the TF-IDF matrix to a DataFrame\n",
    "tfidf_df = pd.DataFrame(tfidf_matrix.toarray(), columns=vectorizer.get_feature_names_out())\n",
    "\n",
    "# Display a heatmap of a sample of the TF-IDF matrix (for readability, use the first N rows)\n",
    "plt.figure(figsize=(12, 8))\n",
    "sns.heatmap(tfidf_df.iloc[:10, :10], cmap=\"viridis\", annot=True, cbar=True)  # Limit to first 10 documents and features\n",
    "plt.title(\"Sample TF-IDF Matrix Heatmap\")\n",
    "plt.xlabel(\"Terms\")\n",
    "plt.ylabel(\"Documents\")\n",
    "plt.show()"
   ]
  },
  {
   "cell_type": "code",
   "execution_count": 20,
   "id": "79f07f35-7555-4bbb-af08-5fd33a0fc565",
   "metadata": {},
   "outputs": [],
   "source": [
    "#2. Find the Most Important Features Globally"
   ]
  },
  {
   "cell_type": "code",
   "execution_count": 21,
   "id": "c391f929-3768-4b59-8015-26f4751da369",
   "metadata": {},
   "outputs": [
    {
     "name": "stdout",
     "output_type": "stream",
     "text": [
      "Top 10 terms by average TF-IDF score:\n",
      " cigar     0.064423\n",
      "finish    0.051560\n",
      "note      0.049598\n",
      "flavor    0.047812\n",
      "draw      0.046396\n",
      "smoke     0.040174\n",
      "burn      0.036070\n",
      "woody     0.035914\n",
      "hint      0.033505\n",
      "medium    0.032849\n",
      "dtype: float64\n"
     ]
    }
   ],
   "source": [
    "# Calculate average TF-IDF score for each term\n",
    "avg_tfidf = tfidf_df.mean().sort_values(ascending=False)\n",
    "\n",
    "# Display the top N terms by average TF-IDF score\n",
    "top_n = 10\n",
    "print(f\"Top {top_n} terms by average TF-IDF score:\\n\", avg_tfidf.head(top_n))"
   ]
  },
  {
   "cell_type": "code",
   "execution_count": 22,
   "id": "64964655-a825-45a6-b58d-1ac7699bbf7f",
   "metadata": {},
   "outputs": [],
   "source": [
    "#3. Plot the Top N Important Terms"
   ]
  },
  {
   "cell_type": "code",
   "execution_count": 23,
   "id": "a17bff6b-edb3-4663-8006-2805483cbd47",
   "metadata": {},
   "outputs": [
    {
     "data": {
      "image/png": "[encoded data removed]",
      "text/plain": [
       "<Figure size 1000x600 with 1 Axes>"
      ]
     },
     "metadata": {},
     "output_type": "display_data"
    }
   ],
   "source": [
    "top_terms = avg_tfidf.head(top_n)\n",
    "\n",
    "plt.figure(figsize=(10, 6))\n",
    "top_terms.plot(kind='bar')\n",
    "plt.title(f\"Top {top_n} Terms by Average TF-IDF Score\")\n",
    "plt.xlabel(\"Terms\")\n",
    "plt.ylabel(\"Average TF-IDF Score\")\n",
    "plt.show()"
   ]
  },
  {
   "cell_type": "code",
   "execution_count": 24,
   "id": "79e6e12d-9436-43d1-8778-1f493de219c2",
   "metadata": {},
   "outputs": [],
   "source": [
    "#4. Identify Potential Stop Words"
   ]
  },
  {
   "cell_type": "code",
   "execution_count": 25,
   "id": "69202073-1449-4fca-a45d-e1328cda578b",
   "metadata": {},
   "outputs": [
    {
     "name": "stdout",
     "output_type": "stream",
     "text": [
      "Potential Stop Words:\n",
      " greatest         0.000015\n",
      "world            0.000015\n",
      "monterrey        0.000015\n",
      "de               0.000015\n",
      "medley           0.000015\n",
      "york             0.000014\n",
      "panatelasized    0.000014\n",
      "batch            0.000014\n",
      "auction          0.000014\n",
      "came             0.000014\n",
      "dtype: float64\n"
     ]
    }
   ],
   "source": [
    "# Find terms with low average TF-IDF score (e.g., bottom 10 terms)\n",
    "low_tfidf_terms = avg_tfidf.tail(10)\n",
    "print(\"Potential Stop Words:\\n\", low_tfidf_terms)"
   ]
  },
  {
   "cell_type": "markdown",
   "id": "cb08f2d8-af9b-4bee-b5d5-8ab1c33ad504",
   "metadata": {},
   "source": [
    "# cosine similarity model"
   ]
  },
  {
   "cell_type": "code",
   "execution_count": 26,
   "id": "49dbcd01-fc7c-4624-8a90-005061f3c9e9",
   "metadata": {},
   "outputs": [
    {
     "data": {
      "text/plain": [
       "(18904, 4292)"
      ]
     },
     "execution_count": 26,
     "metadata": {},
     "output_type": "execute_result"
    }
   ],
   "source": [
    "tfidf_matrix.shape"
   ]
  },
  {
   "cell_type": "code",
   "execution_count": 27,
   "id": "773ddde6-ff00-464a-8499-a622cc5cef53",
   "metadata": {},
   "outputs": [],
   "source": [
    "# Calculate cosine similarity for the TF-IDF matrix\n",
    "cosine_sim = cosine_similarity(tfidf_matrix)"
   ]
  },
  {
   "cell_type": "code",
   "execution_count": 28,
   "id": "018c8c04-be89-4f50-8c16-d210097003db",
   "metadata": {},
   "outputs": [
    {
     "data": {
      "text/plain": [
       "(18904, 18904)"
      ]
     },
     "execution_count": 28,
     "metadata": {},
     "output_type": "execute_result"
    }
   ],
   "source": [
    "cosine_sim.shape"
   ]
  },
  {
   "cell_type": "code",
   "execution_count": 29,
   "id": "74b171d0-37f0-42b6-b326-d9783e83f031",
   "metadata": {},
   "outputs": [
    {
     "data": {
      "text/plain": [
       "array([[1.        , 0.08747542, 0.02815224, ..., 0.0114547 , 0.03945234,\n",
       "        0.00837998],\n",
       "       [0.08747542, 1.        , 0.05365304, ..., 0.05109953, 0.00508231,\n",
       "        0.01182056],\n",
       "       [0.02815224, 0.05365304, 1.        , ..., 0.03659179, 0.04463822,\n",
       "        0.00874394],\n",
       "       ...,\n",
       "       [0.0114547 , 0.05109953, 0.03659179, ..., 1.        , 0.07678466,\n",
       "        0.08755682],\n",
       "       [0.03945234, 0.00508231, 0.04463822, ..., 0.07678466, 1.        ,\n",
       "        0.05458695],\n",
       "       [0.00837998, 0.01182056, 0.00874394, ..., 0.08755682, 0.05458695,\n",
       "        1.        ]])"
      ]
     },
     "execution_count": 29,
     "metadata": {},
     "output_type": "execute_result"
    }
   ],
   "source": [
    "cosine_sim"
   ]
  },
  {
   "cell_type": "code",
   "execution_count": 30,
   "id": "d202fdc4-edf7-41ea-8d00-0c4458884937",
   "metadata": {},
   "outputs": [],
   "source": [
    "# sns.clustermap(cosine_sim, cmap='viridis', metric='cosine', method='average')\n",
    "# plt.title(\"Cosine Similarity Clustered Heatmap\")\n",
    "# plt.show()"
   ]
  },
  {
   "cell_type": "markdown",
   "id": "5c5a5fbd-f23e-4bc1-9575-8bbbfa323bd8",
   "metadata": {},
   "source": [
    "# testing and finding most similar cigars"
   ]
  },
  {
   "cell_type": "code",
   "execution_count": 31,
   "id": "be6b065a-c14d-4f69-b2d8-b5668582c7ad",
   "metadata": {},
   "outputs": [],
   "source": [
    "# Create a DataFrame for the similarity matrix with cigar IDs\n",
    "cigar_ids = [f'{i}' for i in range(cosine_sim.shape[0])]\n",
    "cosine_sim_df = pd.DataFrame(cosine_sim, index=df['cigar_id'], columns=df['cigar_id'])"
   ]
  },
  {
   "cell_type": "code",
   "execution_count": 32,
   "id": "47b6ce86-81fe-49e8-bddc-3812e90e5772",
   "metadata": {},
   "outputs": [
    {
     "data": {
      "text/html": [
       "<div>\n",
       "<style scoped>\n",
       "    .dataframe tbody tr th:only-of-type {\n",
       "        vertical-align: middle;\n",
       "    }\n",
       "\n",
       "    .dataframe tbody tr th {\n",
       "        vertical-align: top;\n",
       "    }\n",
       "\n",
       "    .dataframe thead th {\n",
       "        text-align: right;\n",
       "    }\n",
       "</style>\n",
       "<table border=\"1\" class=\"dataframe\">\n",
       "  <thead>\n",
       "    <tr style=\"text-align: right;\">\n",
       "      <th>cigar_id</th>\n",
       "      <th>0</th>\n",
       "      <th>2</th>\n",
       "      <th>3</th>\n",
       "      <th>4</th>\n",
       "      <th>5</th>\n",
       "      <th>6</th>\n",
       "      <th>7</th>\n",
       "      <th>8</th>\n",
       "      <th>9</th>\n",
       "      <th>10</th>\n",
       "      <th>...</th>\n",
       "      <th>20761</th>\n",
       "      <th>20763</th>\n",
       "      <th>20764</th>\n",
       "      <th>20765</th>\n",
       "      <th>20767</th>\n",
       "      <th>20768</th>\n",
       "      <th>20769</th>\n",
       "      <th>20770</th>\n",
       "      <th>20771</th>\n",
       "      <th>20772</th>\n",
       "    </tr>\n",
       "    <tr>\n",
       "      <th>cigar_id</th>\n",
       "      <th></th>\n",
       "      <th></th>\n",
       "      <th></th>\n",
       "      <th></th>\n",
       "      <th></th>\n",
       "      <th></th>\n",
       "      <th></th>\n",
       "      <th></th>\n",
       "      <th></th>\n",
       "      <th></th>\n",
       "      <th></th>\n",
       "      <th></th>\n",
       "      <th></th>\n",
       "      <th></th>\n",
       "      <th></th>\n",
       "      <th></th>\n",
       "      <th></th>\n",
       "      <th></th>\n",
       "      <th></th>\n",
       "      <th></th>\n",
       "      <th></th>\n",
       "    </tr>\n",
       "  </thead>\n",
       "  <tbody>\n",
       "    <tr>\n",
       "      <th>0</th>\n",
       "      <td>1.000000</td>\n",
       "      <td>0.087475</td>\n",
       "      <td>0.028152</td>\n",
       "      <td>0.442191</td>\n",
       "      <td>0.011894</td>\n",
       "      <td>0.138217</td>\n",
       "      <td>0.174795</td>\n",
       "      <td>0.136352</td>\n",
       "      <td>0.000000</td>\n",
       "      <td>0.125911</td>\n",
       "      <td>...</td>\n",
       "      <td>0.013378</td>\n",
       "      <td>0.012979</td>\n",
       "      <td>0.027246</td>\n",
       "      <td>0.028553</td>\n",
       "      <td>0.055687</td>\n",
       "      <td>0.144506</td>\n",
       "      <td>0.041309</td>\n",
       "      <td>0.011455</td>\n",
       "      <td>0.039452</td>\n",
       "      <td>0.008380</td>\n",
       "    </tr>\n",
       "    <tr>\n",
       "      <th>2</th>\n",
       "      <td>0.087475</td>\n",
       "      <td>1.000000</td>\n",
       "      <td>0.053653</td>\n",
       "      <td>0.006760</td>\n",
       "      <td>0.022299</td>\n",
       "      <td>0.138857</td>\n",
       "      <td>0.077016</td>\n",
       "      <td>0.048776</td>\n",
       "      <td>0.005791</td>\n",
       "      <td>0.073784</td>\n",
       "      <td>...</td>\n",
       "      <td>0.020379</td>\n",
       "      <td>0.038742</td>\n",
       "      <td>0.027011</td>\n",
       "      <td>0.036669</td>\n",
       "      <td>0.023098</td>\n",
       "      <td>0.033237</td>\n",
       "      <td>0.005321</td>\n",
       "      <td>0.051100</td>\n",
       "      <td>0.005082</td>\n",
       "      <td>0.011821</td>\n",
       "    </tr>\n",
       "    <tr>\n",
       "      <th>3</th>\n",
       "      <td>0.028152</td>\n",
       "      <td>0.053653</td>\n",
       "      <td>1.000000</td>\n",
       "      <td>0.139695</td>\n",
       "      <td>0.045725</td>\n",
       "      <td>0.082930</td>\n",
       "      <td>0.024786</td>\n",
       "      <td>0.065925</td>\n",
       "      <td>0.000000</td>\n",
       "      <td>0.104314</td>\n",
       "      <td>...</td>\n",
       "      <td>0.031014</td>\n",
       "      <td>0.066985</td>\n",
       "      <td>0.038742</td>\n",
       "      <td>0.000000</td>\n",
       "      <td>0.047199</td>\n",
       "      <td>0.000000</td>\n",
       "      <td>0.000000</td>\n",
       "      <td>0.036592</td>\n",
       "      <td>0.044638</td>\n",
       "      <td>0.008744</td>\n",
       "    </tr>\n",
       "    <tr>\n",
       "      <th>4</th>\n",
       "      <td>0.442191</td>\n",
       "      <td>0.006760</td>\n",
       "      <td>0.139695</td>\n",
       "      <td>1.000000</td>\n",
       "      <td>0.016434</td>\n",
       "      <td>0.092398</td>\n",
       "      <td>0.032822</td>\n",
       "      <td>0.025945</td>\n",
       "      <td>0.000000</td>\n",
       "      <td>0.054284</td>\n",
       "      <td>...</td>\n",
       "      <td>0.007530</td>\n",
       "      <td>0.007305</td>\n",
       "      <td>0.040648</td>\n",
       "      <td>0.000000</td>\n",
       "      <td>0.022699</td>\n",
       "      <td>0.000000</td>\n",
       "      <td>0.000000</td>\n",
       "      <td>0.000000</td>\n",
       "      <td>0.059110</td>\n",
       "      <td>0.011579</td>\n",
       "    </tr>\n",
       "    <tr>\n",
       "      <th>5</th>\n",
       "      <td>0.011894</td>\n",
       "      <td>0.022299</td>\n",
       "      <td>0.045725</td>\n",
       "      <td>0.016434</td>\n",
       "      <td>1.000000</td>\n",
       "      <td>0.012676</td>\n",
       "      <td>0.010472</td>\n",
       "      <td>0.012673</td>\n",
       "      <td>0.007474</td>\n",
       "      <td>0.108771</td>\n",
       "      <td>...</td>\n",
       "      <td>0.019021</td>\n",
       "      <td>0.024098</td>\n",
       "      <td>0.029471</td>\n",
       "      <td>0.007325</td>\n",
       "      <td>0.033210</td>\n",
       "      <td>0.019285</td>\n",
       "      <td>0.006868</td>\n",
       "      <td>0.047057</td>\n",
       "      <td>0.034219</td>\n",
       "      <td>0.009601</td>\n",
       "    </tr>\n",
       "    <tr>\n",
       "      <th>...</th>\n",
       "      <td>...</td>\n",
       "      <td>...</td>\n",
       "      <td>...</td>\n",
       "      <td>...</td>\n",
       "      <td>...</td>\n",
       "      <td>...</td>\n",
       "      <td>...</td>\n",
       "      <td>...</td>\n",
       "      <td>...</td>\n",
       "      <td>...</td>\n",
       "      <td>...</td>\n",
       "      <td>...</td>\n",
       "      <td>...</td>\n",
       "      <td>...</td>\n",
       "      <td>...</td>\n",
       "      <td>...</td>\n",
       "      <td>...</td>\n",
       "      <td>...</td>\n",
       "      <td>...</td>\n",
       "      <td>...</td>\n",
       "      <td>...</td>\n",
       "    </tr>\n",
       "    <tr>\n",
       "      <th>20768</th>\n",
       "      <td>0.144506</td>\n",
       "      <td>0.033237</td>\n",
       "      <td>0.000000</td>\n",
       "      <td>0.000000</td>\n",
       "      <td>0.019285</td>\n",
       "      <td>0.000000</td>\n",
       "      <td>0.054785</td>\n",
       "      <td>0.066297</td>\n",
       "      <td>0.015555</td>\n",
       "      <td>0.227181</td>\n",
       "      <td>...</td>\n",
       "      <td>0.039459</td>\n",
       "      <td>0.032102</td>\n",
       "      <td>0.005241</td>\n",
       "      <td>0.058786</td>\n",
       "      <td>0.112918</td>\n",
       "      <td>1.000000</td>\n",
       "      <td>0.115878</td>\n",
       "      <td>0.025538</td>\n",
       "      <td>0.115700</td>\n",
       "      <td>0.019982</td>\n",
       "    </tr>\n",
       "    <tr>\n",
       "      <th>20769</th>\n",
       "      <td>0.041309</td>\n",
       "      <td>0.005321</td>\n",
       "      <td>0.000000</td>\n",
       "      <td>0.000000</td>\n",
       "      <td>0.006868</td>\n",
       "      <td>0.080158</td>\n",
       "      <td>0.036934</td>\n",
       "      <td>0.044013</td>\n",
       "      <td>0.089936</td>\n",
       "      <td>0.012700</td>\n",
       "      <td>...</td>\n",
       "      <td>0.091184</td>\n",
       "      <td>0.081026</td>\n",
       "      <td>0.032242</td>\n",
       "      <td>0.092111</td>\n",
       "      <td>0.207781</td>\n",
       "      <td>0.115878</td>\n",
       "      <td>1.000000</td>\n",
       "      <td>0.048508</td>\n",
       "      <td>0.226259</td>\n",
       "      <td>0.121283</td>\n",
       "    </tr>\n",
       "    <tr>\n",
       "      <th>20770</th>\n",
       "      <td>0.011455</td>\n",
       "      <td>0.051100</td>\n",
       "      <td>0.036592</td>\n",
       "      <td>0.000000</td>\n",
       "      <td>0.047057</td>\n",
       "      <td>0.074520</td>\n",
       "      <td>0.010085</td>\n",
       "      <td>0.049569</td>\n",
       "      <td>0.022164</td>\n",
       "      <td>0.067744</td>\n",
       "      <td>...</td>\n",
       "      <td>0.041777</td>\n",
       "      <td>0.070633</td>\n",
       "      <td>0.051932</td>\n",
       "      <td>0.072821</td>\n",
       "      <td>0.125659</td>\n",
       "      <td>0.025538</td>\n",
       "      <td>0.048508</td>\n",
       "      <td>1.000000</td>\n",
       "      <td>0.076785</td>\n",
       "      <td>0.087557</td>\n",
       "    </tr>\n",
       "    <tr>\n",
       "      <th>20771</th>\n",
       "      <td>0.039452</td>\n",
       "      <td>0.005082</td>\n",
       "      <td>0.044638</td>\n",
       "      <td>0.059110</td>\n",
       "      <td>0.034219</td>\n",
       "      <td>0.015988</td>\n",
       "      <td>0.024072</td>\n",
       "      <td>0.042035</td>\n",
       "      <td>0.006777</td>\n",
       "      <td>0.059100</td>\n",
       "      <td>...</td>\n",
       "      <td>0.079190</td>\n",
       "      <td>0.044668</td>\n",
       "      <td>0.043376</td>\n",
       "      <td>0.034345</td>\n",
       "      <td>0.180151</td>\n",
       "      <td>0.115700</td>\n",
       "      <td>0.226259</td>\n",
       "      <td>0.076785</td>\n",
       "      <td>1.000000</td>\n",
       "      <td>0.054587</td>\n",
       "    </tr>\n",
       "    <tr>\n",
       "      <th>20772</th>\n",
       "      <td>0.008380</td>\n",
       "      <td>0.011821</td>\n",
       "      <td>0.008744</td>\n",
       "      <td>0.011579</td>\n",
       "      <td>0.009601</td>\n",
       "      <td>0.023401</td>\n",
       "      <td>0.031877</td>\n",
       "      <td>0.000000</td>\n",
       "      <td>0.023591</td>\n",
       "      <td>0.012202</td>\n",
       "      <td>...</td>\n",
       "      <td>0.020506</td>\n",
       "      <td>0.043380</td>\n",
       "      <td>0.030905</td>\n",
       "      <td>0.033331</td>\n",
       "      <td>0.030708</td>\n",
       "      <td>0.019982</td>\n",
       "      <td>0.121283</td>\n",
       "      <td>0.087557</td>\n",
       "      <td>0.054587</td>\n",
       "      <td>1.000000</td>\n",
       "    </tr>\n",
       "  </tbody>\n",
       "</table>\n",
       "<p>18904 rows × 18904 columns</p>\n",
       "</div>"
      ],
      "text/plain": [
       "cigar_id     0         2         3         4         5         6      \\\n",
       "cigar_id                                                               \n",
       "0         1.000000  0.087475  0.028152  0.442191  0.011894  0.138217   \n",
       "2         0.087475  1.000000  0.053653  0.006760  0.022299  0.138857   \n",
       "3         0.028152  0.053653  1.000000  0.139695  0.045725  0.082930   \n",
       "4         0.442191  0.006760  0.139695  1.000000  0.016434  0.092398   \n",
       "5         0.011894  0.022299  0.045725  0.016434  1.000000  0.012676   \n",
       "...            ...       ...       ...       ...       ...       ...   \n",
       "20768     0.144506  0.033237  0.000000  0.000000  0.019285  0.000000   \n",
       "20769     0.041309  0.005321  0.000000  0.000000  0.006868  0.080158   \n",
       "20770     0.011455  0.051100  0.036592  0.000000  0.047057  0.074520   \n",
       "20771     0.039452  0.005082  0.044638  0.059110  0.034219  0.015988   \n",
       "20772     0.008380  0.011821  0.008744  0.011579  0.009601  0.023401   \n",
       "\n",
       "cigar_id     7         8         9         10     ...     20761     20763  \\\n",
       "cigar_id                                          ...                       \n",
       "0         0.174795  0.136352  0.000000  0.125911  ...  0.013378  0.012979   \n",
       "2         0.077016  0.048776  0.005791  0.073784  ...  0.020379  0.038742   \n",
       "3         0.024786  0.065925  0.000000  0.104314  ...  0.031014  0.066985   \n",
       "4         0.032822  0.025945  0.000000  0.054284  ...  0.007530  0.007305   \n",
       "5         0.010472  0.012673  0.007474  0.108771  ...  0.019021  0.024098   \n",
       "...            ...       ...       ...       ...  ...       ...       ...   \n",
       "20768     0.054785  0.066297  0.015555  0.227181  ...  0.039459  0.032102   \n",
       "20769     0.036934  0.044013  0.089936  0.012700  ...  0.091184  0.081026   \n",
       "20770     0.010085  0.049569  0.022164  0.067744  ...  0.041777  0.070633   \n",
       "20771     0.024072  0.042035  0.006777  0.059100  ...  0.079190  0.044668   \n",
       "20772     0.031877  0.000000  0.023591  0.012202  ...  0.020506  0.043380   \n",
       "\n",
       "cigar_id     20764     20765     20767     20768     20769     20770  \\\n",
       "cigar_id                                                               \n",
       "0         0.027246  0.028553  0.055687  0.144506  0.041309  0.011455   \n",
       "2         0.027011  0.036669  0.023098  0.033237  0.005321  0.051100   \n",
       "3         0.038742  0.000000  0.047199  0.000000  0.000000  0.036592   \n",
       "4         0.040648  0.000000  0.022699  0.000000  0.000000  0.000000   \n",
       "5         0.029471  0.007325  0.033210  0.019285  0.006868  0.047057   \n",
       "...            ...       ...       ...       ...       ...       ...   \n",
       "20768     0.005241  0.058786  0.112918  1.000000  0.115878  0.025538   \n",
       "20769     0.032242  0.092111  0.207781  0.115878  1.000000  0.048508   \n",
       "20770     0.051932  0.072821  0.125659  0.025538  0.048508  1.000000   \n",
       "20771     0.043376  0.034345  0.180151  0.115700  0.226259  0.076785   \n",
       "20772     0.030905  0.033331  0.030708  0.019982  0.121283  0.087557   \n",
       "\n",
       "cigar_id     20771     20772  \n",
       "cigar_id                      \n",
       "0         0.039452  0.008380  \n",
       "2         0.005082  0.011821  \n",
       "3         0.044638  0.008744  \n",
       "4         0.059110  0.011579  \n",
       "5         0.034219  0.009601  \n",
       "...            ...       ...  \n",
       "20768     0.115700  0.019982  \n",
       "20769     0.226259  0.121283  \n",
       "20770     0.076785  0.087557  \n",
       "20771     1.000000  0.054587  \n",
       "20772     0.054587  1.000000  \n",
       "\n",
       "[18904 rows x 18904 columns]"
      ]
     },
     "execution_count": 32,
     "metadata": {},
     "output_type": "execute_result"
    }
   ],
   "source": [
    "cosine_sim_df"
   ]
  },
  {
   "cell_type": "code",
   "execution_count": 33,
   "id": "1be90e83-a9ea-4cf0-a009-9bbd977ad4cd",
   "metadata": {},
   "outputs": [],
   "source": [
    "def get_top_two_similarities(df):\n",
    "    data = {\n",
    "        \"target_cigar_id\": [], \n",
    "        \"n1_cigar_id\": [], \n",
    "        \"n1_score\": [], \n",
    "        \"n2_cigar_id\": [], \n",
    "        \"n2_score\": []\n",
    "    }\n",
    "    \n",
    "    for cigar_id in df.index:\n",
    "        row = df.loc[cigar_id].copy()\n",
    "        \n",
    "        # Exclude self-similarity (diagonal) by setting it to -inf\n",
    "        row[cigar_id] = -np.inf\n",
    "\n",
    "        # Get the cigar with the highest similarity score (excluding the same cigar_id)\n",
    "        most_similar_idx = row.idxmax()\n",
    "        most_similar_score = row[most_similar_idx]\n",
    "        \n",
    "        # Set this score to -inf temporarily to find the next highest without including it again\n",
    "        row[most_similar_idx] = -np.inf\n",
    "        second_most_similar_idx = row.idxmax()\n",
    "        second_most_similar_score = row[second_most_similar_idx]\n",
    "        \n",
    "        # Append to data dictionary\n",
    "        data[\"target_cigar_id\"].append(cigar_id)\n",
    "        data[\"n1_cigar_id\"].append(most_similar_idx)\n",
    "        data[\"n1_score\"].append(most_similar_score)\n",
    "        data[\"n2_cigar_id\"].append(second_most_similar_idx)\n",
    "        data[\"n2_score\"].append(second_most_similar_score)\n",
    "        \n",
    "    return pd.DataFrame(data)"
   ]
  },
  {
   "cell_type": "code",
   "execution_count": 34,
   "id": "b5f9f248-5387-4a46-b226-a43a33461cda",
   "metadata": {},
   "outputs": [],
   "source": [
    "# Apply the function and create the desired dataframe\n",
    "similarity_df = get_top_two_similarities(cosine_sim_df)"
   ]
  },
  {
   "cell_type": "code",
   "execution_count": 35,
   "id": "e1bc4973-bddd-445b-b6d3-f6fc74f014c2",
   "metadata": {},
   "outputs": [
    {
     "data": {
      "text/plain": [
       "target_cigar_id    0\n",
       "n1_cigar_id        0\n",
       "n1_score           0\n",
       "n2_cigar_id        0\n",
       "n2_score           0\n",
       "dtype: int64"
      ]
     },
     "execution_count": 35,
     "metadata": {},
     "output_type": "execute_result"
    }
   ],
   "source": [
    "similarity_df.isna().sum()"
   ]
  },
  {
   "cell_type": "code",
   "execution_count": 36,
   "id": "028b7ce9-40af-4800-add0-2eb88e77cb7c",
   "metadata": {},
   "outputs": [],
   "source": [
    "import pandas as pd\n",
    "\n",
    "def label_similarity_df(similarity_df, cigar_df):\n",
    "    # Ensure that cigar_id columns are integers for consistent merging\n",
    "    similarity_df['target_cigar_id'] = similarity_df['target_cigar_id'].astype(int)\n",
    "    similarity_df['n1_cigar_id'] = similarity_df['n1_cigar_id'].astype(int)\n",
    "    similarity_df['n2_cigar_id'] = similarity_df['n2_cigar_id'].astype(int)\n",
    "    cigar_df['cigar_id'] = cigar_df['cigar_id'].astype(int)\n",
    "\n",
    "    # Merge similarity_df with cigar_df to get the target cigar name\n",
    "    labeled_df = similarity_df.merge(\n",
    "        cigar_df, left_on=\"target_cigar_id\", right_on=\"cigar_id\", how=\"left\"\n",
    "    ).rename(columns={\"name\": \"target_name\"}).drop(columns=\"cigar_id\")\n",
    "\n",
    "    # Merge to get the name of n1_cigar\n",
    "    labeled_df = labeled_df.merge(\n",
    "        cigar_df, left_on=\"n1_cigar_id\", right_on=\"cigar_id\", how=\"left\"\n",
    "    ).rename(columns={\"name\": \"n1_name\"}).drop(columns=\"cigar_id\")\n",
    "\n",
    "    # Merge to get the name of n2_cigar\n",
    "    labeled_df = labeled_df.merge(\n",
    "        cigar_df, left_on=\"n2_cigar_id\", right_on=\"cigar_id\", how=\"left\"\n",
    "    ).rename(columns={\"name\": \"n2_name\"}).drop(columns=\"cigar_id\")\n",
    "\n",
    "    # Reorder columns as required\n",
    "    labeled_df = labeled_df[\n",
    "        [\"target_cigar_id\", \"target_name\", \"n1_cigar_id\", \"n1_name\", \"n1_score\", \n",
    "         \"n2_cigar_id\", \"n2_name\", \"n2_score\"]\n",
    "    ]\n",
    "\n",
    "    return labeled_df\n"
   ]
  },
  {
   "cell_type": "code",
   "execution_count": 37,
   "id": "1272ee17-e7a4-4214-8797-e732e015b4d1",
   "metadata": {},
   "outputs": [],
   "source": [
    "output_df = label_similarity_df(similarity_df, df)"
   ]
  },
  {
   "cell_type": "code",
   "execution_count": 38,
   "id": "dc6f619f-5984-4c91-90ed-37ab8da5e8d1",
   "metadata": {},
   "outputs": [
    {
     "data": {
      "text/plain": [
       "target_cigar_id    0\n",
       "target_name        0\n",
       "n1_cigar_id        0\n",
       "n1_name            0\n",
       "n1_score           0\n",
       "n2_cigar_id        0\n",
       "n2_name            0\n",
       "n2_score           0\n",
       "dtype: int64"
      ]
     },
     "execution_count": 38,
     "metadata": {},
     "output_type": "execute_result"
    }
   ],
   "source": [
    "output_df.isna().sum()"
   ]
  },
  {
   "cell_type": "markdown",
   "id": "51fe14d8-70ce-46d6-b567-e5920411535d",
   "metadata": {},
   "source": [
    "# search target_term return two similar cigars"
   ]
  },
  {
   "cell_type": "code",
   "execution_count": 39,
   "id": "73c6cb38-5ab2-4404-8b73-a87666a7f6e0",
   "metadata": {},
   "outputs": [],
   "source": [
    "def search_cigar_by_name(similarity_df, search_term):\n",
    "    \"\"\"\n",
    "    Searches for cigars based on a partial text match in the target cigar name.\n",
    "\n",
    "    Args:\n",
    "        similarity_df (pd.DataFrame): DataFrame with 'target_cigar_name', 'most_similar_cigar_id', \n",
    "                                      'most_similar_cigar_name', 'most_similar_score', \n",
    "                                      'second_most_similar_cigar_id', 'second_most_similar_cigar_name', \n",
    "                                      and 'second_most_similar_score' columns.\n",
    "        search_term (str): Text to search for in the 'target_cigar_name' column.\n",
    "\n",
    "    Returns:\n",
    "        pd.DataFrame: Filtered dataframe with matching results for easier inspection.\n",
    "    \"\"\"\n",
    "    # Perform a case-insensitive search on target cigar names\n",
    "    search_results = similarity_df[similarity_df['target_name'].str.contains(search_term, case=False, na=False)]\n",
    "    \n",
    "    # Display the relevant columns for inspection, including IDs\n",
    "    return search_results"
   ]
  },
  {
   "cell_type": "code",
   "execution_count": 40,
   "id": "be461e91-c633-4566-8fe0-d520b2320bf3",
   "metadata": {},
   "outputs": [],
   "source": [
    "# Example usage: Assuming result_df is the merged dataframe from the previous function\n",
    "# This will search for cigars with names similar to \"robusto\"\n",
    "search_results = search_cigar_by_name(output_df, \"flor de las\")"
   ]
  },
  {
   "cell_type": "code",
   "execution_count": 41,
   "id": "a4b73e33-4ed5-4696-91b3-7fc284870553",
   "metadata": {},
   "outputs": [
    {
     "data": {
      "text/html": [
       "<div>\n",
       "<style scoped>\n",
       "    .dataframe tbody tr th:only-of-type {\n",
       "        vertical-align: middle;\n",
       "    }\n",
       "\n",
       "    .dataframe tbody tr th {\n",
       "        vertical-align: top;\n",
       "    }\n",
       "\n",
       "    .dataframe thead th {\n",
       "        text-align: right;\n",
       "    }\n",
       "</style>\n",
       "<table border=\"1\" class=\"dataframe\">\n",
       "  <thead>\n",
       "    <tr style=\"text-align: right;\">\n",
       "      <th></th>\n",
       "      <th>target_cigar_id</th>\n",
       "      <th>target_name</th>\n",
       "      <th>n1_cigar_id</th>\n",
       "      <th>n1_name</th>\n",
       "      <th>n1_score</th>\n",
       "      <th>n2_cigar_id</th>\n",
       "      <th>n2_name</th>\n",
       "      <th>n2_score</th>\n",
       "    </tr>\n",
       "  </thead>\n",
       "  <tbody>\n",
       "    <tr>\n",
       "      <th>13618</th>\n",
       "      <td>14423</td>\n",
       "      <td>FLOR DE LAS ANTILLAS TORO</td>\n",
       "      <td>16180</td>\n",
       "      <td>NEW WORLD NAVAGANTE</td>\n",
       "      <td>0.282259</td>\n",
       "      <td>14854</td>\n",
       "      <td>ROMEO Y JULIETA SHORT CHURCHILL</td>\n",
       "      <td>0.272833</td>\n",
       "    </tr>\n",
       "    <tr>\n",
       "      <th>17510</th>\n",
       "      <td>19142</td>\n",
       "      <td>FLOR DE LAS ANTILLAS BELICOSO</td>\n",
       "      <td>13737</td>\n",
       "      <td>H. UPMANN SUN GROWN CORONA</td>\n",
       "      <td>0.307819</td>\n",
       "      <td>13953</td>\n",
       "      <td>MONTECRISTO WHITE ESPECIAL NO. 1</td>\n",
       "      <td>0.273757</td>\n",
       "    </tr>\n",
       "    <tr>\n",
       "      <th>16330</th>\n",
       "      <td>17741</td>\n",
       "      <td>FLOR DE LAS ANTILLAS TORO GRANDE</td>\n",
       "      <td>19229</td>\n",
       "      <td>PADRÓN FAMILY RESERVE NO. 46 NATURAL</td>\n",
       "      <td>0.316373</td>\n",
       "      <td>16492</td>\n",
       "      <td>DAVIDOFF WINSTON CHURCHILL PETIT CORONA</td>\n",
       "      <td>0.316049</td>\n",
       "    </tr>\n",
       "    <tr>\n",
       "      <th>14627</th>\n",
       "      <td>15738</td>\n",
       "      <td>FLOR DE LAS ANTILLAS ROBUSTO</td>\n",
       "      <td>14776</td>\n",
       "      <td>ROCKY PATEL 15TH ANNIVERSARY ROBUSTO</td>\n",
       "      <td>0.322154</td>\n",
       "      <td>15973</td>\n",
       "      <td>LA ANTIGUEDAD ROBUSTO</td>\n",
       "      <td>0.281495</td>\n",
       "    </tr>\n",
       "    <tr>\n",
       "      <th>18824</th>\n",
       "      <td>20672</td>\n",
       "      <td>Flor de las Antillas Toro Grande</td>\n",
       "      <td>17640</td>\n",
       "      <td>PADILLA CONNECTICUT SHORT ROBUSTO</td>\n",
       "      <td>0.334535</td>\n",
       "      <td>15286</td>\n",
       "      <td>VILLIGER TALANGA TORO</td>\n",
       "      <td>0.318361</td>\n",
       "    </tr>\n",
       "    <tr>\n",
       "      <th>14556</th>\n",
       "      <td>15661</td>\n",
       "      <td>FLOR DE LAS ANTILLAS BELICOSO</td>\n",
       "      <td>18663</td>\n",
       "      <td>ALEC BRADLEY BLACK MARKET ESTELÍ TORPEDO</td>\n",
       "      <td>0.334660</td>\n",
       "      <td>19763</td>\n",
       "      <td>NAT CICCO ANIVERSARIO 1965 LIGA NO. 4 TORO</td>\n",
       "      <td>0.334503</td>\n",
       "    </tr>\n",
       "    <tr>\n",
       "      <th>13702</th>\n",
       "      <td>14525</td>\n",
       "      <td>FLOR DE LAS ANTILLAS TORO GORDO</td>\n",
       "      <td>12122</td>\n",
       "      <td>SIGLO LIMITED RESERVE SIGLO X</td>\n",
       "      <td>0.343610</td>\n",
       "      <td>15107</td>\n",
       "      <td>AVO DOMINANT 13TH</td>\n",
       "      <td>0.288715</td>\n",
       "    </tr>\n",
       "    <tr>\n",
       "      <th>15836</th>\n",
       "      <td>17168</td>\n",
       "      <td>FLOR DE LAS ANTILLAS BELICOSO</td>\n",
       "      <td>18812</td>\n",
       "      <td>MY FATHER THE JUDGE TORO FINO</td>\n",
       "      <td>0.350357</td>\n",
       "      <td>15895</td>\n",
       "      <td>CASA CUBA DOBLE CUATRO</td>\n",
       "      <td>0.292933</td>\n",
       "    </tr>\n",
       "    <tr>\n",
       "      <th>13583</th>\n",
       "      <td>14383</td>\n",
       "      <td>FLOR DE LAS ANTILLAS ROBUSTO</td>\n",
       "      <td>18108</td>\n",
       "      <td>LA GALERA 1936 BOX PRESSED CHURCHILL</td>\n",
       "      <td>0.368198</td>\n",
       "      <td>14020</td>\n",
       "      <td>PADRÓN SERIE 1926 MADURO NO. 6</td>\n",
       "      <td>0.318852</td>\n",
       "    </tr>\n",
       "    <tr>\n",
       "      <th>18288</th>\n",
       "      <td>20034</td>\n",
       "      <td>FLOR DE LAS ANTILLAS BELICOSO</td>\n",
       "      <td>12005</td>\n",
       "      <td>ASHTON ESTATE SUN GROWN  21 YEAR SALUTE</td>\n",
       "      <td>0.374990</td>\n",
       "      <td>19774</td>\n",
       "      <td>PAPPY VAN WINKLE TRADITION BELICOSO FINO</td>\n",
       "      <td>0.334035</td>\n",
       "    </tr>\n",
       "    <tr>\n",
       "      <th>13701</th>\n",
       "      <td>14524</td>\n",
       "      <td>FLOR DE LAS ANTILLAS BELICOSO</td>\n",
       "      <td>14479</td>\n",
       "      <td>NAT SHERMAN TIMELESS COLLECTION NO. 2</td>\n",
       "      <td>0.384125</td>\n",
       "      <td>4350</td>\n",
       "      <td>LA FLOR DOMINICANA LIGERO L500</td>\n",
       "      <td>0.338648</td>\n",
       "    </tr>\n",
       "    <tr>\n",
       "      <th>16803</th>\n",
       "      <td>18317</td>\n",
       "      <td>FLOR DE LAS ANTILLAS MADURO TORO GORDO</td>\n",
       "      <td>19237</td>\n",
       "      <td>ONEOFF CAÑONAZO</td>\n",
       "      <td>0.392012</td>\n",
       "      <td>17539</td>\n",
       "      <td>AVO SYNCRO NICARAGUA FOGATA TORO</td>\n",
       "      <td>0.391351</td>\n",
       "    </tr>\n",
       "    <tr>\n",
       "      <th>16800</th>\n",
       "      <td>18314</td>\n",
       "      <td>FLOR DE LAS ANTILLAS MADURO TORPEDO</td>\n",
       "      <td>18775</td>\n",
       "      <td>FOUR KICKS MADURO ROBUSTO</td>\n",
       "      <td>0.392964</td>\n",
       "      <td>16675</td>\n",
       "      <td>NAT SHERMAN TIMELESS COLLECTION NICARAGUA 652T</td>\n",
       "      <td>0.389890</td>\n",
       "    </tr>\n",
       "    <tr>\n",
       "      <th>16801</th>\n",
       "      <td>18315</td>\n",
       "      <td>FLOR DE LAS ANTILLAS MADURO PETIT ROBUSTO</td>\n",
       "      <td>18516</td>\n",
       "      <td>THE WISE MAN MADURO CHURCHILL</td>\n",
       "      <td>0.402036</td>\n",
       "      <td>16161</td>\n",
       "      <td>VEGUEROS TAPADOS</td>\n",
       "      <td>0.371262</td>\n",
       "    </tr>\n",
       "    <tr>\n",
       "      <th>15952</th>\n",
       "      <td>17317</td>\n",
       "      <td>FLOR DE LAS ANTILLAS TUBO</td>\n",
       "      <td>17534</td>\n",
       "      <td>FLORES Y RODRIGUEZ CONNECTICUT VALLEY RESERVE ...</td>\n",
       "      <td>0.404770</td>\n",
       "      <td>3852</td>\n",
       "      <td>PIRATE’S GOLD TORO MADURO</td>\n",
       "      <td>0.392693</td>\n",
       "    </tr>\n",
       "    <tr>\n",
       "      <th>16802</th>\n",
       "      <td>18316</td>\n",
       "      <td>FLOR DE LAS ANTILLAS MADURO TORO</td>\n",
       "      <td>17654</td>\n",
       "      <td>BELLAS ARTES ROBUSTO EXTRA</td>\n",
       "      <td>0.425978</td>\n",
       "      <td>15636</td>\n",
       "      <td>DIAMOND CROWN MAXIMUS DOUBLE CORONA NO. 1</td>\n",
       "      <td>0.420569</td>\n",
       "    </tr>\n",
       "    <tr>\n",
       "      <th>16799</th>\n",
       "      <td>18313</td>\n",
       "      <td>FLOR DE LAS ANTILLAS MADURO CORONA</td>\n",
       "      <td>20312</td>\n",
       "      <td>MONTECRISTO  SUPREMOS EDICIÓN LIMITADA 2019</td>\n",
       "      <td>0.437841</td>\n",
       "      <td>16804</td>\n",
       "      <td>HERITAGE BY DUNHILL ROBUSTO</td>\n",
       "      <td>0.376619</td>\n",
       "    </tr>\n",
       "  </tbody>\n",
       "</table>\n",
       "</div>"
      ],
      "text/plain": [
       "       target_cigar_id                                target_name  \\\n",
       "13618            14423                  FLOR DE LAS ANTILLAS TORO   \n",
       "17510            19142              FLOR DE LAS ANTILLAS BELICOSO   \n",
       "16330            17741           FLOR DE LAS ANTILLAS TORO GRANDE   \n",
       "14627            15738               FLOR DE LAS ANTILLAS ROBUSTO   \n",
       "18824            20672           Flor de las Antillas Toro Grande   \n",
       "14556            15661              FLOR DE LAS ANTILLAS BELICOSO   \n",
       "13702            14525            FLOR DE LAS ANTILLAS TORO GORDO   \n",
       "15836            17168              FLOR DE LAS ANTILLAS BELICOSO   \n",
       "13583            14383               FLOR DE LAS ANTILLAS ROBUSTO   \n",
       "18288            20034              FLOR DE LAS ANTILLAS BELICOSO   \n",
       "13701            14524              FLOR DE LAS ANTILLAS BELICOSO   \n",
       "16803            18317     FLOR DE LAS ANTILLAS MADURO TORO GORDO   \n",
       "16800            18314        FLOR DE LAS ANTILLAS MADURO TORPEDO   \n",
       "16801            18315  FLOR DE LAS ANTILLAS MADURO PETIT ROBUSTO   \n",
       "15952            17317                  FLOR DE LAS ANTILLAS TUBO   \n",
       "16802            18316           FLOR DE LAS ANTILLAS MADURO TORO   \n",
       "16799            18313         FLOR DE LAS ANTILLAS MADURO CORONA   \n",
       "\n",
       "       n1_cigar_id                                            n1_name  \\\n",
       "13618        16180                                NEW WORLD NAVAGANTE   \n",
       "17510        13737                         H. UPMANN SUN GROWN CORONA   \n",
       "16330        19229               PADRÓN FAMILY RESERVE NO. 46 NATURAL   \n",
       "14627        14776               ROCKY PATEL 15TH ANNIVERSARY ROBUSTO   \n",
       "18824        17640                  PADILLA CONNECTICUT SHORT ROBUSTO   \n",
       "14556        18663           ALEC BRADLEY BLACK MARKET ESTELÍ TORPEDO   \n",
       "13702        12122                      SIGLO LIMITED RESERVE SIGLO X   \n",
       "15836        18812                      MY FATHER THE JUDGE TORO FINO   \n",
       "13583        18108               LA GALERA 1936 BOX PRESSED CHURCHILL   \n",
       "18288        12005            ASHTON ESTATE SUN GROWN  21 YEAR SALUTE   \n",
       "13701        14479              NAT SHERMAN TIMELESS COLLECTION NO. 2   \n",
       "16803        19237                                    ONEOFF CAÑONAZO   \n",
       "16800        18775                          FOUR KICKS MADURO ROBUSTO   \n",
       "16801        18516                      THE WISE MAN MADURO CHURCHILL   \n",
       "15952        17534  FLORES Y RODRIGUEZ CONNECTICUT VALLEY RESERVE ...   \n",
       "16802        17654                         BELLAS ARTES ROBUSTO EXTRA   \n",
       "16799        20312        MONTECRISTO  SUPREMOS EDICIÓN LIMITADA 2019   \n",
       "\n",
       "       n1_score  n2_cigar_id                                         n2_name  \\\n",
       "13618  0.282259        14854                ROMEO Y JULIETA SHORT CHURCHILL    \n",
       "17510  0.307819        13953                MONTECRISTO WHITE ESPECIAL NO. 1   \n",
       "16330  0.316373        16492         DAVIDOFF WINSTON CHURCHILL PETIT CORONA   \n",
       "14627  0.322154        15973                           LA ANTIGUEDAD ROBUSTO   \n",
       "18824  0.334535        15286                           VILLIGER TALANGA TORO   \n",
       "14556  0.334660        19763      NAT CICCO ANIVERSARIO 1965 LIGA NO. 4 TORO   \n",
       "13702  0.343610        15107                              AVO DOMINANT 13TH    \n",
       "15836  0.350357        15895                          CASA CUBA DOBLE CUATRO   \n",
       "13583  0.368198        14020                 PADRÓN SERIE 1926 MADURO NO. 6    \n",
       "18288  0.374990        19774        PAPPY VAN WINKLE TRADITION BELICOSO FINO   \n",
       "13701  0.384125         4350                  LA FLOR DOMINICANA LIGERO L500   \n",
       "16803  0.392012        17539                AVO SYNCRO NICARAGUA FOGATA TORO   \n",
       "16800  0.392964        16675  NAT SHERMAN TIMELESS COLLECTION NICARAGUA 652T   \n",
       "16801  0.402036        16161                                VEGUEROS TAPADOS   \n",
       "15952  0.404770         3852                       PIRATE’S GOLD TORO MADURO   \n",
       "16802  0.425978        15636       DIAMOND CROWN MAXIMUS DOUBLE CORONA NO. 1   \n",
       "16799  0.437841        16804                     HERITAGE BY DUNHILL ROBUSTO   \n",
       "\n",
       "       n2_score  \n",
       "13618  0.272833  \n",
       "17510  0.273757  \n",
       "16330  0.316049  \n",
       "14627  0.281495  \n",
       "18824  0.318361  \n",
       "14556  0.334503  \n",
       "13702  0.288715  \n",
       "15836  0.292933  \n",
       "13583  0.318852  \n",
       "18288  0.334035  \n",
       "13701  0.338648  \n",
       "16803  0.391351  \n",
       "16800  0.389890  \n",
       "16801  0.371262  \n",
       "15952  0.392693  \n",
       "16802  0.420569  \n",
       "16799  0.376619  "
      ]
     },
     "execution_count": 41,
     "metadata": {},
     "output_type": "execute_result"
    }
   ],
   "source": [
    "# Set display options to show all rows and columns\n",
    "pd.set_option('display.max_rows', None)  # Show all rows\n",
    "pd.set_option('display.max_columns', None)  # Show all columns\n",
    "\n",
    "search_results.sort_values('n1_score')"
   ]
  },
  {
   "cell_type": "code",
   "execution_count": null,
   "id": "f393c261-dc43-4ba8-98a7-d3c8f8add0c0",
   "metadata": {},
   "outputs": [],
   "source": []
  },
  {
   "cell_type": "code",
   "execution_count": null,
   "id": "0497e481-eddf-4352-8c09-0a36156145a9",
   "metadata": {},
   "outputs": [],
   "source": []
  },
  {
   "cell_type": "code",
   "execution_count": null,
   "id": "2764d035-455f-4c2f-ace0-047e8d3639ac",
   "metadata": {},
   "outputs": [],
   "source": []
  }
 ],
 "metadata": {
  "kernelspec": {
   "display_name": "Python 3 (ipykernel)",
   "language": "python",
   "name": "python3"
  },
  "language_info": {
   "codemirror_mode": {
    "name": "ipython",
    "version": 3
   },
   "file_extension": ".py",
   "mimetype": "text/x-python",
   "name": "python",
   "nbconvert_exporter": "python",
   "pygments_lexer": "ipython3",
   "version": "3.12.6"
  }
 },
 "nbformat": 4,
 "nbformat_minor": 5
}
