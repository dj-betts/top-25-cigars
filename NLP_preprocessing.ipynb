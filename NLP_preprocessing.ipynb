{
 "cells": [
  {
   "cell_type": "code",
   "execution_count": 41,
   "id": "7bb9b7c3-bca8-4fef-a902-4d579e468de2",
   "metadata": {},
   "outputs": [],
   "source": [
    "import pandas as pd\n",
    "import numpy as np"
   ]
  },
  {
   "cell_type": "code",
   "execution_count": 2,
   "id": "8e244f12-cf53-4043-882d-251f8a8ddbb9",
   "metadata": {},
   "outputs": [],
   "source": [
    "import matplotlib.pyplot as plt\n",
    "import seaborn as sns"
   ]
  },
  {
   "cell_type": "code",
   "execution_count": 3,
   "id": "94939b56-febb-4882-828b-aa27449b4a40",
   "metadata": {},
   "outputs": [],
   "source": [
    "import re"
   ]
  },
  {
   "cell_type": "code",
   "execution_count": 42,
   "id": "b8af19a4-a391-42a1-b38b-0f4b350f3805",
   "metadata": {},
   "outputs": [],
   "source": [
    "# import NLTK and download required resources\n",
    "import nltk\n",
    "# nltk.download('punkt')  # For tokenization\n",
    "# nltk.download('stopwords')  # For stop words\n",
    "# nltk.download('wordnet')  # For lemmatization\n",
    "# nltk.download('omw-1.4')  # For lemmatizer's extended language support"
   ]
  },
  {
   "cell_type": "code",
   "execution_count": 43,
   "id": "abad809c-cfec-4447-8550-050a380ee932",
   "metadata": {},
   "outputs": [],
   "source": [
    "from nltk.tokenize import word_tokenize\n",
    "from nltk.corpus import stopwords\n",
    "from nltk.stem import PorterStemmer\n",
    "from nltk.stem import WordNetLemmatizer"
   ]
  },
  {
   "cell_type": "code",
   "execution_count": 44,
   "id": "ce7cddee-c8d2-4462-b30f-0ff1f03e81d5",
   "metadata": {},
   "outputs": [],
   "source": [
    "import sklearn"
   ]
  },
  {
   "cell_type": "code",
   "execution_count": 45,
   "id": "45be5bac-dc19-447c-a4c0-2db0ea5e283a",
   "metadata": {},
   "outputs": [],
   "source": [
    "from sklearn.feature_extraction.text import TfidfVectorizer\n",
    "from sklearn.metrics.pairwise import cosine_similarity"
   ]
  },
  {
   "cell_type": "code",
   "execution_count": 46,
   "id": "c9d3cc7d-2cf9-479e-96a0-09595d2a769f",
   "metadata": {},
   "outputs": [
    {
     "name": "stdout",
     "output_type": "stream",
     "text": [
      "cigar_aficionado.csv  clean_cigar_eda.csv   corpus_data.csv\n"
     ]
    },
    {
     "name": "stderr",
     "output_type": "stream",
     "text": [
      "python3.12(18368) MallocStackLogging: can't turn off malloc stack logging because it was not enabled.\n"
     ]
    }
   ],
   "source": [
    "%ls data"
   ]
  },
  {
   "cell_type": "code",
   "execution_count": 47,
   "id": "68e1905a-86c2-40e7-b510-1900c40138f9",
   "metadata": {},
   "outputs": [],
   "source": [
    "feature_columns = ['cigar_id', 'name', 'score', 'length', 'gauge', 'tasting_notes',\n",
    "       'shape', 'filler', 'binder', 'wrapper', 'country', 'strength', 'usd_value', 'issue', 'issue_date']"
   ]
  },
  {
   "cell_type": "code",
   "execution_count": 48,
   "id": "36a8551b-2a57-41e1-9e88-4a0d55f133e7",
   "metadata": {},
   "outputs": [],
   "source": [
    "data = pd.read_csv('/Users/djbetts/Documents/data_science/projects/top-25-cigars/data/clean_cigar_eda.csv', usecols=feature_columns)"
   ]
  },
  {
   "cell_type": "code",
   "execution_count": 49,
   "id": "922eacfe-cc2c-4c22-81a0-7cd1923df35a",
   "metadata": {},
   "outputs": [],
   "source": [
    "df = data.copy()"
   ]
  },
  {
   "cell_type": "code",
   "execution_count": 50,
   "id": "155ac37f-d325-4028-bcfb-d730c656143c",
   "metadata": {},
   "outputs": [
    {
     "data": {
      "text/plain": [
       "Index(['cigar_id', 'name', 'score', 'length', 'gauge', 'tasting_notes',\n",
       "       'shape', 'filler', 'binder', 'wrapper', 'country', 'strength', 'issue',\n",
       "       'issue_date', 'usd_value'],\n",
       "      dtype='object')"
      ]
     },
     "execution_count": 50,
     "metadata": {},
     "output_type": "execute_result"
    }
   ],
   "source": [
    "df.columns"
   ]
  },
  {
   "cell_type": "code",
   "execution_count": 51,
   "id": "6a297804-ccdb-434f-8a54-8cda2e11d476",
   "metadata": {},
   "outputs": [
    {
     "data": {
      "text/html": [
       "<div>\n",
       "<style scoped>\n",
       "    .dataframe tbody tr th:only-of-type {\n",
       "        vertical-align: middle;\n",
       "    }\n",
       "\n",
       "    .dataframe tbody tr th {\n",
       "        vertical-align: top;\n",
       "    }\n",
       "\n",
       "    .dataframe thead th {\n",
       "        text-align: right;\n",
       "    }\n",
       "</style>\n",
       "<table border=\"1\" class=\"dataframe\">\n",
       "  <thead>\n",
       "    <tr style=\"text-align: right;\">\n",
       "      <th></th>\n",
       "      <th>cigar_id</th>\n",
       "      <th>name</th>\n",
       "      <th>score</th>\n",
       "      <th>length</th>\n",
       "      <th>gauge</th>\n",
       "      <th>tasting_notes</th>\n",
       "      <th>shape</th>\n",
       "      <th>filler</th>\n",
       "      <th>binder</th>\n",
       "      <th>wrapper</th>\n",
       "      <th>country</th>\n",
       "      <th>strength</th>\n",
       "      <th>issue</th>\n",
       "      <th>issue_date</th>\n",
       "      <th>usd_value</th>\n",
       "    </tr>\n",
       "  </thead>\n",
       "  <tbody>\n",
       "    <tr>\n",
       "      <th>37</th>\n",
       "      <td>38</td>\n",
       "      <td>PARTAGAS LUSITANIA</td>\n",
       "      <td>92</td>\n",
       "      <td>7.625</td>\n",
       "      <td>49.0</td>\n",
       "      <td>NaN</td>\n",
       "      <td>Double Corona</td>\n",
       "      <td>Cuba</td>\n",
       "      <td>Cuba</td>\n",
       "      <td>Cuba</td>\n",
       "      <td>Cuba</td>\n",
       "      <td>NaN</td>\n",
       "      <td>Cigar Aficionado</td>\n",
       "      <td>1995-03-01</td>\n",
       "      <td>21.645</td>\n",
       "    </tr>\n",
       "    <tr>\n",
       "      <th>86</th>\n",
       "      <td>87</td>\n",
       "      <td>JOYA DE NICARAGUA CONSUL</td>\n",
       "      <td>82</td>\n",
       "      <td>4.500</td>\n",
       "      <td>52.0</td>\n",
       "      <td>NaN</td>\n",
       "      <td>Robusto</td>\n",
       "      <td>Nicaragua</td>\n",
       "      <td>Nicaragua</td>\n",
       "      <td>Dominican Republic</td>\n",
       "      <td>Nicaragua</td>\n",
       "      <td>NaN</td>\n",
       "      <td>Cigar Aficionado</td>\n",
       "      <td>1998-12-01</td>\n",
       "      <td>4.000</td>\n",
       "    </tr>\n",
       "    <tr>\n",
       "      <th>1033</th>\n",
       "      <td>1037</td>\n",
       "      <td>DON JUAN PLATINUM TORPEDO</td>\n",
       "      <td>87</td>\n",
       "      <td>6.000</td>\n",
       "      <td>52.0</td>\n",
       "      <td>NaN</td>\n",
       "      <td>Figurado</td>\n",
       "      <td>Dominican Republic, Nicaragua, Honduras</td>\n",
       "      <td>Dominican Republic</td>\n",
       "      <td>USA/Connecticut Shade</td>\n",
       "      <td>Dominican Republic</td>\n",
       "      <td>NaN</td>\n",
       "      <td>Cigar Aficionado</td>\n",
       "      <td>1998-03-01</td>\n",
       "      <td>6.250</td>\n",
       "    </tr>\n",
       "    <tr>\n",
       "      <th>1034</th>\n",
       "      <td>1038</td>\n",
       "      <td>PUNCH  GRAND CRU NO. 2</td>\n",
       "      <td>87</td>\n",
       "      <td>6.125</td>\n",
       "      <td>54.0</td>\n",
       "      <td>NaN</td>\n",
       "      <td>Figurado</td>\n",
       "      <td>Honduras, Nicaragua, Dominican Republic</td>\n",
       "      <td>USA/Connecticut Broadleaf</td>\n",
       "      <td>USA/Connecticut Shade</td>\n",
       "      <td>Honduras</td>\n",
       "      <td>NaN</td>\n",
       "      <td>Cigar Aficionado</td>\n",
       "      <td>1998-03-01</td>\n",
       "      <td>9.950</td>\n",
       "    </tr>\n",
       "    <tr>\n",
       "      <th>1035</th>\n",
       "      <td>1039</td>\n",
       "      <td>LEÓN JIMENES PETIT BELICOSO</td>\n",
       "      <td>87</td>\n",
       "      <td>5.000</td>\n",
       "      <td>52.0</td>\n",
       "      <td>NaN</td>\n",
       "      <td>Figurado</td>\n",
       "      <td>Dominican Republic</td>\n",
       "      <td>Dominican Republic</td>\n",
       "      <td>USA/Connecticut Shade</td>\n",
       "      <td>Dominican Republic</td>\n",
       "      <td>NaN</td>\n",
       "      <td>Cigar Aficionado</td>\n",
       "      <td>1998-03-01</td>\n",
       "      <td>6.600</td>\n",
       "    </tr>\n",
       "  </tbody>\n",
       "</table>\n",
       "</div>"
      ],
      "text/plain": [
       "      cigar_id                         name  score  length  gauge  \\\n",
       "37          38           PARTAGAS LUSITANIA     92   7.625   49.0   \n",
       "86          87     JOYA DE NICARAGUA CONSUL     82   4.500   52.0   \n",
       "1033      1037    DON JUAN PLATINUM TORPEDO     87   6.000   52.0   \n",
       "1034      1038      PUNCH  GRAND CRU NO. 2      87   6.125   54.0   \n",
       "1035      1039  LEÓN JIMENES PETIT BELICOSO     87   5.000   52.0   \n",
       "\n",
       "     tasting_notes          shape                                   filler  \\\n",
       "37             NaN  Double Corona                                     Cuba   \n",
       "86             NaN        Robusto                                Nicaragua   \n",
       "1033           NaN       Figurado  Dominican Republic, Nicaragua, Honduras   \n",
       "1034           NaN       Figurado  Honduras, Nicaragua, Dominican Republic   \n",
       "1035           NaN       Figurado                       Dominican Republic   \n",
       "\n",
       "                         binder                wrapper             country  \\\n",
       "37                         Cuba                   Cuba                Cuba   \n",
       "86                    Nicaragua     Dominican Republic           Nicaragua   \n",
       "1033         Dominican Republic  USA/Connecticut Shade  Dominican Republic   \n",
       "1034  USA/Connecticut Broadleaf  USA/Connecticut Shade            Honduras   \n",
       "1035         Dominican Republic  USA/Connecticut Shade  Dominican Republic   \n",
       "\n",
       "      strength             issue  issue_date  usd_value  \n",
       "37         NaN  Cigar Aficionado  1995-03-01     21.645  \n",
       "86         NaN  Cigar Aficionado  1998-12-01      4.000  \n",
       "1033       NaN  Cigar Aficionado  1998-03-01      6.250  \n",
       "1034       NaN  Cigar Aficionado  1998-03-01      9.950  \n",
       "1035       NaN  Cigar Aficionado  1998-03-01      6.600  "
      ]
     },
     "execution_count": 51,
     "metadata": {},
     "output_type": "execute_result"
    }
   ],
   "source": [
    "df[df['tasting_notes'].isna()].head()"
   ]
  },
  {
   "cell_type": "code",
   "execution_count": 52,
   "id": "3637c057-4aaf-4444-9931-04bdcd3a6987",
   "metadata": {},
   "outputs": [
    {
     "name": "stdout",
     "output_type": "stream",
     "text": [
      "Average sentence length (in words): 27.650344263084406\n"
     ]
    }
   ],
   "source": [
    "df['word_count'] = df['tasting_notes'].apply(lambda x: len(str(x).split()))\n",
    "average_word_count = df['word_count'].mean()\n",
    "print(f\"Average sentence length (in words): {average_word_count}\")\n",
    "\n",
    "# Example usage:\n",
    "# word_counts, avg_sentence_length = calculate_word_counts(df, 'column_name')\n"
   ]
  },
  {
   "cell_type": "code",
   "execution_count": 53,
   "id": "df3fff64-6417-41b3-9a91-cf6e00126bbb",
   "metadata": {},
   "outputs": [
    {
     "data": {
      "text/plain": [
       "count    20769.000000\n",
       "mean        27.650344\n",
       "std         20.513728\n",
       "min          1.000000\n",
       "25%         22.000000\n",
       "50%         25.000000\n",
       "75%         29.000000\n",
       "max        499.000000\n",
       "Name: word_count, dtype: float64"
      ]
     },
     "execution_count": 53,
     "metadata": {},
     "output_type": "execute_result"
    }
   ],
   "source": [
    "df['word_count'].describe()"
   ]
  },
  {
   "cell_type": "code",
   "execution_count": 54,
   "id": "fc363c85-e1f9-4bc4-a342-190fc5261545",
   "metadata": {},
   "outputs": [
    {
     "data": {
      "text/plain": [
       "np.float64(25.108550368550368)"
      ]
     },
     "execution_count": 54,
     "metadata": {},
     "output_type": "execute_result"
    }
   ],
   "source": [
    "df[df['word_count'] < 50]['word_count'].mean()"
   ]
  },
  {
   "cell_type": "code",
   "execution_count": 55,
   "id": "f1dff3d3-0df9-4255-aff8-49b6ce870ae9",
   "metadata": {},
   "outputs": [
    {
     "data": {
      "text/plain": [
       "<Axes: ylabel='Frequency'>"
      ]
     },
     "execution_count": 55,
     "metadata": {},
     "output_type": "execute_result"
    },
    {
     "data": {
      "image/png": "[encoded data removed]",
      "text/plain": [
       "<Figure size 640x480 with 1 Axes>"
      ]
     },
     "metadata": {},
     "output_type": "display_data"
    }
   ],
   "source": [
    "df[df['word_count'] < 50]['word_count'].plot(kind='hist')"
   ]
  },
  {
   "cell_type": "code",
   "execution_count": 56,
   "id": "be23b26f-5893-4853-aff4-177e43931060",
   "metadata": {},
   "outputs": [
    {
     "data": {
      "text/plain": [
       "(20722, 16)"
      ]
     },
     "execution_count": 56,
     "metadata": {},
     "output_type": "execute_result"
    }
   ],
   "source": [
    "#drop NULL 'tasting_notes' rows\n",
    "df = df[~df['tasting_notes'].isna()]\n",
    "df.shape"
   ]
  },
  {
   "cell_type": "code",
   "execution_count": 57,
   "id": "6f28fb6f-6977-4ad8-b1b1-9dbfca4bd501",
   "metadata": {},
   "outputs": [
    {
     "data": {
      "text/plain": [
       "(20303, 16)"
      ]
     },
     "execution_count": 57,
     "metadata": {},
     "output_type": "execute_result"
    }
   ],
   "source": [
    "#drop NULL only include reviews less than 50 words\n",
    "df = df[df['word_count'] < 50]\n",
    "df.shape"
   ]
  },
  {
   "cell_type": "markdown",
   "id": "0854f9d6-a3e4-4fd4-925e-10361cdf389d",
   "metadata": {},
   "source": [
    "# remove duplicated tasting_notes repeated in issues"
   ]
  },
  {
   "cell_type": "code",
   "execution_count": 58,
   "id": "ba8f2f35-e579-4337-ba5e-4128e3490c3c",
   "metadata": {},
   "outputs": [
    {
     "name": "stdout",
     "output_type": "stream",
     "text": [
      "(20303, 16)\n"
     ]
    },
    {
     "data": {
      "text/plain": [
       "(19039, 16)"
      ]
     },
     "execution_count": 58,
     "metadata": {},
     "output_type": "execute_result"
    }
   ],
   "source": [
    "print(df.shape)\n",
    "df = df.drop_duplicates(subset=['tasting_notes'], keep='first')\n",
    "df.shape"
   ]
  },
  {
   "cell_type": "code",
   "execution_count": 59,
   "id": "b2224b05-2c1d-4b22-a1b3-e0e746a1374e",
   "metadata": {},
   "outputs": [],
   "source": [
    "# Calculate the value counts for each cigar name\n",
    "name_counts = df['name'].value_counts()"
   ]
  },
  {
   "cell_type": "code",
   "execution_count": 60,
   "id": "4e4b089a-4d9b-4b4e-b9d5-8c7815957aae",
   "metadata": {},
   "outputs": [
    {
     "data": {
      "text/plain": [
       "32"
      ]
     },
     "execution_count": 60,
     "metadata": {},
     "output_type": "execute_result"
    }
   ],
   "source": [
    "df['name'].value_counts().nunique()"
   ]
  },
  {
   "cell_type": "code",
   "execution_count": 61,
   "id": "cbafc01d-bdf5-4345-8d64-c5cfb7b064f2",
   "metadata": {},
   "outputs": [
    {
     "data": {
      "image/png": "[encoded data removed]",
      "text/plain": [
       "<Figure size 500x300 with 1 Axes>"
      ]
     },
     "metadata": {},
     "output_type": "display_data"
    }
   ],
   "source": [
    "# Plot a histogram of the counts\n",
    "plt.figure(figsize=(5, 3))\n",
    "plt.hist(name_counts.values, bins=32, edgecolor='black')\n",
    "plt.title('Histogram of Cigar Name Frequencies')\n",
    "plt.xlabel('Number of Entries per Cigar Name')\n",
    "plt.ylabel('Frequency')\n",
    "plt.show()"
   ]
  },
  {
   "cell_type": "markdown",
   "id": "2b50522c-70b5-48af-80ef-9ff16cefe227",
   "metadata": {},
   "source": [
    "# clean text"
   ]
  },
  {
   "cell_type": "code",
   "execution_count": 62,
   "id": "da5b4716-63bc-4833-9997-6b130eade384",
   "metadata": {},
   "outputs": [],
   "source": [
    "def clean_text(text):\n",
    "      # Check if the input text is null, and return \"Null\" if true\n",
    "    if pd.isnull(text):\n",
    "        return \"Null\"\n",
    "    # Remove special characters and HTML tags\n",
    "    text = re.sub(r'<.*?>', '', text)  # Remove HTML tags\n",
    "    text = re.sub(r'[^a-zA-Z\\s]', '', text)  # Remove punctuation and numbers\n",
    "    \n",
    "    # Convert to lowercase\n",
    "    text = text.lower()\n",
    "    \n",
    "    # Remove extra spaces\n",
    "    text = re.sub(r'\\s+', ' ', text).strip()\n",
    "    \n",
    "    return text"
   ]
  },
  {
   "cell_type": "code",
   "execution_count": 63,
   "id": "ee5ec63e-2c19-4c2e-bf9e-71f24ce85817",
   "metadata": {},
   "outputs": [],
   "source": [
    "df['clean_notes'] = df['tasting_notes'].apply(lambda x: clean_text(x))"
   ]
  },
  {
   "cell_type": "code",
   "execution_count": 64,
   "id": "ccec1ea4-8418-40c9-9fa5-4becdb4922e7",
   "metadata": {},
   "outputs": [
    {
     "data": {
      "text/plain": [
       "0        this is an earthy rich cigar with a lovely bro...\n",
       "1        an enticing cigar that keeps you coming back f...\n",
       "2        this cigar is wellmade and gives plenty of fla...\n",
       "3        this is a clean very mild wellmade cigar with ...\n",
       "4        finely constructed a fuentes robusto has a nic...\n",
       "                               ...                        \n",
       "20763    a softly pressed inkyhued toro with a wellform...\n",
       "20764    chocolatebrown with a multiseamed cap this thi...\n",
       "20765    the smoke from this oily robusto imparts a bol...\n",
       "20766    dark and wellmade with a multiseamed cap and f...\n",
       "20767    the smoke of this dark oily cigar is somewhat ...\n",
       "Name: clean_notes, Length: 19039, dtype: object"
      ]
     },
     "execution_count": 64,
     "metadata": {},
     "output_type": "execute_result"
    }
   ],
   "source": [
    "df['clean_notes']"
   ]
  },
  {
   "cell_type": "code",
   "execution_count": 65,
   "id": "444efff7-2309-41d3-8060-acbd0bb805f6",
   "metadata": {},
   "outputs": [
    {
     "data": {
      "text/plain": [
       "<Axes: ylabel='Frequency'>"
      ]
     },
     "execution_count": 65,
     "metadata": {},
     "output_type": "execute_result"
    },
    {
     "data": {
      "image/png": "[encoded data removed]",
      "text/plain": [
       "<Figure size 640x480 with 1 Axes>"
      ]
     },
     "metadata": {},
     "output_type": "display_data"
    }
   ],
   "source": [
    "df['word_count'].plot(kind='hist')"
   ]
  },
  {
   "cell_type": "markdown",
   "id": "f563ccb0-87aa-4185-a488-854849c319f6",
   "metadata": {},
   "source": [
    "# tokenize"
   ]
  },
  {
   "cell_type": "code",
   "execution_count": 66,
   "id": "d3aedbd4-4b8f-4e90-a0dc-35cf64fd673c",
   "metadata": {},
   "outputs": [
    {
     "name": "stdout",
     "output_type": "stream",
     "text": [
      "                                         clean_notes  \\\n",
      "0  this is an earthy rich cigar with a lovely bro...   \n",
      "1  an enticing cigar that keeps you coming back f...   \n",
      "2  this cigar is wellmade and gives plenty of fla...   \n",
      "3  this is a clean very mild wellmade cigar with ...   \n",
      "4  finely constructed a fuentes robusto has a nic...   \n",
      "\n",
      "                                              tokens  \n",
      "0  [this, is, an, earthy, rich, cigar, with, a, l...  \n",
      "1  [an, enticing, cigar, that, keeps, you, coming...  \n",
      "2  [this, cigar, is, wellmade, and, gives, plenty...  \n",
      "3  [this, is, a, clean, very, mild, wellmade, cig...  \n",
      "4  [finely, constructed, a, fuentes, robusto, has...  \n"
     ]
    }
   ],
   "source": [
    "# Tokenize each entry in the clean_notes column\n",
    "df['tokens'] = df['clean_notes'].apply(word_tokenize)\n",
    "print(df[['clean_notes', 'tokens']].head())"
   ]
  },
  {
   "cell_type": "markdown",
   "id": "da3fdcd7-7729-49f9-9f07-0eb16cdeeb44",
   "metadata": {},
   "source": [
    "# remove stop words"
   ]
  },
  {
   "cell_type": "code",
   "execution_count": 67,
   "id": "f023df8a-e0cc-492a-b828-1d09dc673420",
   "metadata": {},
   "outputs": [
    {
     "name": "stdout",
     "output_type": "stream",
     "text": [
      "                                              tokens  \\\n",
      "0  [this, is, an, earthy, rich, cigar, with, a, l...   \n",
      "1  [an, enticing, cigar, that, keeps, you, coming...   \n",
      "2  [this, cigar, is, wellmade, and, gives, plenty...   \n",
      "3  [this, is, a, clean, very, mild, wellmade, cig...   \n",
      "4  [finely, constructed, a, fuentes, robusto, has...   \n",
      "\n",
      "                                 tokens_no_stopwords  \n",
      "0  [earthy, rich, cigar, lovely, brown, wrapper, ...  \n",
      "1  [enticing, cigar, keeps, coming, back, beautif...  \n",
      "2  [cigar, wellmade, gives, plenty, flavor, goes,...  \n",
      "3  [clean, mild, wellmade, cigar, grassy, earthy,...  \n",
      "4  [finely, constructed, fuentes, robusto, nice, ...  \n"
     ]
    }
   ],
   "source": [
    "stop_words = set(stopwords.words('english'))\n",
    "\n",
    "# Function to remove stop words\n",
    "def remove_stopwords(tokens):\n",
    "    return [word for word in tokens if word not in stop_words]\n",
    "\n",
    "# Apply stop word removal\n",
    "df['tokens_no_stopwords'] = df['tokens'].apply(remove_stopwords)\n",
    "print(df[['tokens', 'tokens_no_stopwords']].head())"
   ]
  },
  {
   "cell_type": "markdown",
   "id": "2772e054-39c3-4f82-aa9b-24e9cfe59fda",
   "metadata": {},
   "source": [
    "# stemming"
   ]
  },
  {
   "cell_type": "code",
   "execution_count": 68,
   "id": "65f798cd-d33e-48be-a721-4632b2f3ad60",
   "metadata": {},
   "outputs": [],
   "source": [
    "# stemmer = PorterStemmer()\n",
    "\n",
    "# # Function to apply stemming\n",
    "# def apply_stemming(tokens):\n",
    "#     return [stemmer.stem(word) for word in tokens]\n",
    "\n",
    "# # Apply stemming\n",
    "# df['stemmed_tokens'] = df['tokens_no_stopwords'].apply(apply_stemming)\n",
    "# print(df[['tokens_no_stopwords', 'stemmed_tokens']].head())"
   ]
  },
  {
   "cell_type": "markdown",
   "id": "9cec1d41-abd0-4dcb-afd8-971c52a05d20",
   "metadata": {},
   "source": [
    "# lemmatization"
   ]
  },
  {
   "cell_type": "code",
   "execution_count": 69,
   "id": "2a8461e7-786b-427d-9ff9-85fcdda8b346",
   "metadata": {},
   "outputs": [
    {
     "name": "stdout",
     "output_type": "stream",
     "text": [
      "                                 tokens_no_stopwords  \\\n",
      "0  [earthy, rich, cigar, lovely, brown, wrapper, ...   \n",
      "1  [enticing, cigar, keeps, coming, back, beautif...   \n",
      "2  [cigar, wellmade, gives, plenty, flavor, goes,...   \n",
      "3  [clean, mild, wellmade, cigar, grassy, earthy,...   \n",
      "4  [finely, constructed, fuentes, robusto, nice, ...   \n",
      "\n",
      "                                   lemmatized_tokens  \n",
      "0  [earthy, rich, cigar, lovely, brown, wrapper, ...  \n",
      "1  [enticing, cigar, keep, coming, back, beautifu...  \n",
      "2  [cigar, wellmade, give, plenty, flavor, go, co...  \n",
      "3  [clean, mild, wellmade, cigar, grassy, earthy,...  \n",
      "4  [finely, constructed, fuentes, robusto, nice, ...  \n"
     ]
    }
   ],
   "source": [
    "lemmatizer = WordNetLemmatizer()\n",
    "\n",
    "# Function to apply lemmatization\n",
    "def apply_lemmatization(tokens):\n",
    "    return [lemmatizer.lemmatize(word) for word in tokens]\n",
    "\n",
    "# Apply lemmatization\n",
    "df['lemmatized_tokens'] = df['tokens_no_stopwords'].apply(apply_lemmatization)\n",
    "print(df[['tokens_no_stopwords', 'lemmatized_tokens']].head())"
   ]
  },
  {
   "cell_type": "markdown",
   "id": "12230760-6f19-4787-b127-e73a6e79f0e2",
   "metadata": {},
   "source": [
    "# Vectorization"
   ]
  },
  {
   "cell_type": "code",
   "execution_count": 70,
   "id": "73feda12-c9a5-430b-80fa-679bd2871685",
   "metadata": {},
   "outputs": [
    {
     "name": "stdout",
     "output_type": "stream",
     "text": [
      "0    earthy rich cigar lovely brown wrapper dense s...\n",
      "1    enticing cigar keep coming back beautifully ma...\n",
      "2    cigar wellmade give plenty flavor go coffee li...\n",
      "3    clean mild wellmade cigar grassy earthy aroma ...\n",
      "4    finely constructed fuentes robusto nice draw e...\n",
      "Name: corpus, dtype: object\n"
     ]
    }
   ],
   "source": [
    "#rejoin into corpus\n",
    "\n",
    "# Create the Corpus from Lemmatized Tokens\n",
    "# Assuming 'lemmatized_tokens' contains lemmatized tokens for each document\n",
    "df['corpus'] = df['lemmatized_tokens'].apply(lambda tokens: ' '.join(tokens))\n",
    "\n",
    "# Display the corpus to verify\n",
    "print(df['corpus'].head())"
   ]
  },
  {
   "cell_type": "code",
   "execution_count": 71,
   "id": "7c2f7e7e-52a2-49f9-b1d1-fe1c87efad40",
   "metadata": {},
   "outputs": [
    {
     "data": {
      "text/plain": [
       "Index(['cigar_id', 'name', 'score', 'length', 'gauge', 'tasting_notes',\n",
       "       'shape', 'filler', 'binder', 'wrapper', 'country', 'strength', 'issue',\n",
       "       'issue_date', 'usd_value', 'word_count', 'clean_notes', 'tokens',\n",
       "       'tokens_no_stopwords', 'lemmatized_tokens', 'corpus'],\n",
       "      dtype='object')"
      ]
     },
     "execution_count": 71,
     "metadata": {},
     "output_type": "execute_result"
    }
   ],
   "source": [
    "df.columns"
   ]
  },
  {
   "cell_type": "code",
   "execution_count": 72,
   "id": "29e76d01-da21-4e07-a142-291f1938de4f",
   "metadata": {},
   "outputs": [
    {
     "name": "stdout",
     "output_type": "stream",
     "text": [
      "(19039, 21)\n"
     ]
    },
    {
     "data": {
      "text/plain": [
       "(18904, 21)"
      ]
     },
     "execution_count": 72,
     "metadata": {},
     "output_type": "execute_result"
    }
   ],
   "source": [
    "print(df.shape)\n",
    "df = df.drop_duplicates(subset=['corpus'], keep='first')\n",
    "df.shape"
   ]
  },
  {
   "cell_type": "code",
   "execution_count": 73,
   "id": "bef9d772-804c-411b-8860-cc970166f73f",
   "metadata": {},
   "outputs": [],
   "source": [
    "file_name = '/Users/djbetts/Documents/data_science/projects/top-25-cigars/data/corpus_data.csv'\n",
    "df.to_csv(file_name, index=False)"
   ]
  },
  {
   "cell_type": "code",
   "execution_count": null,
   "id": "b44b03c5-f905-48d8-82b2-45653b82e45b",
   "metadata": {},
   "outputs": [],
   "source": []
  },
  {
   "cell_type": "code",
   "execution_count": null,
   "id": "7b4347a1-8e55-4dea-8dac-711a28b11f84",
   "metadata": {},
   "outputs": [],
   "source": []
  }
 ],
 "metadata": {
  "kernelspec": {
   "display_name": "Python 3 (ipykernel)",
   "language": "python",
   "name": "python3"
  },
  "language_info": {
   "codemirror_mode": {
    "name": "ipython",
    "version": 3
   },
   "file_extension": ".py",
   "mimetype": "text/x-python",
   "name": "python",
   "nbconvert_exporter": "python",
   "pygments_lexer": "ipython3",
   "version": "3.12.6"
  }
 },
 "nbformat": 4,
 "nbformat_minor": 5
}
