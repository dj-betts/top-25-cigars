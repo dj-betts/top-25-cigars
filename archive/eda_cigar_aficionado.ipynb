{
 "cells": [
  {
   "cell_type": "code",
   "execution_count": 47,
   "metadata": {},
   "outputs": [],
   "source": [
    "import string"
   ]
  },
  {
   "cell_type": "code",
   "execution_count": 48,
   "metadata": {},
   "outputs": [],
   "source": [
    "from scipy import stats"
   ]
  },
  {
   "cell_type": "code",
   "execution_count": 49,
   "metadata": {},
   "outputs": [],
   "source": [
    "import pandas as pd\n",
    "import numpy as np"
   ]
  },
  {
   "cell_type": "code",
   "execution_count": 50,
   "metadata": {},
   "outputs": [],
   "source": [
    "import matplotlib.pyplot as plt"
   ]
  },
  {
   "cell_type": "code",
   "execution_count": 51,
   "metadata": {},
   "outputs": [],
   "source": [
    "import re"
   ]
  },
  {
   "cell_type": "code",
   "execution_count": 52,
   "metadata": {},
   "outputs": [
    {
     "name": "stderr",
     "output_type": "stream",
     "text": [
      "<>:3: SyntaxWarning: \"is\" with 'str' literal. Did you mean \"==\"?\n",
      "<>:3: SyntaxWarning: \"is\" with 'str' literal. Did you mean \"==\"?\n",
      "/var/folders/fs/pnl72jg96ydgx961mfft__pc0000gn/T/ipykernel_6129/584768121.py:3: SyntaxWarning: \"is\" with 'str' literal. Did you mean \"==\"?\n",
      "  if string[value-1] is '(':\n"
     ]
    }
   ],
   "source": [
    "def find_strength(string):\n",
    "    value = string.find('/6')\n",
    "    if string[value-1] is '(':\n",
    "        return (None)\n",
    "    else:\n",
    "        return string[value-1]"
   ]
  },
  {
   "cell_type": "code",
   "execution_count": 53,
   "metadata": {},
   "outputs": [],
   "source": [
    "def cigar_details(string):\n",
    "    size = string.split('\\n')\n",
    "    return size[2].strip()"
   ]
  },
  {
   "cell_type": "code",
   "execution_count": 54,
   "metadata": {},
   "outputs": [],
   "source": [
    "#consider striping '-' before date and turing string into date-time object\n",
    "def cigar_og_issue_date(string):\n",
    "    size = string.split('\\n')\n",
    "    return size[3].strip()"
   ]
  },
  {
   "cell_type": "code",
   "execution_count": 55,
   "metadata": {},
   "outputs": [],
   "source": [
    "#built for df.gauge\n",
    "def make_int(string):\n",
    "    try:\n",
    "        string = int(string)\n",
    "        return string\n",
    "    except:\n",
    "        pass"
   ]
  },
  {
   "cell_type": "code",
   "execution_count": 56,
   "metadata": {},
   "outputs": [],
   "source": [
    "from fractions import Fraction\n",
    "#convert some string into floats (inch)\n",
    "def convert_length_2_float(string):\n",
    "    try:\n",
    "        string = string.strip('\"')\n",
    "        string = string.split(' ')\n",
    "        inch = int(string[0])\n",
    "        if string[1]:\n",
    "            fraction = string[1]\n",
    "        return (inch + float(Fraction(fraction)))\n",
    "    except:\n",
    "        string = string.strip('\"')\n",
    "        string = string.split(' ')\n",
    "        inch = int(string[0])\n",
    "        return inch"
   ]
  },
  {
   "cell_type": "code",
   "execution_count": 83,
   "metadata": {},
   "outputs": [],
   "source": [
    "def standardize_size(size):\n",
    "    \"\"\"\n",
    "    Standardizes cigar size strings by correcting common misspellings and variations.\n",
    "\n",
    "    Parameters:\n",
    "        size (str): The size string to standardize.\n",
    "\n",
    "    Returns:\n",
    "        str: The corrected size string.\n",
    "    \"\"\"\n",
    "    corrections = {\n",
    "        'robusto': 'Robusto',\n",
    "        'FIgurado': 'Figurado',\n",
    "        'Figruado': 'Figurado',\n",
    "        'Panetlea': 'Panetela',\n",
    "        'Churcill': 'Churchill',\n",
    "        'Patit Corona': 'Petite Corona',\n",
    "        'Petite Corona': 'Petite Corona',\n",
    "        'Misc.': 'Miscellaneous'\n",
    "    }\n",
    "    \n",
    "    # Return the corrected value if it exists in corrections, otherwise return the original\n",
    "    return corrections.get(size, size)\n"
   ]
  },
  {
   "cell_type": "code",
   "execution_count": 86,
   "metadata": {},
   "outputs": [
    {
     "name": "stdout",
     "output_type": "stream",
     "text": [
      "['Robusto' 'Corona' 'Double Corona' 'Lonsdale' '\"A\"' 'Churchill' 'Toro'\n",
      " 'Figurado' 'Panetela' 'Petit Corona' 'Maduro' 'Corona Gorda' 'Odd'\n",
      " 'Vintage' nan 'Petite Corona' 'Grande' 'Torpedo' 'Miscellaneous']\n"
     ]
    }
   ],
   "source": [
    "# Apply the function to the 'size' column\n",
    "df['size'] = df['size'].apply(standardize_size)\n",
    "\n",
    "# Check unique values to verify corrections\n",
    "print(df['size'].unique())"
   ]
  },
  {
   "cell_type": "code",
   "execution_count": 87,
   "metadata": {},
   "outputs": [
    {
     "data": {
      "text/plain": [
       "size\n",
       "Toro             3848\n",
       "Figurado         3659\n",
       "Robusto          3477\n",
       "Churchill        2791\n",
       "Corona           1701\n",
       "Lonsdale         1348\n",
       "Double Corona     949\n",
       "Petit Corona      935\n",
       "Panetela          685\n",
       "Odd               575\n",
       "Grande            375\n",
       "Maduro            196\n",
       "\"A\"               189\n",
       "Vintage            14\n",
       "Corona Gorda        4\n",
       "Petite Corona       3\n",
       "Miscellaneous       3\n",
       "Torpedo             1\n",
       "Name: count, dtype: int64"
      ]
     },
     "execution_count": 87,
     "metadata": {},
     "output_type": "execute_result"
    }
   ],
   "source": [
    "df['size'].value_counts()"
   ]
  },
  {
   "cell_type": "code",
   "execution_count": 58,
   "metadata": {},
   "outputs": [],
   "source": [
    "#not a good way to do it.\n",
    "\n",
    "#or maybe filtering via dictionary is a good idea. either way, keep an original csv!!!!\n",
    "\n",
    "#replacement dictionary for the factory country column\n",
    "country_replacement_dict = {'Cuba':'cub', 'Dominican Republic':'dr', 'Nicaragua':'nic', 'Honduras':'hon', 'Jamaica':'jam',\n",
    "       'Mexico':'mex', 'U.S.A.':'usa', 'Philippines':'phl', 'Canary Islands':'can', 'Brazil':'brz',\n",
    "       'Nicaragua, Honduras':'nic', 'Costa Rica':'cst', 'Indonesia':'ind', 'Bahamas':'bah',\n",
    "       'Panama':'pan', 'nan':None, 'USA':'usa', 'NIcaragua':'nic', 'El Salvador':'sal', 'Colombia':'col',\n",
    "       'Dominican  Republic':'dr', 'Dominican Repubcic':'dr', 'Dominican Repubilc':'dr',\n",
    "       'Dom. Rep.':'dr', 'Nicaraqua':'nic', 'U.S.A':'usa', 'Domincan Republic':'dr',\n",
    "       'Nicarag’ua':'nic', 'Dominican Rep\"ublic':'dr'}\n",
    "#df.country.replace(replacement_dict, inplace=True)\n",
    "\n",
    "#will change the mispelling to the last mispelling so i only have one mispelled country instead of multiples\n",
    "replacement_dict = {value : key for (key, value) in country_replacement_dict.items()}\n",
    "\n",
    "#example\n",
    "replacement_dict['nic'] = 'Nicaragua'\n",
    "\n",
    "#return back to OG label w/ caps\n",
    "#df.country.replace(replacement_dict, inplace=True)\n"
   ]
  },
  {
   "cell_type": "code",
   "execution_count": 59,
   "metadata": {},
   "outputs": [],
   "source": [
    "#split binder, but it's terrible. went from 86 to 66 features\n",
    "def filler_binder_wrapper_reduce(string):\n",
    "    vowels = ['a','e','i','o','u']\n",
    "    try:\n",
    "        string = string.lower()\n",
    "        string = string.replace('.','')\n",
    "        string = string.replace(' ', '')\n",
    "        string = \"\".join([x for x in string if x not in vowels])\n",
    "        return (string)#[:10])\n",
    "    except AttributeError:\n",
    "        return None"
   ]
  },
  {
   "cell_type": "code",
   "execution_count": 60,
   "metadata": {},
   "outputs": [],
   "source": [
    "df = pd.read_csv('data/cigar_aficionado.csv', index_col='Unnamed: 0')"
   ]
  },
  {
   "cell_type": "code",
   "execution_count": 15,
   "metadata": {},
   "outputs": [
    {
     "data": {
      "text/html": [
       "<div>\n",
       "<style scoped>\n",
       "    .dataframe tbody tr th:only-of-type {\n",
       "        vertical-align: middle;\n",
       "    }\n",
       "\n",
       "    .dataframe tbody tr th {\n",
       "        vertical-align: top;\n",
       "    }\n",
       "\n",
       "    .dataframe thead th {\n",
       "        text-align: right;\n",
       "    }\n",
       "</style>\n",
       "<table border=\"1\" class=\"dataframe\">\n",
       "  <thead>\n",
       "    <tr style=\"text-align: right;\">\n",
       "      <th></th>\n",
       "      <th>image</th>\n",
       "      <th>name</th>\n",
       "      <th>score</th>\n",
       "      <th>length</th>\n",
       "      <th>gauge</th>\n",
       "      <th>strenth_string</th>\n",
       "      <th>tasting_notes</th>\n",
       "      <th>size</th>\n",
       "      <th>filler</th>\n",
       "      <th>binder</th>\n",
       "      <th>wrapper</th>\n",
       "      <th>country</th>\n",
       "      <th>price</th>\n",
       "      <th>issue</th>\n",
       "      <th>more_reviews</th>\n",
       "      <th>href</th>\n",
       "      <th>strength</th>\n",
       "      <th>og_issue</th>\n",
       "      <th>og_issue_date</th>\n",
       "    </tr>\n",
       "  </thead>\n",
       "  <tbody>\n",
       "    <tr>\n",
       "      <th>0</th>\n",
       "      <td>https://img.mshanken.com/d/cao/ratings_extras/...</td>\n",
       "      <td>BOLIVAR ROYAL CORONA</td>\n",
       "      <td>93</td>\n",
       "      <td>4 7/8\"</td>\n",
       "      <td>50.0</td>\n",
       "      <td>background:url('https://img.mshanken.com/d/cao...</td>\n",
       "      <td>This is an earthy, rich cigar with a lovely br...</td>\n",
       "      <td>Robusto</td>\n",
       "      <td>Cuba</td>\n",
       "      <td>Cuba</td>\n",
       "      <td>Cuba</td>\n",
       "      <td>Cuba</td>\n",
       "      <td>£10.00</td>\n",
       "      <td>\\nIssue:\\n                                    ...</td>\n",
       "      <td>[['89', ['Cigar Aficionado: ', '              ...</td>\n",
       "      <td>href</td>\n",
       "      <td>NaN</td>\n",
       "      <td>Cigar Aficionado</td>\n",
       "      <td>– Sep 01, 1992</td>\n",
       "    </tr>\n",
       "    <tr>\n",
       "      <th>2</th>\n",
       "      <td>https://img.mshanken.com/d/cao/ratings_extras/...</td>\n",
       "      <td>DAVIDOFF GRAN CRU NO. 2</td>\n",
       "      <td>89</td>\n",
       "      <td>5 5/8\"</td>\n",
       "      <td>43.0</td>\n",
       "      <td>background:url('https://img.mshanken.com/d/cao...</td>\n",
       "      <td>An enticing cigar that keeps you coming back f...</td>\n",
       "      <td>Corona</td>\n",
       "      <td>Dom. Rep.</td>\n",
       "      <td>Dom. Rep.</td>\n",
       "      <td>U.S.A./Conn. Shade</td>\n",
       "      <td>Dominican Republic</td>\n",
       "      <td>NaN</td>\n",
       "      <td>\\nIssue:\\n                                    ...</td>\n",
       "      <td>[['86', ['Cigar Aficionado: ', '              ...</td>\n",
       "      <td>1001</td>\n",
       "      <td>NaN</td>\n",
       "      <td>Cigar Aficionado</td>\n",
       "      <td>– Mar 01, 1993</td>\n",
       "    </tr>\n",
       "    <tr>\n",
       "      <th>3</th>\n",
       "      <td>https://img.mshanken.com/d/cao/ratings_extras/...</td>\n",
       "      <td>ASHTON CORONA</td>\n",
       "      <td>86</td>\n",
       "      <td>5 1/2\"</td>\n",
       "      <td>44.0</td>\n",
       "      <td>background:url('https://img.mshanken.com/d/cao...</td>\n",
       "      <td>This cigar is well-made and gives plenty of fl...</td>\n",
       "      <td>Corona</td>\n",
       "      <td>Dom. Rep.</td>\n",
       "      <td>Dom. Rep.</td>\n",
       "      <td>U.S.A./Conn. Shade</td>\n",
       "      <td>Dominican Republic</td>\n",
       "      <td>$6.25</td>\n",
       "      <td>\\nIssue:\\n                                    ...</td>\n",
       "      <td>[['90', ['Cigar Aficionado: ', '              ...</td>\n",
       "      <td>1002</td>\n",
       "      <td>NaN</td>\n",
       "      <td>Cigar Aficionado</td>\n",
       "      <td>– Mar 01, 1993</td>\n",
       "    </tr>\n",
       "    <tr>\n",
       "      <th>4</th>\n",
       "      <td>https://img.mshanken.com/d/cao/ratings_extras/...</td>\n",
       "      <td>ASHTON MAGNUM</td>\n",
       "      <td>82</td>\n",
       "      <td>5\"</td>\n",
       "      <td>50.0</td>\n",
       "      <td>background:url('https://img.mshanken.com/d/cao...</td>\n",
       "      <td>This is a clean, very mild well-made cigar, wi...</td>\n",
       "      <td>Robusto</td>\n",
       "      <td>Dom. Rep.</td>\n",
       "      <td>Dom. Rep.</td>\n",
       "      <td>U.S.A./Conn. Shade</td>\n",
       "      <td>Dominican Republic</td>\n",
       "      <td>$6.75</td>\n",
       "      <td>\\nIssue:\\n                                    ...</td>\n",
       "      <td>[['87', ['Cigar Aficionado: ', '              ...</td>\n",
       "      <td>1003</td>\n",
       "      <td>NaN</td>\n",
       "      <td>Cigar Aficionado</td>\n",
       "      <td>– Sep 01, 1992</td>\n",
       "    </tr>\n",
       "    <tr>\n",
       "      <th>5</th>\n",
       "      <td>https://img.mshanken.com/d/cao/ratings_extras/...</td>\n",
       "      <td>ARTURO FUENTE CHATEAU FUENTE SUN GROWN</td>\n",
       "      <td>86</td>\n",
       "      <td>4 1/2\"</td>\n",
       "      <td>50.0</td>\n",
       "      <td>background:url('https://img.mshanken.com/d/cao...</td>\n",
       "      <td>Finely constructed, A. Fuente's robusto has a ...</td>\n",
       "      <td>Robusto</td>\n",
       "      <td>Dom. Rep.</td>\n",
       "      <td>Dom. Rep.</td>\n",
       "      <td>Ecuador</td>\n",
       "      <td>Dominican Republic</td>\n",
       "      <td>NaN</td>\n",
       "      <td>\\nIssue:\\n                                    ...</td>\n",
       "      <td>[['89', ['Cigar Aficionado: ', '              ...</td>\n",
       "      <td>1004</td>\n",
       "      <td>NaN</td>\n",
       "      <td>Cigar Aficionado</td>\n",
       "      <td>– Sep 01, 1992</td>\n",
       "    </tr>\n",
       "    <tr>\n",
       "      <th>...</th>\n",
       "      <td>...</td>\n",
       "      <td>...</td>\n",
       "      <td>...</td>\n",
       "      <td>...</td>\n",
       "      <td>...</td>\n",
       "      <td>...</td>\n",
       "      <td>...</td>\n",
       "      <td>...</td>\n",
       "      <td>...</td>\n",
       "      <td>...</td>\n",
       "      <td>...</td>\n",
       "      <td>...</td>\n",
       "      <td>...</td>\n",
       "      <td>...</td>\n",
       "      <td>...</td>\n",
       "      <td>...</td>\n",
       "      <td>...</td>\n",
       "      <td>...</td>\n",
       "      <td>...</td>\n",
       "    </tr>\n",
       "    <tr>\n",
       "      <th>20769</th>\n",
       "      <td>https://img.mshanken.com/d/cao/ratings_extras/...</td>\n",
       "      <td>E.P. Carrillo Encore TAA 656</td>\n",
       "      <td>89</td>\n",
       "      <td>5\"</td>\n",
       "      <td>56.0</td>\n",
       "      <td>background:url('https://img.mshanken.com/d/cao...</td>\n",
       "      <td>Chocolate-brown with a multi-seamed cap, this ...</td>\n",
       "      <td>Toro</td>\n",
       "      <td>Nicaragua</td>\n",
       "      <td>Nicaragua</td>\n",
       "      <td>Nicaragua</td>\n",
       "      <td>Dominican Republic</td>\n",
       "      <td>$13.25</td>\n",
       "      <td>\\nIssue:\\n                                    ...</td>\n",
       "      <td>[['89', ['Cigar Insider: ', '                 ...</td>\n",
       "      <td>22539</td>\n",
       "      <td>5.0</td>\n",
       "      <td>Cigar Insider</td>\n",
       "      <td>– Dec 08, 2020</td>\n",
       "    </tr>\n",
       "    <tr>\n",
       "      <th>20770</th>\n",
       "      <td>https://img.mshanken.com/d/cao/ratings_extras/...</td>\n",
       "      <td>Romeo y Julieta Short Churchill (Tubo)</td>\n",
       "      <td>92</td>\n",
       "      <td>4 7/8\"</td>\n",
       "      <td>50.0</td>\n",
       "      <td>background:url('https://img.mshanken.com/d/cao...</td>\n",
       "      <td>The smoke from this oily robusto imparts a bol...</td>\n",
       "      <td>Robusto</td>\n",
       "      <td>Cuba</td>\n",
       "      <td>Cuba</td>\n",
       "      <td>Cuba</td>\n",
       "      <td>Cuba</td>\n",
       "      <td>£24.50</td>\n",
       "      <td>\\nIssue:\\n                                    ...</td>\n",
       "      <td>[['90', ['Cigar Aficionado: ', '              ...</td>\n",
       "      <td>22540</td>\n",
       "      <td>5.0</td>\n",
       "      <td>Cigar Insider</td>\n",
       "      <td>– Dec 08, 2020</td>\n",
       "    </tr>\n",
       "    <tr>\n",
       "      <th>20771</th>\n",
       "      <td>https://img.mshanken.com/d/cao/ratings_extras/...</td>\n",
       "      <td>Romeo y Julieta Wide Churchill (Tubo)</td>\n",
       "      <td>89</td>\n",
       "      <td>5 1/8\"</td>\n",
       "      <td>55.0</td>\n",
       "      <td>background:url('https://img.mshanken.com/d/cao...</td>\n",
       "      <td>Dark and well-made with a multi-seamed cap and...</td>\n",
       "      <td>Robusto</td>\n",
       "      <td>Cuba</td>\n",
       "      <td>Cuba</td>\n",
       "      <td>Cuba</td>\n",
       "      <td>Cuba</td>\n",
       "      <td>£31.70</td>\n",
       "      <td>\\nIssue:\\n                                    ...</td>\n",
       "      <td>[['89', ['Cigar Insider: ', '                 ...</td>\n",
       "      <td>22541</td>\n",
       "      <td>5.0</td>\n",
       "      <td>Cigar Insider</td>\n",
       "      <td>– Dec 08, 2020</td>\n",
       "    </tr>\n",
       "    <tr>\n",
       "      <th>20772</th>\n",
       "      <td>https://img.mshanken.com/d/cao/ratings_extras/...</td>\n",
       "      <td>Romeo y Julieta Petit Churchill (Tubo)</td>\n",
       "      <td>86</td>\n",
       "      <td>4\"</td>\n",
       "      <td>50.0</td>\n",
       "      <td>background:url('https://img.mshanken.com/d/cao...</td>\n",
       "      <td>The smoke of this dark, oily cigar is somewhat...</td>\n",
       "      <td>Odd</td>\n",
       "      <td>Cuba</td>\n",
       "      <td>Cuba</td>\n",
       "      <td>Cuba</td>\n",
       "      <td>Cuba</td>\n",
       "      <td>£22.10</td>\n",
       "      <td>\\nIssue:\\n                                    ...</td>\n",
       "      <td>[['90', ['Cigar Aficionado: ', '              ...</td>\n",
       "      <td>22542</td>\n",
       "      <td>5.0</td>\n",
       "      <td>Cigar Insider</td>\n",
       "      <td>– Dec 08, 2020</td>\n",
       "    </tr>\n",
       "    <tr>\n",
       "      <th>20773</th>\n",
       "      <td>https://img.mshanken.com/d/cao/ratings_extras/...</td>\n",
       "      <td>Romeo y Julieta Churchill (Tubo)</td>\n",
       "      <td>93</td>\n",
       "      <td>7\"</td>\n",
       "      <td>47.0</td>\n",
       "      <td>background:url('https://img.mshanken.com/d/cao...</td>\n",
       "      <td>Topped with a triple-seam cap, this Churchill ...</td>\n",
       "      <td>Churchill</td>\n",
       "      <td>Cuba</td>\n",
       "      <td>Cuba</td>\n",
       "      <td>Cuba</td>\n",
       "      <td>Cuba</td>\n",
       "      <td>£31.75</td>\n",
       "      <td>\\nIssue:\\n                                    ...</td>\n",
       "      <td>[['90', ['Cigar Aficionado: ', '              ...</td>\n",
       "      <td>22543</td>\n",
       "      <td>5.0</td>\n",
       "      <td>Cigar Insider</td>\n",
       "      <td>– Dec 08, 2020</td>\n",
       "    </tr>\n",
       "  </tbody>\n",
       "</table>\n",
       "<p>20769 rows × 19 columns</p>\n",
       "</div>"
      ],
      "text/plain": [
       "                                                   image  \\\n",
       "0      https://img.mshanken.com/d/cao/ratings_extras/...   \n",
       "2      https://img.mshanken.com/d/cao/ratings_extras/...   \n",
       "3      https://img.mshanken.com/d/cao/ratings_extras/...   \n",
       "4      https://img.mshanken.com/d/cao/ratings_extras/...   \n",
       "5      https://img.mshanken.com/d/cao/ratings_extras/...   \n",
       "...                                                  ...   \n",
       "20769  https://img.mshanken.com/d/cao/ratings_extras/...   \n",
       "20770  https://img.mshanken.com/d/cao/ratings_extras/...   \n",
       "20771  https://img.mshanken.com/d/cao/ratings_extras/...   \n",
       "20772  https://img.mshanken.com/d/cao/ratings_extras/...   \n",
       "20773  https://img.mshanken.com/d/cao/ratings_extras/...   \n",
       "\n",
       "                                          name  score  length  gauge  \\\n",
       "0                         BOLIVAR ROYAL CORONA     93  4 7/8\"   50.0   \n",
       "2                      DAVIDOFF GRAN CRU NO. 2     89  5 5/8\"   43.0   \n",
       "3                                ASHTON CORONA     86  5 1/2\"   44.0   \n",
       "4                                ASHTON MAGNUM     82      5\"   50.0   \n",
       "5      ARTURO FUENTE CHATEAU FUENTE SUN GROWN      86  4 1/2\"   50.0   \n",
       "...                                        ...    ...     ...    ...   \n",
       "20769             E.P. Carrillo Encore TAA 656     89      5\"   56.0   \n",
       "20770   Romeo y Julieta Short Churchill (Tubo)     92  4 7/8\"   50.0   \n",
       "20771    Romeo y Julieta Wide Churchill (Tubo)     89  5 1/8\"   55.0   \n",
       "20772   Romeo y Julieta Petit Churchill (Tubo)     86      4\"   50.0   \n",
       "20773         Romeo y Julieta Churchill (Tubo)     93      7\"   47.0   \n",
       "\n",
       "                                          strenth_string  \\\n",
       "0      background:url('https://img.mshanken.com/d/cao...   \n",
       "2      background:url('https://img.mshanken.com/d/cao...   \n",
       "3      background:url('https://img.mshanken.com/d/cao...   \n",
       "4      background:url('https://img.mshanken.com/d/cao...   \n",
       "5      background:url('https://img.mshanken.com/d/cao...   \n",
       "...                                                  ...   \n",
       "20769  background:url('https://img.mshanken.com/d/cao...   \n",
       "20770  background:url('https://img.mshanken.com/d/cao...   \n",
       "20771  background:url('https://img.mshanken.com/d/cao...   \n",
       "20772  background:url('https://img.mshanken.com/d/cao...   \n",
       "20773  background:url('https://img.mshanken.com/d/cao...   \n",
       "\n",
       "                                           tasting_notes       size  \\\n",
       "0      This is an earthy, rich cigar with a lovely br...    Robusto   \n",
       "2      An enticing cigar that keeps you coming back f...     Corona   \n",
       "3      This cigar is well-made and gives plenty of fl...     Corona   \n",
       "4      This is a clean, very mild well-made cigar, wi...    Robusto   \n",
       "5      Finely constructed, A. Fuente's robusto has a ...    Robusto   \n",
       "...                                                  ...        ...   \n",
       "20769  Chocolate-brown with a multi-seamed cap, this ...       Toro   \n",
       "20770  The smoke from this oily robusto imparts a bol...    Robusto   \n",
       "20771  Dark and well-made with a multi-seamed cap and...    Robusto   \n",
       "20772  The smoke of this dark, oily cigar is somewhat...        Odd   \n",
       "20773  Topped with a triple-seam cap, this Churchill ...  Churchill   \n",
       "\n",
       "          filler     binder             wrapper             country   price  \\\n",
       "0           Cuba       Cuba                Cuba                Cuba  £10.00   \n",
       "2      Dom. Rep.  Dom. Rep.  U.S.A./Conn. Shade  Dominican Republic     NaN   \n",
       "3      Dom. Rep.  Dom. Rep.  U.S.A./Conn. Shade  Dominican Republic   $6.25   \n",
       "4      Dom. Rep.  Dom. Rep.  U.S.A./Conn. Shade  Dominican Republic   $6.75   \n",
       "5      Dom. Rep.  Dom. Rep.             Ecuador  Dominican Republic     NaN   \n",
       "...          ...        ...                 ...                 ...     ...   \n",
       "20769  Nicaragua  Nicaragua           Nicaragua  Dominican Republic  $13.25   \n",
       "20770       Cuba       Cuba                Cuba                Cuba  £24.50   \n",
       "20771       Cuba       Cuba                Cuba                Cuba  £31.70   \n",
       "20772       Cuba       Cuba                Cuba                Cuba  £22.10   \n",
       "20773       Cuba       Cuba                Cuba                Cuba  £31.75   \n",
       "\n",
       "                                                   issue  \\\n",
       "0      \\nIssue:\\n                                    ...   \n",
       "2      \\nIssue:\\n                                    ...   \n",
       "3      \\nIssue:\\n                                    ...   \n",
       "4      \\nIssue:\\n                                    ...   \n",
       "5      \\nIssue:\\n                                    ...   \n",
       "...                                                  ...   \n",
       "20769  \\nIssue:\\n                                    ...   \n",
       "20770  \\nIssue:\\n                                    ...   \n",
       "20771  \\nIssue:\\n                                    ...   \n",
       "20772  \\nIssue:\\n                                    ...   \n",
       "20773  \\nIssue:\\n                                    ...   \n",
       "\n",
       "                                            more_reviews   href  strength  \\\n",
       "0      [['89', ['Cigar Aficionado: ', '              ...   href       NaN   \n",
       "2      [['86', ['Cigar Aficionado: ', '              ...   1001       NaN   \n",
       "3      [['90', ['Cigar Aficionado: ', '              ...   1002       NaN   \n",
       "4      [['87', ['Cigar Aficionado: ', '              ...   1003       NaN   \n",
       "5      [['89', ['Cigar Aficionado: ', '              ...   1004       NaN   \n",
       "...                                                  ...    ...       ...   \n",
       "20769  [['89', ['Cigar Insider: ', '                 ...  22539       5.0   \n",
       "20770  [['90', ['Cigar Aficionado: ', '              ...  22540       5.0   \n",
       "20771  [['89', ['Cigar Insider: ', '                 ...  22541       5.0   \n",
       "20772  [['90', ['Cigar Aficionado: ', '              ...  22542       5.0   \n",
       "20773  [['90', ['Cigar Aficionado: ', '              ...  22543       5.0   \n",
       "\n",
       "               og_issue   og_issue_date  \n",
       "0      Cigar Aficionado  – Sep 01, 1992  \n",
       "2      Cigar Aficionado  – Mar 01, 1993  \n",
       "3      Cigar Aficionado  – Mar 01, 1993  \n",
       "4      Cigar Aficionado  – Sep 01, 1992  \n",
       "5      Cigar Aficionado  – Sep 01, 1992  \n",
       "...                 ...             ...  \n",
       "20769     Cigar Insider  – Dec 08, 2020  \n",
       "20770     Cigar Insider  – Dec 08, 2020  \n",
       "20771     Cigar Insider  – Dec 08, 2020  \n",
       "20772     Cigar Insider  – Dec 08, 2020  \n",
       "20773     Cigar Insider  – Dec 08, 2020  \n",
       "\n",
       "[20769 rows x 19 columns]"
      ]
     },
     "execution_count": 15,
     "metadata": {},
     "output_type": "execute_result"
    }
   ],
   "source": [
    "df"
   ]
  },
  {
   "cell_type": "code",
   "execution_count": 16,
   "metadata": {},
   "outputs": [
    {
     "data": {
      "text/plain": [
       "<Axes: >"
      ]
     },
     "execution_count": 16,
     "metadata": {},
     "output_type": "execute_result"
    },
    {
     "data": {
      "image/png": "[encoded data removed]",
      "text/plain": [
       "<Figure size 640x480 with 1 Axes>"
      ]
     },
     "metadata": {},
     "output_type": "display_data"
    }
   ],
   "source": [
    "df['strength'].hist()"
   ]
  },
  {
   "cell_type": "markdown",
   "metadata": {},
   "source": [
    "# ttests of score by country "
   ]
  },
  {
   "cell_type": "code",
   "execution_count": 17,
   "metadata": {},
   "outputs": [],
   "source": [
    "scores_df = df.groupby(\"country\").filter(lambda x: len(x) > 10)"
   ]
  },
  {
   "cell_type": "code",
   "execution_count": 18,
   "metadata": {},
   "outputs": [
    {
     "data": {
      "text/plain": [
       "country\n",
       "Dominican Republic    8402\n",
       "Nicaragua             4941\n",
       "Honduras              3469\n",
       "Cuba                  2763\n",
       "U.S.A                  371\n",
       "Mexico                 201\n",
       "Jamaica                175\n",
       "Costa Rica             117\n",
       "Bahamas                111\n",
       "Canary Islands          88\n",
       "Brazil                  42\n",
       "Philippines             41\n",
       "Indonesia               19\n",
       "Name: count, dtype: int64"
      ]
     },
     "execution_count": 18,
     "metadata": {},
     "output_type": "execute_result"
    }
   ],
   "source": [
    "scores_df.country.value_counts()"
   ]
  },
  {
   "cell_type": "code",
   "execution_count": 19,
   "metadata": {},
   "outputs": [
    {
     "data": {
      "image/png": "[encoded data removed]",
      "text/plain": [
       "<Figure size 640x480 with 1 Axes>"
      ]
     },
     "metadata": {},
     "output_type": "display_data"
    }
   ],
   "source": [
    "scores_df.score.hist();"
   ]
  },
  {
   "cell_type": "code",
   "execution_count": 20,
   "metadata": {},
   "outputs": [
    {
     "name": "stdout",
     "output_type": "stream",
     "text": [
      "count    8402.000000\n",
      "mean       87.084385\n",
      "std         2.656531\n",
      "min        75.000000\n",
      "25%        85.000000\n",
      "50%        87.000000\n",
      "75%        89.000000\n",
      "max        97.000000\n",
      "Name: score, dtype: float64\n"
     ]
    },
    {
     "data": {
      "image/png": "[encoded data removed]",
      "text/plain": [
       "<Figure size 640x480 with 1 Axes>"
      ]
     },
     "metadata": {},
     "output_type": "display_data"
    }
   ],
   "source": [
    "dr_score = scores_df[scores_df.country == 'Dominican Republic'].score\n",
    "print(dr_score.describe())\n",
    "dr_score.hist();"
   ]
  },
  {
   "cell_type": "code",
   "execution_count": 21,
   "metadata": {},
   "outputs": [
    {
     "name": "stdout",
     "output_type": "stream",
     "text": [
      "count    2763.000000\n",
      "mean       89.540355\n",
      "std         2.364676\n",
      "min        80.000000\n",
      "25%        88.000000\n",
      "50%        90.000000\n",
      "75%        91.000000\n",
      "max        99.000000\n",
      "Name: score, dtype: float64\n"
     ]
    },
    {
     "data": {
      "image/png": "[encoded data removed]",
      "text/plain": [
       "<Figure size 640x480 with 1 Axes>"
      ]
     },
     "metadata": {},
     "output_type": "display_data"
    }
   ],
   "source": [
    "cuba_score = scores_df[scores_df.country == 'Cuba'].score\n",
    "print(cuba_score.describe())\n",
    "cuba_score.hist();"
   ]
  },
  {
   "cell_type": "code",
   "execution_count": 22,
   "metadata": {},
   "outputs": [
    {
     "name": "stdout",
     "output_type": "stream",
     "text": [
      "count    4941.000000\n",
      "mean       88.638939\n",
      "std         2.487128\n",
      "min        76.000000\n",
      "25%        87.000000\n",
      "50%        89.000000\n",
      "75%        90.000000\n",
      "max        97.000000\n",
      "Name: score, dtype: float64\n"
     ]
    },
    {
     "data": {
      "image/png": "[encoded data removed]",
      "text/plain": [
       "<Figure size 640x480 with 1 Axes>"
      ]
     },
     "metadata": {},
     "output_type": "display_data"
    }
   ],
   "source": [
    "nic_score = scores_df[scores_df.country == 'Nicaragua'].score\n",
    "print(nic_score.describe())\n",
    "nic_score.hist();"
   ]
  },
  {
   "cell_type": "code",
   "execution_count": 23,
   "metadata": {},
   "outputs": [
    {
     "name": "stdout",
     "output_type": "stream",
     "text": [
      "count    3469.000000\n",
      "mean       87.237532\n",
      "std         2.756678\n",
      "min        70.000000\n",
      "25%        86.000000\n",
      "50%        87.000000\n",
      "75%        89.000000\n",
      "max        96.000000\n",
      "Name: score, dtype: float64\n"
     ]
    },
    {
     "data": {
      "image/png": "[encoded data removed]",
      "text/plain": [
       "<Figure size 640x480 with 1 Axes>"
      ]
     },
     "metadata": {},
     "output_type": "display_data"
    }
   ],
   "source": [
    "hon_score = scores_df[scores_df.country == 'Honduras'].score\n",
    "print(hon_score.describe())\n",
    "hon_score.hist();"
   ]
  },
  {
   "cell_type": "code",
   "execution_count": 24,
   "metadata": {},
   "outputs": [
    {
     "name": "stdout",
     "output_type": "stream",
     "text": [
      "count    371.000000\n",
      "mean      88.169811\n",
      "std        2.531051\n",
      "min       80.000000\n",
      "25%       87.000000\n",
      "50%       88.000000\n",
      "75%       90.000000\n",
      "max       93.000000\n",
      "Name: score, dtype: float64\n"
     ]
    },
    {
     "data": {
      "image/png": "[encoded data removed]",
      "text/plain": [
       "<Figure size 640x480 with 1 Axes>"
      ]
     },
     "metadata": {},
     "output_type": "display_data"
    }
   ],
   "source": [
    "usa_score = scores_df[scores_df.country == 'U.S.A'].score\n",
    "print(usa_score.describe())\n",
    "usa_score.hist();"
   ]
  },
  {
   "cell_type": "code",
   "execution_count": 25,
   "metadata": {},
   "outputs": [
    {
     "name": "stdout",
     "output_type": "stream",
     "text": [
      "count    175.000000\n",
      "mean      85.668571\n",
      "std        2.043742\n",
      "min       80.000000\n",
      "25%       84.000000\n",
      "50%       86.000000\n",
      "75%       87.000000\n",
      "max       91.000000\n",
      "Name: score, dtype: float64\n"
     ]
    },
    {
     "data": {
      "image/png": "[encoded data removed]",
      "text/plain": [
       "<Figure size 640x480 with 1 Axes>"
      ]
     },
     "metadata": {},
     "output_type": "display_data"
    }
   ],
   "source": [
    "jam_score = scores_df[scores_df.country == 'Jamaica'].score\n",
    "print(jam_score.describe())\n",
    "jam_score.hist();"
   ]
  },
  {
   "cell_type": "code",
   "execution_count": 26,
   "metadata": {},
   "outputs": [
    {
     "name": "stdout",
     "output_type": "stream",
     "text": [
      "count    201.000000\n",
      "mean      84.666667\n",
      "std        4.154917\n",
      "min       69.000000\n",
      "25%       82.000000\n",
      "50%       85.000000\n",
      "75%       87.000000\n",
      "max       94.000000\n",
      "Name: score, dtype: float64\n"
     ]
    },
    {
     "data": {
      "image/png": "[encoded data removed]",
      "text/plain": [
       "<Figure size 640x480 with 1 Axes>"
      ]
     },
     "metadata": {},
     "output_type": "display_data"
    }
   ],
   "source": [
    "mex_score = scores_df[scores_df.country == 'Mexico'].score\n",
    "print(mex_score.describe())\n",
    "mex_score.hist();"
   ]
  },
  {
   "cell_type": "code",
   "execution_count": 27,
   "metadata": {},
   "outputs": [
    {
     "data": {
      "text/plain": [
       "count    20740.000000\n",
       "mean        87.766538\n",
       "std          2.812987\n",
       "min         69.000000\n",
       "25%         86.000000\n",
       "50%         88.000000\n",
       "75%         90.000000\n",
       "max         99.000000\n",
       "Name: score, dtype: float64"
      ]
     },
     "execution_count": 27,
     "metadata": {},
     "output_type": "execute_result"
    }
   ],
   "source": [
    "scores_df.score.describe()"
   ]
  },
  {
   "cell_type": "markdown",
   "metadata": {},
   "source": [
    "# fixing the features"
   ]
  },
  {
   "cell_type": "code",
   "execution_count": 37,
   "metadata": {},
   "outputs": [
    {
     "data": {
      "text/plain": [
       "Index(['image', 'name', 'score', 'length', 'gauge', 'strenth_string',\n",
       "       'tasting_notes', 'size', 'filler', 'binder', 'wrapper', 'country',\n",
       "       'price', 'issue', 'more_reviews', 'href', 'strength', 'og_issue',\n",
       "       'og_issue_date'],\n",
       "      dtype='object')"
      ]
     },
     "execution_count": 37,
     "metadata": {},
     "output_type": "execute_result"
    }
   ],
   "source": [
    "df.columns"
   ]
  },
  {
   "cell_type": "code",
   "execution_count": 38,
   "metadata": {},
   "outputs": [
    {
     "data": {
      "text/plain": [
       "array(['Cuba', 'Dominican Republic', 'Nicaragua', 'Honduras', 'Jamaica',\n",
       "       'Mexico', 'U.S.A', 'Philippines', 'Canary Islands', 'Brazil',\n",
       "       'Costa Rica', 'Indonesia', 'Bahamas', 'Panama', nan, 'El Salvador',\n",
       "       'Colombia'], dtype=object)"
      ]
     },
     "execution_count": 38,
     "metadata": {},
     "output_type": "execute_result"
    }
   ],
   "source": [
    "df.country.unique()"
   ]
  },
  {
   "cell_type": "code",
   "execution_count": 39,
   "metadata": {},
   "outputs": [
    {
     "data": {
      "text/plain": [
       "array([50., 43., 44., 52., 49., 42., 48., 47., 41., 56., 45., 46., 54.,\n",
       "       38., 36., 51., 34., 35., 30., 40., 55., 60., 58., 64., 33., 32.,\n",
       "       31., 66., 37., 28., 39., 53., nan, 62., 61., 29., 26., 57.,  5.,\n",
       "       67., 59.,  6., 65., 70., 24., 63., 80.])"
      ]
     },
     "execution_count": 39,
     "metadata": {},
     "output_type": "execute_result"
    }
   ],
   "source": [
    "df.gauge.unique()"
   ]
  },
  {
   "cell_type": "code",
   "execution_count": 40,
   "metadata": {},
   "outputs": [
    {
     "data": {
      "text/plain": [
       "86"
      ]
     },
     "execution_count": 40,
     "metadata": {},
     "output_type": "execute_result"
    }
   ],
   "source": [
    "len(df.binder.unique())"
   ]
  },
  {
   "cell_type": "code",
   "execution_count": 41,
   "metadata": {},
   "outputs": [
    {
     "data": {
      "text/plain": [
       "count         20739\n",
       "unique           85\n",
       "top       Dom. Rep.\n",
       "freq           6006\n",
       "Name: binder, dtype: object"
      ]
     },
     "execution_count": 41,
     "metadata": {},
     "output_type": "execute_result"
    }
   ],
   "source": [
    "df.binder.describe()"
   ]
  },
  {
   "cell_type": "code",
   "execution_count": 42,
   "metadata": {},
   "outputs": [
    {
     "data": {
      "text/plain": [
       "binder\n",
       "Dom. Rep.                 6006\n",
       "Nicaragua                 5899\n",
       "Cuba                      2760\n",
       "Honduras                  1573\n",
       "Mexico                    1309\n",
       "                          ... \n",
       "Philipines                   1\n",
       "U.S.A./Conn. Braodleaf       1\n",
       "Nicaraua                     1\n",
       "tk                           1\n",
       "U.S.A./Penn. Broadleaf       1\n",
       "Name: count, Length: 85, dtype: int64"
      ]
     },
     "execution_count": 42,
     "metadata": {},
     "output_type": "execute_result"
    }
   ],
   "source": [
    "df.binder.value_counts()"
   ]
  },
  {
   "cell_type": "markdown",
   "metadata": {},
   "source": [
    "# filler -start at 387 to 334"
   ]
  },
  {
   "cell_type": "code",
   "execution_count": 43,
   "metadata": {},
   "outputs": [
    {
     "data": {
      "text/html": [
       "<div>\n",
       "<style scoped>\n",
       "    .dataframe tbody tr th:only-of-type {\n",
       "        vertical-align: middle;\n",
       "    }\n",
       "\n",
       "    .dataframe tbody tr th {\n",
       "        vertical-align: top;\n",
       "    }\n",
       "\n",
       "    .dataframe thead th {\n",
       "        text-align: right;\n",
       "    }\n",
       "</style>\n",
       "<table border=\"1\" class=\"dataframe\">\n",
       "  <thead>\n",
       "    <tr style=\"text-align: right;\">\n",
       "      <th></th>\n",
       "      <th>image</th>\n",
       "      <th>name</th>\n",
       "      <th>score</th>\n",
       "      <th>length</th>\n",
       "      <th>gauge</th>\n",
       "      <th>strenth_string</th>\n",
       "      <th>tasting_notes</th>\n",
       "      <th>size</th>\n",
       "      <th>filler</th>\n",
       "      <th>binder</th>\n",
       "      <th>wrapper</th>\n",
       "      <th>country</th>\n",
       "      <th>price</th>\n",
       "      <th>issue</th>\n",
       "      <th>more_reviews</th>\n",
       "      <th>href</th>\n",
       "      <th>strength</th>\n",
       "      <th>og_issue</th>\n",
       "      <th>og_issue_date</th>\n",
       "    </tr>\n",
       "  </thead>\n",
       "  <tbody>\n",
       "    <tr>\n",
       "      <th>0</th>\n",
       "      <td>https://img.mshanken.com/d/cao/ratings_extras/...</td>\n",
       "      <td>BOLIVAR ROYAL CORONA</td>\n",
       "      <td>93</td>\n",
       "      <td>4 7/8\"</td>\n",
       "      <td>50.0</td>\n",
       "      <td>background:url('https://img.mshanken.com/d/cao...</td>\n",
       "      <td>This is an earthy, rich cigar with a lovely br...</td>\n",
       "      <td>Robusto</td>\n",
       "      <td>Cuba</td>\n",
       "      <td>Cuba</td>\n",
       "      <td>Cuba</td>\n",
       "      <td>Cuba</td>\n",
       "      <td>£10.00</td>\n",
       "      <td>\\nIssue:\\n                                    ...</td>\n",
       "      <td>[['89', ['Cigar Aficionado: ', '              ...</td>\n",
       "      <td>href</td>\n",
       "      <td>NaN</td>\n",
       "      <td>Cigar Aficionado</td>\n",
       "      <td>– Sep 01, 1992</td>\n",
       "    </tr>\n",
       "    <tr>\n",
       "      <th>2</th>\n",
       "      <td>https://img.mshanken.com/d/cao/ratings_extras/...</td>\n",
       "      <td>DAVIDOFF GRAN CRU NO. 2</td>\n",
       "      <td>89</td>\n",
       "      <td>5 5/8\"</td>\n",
       "      <td>43.0</td>\n",
       "      <td>background:url('https://img.mshanken.com/d/cao...</td>\n",
       "      <td>An enticing cigar that keeps you coming back f...</td>\n",
       "      <td>Corona</td>\n",
       "      <td>Dom. Rep.</td>\n",
       "      <td>Dom. Rep.</td>\n",
       "      <td>U.S.A./Conn. Shade</td>\n",
       "      <td>Dominican Republic</td>\n",
       "      <td>NaN</td>\n",
       "      <td>\\nIssue:\\n                                    ...</td>\n",
       "      <td>[['86', ['Cigar Aficionado: ', '              ...</td>\n",
       "      <td>1001</td>\n",
       "      <td>NaN</td>\n",
       "      <td>Cigar Aficionado</td>\n",
       "      <td>– Mar 01, 1993</td>\n",
       "    </tr>\n",
       "    <tr>\n",
       "      <th>3</th>\n",
       "      <td>https://img.mshanken.com/d/cao/ratings_extras/...</td>\n",
       "      <td>ASHTON CORONA</td>\n",
       "      <td>86</td>\n",
       "      <td>5 1/2\"</td>\n",
       "      <td>44.0</td>\n",
       "      <td>background:url('https://img.mshanken.com/d/cao...</td>\n",
       "      <td>This cigar is well-made and gives plenty of fl...</td>\n",
       "      <td>Corona</td>\n",
       "      <td>Dom. Rep.</td>\n",
       "      <td>Dom. Rep.</td>\n",
       "      <td>U.S.A./Conn. Shade</td>\n",
       "      <td>Dominican Republic</td>\n",
       "      <td>$6.25</td>\n",
       "      <td>\\nIssue:\\n                                    ...</td>\n",
       "      <td>[['90', ['Cigar Aficionado: ', '              ...</td>\n",
       "      <td>1002</td>\n",
       "      <td>NaN</td>\n",
       "      <td>Cigar Aficionado</td>\n",
       "      <td>– Mar 01, 1993</td>\n",
       "    </tr>\n",
       "    <tr>\n",
       "      <th>4</th>\n",
       "      <td>https://img.mshanken.com/d/cao/ratings_extras/...</td>\n",
       "      <td>ASHTON MAGNUM</td>\n",
       "      <td>82</td>\n",
       "      <td>5\"</td>\n",
       "      <td>50.0</td>\n",
       "      <td>background:url('https://img.mshanken.com/d/cao...</td>\n",
       "      <td>This is a clean, very mild well-made cigar, wi...</td>\n",
       "      <td>Robusto</td>\n",
       "      <td>Dom. Rep.</td>\n",
       "      <td>Dom. Rep.</td>\n",
       "      <td>U.S.A./Conn. Shade</td>\n",
       "      <td>Dominican Republic</td>\n",
       "      <td>$6.75</td>\n",
       "      <td>\\nIssue:\\n                                    ...</td>\n",
       "      <td>[['87', ['Cigar Aficionado: ', '              ...</td>\n",
       "      <td>1003</td>\n",
       "      <td>NaN</td>\n",
       "      <td>Cigar Aficionado</td>\n",
       "      <td>– Sep 01, 1992</td>\n",
       "    </tr>\n",
       "    <tr>\n",
       "      <th>5</th>\n",
       "      <td>https://img.mshanken.com/d/cao/ratings_extras/...</td>\n",
       "      <td>ARTURO FUENTE CHATEAU FUENTE SUN GROWN</td>\n",
       "      <td>86</td>\n",
       "      <td>4 1/2\"</td>\n",
       "      <td>50.0</td>\n",
       "      <td>background:url('https://img.mshanken.com/d/cao...</td>\n",
       "      <td>Finely constructed, A. Fuente's robusto has a ...</td>\n",
       "      <td>Robusto</td>\n",
       "      <td>Dom. Rep.</td>\n",
       "      <td>Dom. Rep.</td>\n",
       "      <td>Ecuador</td>\n",
       "      <td>Dominican Republic</td>\n",
       "      <td>NaN</td>\n",
       "      <td>\\nIssue:\\n                                    ...</td>\n",
       "      <td>[['89', ['Cigar Aficionado: ', '              ...</td>\n",
       "      <td>1004</td>\n",
       "      <td>NaN</td>\n",
       "      <td>Cigar Aficionado</td>\n",
       "      <td>– Sep 01, 1992</td>\n",
       "    </tr>\n",
       "  </tbody>\n",
       "</table>\n",
       "</div>"
      ],
      "text/plain": [
       "                                               image  \\\n",
       "0  https://img.mshanken.com/d/cao/ratings_extras/...   \n",
       "2  https://img.mshanken.com/d/cao/ratings_extras/...   \n",
       "3  https://img.mshanken.com/d/cao/ratings_extras/...   \n",
       "4  https://img.mshanken.com/d/cao/ratings_extras/...   \n",
       "5  https://img.mshanken.com/d/cao/ratings_extras/...   \n",
       "\n",
       "                                      name  score  length  gauge  \\\n",
       "0                     BOLIVAR ROYAL CORONA     93  4 7/8\"   50.0   \n",
       "2                  DAVIDOFF GRAN CRU NO. 2     89  5 5/8\"   43.0   \n",
       "3                            ASHTON CORONA     86  5 1/2\"   44.0   \n",
       "4                            ASHTON MAGNUM     82      5\"   50.0   \n",
       "5  ARTURO FUENTE CHATEAU FUENTE SUN GROWN      86  4 1/2\"   50.0   \n",
       "\n",
       "                                      strenth_string  \\\n",
       "0  background:url('https://img.mshanken.com/d/cao...   \n",
       "2  background:url('https://img.mshanken.com/d/cao...   \n",
       "3  background:url('https://img.mshanken.com/d/cao...   \n",
       "4  background:url('https://img.mshanken.com/d/cao...   \n",
       "5  background:url('https://img.mshanken.com/d/cao...   \n",
       "\n",
       "                                       tasting_notes     size     filler  \\\n",
       "0  This is an earthy, rich cigar with a lovely br...  Robusto       Cuba   \n",
       "2  An enticing cigar that keeps you coming back f...   Corona  Dom. Rep.   \n",
       "3  This cigar is well-made and gives plenty of fl...   Corona  Dom. Rep.   \n",
       "4  This is a clean, very mild well-made cigar, wi...  Robusto  Dom. Rep.   \n",
       "5  Finely constructed, A. Fuente's robusto has a ...  Robusto  Dom. Rep.   \n",
       "\n",
       "      binder             wrapper             country   price  \\\n",
       "0       Cuba                Cuba                Cuba  £10.00   \n",
       "2  Dom. Rep.  U.S.A./Conn. Shade  Dominican Republic     NaN   \n",
       "3  Dom. Rep.  U.S.A./Conn. Shade  Dominican Republic   $6.25   \n",
       "4  Dom. Rep.  U.S.A./Conn. Shade  Dominican Republic   $6.75   \n",
       "5  Dom. Rep.             Ecuador  Dominican Republic     NaN   \n",
       "\n",
       "                                               issue  \\\n",
       "0  \\nIssue:\\n                                    ...   \n",
       "2  \\nIssue:\\n                                    ...   \n",
       "3  \\nIssue:\\n                                    ...   \n",
       "4  \\nIssue:\\n                                    ...   \n",
       "5  \\nIssue:\\n                                    ...   \n",
       "\n",
       "                                        more_reviews  href  strength  \\\n",
       "0  [['89', ['Cigar Aficionado: ', '              ...  href       NaN   \n",
       "2  [['86', ['Cigar Aficionado: ', '              ...  1001       NaN   \n",
       "3  [['90', ['Cigar Aficionado: ', '              ...  1002       NaN   \n",
       "4  [['87', ['Cigar Aficionado: ', '              ...  1003       NaN   \n",
       "5  [['89', ['Cigar Aficionado: ', '              ...  1004       NaN   \n",
       "\n",
       "           og_issue   og_issue_date  \n",
       "0  Cigar Aficionado  – Sep 01, 1992  \n",
       "2  Cigar Aficionado  – Mar 01, 1993  \n",
       "3  Cigar Aficionado  – Mar 01, 1993  \n",
       "4  Cigar Aficionado  – Sep 01, 1992  \n",
       "5  Cigar Aficionado  – Sep 01, 1992  "
      ]
     },
     "execution_count": 43,
     "metadata": {},
     "output_type": "execute_result"
    }
   ],
   "source": [
    "df.head()"
   ]
  },
  {
   "cell_type": "markdown",
   "metadata": {},
   "source": [
    "# length"
   ]
  },
  {
   "cell_type": "code",
   "execution_count": 44,
   "metadata": {},
   "outputs": [],
   "source": [
    "def clean_inches(values):\n",
    "    cleaned_values = []\n",
    "    for value in values:\n",
    "        if type(value) != str:  # skip any non-string values\n",
    "            continue\n",
    "        value = value.strip()  # remove any leading/trailing spaces\n",
    "        if '\"' not in value:  # skip any values that don't contain \"\n",
    "            continue\n",
    "        parts = value.split('\"')[0].split()  # extract the whole number and fraction parts\n",
    "        if len(parts) == 1:  # if there's only one part, assume it's a whole number of inches\n",
    "            inches = float(parts[0])\n",
    "        else:\n",
    "            whole_inches = int(parts[0])\n",
    "            fraction_parts = parts[1].split('/')\n",
    "            numerator = int(fraction_parts[0])\n",
    "            denominator = int(fraction_parts[1])\n",
    "            inches = whole_inches + (numerator / denominator)\n",
    "        cleaned_values.append(inches)\n",
    "    return cleaned_values\n"
   ]
  },
  {
   "cell_type": "code",
   "execution_count": 45,
   "metadata": {},
   "outputs": [],
   "source": [
    "# import re\n",
    "\n",
    "# def clean_inches(measurement):\n",
    "#     measurement = str(measurement).strip()\n",
    "#     print(measurement)\n",
    "#     if measurement == '' or measurement == 'nan':\n",
    "#         return None\n",
    "#     elif '\"' in measurement:\n",
    "#         return float(measurement[:-1])\n",
    "#     elif ' ' in measurement:\n",
    "#         whole, fraction = measurement.split()\n",
    "#         whole = float(whole)\n",
    "#         num, denom = fraction.split('/')\n",
    "#         fraction = float(num) / float(denom)\n",
    "#         return whole + fraction\n",
    "#     else:\n",
    "#         return float(measurement)\n"
   ]
  },
  {
   "cell_type": "code",
   "execution_count": 61,
   "metadata": {},
   "outputs": [],
   "source": [
    "# df['length'] = df['length'].apply(lambda x: clean_inches(x))"
   ]
  },
  {
   "cell_type": "code",
   "execution_count": 62,
   "metadata": {},
   "outputs": [
    {
     "data": {
      "text/plain": [
       "length\n",
       "6\"        3258\n",
       "5\"        2591\n",
       "7\"        2535\n",
       "5 1/2\"    2074\n",
       "6 1/2\"    1559\n",
       "          ... \n",
       "6 9/6\"       1\n",
       "tk\"          1\n",
       "TK           1\n",
       "5'           1\n",
       "4 1/4        1\n",
       "Name: count, Length: 126, dtype: int64"
      ]
     },
     "execution_count": 62,
     "metadata": {},
     "output_type": "execute_result"
    }
   ],
   "source": [
    "df['length'].value_counts()"
   ]
  },
  {
   "cell_type": "code",
   "execution_count": 63,
   "metadata": {},
   "outputs": [],
   "source": [
    "dirty_list = ['4 7/8\"', '5 5/8\"', '5 1/2\"', '5\"', '4 1/2\"', '7 5/8\"', '7 1/2\"',\n",
    "       '6\"', '5 9/16\"', '5 1/4\"', '5 7/8\"', '5 3/4\"', '6 1/2\"', '6 5/8\"',\n",
    "       '6 3/4\"', '7\"', '6 1/4\"', '6 7/8\"', '6 9/16\"', '4 3/4\"', '5 1/8\"',\n",
    "       '8 1/2\"', '8\"', '7 1/4\"', '6 3/8\"', '6 1/8\"', '6 5/16\"', '4 5/8\"',\n",
    "       '7 3/4\"', '6 1/2', '4 1/4\"', '9\"', '6 15/16', '8 1/4\"', '8 2/3\"',\n",
    "       '5 1/16\"', '6 7/4\"', '4\"', '5 3/5\"', '8 1/2', '7 1/2', '7 5/8',\n",
    "       '7 3/4', '9 1/4\"', '5 3/8\"', '8 7/8\"', '7 1/8\"', '5 1/5\"',\n",
    "       '5 3/16\"', '8 1/4', '10\"', '4 1/5\"', '4 1/4 \"', '5 1/3\"',\n",
    "       '4 1/2 \"', '6 1/3\"', '6 1/5\"', '8', None, '9 1/2\"', '3 1/2\"',\n",
    "       '4 3/8\"', '7 7/8\"', '7 3/8\"', '4', '6 1/2 \"', \"7 1/4'\", '7 2/4\"',\n",
    "       '6 3/32\"', '8 5/8\"', '3 5/8\"', '8 3/4\"', '4 1/3\"', '5 5/8\"\"',\n",
    "       '5\"\\x0b', '3 15/16\"', '6 11/16\"', '5 11/16\"', '4 5/16\"', '4 1/8\"',\n",
    "       '4 15/16\"', '4 3/16\"', '\"', '6 1/8', '9 1/8', '7 1/4', '4 4/5\"',\n",
    "       '6 9/6\"', 'tk\"', '12\"', '50', '52', 'TK', '6 1/4', '3 3/4\"',\n",
    "       '5 3/4', \"5'\", \"6'\", \"6 1/2'\", '3 7/8\"', '50\"', '6 3/16\"', '5 3/8',\n",
    "       '5 7/8', '4 3/8', '4 7/8', '7 1/8', '5 3/4 inch', '6 1/4 inch',\n",
    "       '4 1/ 2 inc', '5 1/4', '5 5/16\"', '4\" 1/4', '4 3/4', '52\"',\n",
    "       '5 5/8', '3 1/4\"', '60', '3 5/8\"\"', '2\"', '4 1/2', '3\"', '6 1/10\"',\n",
    "       '5 15/16\"', '4 3/5\"', '4 5/7\"', '4 1/4']"
   ]
  },
  {
   "cell_type": "code",
   "execution_count": 64,
   "metadata": {},
   "outputs": [
    {
     "ename": "AttributeError",
     "evalue": "'NoneType' object has no attribute 'replace'",
     "output_type": "error",
     "traceback": [
      "\u001b[0;31m---------------------------------------------------------------------------\u001b[0m",
      "\u001b[0;31mAttributeError\u001b[0m                            Traceback (most recent call last)",
      "Cell \u001b[0;32mIn[64], line 1\u001b[0m\n\u001b[0;32m----> 1\u001b[0m cleaned_list \u001b[38;5;241m=\u001b[39m [\u001b[43ms\u001b[49m\u001b[38;5;241;43m.\u001b[39;49m\u001b[43mreplace\u001b[49m(\u001b[38;5;124m'\u001b[39m\u001b[38;5;124m\"\u001b[39m\u001b[38;5;124m'\u001b[39m, \u001b[38;5;124m'\u001b[39m\u001b[38;5;124m'\u001b[39m)\u001b[38;5;241m.\u001b[39mreplace(\u001b[38;5;124m\"\u001b[39m\u001b[38;5;124m'\u001b[39m\u001b[38;5;124m\"\u001b[39m, \u001b[38;5;124m'\u001b[39m\u001b[38;5;124m'\u001b[39m) \u001b[38;5;28;01mfor\u001b[39;00m s \u001b[38;5;129;01min\u001b[39;00m dirty_list]\n",
      "\u001b[0;31mAttributeError\u001b[0m: 'NoneType' object has no attribute 'replace'"
     ]
    }
   ],
   "source": [
    "cleaned_list = [s.replace('\"', '').replace(\"'\", '') for s in dirty_list]\n"
   ]
  },
  {
   "cell_type": "code",
   "execution_count": 65,
   "metadata": {},
   "outputs": [
    {
     "name": "stdout",
     "output_type": "stream",
     "text": [
      "[4.875, 5.625, 5.5, 4.5, 7.625, 7.5, 5.5625, 5.25, 5.875, 5.75, 6.5, 6.625, 6.75, 6.25, 6.875, 6.5625, 4.75, 5.125, 8.5, 7.25, 6.375, 6.125, 6.3125, 4.625, 7.75, 6.5, 4.25, 6.9375, 8.25, 8.666666666666666, 5.0625, 7.75, 5.6, 8.5, 7.5, 7.625, 7.75, 9.25, 5.375, 8.875, 7.125, 5.2, 5.1875, 8.25, 4.2, 4.25, 5.333333333333333, 4.5, 6.333333333333333, 6.2, 9.5, 3.5, 4.375, 7.875, 7.375, 6.5, 7.25, 7.5, 6.09375, 8.625, 3.625, 8.75, 4.333333333333333, 5.625, 3.9375, 6.6875, 5.6875, 4.3125, 4.125, 4.9375, 4.1875, 6.125, 9.125, 7.25, 4.8, 7.5, 6.25, 3.75, 5.75, 6.5, 3.875, 6.1875, 5.375, 5.875, 4.375, 4.875, 7.125, 5.75, 6.25, 5.25, 5.3125, 4.25, 4.75, 5.625, 3.25, 3.625, 4.5, 6.1, 5.9375, 4.6, 4.714285714285714, 4.25]\n"
     ]
    }
   ],
   "source": [
    "cleaned_list = []\n",
    "for s in dirty_list:\n",
    "    try:\n",
    "        s = s.replace('\"', '').replace(\"'\", '')\n",
    "        cleaned_list.append(float(s.split()[0]) + float(s.split()[1].split('/')[0])/float(s.split()[1].split('/')[1]))\n",
    "    except:\n",
    "        pass\n",
    "\n",
    "print(cleaned_list)"
   ]
  },
  {
   "cell_type": "code",
   "execution_count": 66,
   "metadata": {},
   "outputs": [
    {
     "data": {
      "text/html": [
       "<div>\n",
       "<style scoped>\n",
       "    .dataframe tbody tr th:only-of-type {\n",
       "        vertical-align: middle;\n",
       "    }\n",
       "\n",
       "    .dataframe tbody tr th {\n",
       "        vertical-align: top;\n",
       "    }\n",
       "\n",
       "    .dataframe thead th {\n",
       "        text-align: right;\n",
       "    }\n",
       "</style>\n",
       "<table border=\"1\" class=\"dataframe\">\n",
       "  <thead>\n",
       "    <tr style=\"text-align: right;\">\n",
       "      <th></th>\n",
       "      <th>image</th>\n",
       "      <th>name</th>\n",
       "      <th>score</th>\n",
       "      <th>length</th>\n",
       "      <th>gauge</th>\n",
       "      <th>strenth_string</th>\n",
       "      <th>tasting_notes</th>\n",
       "      <th>size</th>\n",
       "      <th>filler</th>\n",
       "      <th>binder</th>\n",
       "      <th>wrapper</th>\n",
       "      <th>country</th>\n",
       "      <th>price</th>\n",
       "      <th>issue</th>\n",
       "      <th>more_reviews</th>\n",
       "      <th>href</th>\n",
       "      <th>strength</th>\n",
       "      <th>og_issue</th>\n",
       "      <th>og_issue_date</th>\n",
       "    </tr>\n",
       "  </thead>\n",
       "  <tbody>\n",
       "    <tr>\n",
       "      <th>0</th>\n",
       "      <td>https://img.mshanken.com/d/cao/ratings_extras/...</td>\n",
       "      <td>BOLIVAR ROYAL CORONA</td>\n",
       "      <td>93</td>\n",
       "      <td>4 7/8\"</td>\n",
       "      <td>50.0</td>\n",
       "      <td>background:url('https://img.mshanken.com/d/cao...</td>\n",
       "      <td>This is an earthy, rich cigar with a lovely br...</td>\n",
       "      <td>Robusto</td>\n",
       "      <td>Cuba</td>\n",
       "      <td>Cuba</td>\n",
       "      <td>Cuba</td>\n",
       "      <td>Cuba</td>\n",
       "      <td>£10.00</td>\n",
       "      <td>\\nIssue:\\n                                    ...</td>\n",
       "      <td>[['89', ['Cigar Aficionado: ', '              ...</td>\n",
       "      <td>href</td>\n",
       "      <td>NaN</td>\n",
       "      <td>Cigar Aficionado</td>\n",
       "      <td>– Sep 01, 1992</td>\n",
       "    </tr>\n",
       "    <tr>\n",
       "      <th>2</th>\n",
       "      <td>https://img.mshanken.com/d/cao/ratings_extras/...</td>\n",
       "      <td>DAVIDOFF GRAN CRU NO. 2</td>\n",
       "      <td>89</td>\n",
       "      <td>5 5/8\"</td>\n",
       "      <td>43.0</td>\n",
       "      <td>background:url('https://img.mshanken.com/d/cao...</td>\n",
       "      <td>An enticing cigar that keeps you coming back f...</td>\n",
       "      <td>Corona</td>\n",
       "      <td>Dom. Rep.</td>\n",
       "      <td>Dom. Rep.</td>\n",
       "      <td>U.S.A./Conn. Shade</td>\n",
       "      <td>Dominican Republic</td>\n",
       "      <td>NaN</td>\n",
       "      <td>\\nIssue:\\n                                    ...</td>\n",
       "      <td>[['86', ['Cigar Aficionado: ', '              ...</td>\n",
       "      <td>1001</td>\n",
       "      <td>NaN</td>\n",
       "      <td>Cigar Aficionado</td>\n",
       "      <td>– Mar 01, 1993</td>\n",
       "    </tr>\n",
       "    <tr>\n",
       "      <th>3</th>\n",
       "      <td>https://img.mshanken.com/d/cao/ratings_extras/...</td>\n",
       "      <td>ASHTON CORONA</td>\n",
       "      <td>86</td>\n",
       "      <td>5 1/2\"</td>\n",
       "      <td>44.0</td>\n",
       "      <td>background:url('https://img.mshanken.com/d/cao...</td>\n",
       "      <td>This cigar is well-made and gives plenty of fl...</td>\n",
       "      <td>Corona</td>\n",
       "      <td>Dom. Rep.</td>\n",
       "      <td>Dom. Rep.</td>\n",
       "      <td>U.S.A./Conn. Shade</td>\n",
       "      <td>Dominican Republic</td>\n",
       "      <td>$6.25</td>\n",
       "      <td>\\nIssue:\\n                                    ...</td>\n",
       "      <td>[['90', ['Cigar Aficionado: ', '              ...</td>\n",
       "      <td>1002</td>\n",
       "      <td>NaN</td>\n",
       "      <td>Cigar Aficionado</td>\n",
       "      <td>– Mar 01, 1993</td>\n",
       "    </tr>\n",
       "    <tr>\n",
       "      <th>4</th>\n",
       "      <td>https://img.mshanken.com/d/cao/ratings_extras/...</td>\n",
       "      <td>ASHTON MAGNUM</td>\n",
       "      <td>82</td>\n",
       "      <td>5\"</td>\n",
       "      <td>50.0</td>\n",
       "      <td>background:url('https://img.mshanken.com/d/cao...</td>\n",
       "      <td>This is a clean, very mild well-made cigar, wi...</td>\n",
       "      <td>Robusto</td>\n",
       "      <td>Dom. Rep.</td>\n",
       "      <td>Dom. Rep.</td>\n",
       "      <td>U.S.A./Conn. Shade</td>\n",
       "      <td>Dominican Republic</td>\n",
       "      <td>$6.75</td>\n",
       "      <td>\\nIssue:\\n                                    ...</td>\n",
       "      <td>[['87', ['Cigar Aficionado: ', '              ...</td>\n",
       "      <td>1003</td>\n",
       "      <td>NaN</td>\n",
       "      <td>Cigar Aficionado</td>\n",
       "      <td>– Sep 01, 1992</td>\n",
       "    </tr>\n",
       "    <tr>\n",
       "      <th>5</th>\n",
       "      <td>https://img.mshanken.com/d/cao/ratings_extras/...</td>\n",
       "      <td>ARTURO FUENTE CHATEAU FUENTE SUN GROWN</td>\n",
       "      <td>86</td>\n",
       "      <td>4 1/2\"</td>\n",
       "      <td>50.0</td>\n",
       "      <td>background:url('https://img.mshanken.com/d/cao...</td>\n",
       "      <td>Finely constructed, A. Fuente's robusto has a ...</td>\n",
       "      <td>Robusto</td>\n",
       "      <td>Dom. Rep.</td>\n",
       "      <td>Dom. Rep.</td>\n",
       "      <td>Ecuador</td>\n",
       "      <td>Dominican Republic</td>\n",
       "      <td>NaN</td>\n",
       "      <td>\\nIssue:\\n                                    ...</td>\n",
       "      <td>[['89', ['Cigar Aficionado: ', '              ...</td>\n",
       "      <td>1004</td>\n",
       "      <td>NaN</td>\n",
       "      <td>Cigar Aficionado</td>\n",
       "      <td>– Sep 01, 1992</td>\n",
       "    </tr>\n",
       "    <tr>\n",
       "      <th>...</th>\n",
       "      <td>...</td>\n",
       "      <td>...</td>\n",
       "      <td>...</td>\n",
       "      <td>...</td>\n",
       "      <td>...</td>\n",
       "      <td>...</td>\n",
       "      <td>...</td>\n",
       "      <td>...</td>\n",
       "      <td>...</td>\n",
       "      <td>...</td>\n",
       "      <td>...</td>\n",
       "      <td>...</td>\n",
       "      <td>...</td>\n",
       "      <td>...</td>\n",
       "      <td>...</td>\n",
       "      <td>...</td>\n",
       "      <td>...</td>\n",
       "      <td>...</td>\n",
       "      <td>...</td>\n",
       "    </tr>\n",
       "    <tr>\n",
       "      <th>20769</th>\n",
       "      <td>https://img.mshanken.com/d/cao/ratings_extras/...</td>\n",
       "      <td>E.P. Carrillo Encore TAA 656</td>\n",
       "      <td>89</td>\n",
       "      <td>5\"</td>\n",
       "      <td>56.0</td>\n",
       "      <td>background:url('https://img.mshanken.com/d/cao...</td>\n",
       "      <td>Chocolate-brown with a multi-seamed cap, this ...</td>\n",
       "      <td>Toro</td>\n",
       "      <td>Nicaragua</td>\n",
       "      <td>Nicaragua</td>\n",
       "      <td>Nicaragua</td>\n",
       "      <td>Dominican Republic</td>\n",
       "      <td>$13.25</td>\n",
       "      <td>\\nIssue:\\n                                    ...</td>\n",
       "      <td>[['89', ['Cigar Insider: ', '                 ...</td>\n",
       "      <td>22539</td>\n",
       "      <td>5.0</td>\n",
       "      <td>Cigar Insider</td>\n",
       "      <td>– Dec 08, 2020</td>\n",
       "    </tr>\n",
       "    <tr>\n",
       "      <th>20770</th>\n",
       "      <td>https://img.mshanken.com/d/cao/ratings_extras/...</td>\n",
       "      <td>Romeo y Julieta Short Churchill (Tubo)</td>\n",
       "      <td>92</td>\n",
       "      <td>4 7/8\"</td>\n",
       "      <td>50.0</td>\n",
       "      <td>background:url('https://img.mshanken.com/d/cao...</td>\n",
       "      <td>The smoke from this oily robusto imparts a bol...</td>\n",
       "      <td>Robusto</td>\n",
       "      <td>Cuba</td>\n",
       "      <td>Cuba</td>\n",
       "      <td>Cuba</td>\n",
       "      <td>Cuba</td>\n",
       "      <td>£24.50</td>\n",
       "      <td>\\nIssue:\\n                                    ...</td>\n",
       "      <td>[['90', ['Cigar Aficionado: ', '              ...</td>\n",
       "      <td>22540</td>\n",
       "      <td>5.0</td>\n",
       "      <td>Cigar Insider</td>\n",
       "      <td>– Dec 08, 2020</td>\n",
       "    </tr>\n",
       "    <tr>\n",
       "      <th>20771</th>\n",
       "      <td>https://img.mshanken.com/d/cao/ratings_extras/...</td>\n",
       "      <td>Romeo y Julieta Wide Churchill (Tubo)</td>\n",
       "      <td>89</td>\n",
       "      <td>5 1/8\"</td>\n",
       "      <td>55.0</td>\n",
       "      <td>background:url('https://img.mshanken.com/d/cao...</td>\n",
       "      <td>Dark and well-made with a multi-seamed cap and...</td>\n",
       "      <td>Robusto</td>\n",
       "      <td>Cuba</td>\n",
       "      <td>Cuba</td>\n",
       "      <td>Cuba</td>\n",
       "      <td>Cuba</td>\n",
       "      <td>£31.70</td>\n",
       "      <td>\\nIssue:\\n                                    ...</td>\n",
       "      <td>[['89', ['Cigar Insider: ', '                 ...</td>\n",
       "      <td>22541</td>\n",
       "      <td>5.0</td>\n",
       "      <td>Cigar Insider</td>\n",
       "      <td>– Dec 08, 2020</td>\n",
       "    </tr>\n",
       "    <tr>\n",
       "      <th>20772</th>\n",
       "      <td>https://img.mshanken.com/d/cao/ratings_extras/...</td>\n",
       "      <td>Romeo y Julieta Petit Churchill (Tubo)</td>\n",
       "      <td>86</td>\n",
       "      <td>4\"</td>\n",
       "      <td>50.0</td>\n",
       "      <td>background:url('https://img.mshanken.com/d/cao...</td>\n",
       "      <td>The smoke of this dark, oily cigar is somewhat...</td>\n",
       "      <td>Odd</td>\n",
       "      <td>Cuba</td>\n",
       "      <td>Cuba</td>\n",
       "      <td>Cuba</td>\n",
       "      <td>Cuba</td>\n",
       "      <td>£22.10</td>\n",
       "      <td>\\nIssue:\\n                                    ...</td>\n",
       "      <td>[['90', ['Cigar Aficionado: ', '              ...</td>\n",
       "      <td>22542</td>\n",
       "      <td>5.0</td>\n",
       "      <td>Cigar Insider</td>\n",
       "      <td>– Dec 08, 2020</td>\n",
       "    </tr>\n",
       "    <tr>\n",
       "      <th>20773</th>\n",
       "      <td>https://img.mshanken.com/d/cao/ratings_extras/...</td>\n",
       "      <td>Romeo y Julieta Churchill (Tubo)</td>\n",
       "      <td>93</td>\n",
       "      <td>7\"</td>\n",
       "      <td>47.0</td>\n",
       "      <td>background:url('https://img.mshanken.com/d/cao...</td>\n",
       "      <td>Topped with a triple-seam cap, this Churchill ...</td>\n",
       "      <td>Churchill</td>\n",
       "      <td>Cuba</td>\n",
       "      <td>Cuba</td>\n",
       "      <td>Cuba</td>\n",
       "      <td>Cuba</td>\n",
       "      <td>£31.75</td>\n",
       "      <td>\\nIssue:\\n                                    ...</td>\n",
       "      <td>[['90', ['Cigar Aficionado: ', '              ...</td>\n",
       "      <td>22543</td>\n",
       "      <td>5.0</td>\n",
       "      <td>Cigar Insider</td>\n",
       "      <td>– Dec 08, 2020</td>\n",
       "    </tr>\n",
       "  </tbody>\n",
       "</table>\n",
       "<p>20769 rows × 19 columns</p>\n",
       "</div>"
      ],
      "text/plain": [
       "                                                   image  \\\n",
       "0      https://img.mshanken.com/d/cao/ratings_extras/...   \n",
       "2      https://img.mshanken.com/d/cao/ratings_extras/...   \n",
       "3      https://img.mshanken.com/d/cao/ratings_extras/...   \n",
       "4      https://img.mshanken.com/d/cao/ratings_extras/...   \n",
       "5      https://img.mshanken.com/d/cao/ratings_extras/...   \n",
       "...                                                  ...   \n",
       "20769  https://img.mshanken.com/d/cao/ratings_extras/...   \n",
       "20770  https://img.mshanken.com/d/cao/ratings_extras/...   \n",
       "20771  https://img.mshanken.com/d/cao/ratings_extras/...   \n",
       "20772  https://img.mshanken.com/d/cao/ratings_extras/...   \n",
       "20773  https://img.mshanken.com/d/cao/ratings_extras/...   \n",
       "\n",
       "                                          name  score  length  gauge  \\\n",
       "0                         BOLIVAR ROYAL CORONA     93  4 7/8\"   50.0   \n",
       "2                      DAVIDOFF GRAN CRU NO. 2     89  5 5/8\"   43.0   \n",
       "3                                ASHTON CORONA     86  5 1/2\"   44.0   \n",
       "4                                ASHTON MAGNUM     82      5\"   50.0   \n",
       "5      ARTURO FUENTE CHATEAU FUENTE SUN GROWN      86  4 1/2\"   50.0   \n",
       "...                                        ...    ...     ...    ...   \n",
       "20769             E.P. Carrillo Encore TAA 656     89      5\"   56.0   \n",
       "20770   Romeo y Julieta Short Churchill (Tubo)     92  4 7/8\"   50.0   \n",
       "20771    Romeo y Julieta Wide Churchill (Tubo)     89  5 1/8\"   55.0   \n",
       "20772   Romeo y Julieta Petit Churchill (Tubo)     86      4\"   50.0   \n",
       "20773         Romeo y Julieta Churchill (Tubo)     93      7\"   47.0   \n",
       "\n",
       "                                          strenth_string  \\\n",
       "0      background:url('https://img.mshanken.com/d/cao...   \n",
       "2      background:url('https://img.mshanken.com/d/cao...   \n",
       "3      background:url('https://img.mshanken.com/d/cao...   \n",
       "4      background:url('https://img.mshanken.com/d/cao...   \n",
       "5      background:url('https://img.mshanken.com/d/cao...   \n",
       "...                                                  ...   \n",
       "20769  background:url('https://img.mshanken.com/d/cao...   \n",
       "20770  background:url('https://img.mshanken.com/d/cao...   \n",
       "20771  background:url('https://img.mshanken.com/d/cao...   \n",
       "20772  background:url('https://img.mshanken.com/d/cao...   \n",
       "20773  background:url('https://img.mshanken.com/d/cao...   \n",
       "\n",
       "                                           tasting_notes       size  \\\n",
       "0      This is an earthy, rich cigar with a lovely br...    Robusto   \n",
       "2      An enticing cigar that keeps you coming back f...     Corona   \n",
       "3      This cigar is well-made and gives plenty of fl...     Corona   \n",
       "4      This is a clean, very mild well-made cigar, wi...    Robusto   \n",
       "5      Finely constructed, A. Fuente's robusto has a ...    Robusto   \n",
       "...                                                  ...        ...   \n",
       "20769  Chocolate-brown with a multi-seamed cap, this ...       Toro   \n",
       "20770  The smoke from this oily robusto imparts a bol...    Robusto   \n",
       "20771  Dark and well-made with a multi-seamed cap and...    Robusto   \n",
       "20772  The smoke of this dark, oily cigar is somewhat...        Odd   \n",
       "20773  Topped with a triple-seam cap, this Churchill ...  Churchill   \n",
       "\n",
       "          filler     binder             wrapper             country   price  \\\n",
       "0           Cuba       Cuba                Cuba                Cuba  £10.00   \n",
       "2      Dom. Rep.  Dom. Rep.  U.S.A./Conn. Shade  Dominican Republic     NaN   \n",
       "3      Dom. Rep.  Dom. Rep.  U.S.A./Conn. Shade  Dominican Republic   $6.25   \n",
       "4      Dom. Rep.  Dom. Rep.  U.S.A./Conn. Shade  Dominican Republic   $6.75   \n",
       "5      Dom. Rep.  Dom. Rep.             Ecuador  Dominican Republic     NaN   \n",
       "...          ...        ...                 ...                 ...     ...   \n",
       "20769  Nicaragua  Nicaragua           Nicaragua  Dominican Republic  $13.25   \n",
       "20770       Cuba       Cuba                Cuba                Cuba  £24.50   \n",
       "20771       Cuba       Cuba                Cuba                Cuba  £31.70   \n",
       "20772       Cuba       Cuba                Cuba                Cuba  £22.10   \n",
       "20773       Cuba       Cuba                Cuba                Cuba  £31.75   \n",
       "\n",
       "                                                   issue  \\\n",
       "0      \\nIssue:\\n                                    ...   \n",
       "2      \\nIssue:\\n                                    ...   \n",
       "3      \\nIssue:\\n                                    ...   \n",
       "4      \\nIssue:\\n                                    ...   \n",
       "5      \\nIssue:\\n                                    ...   \n",
       "...                                                  ...   \n",
       "20769  \\nIssue:\\n                                    ...   \n",
       "20770  \\nIssue:\\n                                    ...   \n",
       "20771  \\nIssue:\\n                                    ...   \n",
       "20772  \\nIssue:\\n                                    ...   \n",
       "20773  \\nIssue:\\n                                    ...   \n",
       "\n",
       "                                            more_reviews   href  strength  \\\n",
       "0      [['89', ['Cigar Aficionado: ', '              ...   href       NaN   \n",
       "2      [['86', ['Cigar Aficionado: ', '              ...   1001       NaN   \n",
       "3      [['90', ['Cigar Aficionado: ', '              ...   1002       NaN   \n",
       "4      [['87', ['Cigar Aficionado: ', '              ...   1003       NaN   \n",
       "5      [['89', ['Cigar Aficionado: ', '              ...   1004       NaN   \n",
       "...                                                  ...    ...       ...   \n",
       "20769  [['89', ['Cigar Insider: ', '                 ...  22539       5.0   \n",
       "20770  [['90', ['Cigar Aficionado: ', '              ...  22540       5.0   \n",
       "20771  [['89', ['Cigar Insider: ', '                 ...  22541       5.0   \n",
       "20772  [['90', ['Cigar Aficionado: ', '              ...  22542       5.0   \n",
       "20773  [['90', ['Cigar Aficionado: ', '              ...  22543       5.0   \n",
       "\n",
       "               og_issue   og_issue_date  \n",
       "0      Cigar Aficionado  – Sep 01, 1992  \n",
       "2      Cigar Aficionado  – Mar 01, 1993  \n",
       "3      Cigar Aficionado  – Mar 01, 1993  \n",
       "4      Cigar Aficionado  – Sep 01, 1992  \n",
       "5      Cigar Aficionado  – Sep 01, 1992  \n",
       "...                 ...             ...  \n",
       "20769     Cigar Insider  – Dec 08, 2020  \n",
       "20770     Cigar Insider  – Dec 08, 2020  \n",
       "20771     Cigar Insider  – Dec 08, 2020  \n",
       "20772     Cigar Insider  – Dec 08, 2020  \n",
       "20773     Cigar Insider  – Dec 08, 2020  \n",
       "\n",
       "[20769 rows x 19 columns]"
      ]
     },
     "execution_count": 66,
     "metadata": {},
     "output_type": "execute_result"
    }
   ],
   "source": [
    "df"
   ]
  },
  {
   "cell_type": "markdown",
   "metadata": {},
   "source": [
    "# EDA redux"
   ]
  },
  {
   "cell_type": "code",
   "execution_count": 68,
   "metadata": {},
   "outputs": [
    {
     "data": {
      "text/plain": [
       "Index(['image', 'name', 'score', 'length', 'gauge', 'strenth_string',\n",
       "       'tasting_notes', 'size', 'filler', 'binder', 'wrapper', 'country',\n",
       "       'price', 'issue', 'more_reviews', 'href', 'strength', 'og_issue',\n",
       "       'og_issue_date'],\n",
       "      dtype='object')"
      ]
     },
     "execution_count": 68,
     "metadata": {},
     "output_type": "execute_result"
    }
   ],
   "source": [
    "df.columns"
   ]
  },
  {
   "cell_type": "code",
   "execution_count": 70,
   "metadata": {},
   "outputs": [
    {
     "data": {
      "text/plain": [
       "array(['Cuba', 'Dominican Republic', 'Nicaragua', 'Honduras', 'Jamaica',\n",
       "       'Mexico', 'U.S.A', 'Philippines', 'Canary Islands', 'Brazil',\n",
       "       'Costa Rica', 'Indonesia', 'Bahamas', 'Panama', nan, 'El Salvador',\n",
       "       'Colombia'], dtype=object)"
      ]
     },
     "execution_count": 70,
     "metadata": {},
     "output_type": "execute_result"
    }
   ],
   "source": [
    "df['country'].unique()"
   ]
  },
  {
   "cell_type": "code",
   "execution_count": 73,
   "metadata": {},
   "outputs": [
    {
     "data": {
      "text/plain": [
       "<Axes: xlabel='country'>"
      ]
     },
     "execution_count": 73,
     "metadata": {},
     "output_type": "execute_result"
    },
    {
     "data": {
      "image/png": "[encoded data removed]",
      "text/plain": [
       "<Figure size 640x480 with 1 Axes>"
      ]
     },
     "metadata": {},
     "output_type": "display_data"
    }
   ],
   "source": [
    "df.groupby('country')['score'].mean().plot(kind='bar')"
   ]
  },
  {
   "cell_type": "code",
   "execution_count": 81,
   "metadata": {},
   "outputs": [
    {
     "data": {
      "text/plain": [
       "array(['Robusto', 'Corona', 'Double Corona', 'Lonsdale', '\"A\"',\n",
       "       'Churchill', 'Toro', 'Figurado', 'Panetela', 'Petit Corona',\n",
       "       'Maduro', 'Corona Gorda', 'Odd', 'Vintage', nan, 'Patit Corona',\n",
       "       'robusto', 'FIgurado', 'Petite Corona', 'Panetlea', 'Churcill',\n",
       "       'Grande', 'Torpedo', 'Miscellaneous', 'Figruado', 'Misc.'],\n",
       "      dtype=object)"
      ]
     },
     "execution_count": 81,
     "metadata": {},
     "output_type": "execute_result"
    }
   ],
   "source": [
    "df['size'].unique()"
   ]
  },
  {
   "cell_type": "code",
   "execution_count": 77,
   "metadata": {},
   "outputs": [
    {
     "data": {
      "text/plain": [
       "<Axes: xlabel='size'>"
      ]
     },
     "execution_count": 77,
     "metadata": {},
     "output_type": "execute_result"
    },
    {
     "data": {
      "image/png": "[encoded data removed]",
      "text/plain": [
       "<Figure size 640x480 with 1 Axes>"
      ]
     },
     "metadata": {},
     "output_type": "display_data"
    }
   ],
   "source": [
    "df.groupby('size')['score'].mean().plot(kind='bar')"
   ]
  },
  {
   "cell_type": "code",
   "execution_count": 78,
   "metadata": {},
   "outputs": [
    {
     "data": {
      "text/plain": [
       "<Axes: xlabel='country'>"
      ]
     },
     "execution_count": 78,
     "metadata": {},
     "output_type": "execute_result"
    },
    {
     "data": {
      "image/png": "[encoded data removed]",
      "text/plain": [
       "<Figure size 640x480 with 1 Axes>"
      ]
     },
     "metadata": {},
     "output_type": "display_data"
    }
   ],
   "source": [
    "df.groupby('country')['score'].mean().plot(kind='bar')"
   ]
  },
  {
   "cell_type": "code",
   "execution_count": null,
   "metadata": {},
   "outputs": [],
   "source": []
  }
 ],
 "metadata": {
  "kernelspec": {
   "display_name": "Python 3 (ipykernel)",
   "language": "python",
   "name": "python3"
  },
  "language_info": {
   "codemirror_mode": {
    "name": "ipython",
    "version": 3
   },
   "file_extension": ".py",
   "mimetype": "text/x-python",
   "name": "python",
   "nbconvert_exporter": "python",
   "pygments_lexer": "ipython3",
   "version": "3.12.6"
  }
 },
 "nbformat": 4,
 "nbformat_minor": 4
}
