{
 "cells": [
  {
   "cell_type": "code",
   "execution_count": 1,
   "id": "guided-sleeping",
   "metadata": {},
   "outputs": [],
   "source": [
    "import pandas as pd\n",
    "import numpy as np"
   ]
  },
  {
   "cell_type": "code",
   "execution_count": 2,
   "id": "variable-render",
   "metadata": {},
   "outputs": [],
   "source": [
    "import string"
   ]
  },
  {
   "cell_type": "code",
   "execution_count": 3,
   "id": "guilty-demographic",
   "metadata": {},
   "outputs": [],
   "source": [
    "from datetime import datetime"
   ]
  },
  {
   "cell_type": "code",
   "execution_count": 4,
   "id": "yellow-color",
   "metadata": {},
   "outputs": [],
   "source": [
    "import matplotlib.pyplot as plt"
   ]
  },
  {
   "cell_type": "code",
   "execution_count": 5,
   "id": "roman-observation",
   "metadata": {},
   "outputs": [],
   "source": [
    "from sklearn.feature_extraction.text import CountVectorizer, TfidfVectorizer\n",
    "from sklearn.model_selection import train_test_split\n",
    "from sklearn.metrics import confusion_matrix, ConfusionMatrixDisplay\n",
    "from sklearn.naive_bayes import MultinomialNB\n",
    "from sklearn.ensemble import RandomForestClassifier\n",
    "from sklearn.inspection import permutation_importance"
   ]
  },
  {
   "cell_type": "code",
   "execution_count": 6,
   "id": "corrected-panel",
   "metadata": {},
   "outputs": [
    {
     "name": "stderr",
     "output_type": "stream",
     "text": [
      "[nltk_data] Downloading package punkt to /Users/djbetts/nltk_data...\n",
      "[nltk_data]   Package punkt is already up-to-date!\n",
      "[nltk_data] Downloading package punkt_tab to\n",
      "[nltk_data]     /Users/djbetts/nltk_data...\n",
      "[nltk_data]   Package punkt_tab is already up-to-date!\n"
     ]
    },
    {
     "data": {
      "text/plain": [
       "True"
      ]
     },
     "execution_count": 6,
     "metadata": {},
     "output_type": "execute_result"
    }
   ],
   "source": [
    "import nltk\n",
    "nltk.download('punkt')\n",
    "nltk.download('punkt_tab')"
   ]
  },
  {
   "cell_type": "code",
   "execution_count": 7,
   "id": "stunning-conservation",
   "metadata": {},
   "outputs": [],
   "source": [
    "from nltk.stem.snowball import SnowballStemmer\n",
    "from nltk.stem.wordnet import WordNetLemmatizer\n",
    "from nltk.tokenize import word_tokenize\n",
    "from nltk.corpus import stopwords"
   ]
  },
  {
   "cell_type": "code",
   "execution_count": 8,
   "id": "marked-advocacy",
   "metadata": {},
   "outputs": [],
   "source": [
    "from sklearn.cluster import KMeans\n",
    "from sklearn.metrics import silhouette_score"
   ]
  },
  {
   "cell_type": "code",
   "execution_count": 9,
   "id": "a7cf0b06",
   "metadata": {},
   "outputs": [
    {
     "data": {
      "text/plain": [
       "'/Users/djbetts/Documents/data_science/projects/top-25-cigars'"
      ]
     },
     "execution_count": 9,
     "metadata": {},
     "output_type": "execute_result"
    }
   ],
   "source": [
    "%pwd"
   ]
  },
  {
   "cell_type": "code",
   "execution_count": 10,
   "id": "ordinary-solid",
   "metadata": {},
   "outputs": [],
   "source": [
    "data = pd.read_csv('/Users/djbetts/Documents/data_science/projects/top-25-cigars/data/cigar_aficionado.csv', usecols=['name','tasting_notes','score'])"
   ]
  },
  {
   "cell_type": "code",
   "execution_count": 11,
   "id": "647d6c3f-a146-4f42-878f-6659b63fda7d",
   "metadata": {},
   "outputs": [],
   "source": [
    " # "
   ]
  },
  {
   "cell_type": "code",
   "execution_count": 12,
   "id": "cathedral-cleanup",
   "metadata": {},
   "outputs": [],
   "source": [
    "df = data.copy()"
   ]
  },
  {
   "cell_type": "code",
   "execution_count": 13,
   "id": "altered-client",
   "metadata": {},
   "outputs": [
    {
     "data": {
      "text/plain": [
       "Index(['name', 'score', 'tasting_notes'], dtype='object')"
      ]
     },
     "execution_count": 13,
     "metadata": {},
     "output_type": "execute_result"
    }
   ],
   "source": [
    "df.columns"
   ]
  },
  {
   "cell_type": "code",
   "execution_count": 14,
   "id": "legislative-softball",
   "metadata": {},
   "outputs": [
    {
     "data": {
      "text/plain": [
       "(20769, 3)"
      ]
     },
     "execution_count": 14,
     "metadata": {},
     "output_type": "execute_result"
    }
   ],
   "source": [
    "df.shape"
   ]
  },
  {
   "cell_type": "code",
   "execution_count": 15,
   "id": "controlled-official",
   "metadata": {},
   "outputs": [],
   "source": [
    "df.dropna(axis=0, inplace=True)"
   ]
  },
  {
   "cell_type": "code",
   "execution_count": 16,
   "id": "extensive-legislation",
   "metadata": {},
   "outputs": [
    {
     "data": {
      "text/html": [
       "<div>\n",
       "<style scoped>\n",
       "    .dataframe tbody tr th:only-of-type {\n",
       "        vertical-align: middle;\n",
       "    }\n",
       "\n",
       "    .dataframe tbody tr th {\n",
       "        vertical-align: top;\n",
       "    }\n",
       "\n",
       "    .dataframe thead th {\n",
       "        text-align: right;\n",
       "    }\n",
       "</style>\n",
       "<table border=\"1\" class=\"dataframe\">\n",
       "  <thead>\n",
       "    <tr style=\"text-align: right;\">\n",
       "      <th></th>\n",
       "      <th>name</th>\n",
       "      <th>score</th>\n",
       "      <th>tasting_notes</th>\n",
       "    </tr>\n",
       "  </thead>\n",
       "  <tbody>\n",
       "    <tr>\n",
       "      <th>0</th>\n",
       "      <td>BOLIVAR ROYAL CORONA</td>\n",
       "      <td>93</td>\n",
       "      <td>This is an earthy, rich cigar with a lovely br...</td>\n",
       "    </tr>\n",
       "    <tr>\n",
       "      <th>1</th>\n",
       "      <td>DAVIDOFF GRAN CRU NO. 2</td>\n",
       "      <td>89</td>\n",
       "      <td>An enticing cigar that keeps you coming back f...</td>\n",
       "    </tr>\n",
       "    <tr>\n",
       "      <th>2</th>\n",
       "      <td>ASHTON CORONA</td>\n",
       "      <td>86</td>\n",
       "      <td>This cigar is well-made and gives plenty of fl...</td>\n",
       "    </tr>\n",
       "    <tr>\n",
       "      <th>3</th>\n",
       "      <td>ASHTON MAGNUM</td>\n",
       "      <td>82</td>\n",
       "      <td>This is a clean, very mild well-made cigar, wi...</td>\n",
       "    </tr>\n",
       "    <tr>\n",
       "      <th>4</th>\n",
       "      <td>ARTURO FUENTE CHATEAU FUENTE SUN GROWN</td>\n",
       "      <td>86</td>\n",
       "      <td>Finely constructed, A. Fuente's robusto has a ...</td>\n",
       "    </tr>\n",
       "  </tbody>\n",
       "</table>\n",
       "</div>"
      ],
      "text/plain": [
       "                                      name  score  \\\n",
       "0                     BOLIVAR ROYAL CORONA     93   \n",
       "1                  DAVIDOFF GRAN CRU NO. 2     89   \n",
       "2                            ASHTON CORONA     86   \n",
       "3                            ASHTON MAGNUM     82   \n",
       "4  ARTURO FUENTE CHATEAU FUENTE SUN GROWN      86   \n",
       "\n",
       "                                       tasting_notes  \n",
       "0  This is an earthy, rich cigar with a lovely br...  \n",
       "1  An enticing cigar that keeps you coming back f...  \n",
       "2  This cigar is well-made and gives plenty of fl...  \n",
       "3  This is a clean, very mild well-made cigar, wi...  \n",
       "4  Finely constructed, A. Fuente's robusto has a ...  "
      ]
     },
     "execution_count": 16,
     "metadata": {},
     "output_type": "execute_result"
    }
   ],
   "source": [
    "df.head()"
   ]
  },
  {
   "cell_type": "code",
   "execution_count": 17,
   "id": "1f085218",
   "metadata": {},
   "outputs": [
    {
     "data": {
      "text/plain": [
       "0        This is an earthy, rich cigar with a lovely br...\n",
       "1        An enticing cigar that keeps you coming back f...\n",
       "2        This cigar is well-made and gives plenty of fl...\n",
       "3        This is a clean, very mild well-made cigar, wi...\n",
       "4        Finely constructed, A. Fuente's robusto has a ...\n",
       "                               ...                        \n",
       "20764    Chocolate-brown with a multi-seamed cap, this ...\n",
       "20765    The smoke from this oily robusto imparts a bol...\n",
       "20766    Dark and well-made with a multi-seamed cap and...\n",
       "20767    The smoke of this dark, oily cigar is somewhat...\n",
       "20768    Topped with a triple-seam cap, this Churchill ...\n",
       "Name: tasting_notes, Length: 20722, dtype: object"
      ]
     },
     "execution_count": 17,
     "metadata": {},
     "output_type": "execute_result"
    }
   ],
   "source": [
    "df['tasting_notes']"
   ]
  },
  {
   "cell_type": "code",
   "execution_count": 18,
   "id": "comic-clearing",
   "metadata": {},
   "outputs": [],
   "source": [
    "X = df.tasting_notes\n",
    "corpus = list(X)"
   ]
  },
  {
   "cell_type": "code",
   "execution_count": 19,
   "id": "killing-scheduling",
   "metadata": {},
   "outputs": [
    {
     "data": {
      "text/plain": [
       "'This is an earthy, rich cigar with a lovely brown wrapper and dense spicy aromas. The flavors are mellow with a clean finish. '"
      ]
     },
     "execution_count": 19,
     "metadata": {},
     "output_type": "execute_result"
    }
   ],
   "source": [
    "corpus[0]"
   ]
  },
  {
   "cell_type": "code",
   "execution_count": 20,
   "id": "suspended-lancaster",
   "metadata": {},
   "outputs": [],
   "source": [
    "y = df.score"
   ]
  },
  {
   "cell_type": "code",
   "execution_count": 21,
   "id": "unlimited-optimization",
   "metadata": {},
   "outputs": [],
   "source": [
    "from nltk.corpus import stopwords"
   ]
  },
  {
   "cell_type": "code",
   "execution_count": 22,
   "id": "original-empty",
   "metadata": {},
   "outputs": [],
   "source": [
    "import nltk\n",
    "from nltk.corpus import stopwords\n",
    "stopwords = stopwords.words('english')"
   ]
  },
  {
   "cell_type": "code",
   "execution_count": 23,
   "id": "addressed-closer",
   "metadata": {},
   "outputs": [],
   "source": [
    "#wordnet lemmatizer and lowercase words.\n",
    "def wordnet_tokenize(doc):\n",
    "    wordnet = WordNetLemmatizer()\n",
    "    return  [wordnet.lemmatize(word) for word in word_tokenize(doc.lower())]\n",
    "#split article and return quote"
   ]
  },
  {
   "cell_type": "code",
   "execution_count": 24,
   "id": "piano-bosnia",
   "metadata": {},
   "outputs": [],
   "source": [
    "# for i, txt in enumerate(test):\n",
    "#     print(f'{i}: {punc_strip(txt)}')"
   ]
  },
  {
   "cell_type": "code",
   "execution_count": 25,
   "id": "christian-cleaning",
   "metadata": {},
   "outputs": [],
   "source": [
    "#removed '-' for strings like 'well-made' or 'full-bodied'\n",
    "def punc_strip(doc):\n",
    "    for char in word_tokenize(doc):\n",
    "        if char in '!\"#$%&\\'()*+,./:;<=>?@[\\\\]^_`{|}~—':\n",
    "            doc = doc.replace(char, \" \")\n",
    "        if char == \"’\":\n",
    "            doc = doc.replace(char, \"\")\n",
    "    return doc"
   ]
  },
  {
   "cell_type": "code",
   "execution_count": 26,
   "id": "simplified-smart",
   "metadata": {},
   "outputs": [
    {
     "name": "stdout",
     "output_type": "stream",
     "text": [
      "CPU times: user 9 μs, sys: 0 ns, total: 9 μs\n",
      "Wall time: 10 μs\n"
     ]
    }
   ],
   "source": [
    "%%time\n",
    "#create vectorizer\n",
    "\n",
    "vectorizer = CountVectorizer(#input='content', \n",
    "    token_pattern=None,\n",
    "#                 encoding='utf-8', \n",
    "#                 decode_error='strict', \n",
    "#                 strip_accents='ascii', \n",
    "#                 lowercase=True, \n",
    "                 preprocessor=punc_strip, \n",
    "                tokenizer=wordnet_tokenize, \n",
    "#                 analyzer='word', \n",
    "                stop_words='english',\n",
    "#                 token_pattern='(?u)\\b\\w\\w+\\b', \n",
    "                 ngram_range=(1, 2), \n",
    "#                  max_df=0.9, \n",
    "                min_df=0.01, \n",
    "                 max_features=None, \n",
    "#                 vocabulary=None, \n",
    "#                 binary=False, \n",
    "#                 dtype=<class 'numpy.float64'>, \n",
    "#                 norm='l2', \n",
    "#                 use_idf=True, \n",
    "#                 smooth_idf=True, \n",
    "#                 sublinear_tf=False\n",
    ")"
   ]
  },
  {
   "cell_type": "code",
   "execution_count": 27,
   "id": "advised-network",
   "metadata": {},
   "outputs": [
    {
     "name": "stderr",
     "output_type": "stream",
     "text": [
      "/Users/djbetts/miniforge3/lib/python3.12/site-packages/sklearn/feature_extraction/text.py:406: UserWarning: Your stop_words may be inconsistent with your preprocessing. Tokenizing the stop words generated tokens ['ha', 'u', 'wa'] not in stop_words.\n",
      "  warnings.warn(\n"
     ]
    }
   ],
   "source": [
    "X = vectorizer.fit_transform(corpus)"
   ]
  },
  {
   "cell_type": "code",
   "execution_count": 38,
   "id": "recent-volleyball",
   "metadata": {},
   "outputs": [
    {
     "name": "stdout",
     "output_type": "stream",
     "text": [
      "344\n"
     ]
    }
   ],
   "source": [
    "print(len(vectorizer.get_feature_names_out()))"
   ]
  },
  {
   "cell_type": "code",
   "execution_count": 39,
   "id": "likely-coral",
   "metadata": {},
   "outputs": [],
   "source": [
    "from scipy.spatial import distance"
   ]
  },
  {
   "cell_type": "code",
   "execution_count": 40,
   "id": "accepted-ensemble",
   "metadata": {},
   "outputs": [],
   "source": [
    "a = X[0].toarray()"
   ]
  },
  {
   "cell_type": "code",
   "execution_count": 41,
   "id": "medium-ordinance",
   "metadata": {},
   "outputs": [],
   "source": [
    "b = X[100].toarray()"
   ]
  },
  {
   "cell_type": "code",
   "execution_count": null,
   "id": "2137d9f9-a21c-489b-af24-3b952575d024",
   "metadata": {},
   "outputs": [],
   "source": [
    "print(a.shape, b.shape)"
   ]
  },
  {
   "cell_type": "code",
   "execution_count": 49,
   "id": "ultimate-penny",
   "metadata": {},
   "outputs": [
    {
     "data": {
      "text/plain": [
       "np.float64(0.8327515979985818)"
      ]
     },
     "execution_count": 49,
     "metadata": {},
     "output_type": "execute_result"
    }
   ],
   "source": [
    "distance.cosine(a, b)"
   ]
  },
  {
   "cell_type": "code",
   "execution_count": 50,
   "id": "7e8e846d-12ce-42a5-bccd-c73dec32de34",
   "metadata": {},
   "outputs": [],
   "source": [
    "a = a.flatten()\n",
    "b = b.flatten()"
   ]
  },
  {
   "cell_type": "code",
   "execution_count": 51,
   "id": "integral-establishment",
   "metadata": {},
   "outputs": [
    {
     "name": "stdout",
     "output_type": "stream",
     "text": [
      "1.0\n",
      "1.0\n",
      "0.29289321881345254\n"
     ]
    }
   ],
   "source": [
    "print(distance.cosine([1, 0, 0], [0, 1, 0]))\n",
    "\n",
    "print(distance.cosine([100, 0, 0], [0, 1, 0]))\n",
    "\n",
    "print(distance.cosine([1, 1, 0], [0, 1, 0]))"
   ]
  },
  {
   "cell_type": "markdown",
   "id": "graphic-density",
   "metadata": {},
   "source": [
    "# min_df_plot"
   ]
  },
  {
   "cell_type": "code",
   "execution_count": 53,
   "id": "promotional-defense",
   "metadata": {},
   "outputs": [
    {
     "name": "stdout",
     "output_type": "stream",
     "text": [
      "CPU times: user 4.29 s, sys: 63.7 ms, total: 4.36 s\n",
      "Wall time: 4.41 s\n"
     ]
    }
   ],
   "source": [
    "%%time\n",
    "num_feat_min = []\n",
    "\n",
    "min_df = np.linspace(0,0.01,15)\n",
    "\n",
    "for val in min_df:\n",
    "    vectorizer_plot = CountVectorizer(#preprocessor=punc_strip,\n",
    "#                 tokenizer=wordnet_tokenize,\n",
    "                stop_words='english',\n",
    "            ngram_range=(1,2),\n",
    "#                 max_df=0.95,\n",
    "                 min_df=val,\n",
    "                 max_features=None)\n",
    "    \n",
    "    vectorizer_plot.fit(corpus)\n",
    "    \n",
    "    features = vectorizer_plot.get_feature_names_out()\n",
    "    stop_word = vectorizer_plot.get_stop_words()\n",
    "\n",
    "    num_feat_min.append(len(features))"
   ]
  },
  {
   "cell_type": "code",
   "execution_count": 54,
   "id": "charming-mayor",
   "metadata": {},
   "outputs": [
    {
     "name": "stdout",
     "output_type": "stream",
     "text": [
      "CPU times: user 3.46 ms, sys: 40 μs, total: 3.5 ms\n",
      "Wall time: 3.59 ms\n"
     ]
    },
    {
     "data": {
      "image/png": "[encoded data removed]",
      "text/plain": [
       "<Figure size 640x480 with 1 Axes>"
      ]
     },
     "metadata": {},
     "output_type": "display_data"
    }
   ],
   "source": [
    "%%time\n",
    "fig, ax = plt.subplots()\n",
    "ax.plot(min_df, num_feat_min);"
   ]
  },
  {
   "cell_type": "code",
   "execution_count": 55,
   "id": "fresh-place",
   "metadata": {},
   "outputs": [
    {
     "name": "stdout",
     "output_type": "stream",
     "text": [
      "2024-10-11 00:32:27.286001\n",
      "CPU times: user 11.5 s, sys: 3.54 s, total: 15 s\n",
      "Wall time: 2.06 s\n"
     ]
    }
   ],
   "source": [
    "%%time\n",
    "print(datetime.now())\n",
    "distortions = []\n",
    "K = range(1,30)\n",
    "for k in K:\n",
    "    kmeansModel = KMeans(n_clusters=k)\n",
    "    kmeansModel = kmeansModel.fit(X)\n",
    "    distortions.append(kmeansModel.inertia_)"
   ]
  },
  {
   "cell_type": "code",
   "execution_count": 56,
   "id": "behavioral-integration",
   "metadata": {},
   "outputs": [
    {
     "data": {
      "image/png": "[encoded data removed]",
      "text/plain": [
       "<Figure size 1200x800 with 1 Axes>"
      ]
     },
     "metadata": {},
     "output_type": "display_data"
    },
    {
     "name": "stdout",
     "output_type": "stream",
     "text": [
      "CPU times: user 352 ms, sys: 130 ms, total: 482 ms\n",
      "Wall time: 64.4 ms\n"
     ]
    }
   ],
   "source": [
    "%%time\n",
    "fig, ax = plt.subplots(figsize=(12,8))\n",
    "plt.plot(K, distortions, marker='o')\n",
    "plt.xlabel('k')\n",
    "plt.ylabel('Distortions')\n",
    "plt.title(\"Elbow Method For Optimal k\")\n",
    "plt.show()"
   ]
  },
  {
   "cell_type": "markdown",
   "id": "chubby-celtic",
   "metadata": {},
   "source": [
    "# linear regression"
   ]
  },
  {
   "cell_type": "code",
   "execution_count": 57,
   "id": "executive-associate",
   "metadata": {},
   "outputs": [],
   "source": [
    "# from sklearn.pipeline import Pipeline, FeatureUnion\n",
    "# from sklearn.model_selection import GridSearchCV\n",
    "# from sklearn.svm import SVC\n",
    "# from sklearn.datasets import load_iris\n",
    "# from sklearn.decomposition import PCA, TruncatedSVD\n",
    "# from sklearn.feature_selection import SelectKBest\n",
    "\n",
    "# X, y = X, y\n",
    "\n",
    "# # This dataset is way too high-dimensional. Better do PCA:\n",
    "# pca = TruncatedSVD(n_components=2)\n",
    "\n",
    "# # Maybe some original features where good, too?\n",
    "# selection = SelectKBest(k=1)\n",
    "\n",
    "# # Build estimator from PCA and Univariate selection:\n",
    "\n",
    "# combined_features = FeatureUnion([(\"pca\", pca), (\"univ_select\", selection)])\n",
    "\n",
    "# # Use combined features to transform dataset:\n",
    "# X_features = combined_features.fit(X, y).transform(X)\n",
    "# print(\"Combined space has\", X_features.shape[1], \"features\")\n",
    "\n",
    "# svm = SVC(kernel=\"linear\")\n",
    "\n",
    "# # Do grid search over k, n_components and C:\n",
    "\n",
    "# pipeline = Pipeline([(\"features\", combined_features), (\"svm\", svm)])\n",
    "\n",
    "# param_grid = dict(features__pca__n_components=[1, 2, 3],\n",
    "#                   features__univ_select__k=[1, 2],\n",
    "#                   svm__C=[0.1, 1, 10])\n",
    "\n",
    "# grid_search = GridSearchCV(pipeline, param_grid=param_grid, cv=5, verbose=10)\n",
    "# grid_search.fit(X, y)\n",
    "# print(grid_search.best_estimator_)\n"
   ]
  },
  {
   "cell_type": "code",
   "execution_count": 58,
   "id": "through-overall",
   "metadata": {},
   "outputs": [],
   "source": [
    "import numpy as np\n",
    "from sklearn.model_selection import train_test_split\n",
    "from sklearn.linear_model import LinearRegression"
   ]
  },
  {
   "cell_type": "code",
   "execution_count": 59,
   "id": "tribal-celebration",
   "metadata": {},
   "outputs": [],
   "source": [
    "X_train, X_test, y_train, y_test = train_test_split(X, y,test_size=0.2)"
   ]
  },
  {
   "cell_type": "code",
   "execution_count": 60,
   "id": "loaded-manchester",
   "metadata": {},
   "outputs": [
    {
     "data": {
      "text/plain": [
       "0.6447853546105893"
      ]
     },
     "execution_count": 60,
     "metadata": {},
     "output_type": "execute_result"
    }
   ],
   "source": [
    "reg = LinearRegression().fit(X_train, y_train)\n",
    "reg.score(X_test, y_test)"
   ]
  },
  {
   "cell_type": "code",
   "execution_count": 61,
   "id": "champion-million",
   "metadata": {},
   "outputs": [],
   "source": [
    "import matplotlib.pyplot as plt\n",
    "import numpy as np\n",
    "from sklearn import datasets, linear_model\n",
    "from sklearn.metrics import mean_squared_error, r2_score"
   ]
  },
  {
   "cell_type": "code",
   "execution_count": 62,
   "id": "binding-bunny",
   "metadata": {},
   "outputs": [
    {
     "data": {
      "text/html": [
       "<style>#sk-container-id-1 {\n",
       "  /* Definition of color scheme common for light and dark mode */\n",
       "  --sklearn-color-text: black;\n",
       "  --sklearn-color-line: gray;\n",
       "  /* Definition of color scheme for unfitted estimators */\n",
       "  --sklearn-color-unfitted-level-0: #fff5e6;\n",
       "  --sklearn-color-unfitted-level-1: #f6e4d2;\n",
       "  --sklearn-color-unfitted-level-2: #ffe0b3;\n",
       "  --sklearn-color-unfitted-level-3: chocolate;\n",
       "  /* Definition of color scheme for fitted estimators */\n",
       "  --sklearn-color-fitted-level-0: #f0f8ff;\n",
       "  --sklearn-color-fitted-level-1: #d4ebff;\n",
       "  --sklearn-color-fitted-level-2: #b3dbfd;\n",
       "  --sklearn-color-fitted-level-3: cornflowerblue;\n",
       "\n",
       "  /* Specific color for light theme */\n",
       "  --sklearn-color-text-on-default-background: var(--sg-text-color, var(--theme-code-foreground, var(--jp-content-font-color1, black)));\n",
       "  --sklearn-color-background: var(--sg-background-color, var(--theme-background, var(--jp-layout-color0, white)));\n",
       "  --sklearn-color-border-box: var(--sg-text-color, var(--theme-code-foreground, var(--jp-content-font-color1, black)));\n",
       "  --sklearn-color-icon: #696969;\n",
       "\n",
       "  @media (prefers-color-scheme: dark) {\n",
       "    /* Redefinition of color scheme for dark theme */\n",
       "    --sklearn-color-text-on-default-background: var(--sg-text-color, var(--theme-code-foreground, var(--jp-content-font-color1, white)));\n",
       "    --sklearn-color-background: var(--sg-background-color, var(--theme-background, var(--jp-layout-color0, #111)));\n",
       "    --sklearn-color-border-box: var(--sg-text-color, var(--theme-code-foreground, var(--jp-content-font-color1, white)));\n",
       "    --sklearn-color-icon: #878787;\n",
       "  }\n",
       "}\n",
       "\n",
       "#sk-container-id-1 {\n",
       "  color: var(--sklearn-color-text);\n",
       "}\n",
       "\n",
       "#sk-container-id-1 pre {\n",
       "  padding: 0;\n",
       "}\n",
       "\n",
       "#sk-container-id-1 input.sk-hidden--visually {\n",
       "  border: 0;\n",
       "  clip: rect(1px 1px 1px 1px);\n",
       "  clip: rect(1px, 1px, 1px, 1px);\n",
       "  height: 1px;\n",
       "  margin: -1px;\n",
       "  overflow: hidden;\n",
       "  padding: 0;\n",
       "  position: absolute;\n",
       "  width: 1px;\n",
       "}\n",
       "\n",
       "#sk-container-id-1 div.sk-dashed-wrapped {\n",
       "  border: 1px dashed var(--sklearn-color-line);\n",
       "  margin: 0 0.4em 0.5em 0.4em;\n",
       "  box-sizing: border-box;\n",
       "  padding-bottom: 0.4em;\n",
       "  background-color: var(--sklearn-color-background);\n",
       "}\n",
       "\n",
       "#sk-container-id-1 div.sk-container {\n",
       "  /* jupyter's `normalize.less` sets `[hidden] { display: none; }`\n",
       "     but bootstrap.min.css set `[hidden] { display: none !important; }`\n",
       "     so we also need the `!important` here to be able to override the\n",
       "     default hidden behavior on the sphinx rendered scikit-learn.org.\n",
       "     See: https://github.com/scikit-learn/scikit-learn/issues/21755 */\n",
       "  display: inline-block !important;\n",
       "  position: relative;\n",
       "}\n",
       "\n",
       "#sk-container-id-1 div.sk-text-repr-fallback {\n",
       "  display: none;\n",
       "}\n",
       "\n",
       "div.sk-parallel-item,\n",
       "div.sk-serial,\n",
       "div.sk-item {\n",
       "  /* draw centered vertical line to link estimators */\n",
       "  background-image: linear-gradient(var(--sklearn-color-text-on-default-background), var(--sklearn-color-text-on-default-background));\n",
       "  background-size: 2px 100%;\n",
       "  background-repeat: no-repeat;\n",
       "  background-position: center center;\n",
       "}\n",
       "\n",
       "/* Parallel-specific style estimator block */\n",
       "\n",
       "#sk-container-id-1 div.sk-parallel-item::after {\n",
       "  content: \"\";\n",
       "  width: 100%;\n",
       "  border-bottom: 2px solid var(--sklearn-color-text-on-default-background);\n",
       "  flex-grow: 1;\n",
       "}\n",
       "\n",
       "#sk-container-id-1 div.sk-parallel {\n",
       "  display: flex;\n",
       "  align-items: stretch;\n",
       "  justify-content: center;\n",
       "  background-color: var(--sklearn-color-background);\n",
       "  position: relative;\n",
       "}\n",
       "\n",
       "#sk-container-id-1 div.sk-parallel-item {\n",
       "  display: flex;\n",
       "  flex-direction: column;\n",
       "}\n",
       "\n",
       "#sk-container-id-1 div.sk-parallel-item:first-child::after {\n",
       "  align-self: flex-end;\n",
       "  width: 50%;\n",
       "}\n",
       "\n",
       "#sk-container-id-1 div.sk-parallel-item:last-child::after {\n",
       "  align-self: flex-start;\n",
       "  width: 50%;\n",
       "}\n",
       "\n",
       "#sk-container-id-1 div.sk-parallel-item:only-child::after {\n",
       "  width: 0;\n",
       "}\n",
       "\n",
       "/* Serial-specific style estimator block */\n",
       "\n",
       "#sk-container-id-1 div.sk-serial {\n",
       "  display: flex;\n",
       "  flex-direction: column;\n",
       "  align-items: center;\n",
       "  background-color: var(--sklearn-color-background);\n",
       "  padding-right: 1em;\n",
       "  padding-left: 1em;\n",
       "}\n",
       "\n",
       "\n",
       "/* Toggleable style: style used for estimator/Pipeline/ColumnTransformer box that is\n",
       "clickable and can be expanded/collapsed.\n",
       "- Pipeline and ColumnTransformer use this feature and define the default style\n",
       "- Estimators will overwrite some part of the style using the `sk-estimator` class\n",
       "*/\n",
       "\n",
       "/* Pipeline and ColumnTransformer style (default) */\n",
       "\n",
       "#sk-container-id-1 div.sk-toggleable {\n",
       "  /* Default theme specific background. It is overwritten whether we have a\n",
       "  specific estimator or a Pipeline/ColumnTransformer */\n",
       "  background-color: var(--sklearn-color-background);\n",
       "}\n",
       "\n",
       "/* Toggleable label */\n",
       "#sk-container-id-1 label.sk-toggleable__label {\n",
       "  cursor: pointer;\n",
       "  display: block;\n",
       "  width: 100%;\n",
       "  margin-bottom: 0;\n",
       "  padding: 0.5em;\n",
       "  box-sizing: border-box;\n",
       "  text-align: center;\n",
       "}\n",
       "\n",
       "#sk-container-id-1 label.sk-toggleable__label-arrow:before {\n",
       "  /* Arrow on the left of the label */\n",
       "  content: \"▸\";\n",
       "  float: left;\n",
       "  margin-right: 0.25em;\n",
       "  color: var(--sklearn-color-icon);\n",
       "}\n",
       "\n",
       "#sk-container-id-1 label.sk-toggleable__label-arrow:hover:before {\n",
       "  color: var(--sklearn-color-text);\n",
       "}\n",
       "\n",
       "/* Toggleable content - dropdown */\n",
       "\n",
       "#sk-container-id-1 div.sk-toggleable__content {\n",
       "  max-height: 0;\n",
       "  max-width: 0;\n",
       "  overflow: hidden;\n",
       "  text-align: left;\n",
       "  /* unfitted */\n",
       "  background-color: var(--sklearn-color-unfitted-level-0);\n",
       "}\n",
       "\n",
       "#sk-container-id-1 div.sk-toggleable__content.fitted {\n",
       "  /* fitted */\n",
       "  background-color: var(--sklearn-color-fitted-level-0);\n",
       "}\n",
       "\n",
       "#sk-container-id-1 div.sk-toggleable__content pre {\n",
       "  margin: 0.2em;\n",
       "  border-radius: 0.25em;\n",
       "  color: var(--sklearn-color-text);\n",
       "  /* unfitted */\n",
       "  background-color: var(--sklearn-color-unfitted-level-0);\n",
       "}\n",
       "\n",
       "#sk-container-id-1 div.sk-toggleable__content.fitted pre {\n",
       "  /* unfitted */\n",
       "  background-color: var(--sklearn-color-fitted-level-0);\n",
       "}\n",
       "\n",
       "#sk-container-id-1 input.sk-toggleable__control:checked~div.sk-toggleable__content {\n",
       "  /* Expand drop-down */\n",
       "  max-height: 200px;\n",
       "  max-width: 100%;\n",
       "  overflow: auto;\n",
       "}\n",
       "\n",
       "#sk-container-id-1 input.sk-toggleable__control:checked~label.sk-toggleable__label-arrow:before {\n",
       "  content: \"▾\";\n",
       "}\n",
       "\n",
       "/* Pipeline/ColumnTransformer-specific style */\n",
       "\n",
       "#sk-container-id-1 div.sk-label input.sk-toggleable__control:checked~label.sk-toggleable__label {\n",
       "  color: var(--sklearn-color-text);\n",
       "  background-color: var(--sklearn-color-unfitted-level-2);\n",
       "}\n",
       "\n",
       "#sk-container-id-1 div.sk-label.fitted input.sk-toggleable__control:checked~label.sk-toggleable__label {\n",
       "  background-color: var(--sklearn-color-fitted-level-2);\n",
       "}\n",
       "\n",
       "/* Estimator-specific style */\n",
       "\n",
       "/* Colorize estimator box */\n",
       "#sk-container-id-1 div.sk-estimator input.sk-toggleable__control:checked~label.sk-toggleable__label {\n",
       "  /* unfitted */\n",
       "  background-color: var(--sklearn-color-unfitted-level-2);\n",
       "}\n",
       "\n",
       "#sk-container-id-1 div.sk-estimator.fitted input.sk-toggleable__control:checked~label.sk-toggleable__label {\n",
       "  /* fitted */\n",
       "  background-color: var(--sklearn-color-fitted-level-2);\n",
       "}\n",
       "\n",
       "#sk-container-id-1 div.sk-label label.sk-toggleable__label,\n",
       "#sk-container-id-1 div.sk-label label {\n",
       "  /* The background is the default theme color */\n",
       "  color: var(--sklearn-color-text-on-default-background);\n",
       "}\n",
       "\n",
       "/* On hover, darken the color of the background */\n",
       "#sk-container-id-1 div.sk-label:hover label.sk-toggleable__label {\n",
       "  color: var(--sklearn-color-text);\n",
       "  background-color: var(--sklearn-color-unfitted-level-2);\n",
       "}\n",
       "\n",
       "/* Label box, darken color on hover, fitted */\n",
       "#sk-container-id-1 div.sk-label.fitted:hover label.sk-toggleable__label.fitted {\n",
       "  color: var(--sklearn-color-text);\n",
       "  background-color: var(--sklearn-color-fitted-level-2);\n",
       "}\n",
       "\n",
       "/* Estimator label */\n",
       "\n",
       "#sk-container-id-1 div.sk-label label {\n",
       "  font-family: monospace;\n",
       "  font-weight: bold;\n",
       "  display: inline-block;\n",
       "  line-height: 1.2em;\n",
       "}\n",
       "\n",
       "#sk-container-id-1 div.sk-label-container {\n",
       "  text-align: center;\n",
       "}\n",
       "\n",
       "/* Estimator-specific */\n",
       "#sk-container-id-1 div.sk-estimator {\n",
       "  font-family: monospace;\n",
       "  border: 1px dotted var(--sklearn-color-border-box);\n",
       "  border-radius: 0.25em;\n",
       "  box-sizing: border-box;\n",
       "  margin-bottom: 0.5em;\n",
       "  /* unfitted */\n",
       "  background-color: var(--sklearn-color-unfitted-level-0);\n",
       "}\n",
       "\n",
       "#sk-container-id-1 div.sk-estimator.fitted {\n",
       "  /* fitted */\n",
       "  background-color: var(--sklearn-color-fitted-level-0);\n",
       "}\n",
       "\n",
       "/* on hover */\n",
       "#sk-container-id-1 div.sk-estimator:hover {\n",
       "  /* unfitted */\n",
       "  background-color: var(--sklearn-color-unfitted-level-2);\n",
       "}\n",
       "\n",
       "#sk-container-id-1 div.sk-estimator.fitted:hover {\n",
       "  /* fitted */\n",
       "  background-color: var(--sklearn-color-fitted-level-2);\n",
       "}\n",
       "\n",
       "/* Specification for estimator info (e.g. \"i\" and \"?\") */\n",
       "\n",
       "/* Common style for \"i\" and \"?\" */\n",
       "\n",
       ".sk-estimator-doc-link,\n",
       "a:link.sk-estimator-doc-link,\n",
       "a:visited.sk-estimator-doc-link {\n",
       "  float: right;\n",
       "  font-size: smaller;\n",
       "  line-height: 1em;\n",
       "  font-family: monospace;\n",
       "  background-color: var(--sklearn-color-background);\n",
       "  border-radius: 1em;\n",
       "  height: 1em;\n",
       "  width: 1em;\n",
       "  text-decoration: none !important;\n",
       "  margin-left: 1ex;\n",
       "  /* unfitted */\n",
       "  border: var(--sklearn-color-unfitted-level-1) 1pt solid;\n",
       "  color: var(--sklearn-color-unfitted-level-1);\n",
       "}\n",
       "\n",
       ".sk-estimator-doc-link.fitted,\n",
       "a:link.sk-estimator-doc-link.fitted,\n",
       "a:visited.sk-estimator-doc-link.fitted {\n",
       "  /* fitted */\n",
       "  border: var(--sklearn-color-fitted-level-1) 1pt solid;\n",
       "  color: var(--sklearn-color-fitted-level-1);\n",
       "}\n",
       "\n",
       "/* On hover */\n",
       "div.sk-estimator:hover .sk-estimator-doc-link:hover,\n",
       ".sk-estimator-doc-link:hover,\n",
       "div.sk-label-container:hover .sk-estimator-doc-link:hover,\n",
       ".sk-estimator-doc-link:hover {\n",
       "  /* unfitted */\n",
       "  background-color: var(--sklearn-color-unfitted-level-3);\n",
       "  color: var(--sklearn-color-background);\n",
       "  text-decoration: none;\n",
       "}\n",
       "\n",
       "div.sk-estimator.fitted:hover .sk-estimator-doc-link.fitted:hover,\n",
       ".sk-estimator-doc-link.fitted:hover,\n",
       "div.sk-label-container:hover .sk-estimator-doc-link.fitted:hover,\n",
       ".sk-estimator-doc-link.fitted:hover {\n",
       "  /* fitted */\n",
       "  background-color: var(--sklearn-color-fitted-level-3);\n",
       "  color: var(--sklearn-color-background);\n",
       "  text-decoration: none;\n",
       "}\n",
       "\n",
       "/* Span, style for the box shown on hovering the info icon */\n",
       ".sk-estimator-doc-link span {\n",
       "  display: none;\n",
       "  z-index: 9999;\n",
       "  position: relative;\n",
       "  font-weight: normal;\n",
       "  right: .2ex;\n",
       "  padding: .5ex;\n",
       "  margin: .5ex;\n",
       "  width: min-content;\n",
       "  min-width: 20ex;\n",
       "  max-width: 50ex;\n",
       "  color: var(--sklearn-color-text);\n",
       "  box-shadow: 2pt 2pt 4pt #999;\n",
       "  /* unfitted */\n",
       "  background: var(--sklearn-color-unfitted-level-0);\n",
       "  border: .5pt solid var(--sklearn-color-unfitted-level-3);\n",
       "}\n",
       "\n",
       ".sk-estimator-doc-link.fitted span {\n",
       "  /* fitted */\n",
       "  background: var(--sklearn-color-fitted-level-0);\n",
       "  border: var(--sklearn-color-fitted-level-3);\n",
       "}\n",
       "\n",
       ".sk-estimator-doc-link:hover span {\n",
       "  display: block;\n",
       "}\n",
       "\n",
       "/* \"?\"-specific style due to the `<a>` HTML tag */\n",
       "\n",
       "#sk-container-id-1 a.estimator_doc_link {\n",
       "  float: right;\n",
       "  font-size: 1rem;\n",
       "  line-height: 1em;\n",
       "  font-family: monospace;\n",
       "  background-color: var(--sklearn-color-background);\n",
       "  border-radius: 1rem;\n",
       "  height: 1rem;\n",
       "  width: 1rem;\n",
       "  text-decoration: none;\n",
       "  /* unfitted */\n",
       "  color: var(--sklearn-color-unfitted-level-1);\n",
       "  border: var(--sklearn-color-unfitted-level-1) 1pt solid;\n",
       "}\n",
       "\n",
       "#sk-container-id-1 a.estimator_doc_link.fitted {\n",
       "  /* fitted */\n",
       "  border: var(--sklearn-color-fitted-level-1) 1pt solid;\n",
       "  color: var(--sklearn-color-fitted-level-1);\n",
       "}\n",
       "\n",
       "/* On hover */\n",
       "#sk-container-id-1 a.estimator_doc_link:hover {\n",
       "  /* unfitted */\n",
       "  background-color: var(--sklearn-color-unfitted-level-3);\n",
       "  color: var(--sklearn-color-background);\n",
       "  text-decoration: none;\n",
       "}\n",
       "\n",
       "#sk-container-id-1 a.estimator_doc_link.fitted:hover {\n",
       "  /* fitted */\n",
       "  background-color: var(--sklearn-color-fitted-level-3);\n",
       "}\n",
       "</style><div id=\"sk-container-id-1\" class=\"sk-top-container\"><div class=\"sk-text-repr-fallback\"><pre>LinearRegression()</pre><b>In a Jupyter environment, please rerun this cell to show the HTML representation or trust the notebook. <br />On GitHub, the HTML representation is unable to render, please try loading this page with nbviewer.org.</b></div><div class=\"sk-container\" hidden><div class=\"sk-item\"><div class=\"sk-estimator fitted sk-toggleable\"><input class=\"sk-toggleable__control sk-hidden--visually\" id=\"sk-estimator-id-1\" type=\"checkbox\" checked><label for=\"sk-estimator-id-1\" class=\"sk-toggleable__label fitted sk-toggleable__label-arrow fitted\">&nbsp;&nbsp;LinearRegression<a class=\"sk-estimator-doc-link fitted\" rel=\"noreferrer\" target=\"_blank\" href=\"https://scikit-learn.org/1.5/modules/generated/sklearn.linear_model.LinearRegression.html\">?<span>Documentation for LinearRegression</span></a><span class=\"sk-estimator-doc-link fitted\">i<span>Fitted</span></span></label><div class=\"sk-toggleable__content fitted\"><pre>LinearRegression()</pre></div> </div></div></div></div>"
      ],
      "text/plain": [
       "LinearRegression()"
      ]
     },
     "execution_count": 62,
     "metadata": {},
     "output_type": "execute_result"
    }
   ],
   "source": [
    "# Create linear regression object\n",
    "regr = linear_model.LinearRegression()\n",
    "\n",
    "# Train the model using the training sets\n",
    "regr.fit(X_train, y_train)"
   ]
  },
  {
   "cell_type": "code",
   "execution_count": 63,
   "id": "automated-kidney",
   "metadata": {},
   "outputs": [],
   "source": [
    "# Make predictions using the testing set\n",
    "y_pred = regr.predict(X_test)\n"
   ]
  },
  {
   "cell_type": "code",
   "execution_count": 64,
   "id": "authorized-hanging",
   "metadata": {},
   "outputs": [
    {
     "data": {
      "text/plain": [
       "(4145, 344)"
      ]
     },
     "execution_count": 64,
     "metadata": {},
     "output_type": "execute_result"
    }
   ],
   "source": [
    "X_test.shape"
   ]
  },
  {
   "cell_type": "code",
   "execution_count": 65,
   "id": "native-horror",
   "metadata": {},
   "outputs": [
    {
     "name": "stdout",
     "output_type": "stream",
     "text": [
      "Coefficients: \n",
      " [ 1.10712237e-01 -5.60564949e-01  8.42199805e-01  5.06580474e-01\n",
      "  2.61791722e-01 -1.21316069e-01 -2.69222751e-02  3.90358222e-01\n",
      "  1.54714632e-01  4.91688499e-01  9.71450046e-01  3.81584165e-01\n",
      "  7.15312173e-01  8.33970716e-01  6.17272067e-01  1.57515183e-01\n",
      " -6.81825438e-02 -1.22908655e+00  1.06595677e-01 -1.86490029e-01\n",
      "  1.67804034e-01  4.17157359e-01 -2.55293769e-01 -3.38798890e-02\n",
      "  7.21162700e-01  2.90297451e-02  5.64040903e-01  3.91086841e-01\n",
      "  7.57293225e-01  4.11299851e-01  3.77441626e-01  7.12766615e-02\n",
      " -1.32055137e-01  5.20831269e-02 -5.60831232e-02 -2.86488573e-02\n",
      " -5.94063747e-01 -8.96288163e-02  2.24091772e-01 -1.04793402e-02\n",
      "  8.00053960e-01 -2.10727484e-01  4.16116691e-01  4.07764059e-01\n",
      " -2.29209904e-01 -4.50457876e-01 -3.69177754e-01  1.04798859e+00\n",
      "  1.13082483e-01  8.95079513e-01  5.34824714e-01  4.99425726e-02\n",
      "  1.78054381e-02  2.36644007e-02  8.78420705e-02 -2.07056915e-01\n",
      "  1.95212519e-01  7.76359595e-01  4.50065482e-01  9.10779165e-01\n",
      " -1.45002546e-01  7.22149746e-01  7.58649709e-01 -5.89534577e-02\n",
      " -2.10699935e-01  7.06670423e-03  9.80468652e-02  4.57237804e-01\n",
      "  1.11885190e+00 -3.63049619e-01  2.67539170e-01  4.10221565e-01\n",
      "  4.59279661e-02  1.15894713e-01  3.81683560e-01  4.88989839e-01\n",
      "  3.44321043e-01  4.15240473e-01  2.86954438e-03  7.47652931e-02\n",
      "  2.69776847e-01  3.55609115e-02  3.35332830e-01  4.15522808e-01\n",
      "  7.23916809e-01 -1.66806590e-01  2.35677450e-01 -2.23558999e-02\n",
      "  3.90966460e-01  1.86296029e-01 -2.65310052e-01 -1.95297533e-01\n",
      " -2.46219041e-01  2.61016707e-01 -7.29074649e-01  7.72732111e-03\n",
      "  2.89453321e-01 -7.35440399e-02  4.69469593e-01  6.11987165e-01\n",
      "  5.65591732e-01  9.13305875e-02 -4.79812606e-02  1.30389445e-01\n",
      "  3.91761783e-02  7.12836247e-01 -5.34583439e-02  1.11483123e+00\n",
      "  3.15851545e-01  9.11183984e-01 -5.43931571e-01 -5.74203149e-02\n",
      "  1.40483199e-01  3.52555907e-01  1.67948336e-01 -2.84273967e-01\n",
      " -6.14049612e-02  3.44504753e-01  4.65344420e-02  1.36518622e-01\n",
      " -1.14784175e-01 -4.98858146e-02 -5.52534174e-01  4.28844580e-02\n",
      " -1.06170510e-01  1.78313689e-01  8.01451227e-01  7.65117593e-01\n",
      " -7.38416318e-02  1.63083002e-01  5.25576547e-01  6.75080626e-01\n",
      " -1.44420698e-01 -1.80106036e-01  1.17485128e-01 -2.19176459e-01\n",
      "  9.04300152e-01  3.10575506e-01  3.10575506e-01 -6.17815498e-01\n",
      "  8.19133112e-01 -1.04226181e-01  2.85057000e-01 -3.28430254e-01\n",
      "  3.33135873e-02 -1.70591405e-02 -1.39212173e-01  1.18294420e-01\n",
      " -1.38777110e+00  3.25272914e-01  6.47085337e-01 -6.70053686e-02\n",
      " -1.40855563e-02  9.70443389e-02  8.85430447e-01 -2.84150274e-01\n",
      "  1.24297314e-03 -1.10486826e+00  3.62300808e-01  4.21686736e-01\n",
      "  6.91383001e-01 -5.63632331e-01 -7.79027542e-01  5.28532634e-04\n",
      "  7.38445658e-01 -4.75948254e-01 -3.54682020e-02  2.78510017e-01\n",
      "  3.22137708e-01  2.06028250e-01  2.62299289e-01  8.53132477e-01\n",
      "  1.08112789e-01  9.07816501e-01  3.32753691e-01 -2.71371844e-01\n",
      "  7.21665934e-02 -3.16333637e-01  6.05852784e-01  5.74984496e-01\n",
      "  3.81156983e-01  4.83842271e-01 -5.50958028e-02 -1.23466089e-01\n",
      "  6.25063548e-01 -1.50947875e-01 -3.62982492e-01  1.28727173e-01\n",
      "  1.17155244e-01  3.75194909e-01 -5.08315474e-01 -4.58823512e-01\n",
      "  4.12307232e-01 -7.55078150e-01 -6.85825395e-01 -7.11291162e-01\n",
      "  1.23816738e-01  2.78658934e-01 -1.37673164e-02 -2.64242769e-03\n",
      "  1.70816482e-01  2.50063066e-03 -1.22683723e-01  1.36195715e-01\n",
      "  1.32556993e-01 -4.09257843e-01 -2.15410433e-01 -2.64043542e-02\n",
      " -2.54965667e-01  8.36884586e-01  5.70722094e-01  1.17350619e+00\n",
      "  6.35755242e-01  8.20970486e-01 -1.27642209e-01  6.29860947e-01\n",
      "  5.65291284e-01  1.95597848e-01  5.77913878e-02  1.00542592e-01\n",
      "  3.02723992e-02  1.02323726e-01  2.45237325e-01  8.78544722e-02\n",
      "  1.10911746e+00 -1.27448645e+00 -5.31866881e-01 -3.02911921e-02\n",
      " -5.14733588e-02 -1.01283159e+00  1.00683835e+00  4.08333719e-01\n",
      "  5.20358863e-01  9.03610478e-01  6.85211818e-01  5.39975448e-01\n",
      " -6.27319519e-03  1.85293959e-01  4.01189862e-01  3.74740116e-01\n",
      "  4.36226453e-01  4.76340100e-01 -6.79093543e-03  7.66704080e-01\n",
      "  3.81191115e-01 -1.13416906e-01 -5.67544308e-01  7.87368349e-01\n",
      "  3.99439672e-01  2.83451017e-01  8.84328442e-01  3.29068523e-01\n",
      "  5.09647116e-01  3.50724180e-01 -8.32948568e-01 -8.33118905e-01\n",
      "  1.72813954e-01  9.51988108e-01 -5.86368943e-01 -4.60481667e-02\n",
      " -2.97534944e-01  1.02715081e-01  2.12244421e-01  1.47293704e-01\n",
      " -7.12433120e-02  1.48127469e-01  7.03036421e-02  2.37469032e-01\n",
      "  1.68771526e-01 -1.37569727e-01  4.32391500e-01  2.59624535e-02\n",
      "  2.53805665e-01  2.16420407e-01 -8.00152487e-02 -9.48148656e-01\n",
      "  5.90799688e-01  5.31277906e-01  6.67514988e-01  4.41603105e-01\n",
      "  1.78220109e-01  3.61005154e-01  4.41959304e-01 -1.56998372e-01\n",
      "  7.96680652e-02  5.44045002e-01 -1.75998986e-01 -6.18884407e-01\n",
      " -3.62831816e-01  8.01023134e-01  8.29129416e-01  1.72545911e-01\n",
      " -8.52262286e-01  1.61165801e+00 -3.50419237e-01 -2.32394914e-01\n",
      " -3.66423407e-02  5.33880495e-01  6.82804870e-01  7.13160949e-01\n",
      "  3.63712661e-01  1.84269912e-01  3.65139841e-02  2.40377260e-01\n",
      "  4.88237064e-01  1.46579327e-01 -1.02108505e-01  2.26355905e-01\n",
      " -4.25975202e-01  2.51020527e-01  1.93016716e-01  4.04033380e-01\n",
      " -1.57749658e+00 -1.73179373e-01 -2.83897571e-01 -1.01800673e-01\n",
      "  8.53104596e-02  2.79324158e-01 -1.73128454e-01  8.82663368e-01\n",
      "  2.43415107e-01  2.49108818e-01  1.70727813e-01  3.07126700e-01\n",
      "  1.39309713e-01  4.90425089e-02  1.44654676e-01 -3.11684543e-01\n",
      " -2.12855637e-02 -1.49283656e-01  5.58309095e-02  2.44310894e-01\n",
      "  3.44426854e-02 -2.39615838e-01 -5.11347235e-02 -7.23031590e-02\n",
      " -3.37171776e-02  2.03724876e-01 -1.09085186e-01  1.10677401e-01\n",
      " -1.47490709e-01 -3.24646570e-01  4.01424193e-01 -9.12921994e-01]\n",
      "Mean squared error: 2.87\n",
      "Coefficient of determination: 0.64\n"
     ]
    }
   ],
   "source": [
    "# The coefficients\n",
    "print('Coefficients: \\n', regr.coef_)\n",
    "# The mean squared error\n",
    "print('Mean squared error: %.2f'\n",
    "      % mean_squared_error(y_test, y_pred))\n",
    "# The coefficient of determination: 1 is perfect prediction\n",
    "print('Coefficient of determination: %.2f'\n",
    "      % r2_score(y_test, y_pred))"
   ]
  },
  {
   "cell_type": "code",
   "execution_count": null,
   "id": "continuous-prime",
   "metadata": {},
   "outputs": [],
   "source": []
  },
  {
   "cell_type": "code",
   "execution_count": null,
   "id": "reasonable-youth",
   "metadata": {},
   "outputs": [],
   "source": []
  },
  {
   "cell_type": "code",
   "execution_count": null,
   "id": "continental-chocolate",
   "metadata": {},
   "outputs": [],
   "source": []
  },
  {
   "cell_type": "code",
   "execution_count": null,
   "id": "straight-repository",
   "metadata": {},
   "outputs": [],
   "source": []
  },
  {
   "cell_type": "code",
   "execution_count": null,
   "id": "numerical-bunny",
   "metadata": {},
   "outputs": [],
   "source": []
  }
 ],
 "metadata": {
  "kernelspec": {
   "display_name": "Python 3 (ipykernel)",
   "language": "python",
   "name": "python3"
  },
  "language_info": {
   "codemirror_mode": {
    "name": "ipython",
    "version": 3
   },
   "file_extension": ".py",
   "mimetype": "text/x-python",
   "name": "python",
   "nbconvert_exporter": "python",
   "pygments_lexer": "ipython3",
   "version": "3.12.6"
  }
 },
 "nbformat": 4,
 "nbformat_minor": 5
}
