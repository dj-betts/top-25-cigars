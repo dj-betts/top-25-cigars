{
 "cells": [
  {
   "cell_type": "code",
   "execution_count": 117,
   "metadata": {},
   "outputs": [],
   "source": [
    "import pandas as pd"
   ]
  },
  {
   "cell_type": "code",
   "execution_count": 118,
   "metadata": {},
   "outputs": [],
   "source": [
    "import re"
   ]
  },
  {
   "cell_type": "code",
   "execution_count": 119,
   "metadata": {},
   "outputs": [],
   "source": [
    "def find_strength(string):\n",
    "    value = string.find('/6')\n",
    "    if string[value-1] is '(':\n",
    "        return (None)\n",
    "    else:\n",
    "        return string[value-1]"
   ]
  },
  {
   "cell_type": "code",
   "execution_count": null,
   "metadata": {},
   "outputs": [],
   "source": [
    "def cigar_size(string):\n",
    "    size = string.split('\\n')\n",
    "    return size[2].strip()"
   ]
  },
  {
   "cell_type": "code",
   "execution_count": 131,
   "metadata": {},
   "outputs": [],
   "source": [
    "data = pd.read_csv('cigar_aficionado.csv', index_col='Unnamed: 0')"
   ]
  },
  {
   "cell_type": "code",
   "execution_count": 132,
   "metadata": {},
   "outputs": [
    {
     "data": {
      "text/plain": [
       "(20769, 16)"
      ]
     },
     "execution_count": 132,
     "metadata": {},
     "output_type": "execute_result"
    }
   ],
   "source": [
    "data.shape"
   ]
  },
  {
   "cell_type": "code",
   "execution_count": 133,
   "metadata": {},
   "outputs": [],
   "source": [
    "df = data.copy()"
   ]
  },
  {
   "cell_type": "code",
   "execution_count": 134,
   "metadata": {},
   "outputs": [],
   "source": [
    "df['strength'] = df.strenth_string.apply(find_strength)"
   ]
  },
  {
   "cell_type": "code",
   "execution_count": 202,
   "metadata": {},
   "outputs": [],
   "source": [
    "df['size'] = df['size'].apply(cigar_size)"
   ]
  },
  {
   "cell_type": "code",
   "execution_count": 203,
   "metadata": {},
   "outputs": [
    {
     "data": {
      "text/plain": [
       "(20769, 17)"
      ]
     },
     "execution_count": 203,
     "metadata": {},
     "output_type": "execute_result"
    }
   ],
   "source": [
    "df.shape"
   ]
  },
  {
   "cell_type": "code",
   "execution_count": 204,
   "metadata": {},
   "outputs": [
    {
     "data": {
      "text/plain": [
       "4    5511\n",
       "5    4788\n",
       "3    1061\n",
       "6     961\n",
       "2     555\n",
       "1       3\n",
       "Name: strength, dtype: int64"
      ]
     },
     "execution_count": 204,
     "metadata": {},
     "output_type": "execute_result"
    }
   ],
   "source": [
    "df.strength.value_counts()"
   ]
  },
  {
   "cell_type": "code",
   "execution_count": 205,
   "metadata": {},
   "outputs": [
    {
     "data": {
      "text/plain": [
       "Index(['image', 'name', 'score', 'length', 'gauge', 'strenth_string',\n",
       "       'tasting_notes', 'size', 'filler', 'binder', 'wrapper', 'country',\n",
       "       'price', 'issue', 'more_reviews', 'href', 'strength'],\n",
       "      dtype='object')"
      ]
     },
     "execution_count": 205,
     "metadata": {},
     "output_type": "execute_result"
    }
   ],
   "source": [
    "df.columns"
   ]
  },
  {
   "cell_type": "code",
   "execution_count": 210,
   "metadata": {},
   "outputs": [],
   "source": [
    "a = df['size'].value_counts()"
   ]
  },
  {
   "cell_type": "code",
   "execution_count": 211,
   "metadata": {},
   "outputs": [
    {
     "data": {
      "text/plain": [
       "26"
      ]
     },
     "execution_count": 211,
     "metadata": {},
     "output_type": "execute_result"
    }
   ],
   "source": [
    "len(a)"
   ]
  },
  {
   "cell_type": "code",
   "execution_count": 200,
   "metadata": {},
   "outputs": [],
   "source": [
    "test_size = df['size'].iloc[0]"
   ]
  },
  {
   "cell_type": "code",
   "execution_count": 201,
   "metadata": {},
   "outputs": [
    {
     "data": {
      "text/plain": [
       "'Robusto'"
      ]
     },
     "execution_count": 201,
     "metadata": {},
     "output_type": "execute_result"
    }
   ],
   "source": [
    "cigar_size(test_size)"
   ]
  },
  {
   "cell_type": "code",
   "execution_count": 213,
   "metadata": {},
   "outputs": [],
   "source": [
    "df.to_csv('cigar_aficionado.csv')"
   ]
  },
  {
   "cell_type": "code",
   "execution_count": null,
   "metadata": {},
   "outputs": [],
   "source": []
  },
  {
   "cell_type": "code",
   "execution_count": null,
   "metadata": {},
   "outputs": [],
   "source": []
  },
  {
   "cell_type": "code",
   "execution_count": null,
   "metadata": {},
   "outputs": [],
   "source": []
  },
  {
   "cell_type": "code",
   "execution_count": null,
   "metadata": {},
   "outputs": [],
   "source": []
  },
  {
   "cell_type": "code",
   "execution_count": 147,
   "metadata": {},
   "outputs": [
    {
     "data": {
      "text/plain": [
       "Index(['image', 'name', 'score', 'length', 'gauge', 'strenth_string',\n",
       "       'tasting_notes', 'size', 'filler', 'binder', 'wrapper', 'country',\n",
       "       'price', 'issue', 'more_reviews', 'href', 'strength'],\n",
       "      dtype='object')"
      ]
     },
     "execution_count": 147,
     "metadata": {},
     "output_type": "execute_result"
    }
   ],
   "source": [
    "df.columns"
   ]
  },
  {
   "cell_type": "code",
   "execution_count": null,
   "metadata": {},
   "outputs": [],
   "source": []
  },
  {
   "cell_type": "code",
   "execution_count": null,
   "metadata": {},
   "outputs": [],
   "source": []
  },
  {
   "cell_type": "code",
   "execution_count": null,
   "metadata": {},
   "outputs": [],
   "source": []
  },
  {
   "cell_type": "code",
   "execution_count": null,
   "metadata": {},
   "outputs": [],
   "source": []
  },
  {
   "cell_type": "code",
   "execution_count": null,
   "metadata": {},
   "outputs": [],
   "source": []
  },
  {
   "cell_type": "code",
   "execution_count": 104,
   "metadata": {},
   "outputs": [
    {
     "data": {
      "text/plain": [
       "0        50\n",
       "2        43\n",
       "3        44\n",
       "4        50\n",
       "5        50\n",
       "         ..\n",
       "20769    56\n",
       "20770    50\n",
       "20771    55\n",
       "20772    50\n",
       "20773    47\n",
       "Name: gauge, Length: 20769, dtype: object"
      ]
     },
     "execution_count": 104,
     "metadata": {},
     "output_type": "execute_result"
    }
   ],
   "source": [
    "df.gauge"
   ]
  },
  {
   "cell_type": "code",
   "execution_count": null,
   "metadata": {},
   "outputs": [],
   "source": []
  },
  {
   "cell_type": "code",
   "execution_count": 66,
   "metadata": {},
   "outputs": [
    {
     "data": {
      "text/plain": [
       "0        4 7/8\"\n",
       "2        5 5/8\"\n",
       "3        5 1/2\"\n",
       "4            5\"\n",
       "5        4 1/2\"\n",
       "          ...  \n",
       "20769        5\"\n",
       "20770    4 7/8\"\n",
       "20771    5 1/8\"\n",
       "20772        4\"\n",
       "20773        7\"\n",
       "Name: length, Length: 20769, dtype: object"
      ]
     },
     "execution_count": 66,
     "metadata": {},
     "output_type": "execute_result"
    }
   ],
   "source": [
    "df.length"
   ]
  },
  {
   "cell_type": "code",
   "execution_count": 55,
   "metadata": {},
   "outputs": [
    {
     "data": {
      "text/plain": [
       "0        93\n",
       "2        89\n",
       "3        86\n",
       "4        82\n",
       "5        86\n",
       "         ..\n",
       "20769    89\n",
       "20770    92\n",
       "20771    89\n",
       "20772    86\n",
       "20773    93\n",
       "Name: score, Length: 20769, dtype: int64"
      ]
     },
     "execution_count": 55,
     "metadata": {},
     "output_type": "execute_result"
    }
   ],
   "source": [
    "df.score"
   ]
  },
  {
   "cell_type": "code",
   "execution_count": 49,
   "metadata": {},
   "outputs": [],
   "source": [
    "montecristo_2 = df[df['name'] == 'MONTECRISTO NO. 2']"
   ]
  },
  {
   "cell_type": "code",
   "execution_count": 52,
   "metadata": {},
   "outputs": [
    {
     "data": {
      "text/plain": [
       "'\\nIssue:\\n                                                                                    Cigar Aficionado\\n                                                                                – Jun 01, 1993\\n                                    '"
      ]
     },
     "execution_count": 52,
     "metadata": {},
     "output_type": "execute_result"
    }
   ],
   "source": [
    "montecristo_2.issue.iloc[0]"
   ]
  },
  {
   "cell_type": "code",
   "execution_count": 17,
   "metadata": {},
   "outputs": [
    {
     "data": {
      "text/plain": [
       "image                                                                name                                         score  length  gauge  strenth_string                                                                                             tasting_notes                                                                                                                                                                                           size                                                                                              filler                                                                                                         binder                                                                                              wrapper                                                                                                             country                                                                                                       price                                                                                                                                                                                                                                                                           issue                                                                                                                                                                                                                                                 more_reviews                                                                                                                                                                                                                                                                                                                                                                                                                                                                                                                                                                                                                      href \n",
       "https://img.mshanken.com/d/cao/ratings_extras/silo-churchill.png     CABALLEROS CHURCHILL                         85     7\"      50     background:url('https://img.mshanken.com/d/cao/Triangle-sm.png'); margin-left:calc((100% * (/6)) - 12px)   A nice mild-tasting cigar. It has light herbalness, and hints of spicy flavors. A dry finish.                                                                                                           \\nSize:\\n                                        Churchill\\n                                      \\nFiller:\\n                                        Dom. Rep.\\n                                                 \\nBinder:\\n                                        Dom. Rep.\\n                                      \\nWrapper:\\n                                        U.S.A./Connecticut Shade\\n                                      \\nCountry:\\n                                        Dominican Republic\\n                                      \\nPrice:\\n                                                                                                                                    $4.20\\n                                                                                                                           \\nIssue:\\n                                                                                    Cigar Aficionado\\n                                                                                – Jan 01, 1998\\n                                      [['85', ['Cigar Aficionado: ', '                                                                                                        Feb 01, 1999']], ['85', ['Cigar Aficionado: ', '                                                                                                        Jan 01, 1998']], ['85', ['Cigar Aficionado: ', '                                                                                                        Sep 01, 1995']]]                                                                                                                                                          1700     2\n",
       "https://img.mshanken.com/d/cao/ratings_extras/silo-corona-gorda.png  BOLIVAR ROYAL CORONA                         93     4 7/8\"  50     background:url('https://img.mshanken.com/d/cao/Triangle-sm.png'); margin-left:calc((100% * (/6)) - 12px)   This is an earthy, rich cigar with a lovely brown wrapper and dense spicy aromas. The flavors are mellow with a clean finish.                                                                           \\nSize:\\n                                        Robusto\\n                                        \\nFiller:\\n                                        Cuba\\n                                                      \\nBinder:\\n                                        Cuba\\n                                           \\nWrapper:\\n                                        Cuba\\n                                                          \\nCountry:\\n                                        Cuba\\n                                                    \\nPrice:\\n                                                                                                                                    £10.00\\n                                                                                                                          \\nIssue:\\n                                                                                    Cigar Aficionado\\n                                                                                – Sep 01, 1992\\n                                      [['89', ['Cigar Aficionado: ', '                                                                                                        Jun 01, 2017']], ['90', ['Cigar Aficionado: ', '                                                                                                        Jun 01, 2016']], ['92', ['Cigar Aficionado: ', '                                                                                                        Aug 01, 2008']], ['92', ['Cigar Insider: ', '                                                                                                        May 20, 2008']]]     href     2\n",
       "https://img.mshanken.com/d/cao/ratings_extras/silo-churchill.png     THOMAS HINDS NICARAGUAN SELECTION CHURCHILL  87     7\"      49     background:url('https://img.mshanken.com/d/cao/Triangle-sm.png'); margin-left:calc((100% * (/6)) - 12px)   A smooth-tasting cigar with core of sweet tobacco flavors. It has a rather flat, dry finish.                                                                                                            \\nSize:\\n                                        Churchill\\n                                      \\nFiller:\\n                                        Nicaragua\\n                                                 \\nBinder:\\n                                        Nicaragua\\n                                      \\nWrapper:\\n                                        Ecuador\\n                                                       \\nCountry:\\n                                        Nicaragua\\n                                               \\nPrice:\\n                                                                                                                                                                                                                                                                      \\nIssue:\\n                                                                                    Cigar Aficionado\\n                                                                                – Jan 01, 1998\\n                                      [['82', ['Cigar Aficionado: ', '                                                                                                        Jun 01, 2002']], ['86', ['Cigar Aficionado: ', '                                                                                                        Oct 01, 2000']], ['85', ['Cigar Aficionado: ', '                                                                                                        Feb 01, 1999']], ['87', ['Cigar Aficionado: ', '                                                                                                        Jan 01, 1998']]]  1999     2\n",
       "                                                                     AVO XO MAESTOSO                              78     7\"      48     background:url('https://img.mshanken.com/d/cao/Triangle-sm.png'); margin-left:calc((100% * (/6)) - 12px)   This cigar is very mild, and very dry. It is flat on the palate, with a dry, herbalness on the palate.                                                                                                  \\nSize:\\n                                        Churchill\\n                                      \\nFiller:\\n                                        Dom. Rep.\\n                                                 \\nBinder:\\n                                        Dom. Rep.\\n                                      \\nWrapper:\\n                                        U.S.A./Connecticut Shade\\n                                      \\nCountry:\\n                                        Dominican Republic\\n                                      \\nPrice:\\n                                                                                                                                                                                                                                                                      \\nIssue:\\n                                                                                    Cigar Aficionado\\n                                                                                – Jan 01, 1998\\n                                      [['87', ['Cigar Aficionado: ', '                                                                                                        Oct 01, 2019']], ['85', ['Cigar Aficionado: ', '                                                                                                        Jun 01, 2017']], ['87', ['Cigar Aficionado: ', '                                                                                                        Dec 01, 2015']], ['82', ['Cigar Aficionado: ', '                                                                                                        Oct 01, 2000']]]  1701     2\n",
       "https://img.mshanken.com/d/cao/ratings_extras/silo-corona-gorda.png  MONTECRISTO WHITE ROTHCHILDE                 87     5\"      52     background:url('https://img.mshanken.com/d/cao/Triangle-sm.png'); margin-left:calc((100% * (/6)) - 12px)   Well made, with a light-colored wrapper. It’s spicy and wheaty, with floral notes and a sweet finish smacking of cinnamon. Mild- to medium-bodied.                                                      \\nSize:\\n                                        Robusto\\n                                        \\nFiller:\\n                                        Dom. Rep., Nicaragua\\n                                      \\nBinder:\\n                                        Nicaragua\\n                                      \\nWrapper:\\n                                        Ecuador\\n                                                       \\nCountry:\\n                                        Dominican Republic\\n                                      \\nPrice:\\n                                                                                                                                    $8.50\\n                                                                                                                           \\nIssue:\\n                                                                                    Cigar Aficionado\\n                                                                                – Apr 01, 2005\\n                                      [['85', ['Cigar Aficionado: ', '                                                                                                        Apr 01, 2006']], ['87', ['Cigar Aficionado: ', '                                                                                                        Apr 01, 2005']], ['87', ['Cigar Insider: ', '                                                                                                        Jan 01, 2004']]]                                                                                                                                                             9999     2\n",
       "                                                                                                                                                                                                                                                                                                                                                                                                                                                                                                                                                                                                                                                                                                                                                                                                                                                                                                                                                                                                                                                                                                                                                                                                                                                                                                                                                                                                                                                                                                                                                                                                                                                                                                                                                                                                                                                                                                                                                                                                                                                                                                                                                                                                  ..\n",
       "                                                                     VEGA TALANGA                                 88     6\"      54     background:url('https://img.mshanken.com/d/cao/Triangle-sm.png'); margin-left:calc((100% * (/6)) - 12px)   Deliberately rough in appearance, with a fat pigtail and uncut foot, the cigar tastes much better than it looks. The draw is lush. The smoke is sweet, with hints of vanilla and wood. Medium in body.  \\nSize:\\n                                        Toro\\n                                           \\nFiller:\\n                                        Honduras, Nicaragua\\n                                       \\nBinder:\\n                                        Honduras\\n                                       \\nWrapper:\\n                                        Honduras\\n                                                      \\nCountry:\\n                                        Honduras\\n                                                \\nPrice:\\n                                                                                                                                    $5.00\\n                                                                                                                           \\nIssue:\\n                                                                                    Cigar Aficionado\\n                                                                                – Apr 01, 2003\\n                                      [['88', ['Cigar Aficionado: ', '                                                                                                        Apr 01, 2003']]]                                                                                                                                                                                                                                                                                                                                                                                                                                                                          5520     1\n",
       "                                                                     VEGA TALANGA COROJO SERIES ROJO              88     5\"      50     background:url('https://img.mshanken.com/d/cao/Triangle-sm.png'); margin-left:calc((100% * (5/6)) - 12px)  A dark and rough maduro with a lush draw and even burn. It's a strong cigar, with flavors of nutmeg and spice. The finish is long and nutty.                                                            \\nSize:\\n                                        Robusto\\n                                        \\nFiller:\\n                                        Honduras, Nicaragua\\n                                       \\nBinder:\\n                                        Honduras\\n                                       \\nWrapper:\\n                                        Honduras\\n                                                      \\nCountry:\\n                                        Honduras\\n                                                \\nPrice:\\n                                                                                                                                    $3.50\\n                                                                                                                           \\nIssue:\\n                                                                                    Cigar Insider\\n                                                                                – Sep 01, 2003\\n                                         [['90', ['Cigar Aficionado: ', '                                                                                                        Aug 01, 2004']], ['88', ['Cigar Insider: ', '                                                                                                        Sep 01, 2003']]]                                                                                                                                                                                                                                                                                                                     8936     1\n",
       "                                                                                                                  90     5\"      50     background:url('https://img.mshanken.com/d/cao/Triangle-sm.png'); margin-left:calc((100% * (/6)) - 12px)   A rich maduro that has a lovely draw and burn. The cigar has a toasty flavor, with hints of pistachio  and spice, and a touch of sweetness.                                                             \\nSize:\\n                                        Robusto\\n                                        \\nFiller:\\n                                        Honduras, Nicaragua\\n                                       \\nBinder:\\n                                        Honduras\\n                                       \\nWrapper:\\n                                        Honduras\\n                                                      \\nCountry:\\n                                        Honduras\\n                                                \\nPrice:\\n                                                                                                                                    $3.50\\n                                                                                                                           \\nIssue:\\n                                                                                    Cigar Aficionado\\n                                                                                – Aug 01, 2004\\n                                      [['90', ['Cigar Aficionado: ', '                                                                                                        Aug 01, 2004']], ['88', ['Cigar Insider: ', '                                                                                                        Sep 01, 2003']]]                                                                                                                                                                                                                                                                                                                     9411     1\n",
       "                                                                     VEGA TALANGA PUROS                           89     6\"      54     background:url('https://img.mshanken.com/d/cao/Triangle-sm.png'); margin-left:calc((100% * (4/6)) - 12px)  This cigar has a dark colorado wrapper with a tight pigtail and an unfinished foot. The smoke is thick and toasty. The taste is earthy and leathery with hints of coffee beans and chocolate.           \\nSize:\\n                                        Toro\\n                                           \\nFiller:\\n                                        Honduras\\n                                                  \\nBinder:\\n                                        Honduras\\n                                       \\nWrapper:\\n                                        Honduras\\n                                                      \\nCountry:\\n                                        Honduras\\n                                                \\nPrice:\\n                                                                                                                                                                                                                                                                      \\nIssue:\\n                                                                                    Cigar Insider\\n                                                                                – Sep 01, 2002\\n                                         [['89', ['Cigar Insider: ', '                                                                                                        Sep 01, 2002']]]                                                                                                                                                                                                                                                                                                                                                                                                                                                                             5703     1\n",
       "https://img.mshanken.com/d/cao/ratings_extras/                       601 HABANO OSCURO CORONA                     89     5\"      42     background:url('https://img.mshanken.com/d/cao/Triangle-sm.png'); margin-left:calc((100% * (/6)) - 12px)   A dark and flavorful little cigar that is creamy and nutty with some spicy, woody notes and a graham cracker finish.                                                                                    \\nSize:\\n                                        Corona \\n                                        \\nFiller:\\n                                        Nicaragua\\n                                                 \\nBinder:\\n                                        Nicaragua\\n                                      \\nWrapper:\\n                                        Nicaragua\\n                                                     \\nCountry:\\n                                        Nicaragua\\n                                               \\nPrice:\\n                                                                                                                                    $5.50\\n                                                                                                                           \\nIssue:\\n                                                                                    Cigar Aficionado\\n                                                                                – Oct 01, 2008\\n                                      [['89', ['Cigar Aficionado: ', '                                                                                                        Oct 01, 2008']]]                                                                                                                                                                                                                                                                                                                                                                                                                                                                          12623    1\n",
       "Length: 20702, dtype: int64"
      ]
     },
     "execution_count": 17,
     "metadata": {},
     "output_type": "execute_result"
    }
   ],
   "source": [
    "data.value_counts()"
   ]
  },
  {
   "cell_type": "code",
   "execution_count": 5,
   "metadata": {},
   "outputs": [],
   "source": [
    "#make sure all records are not duplicated"
   ]
  },
  {
   "cell_type": "code",
   "execution_count": 12,
   "metadata": {},
   "outputs": [
    {
     "name": "stderr",
     "output_type": "stream",
     "text": [
      "/Users/djbetts/opt/anaconda3/lib/python3.7/site-packages/ipykernel_launcher.py:1: UserWarning: Boolean Series key will be reindexed to match DataFrame index.\n",
      "  \"\"\"Entry point for launching an IPython kernel.\n"
     ]
    },
    {
     "ename": "IndexingError",
     "evalue": "Unalignable boolean Series provided as indexer (index of the boolean Series and of the indexed object do not match).",
     "output_type": "error",
     "traceback": [
      "\u001b[0;31m---------------------------------------------------------------------------\u001b[0m",
      "\u001b[0;31mIndexingError\u001b[0m                             Traceback (most recent call last)",
      "\u001b[0;32m<ipython-input-12-3fe2612e582f>\u001b[0m in \u001b[0;36m<module>\u001b[0;34m\u001b[0m\n\u001b[0;32m----> 1\u001b[0;31m \u001b[0mdouble_href\u001b[0m \u001b[0;34m=\u001b[0m \u001b[0mdata\u001b[0m\u001b[0;34m[\u001b[0m\u001b[0mdata\u001b[0m\u001b[0;34m.\u001b[0m\u001b[0mhref\u001b[0m\u001b[0;34m.\u001b[0m\u001b[0mvalue_counts\u001b[0m\u001b[0;34m(\u001b[0m\u001b[0;34m)\u001b[0m \u001b[0;34m==\u001b[0m \u001b[0;36m1\u001b[0m\u001b[0;34m]\u001b[0m\u001b[0;34m\u001b[0m\u001b[0;34m\u001b[0m\u001b[0m\n\u001b[0m",
      "\u001b[0;32m~/opt/anaconda3/lib/python3.7/site-packages/pandas/core/frame.py\u001b[0m in \u001b[0;36m__getitem__\u001b[0;34m(self, key)\u001b[0m\n\u001b[1;32m   2891\u001b[0m         \u001b[0;31m# Do we have a (boolean) 1d indexer?\u001b[0m\u001b[0;34m\u001b[0m\u001b[0;34m\u001b[0m\u001b[0;34m\u001b[0m\u001b[0m\n\u001b[1;32m   2892\u001b[0m         \u001b[0;32mif\u001b[0m \u001b[0mcom\u001b[0m\u001b[0;34m.\u001b[0m\u001b[0mis_bool_indexer\u001b[0m\u001b[0;34m(\u001b[0m\u001b[0mkey\u001b[0m\u001b[0;34m)\u001b[0m\u001b[0;34m:\u001b[0m\u001b[0;34m\u001b[0m\u001b[0;34m\u001b[0m\u001b[0m\n\u001b[0;32m-> 2893\u001b[0;31m             \u001b[0;32mreturn\u001b[0m \u001b[0mself\u001b[0m\u001b[0;34m.\u001b[0m\u001b[0m_getitem_bool_array\u001b[0m\u001b[0;34m(\u001b[0m\u001b[0mkey\u001b[0m\u001b[0;34m)\u001b[0m\u001b[0;34m\u001b[0m\u001b[0;34m\u001b[0m\u001b[0m\n\u001b[0m\u001b[1;32m   2894\u001b[0m \u001b[0;34m\u001b[0m\u001b[0m\n\u001b[1;32m   2895\u001b[0m         \u001b[0;31m# We are left with two options: a single key, and a collection of keys,\u001b[0m\u001b[0;34m\u001b[0m\u001b[0;34m\u001b[0m\u001b[0;34m\u001b[0m\u001b[0m\n",
      "\u001b[0;32m~/opt/anaconda3/lib/python3.7/site-packages/pandas/core/frame.py\u001b[0m in \u001b[0;36m_getitem_bool_array\u001b[0;34m(self, key)\u001b[0m\n\u001b[1;32m   2943\u001b[0m         \u001b[0;31m# check_bool_indexer will throw exception if Series key cannot\u001b[0m\u001b[0;34m\u001b[0m\u001b[0;34m\u001b[0m\u001b[0;34m\u001b[0m\u001b[0m\n\u001b[1;32m   2944\u001b[0m         \u001b[0;31m# be reindexed to match DataFrame rows\u001b[0m\u001b[0;34m\u001b[0m\u001b[0;34m\u001b[0m\u001b[0;34m\u001b[0m\u001b[0m\n\u001b[0;32m-> 2945\u001b[0;31m         \u001b[0mkey\u001b[0m \u001b[0;34m=\u001b[0m \u001b[0mcheck_bool_indexer\u001b[0m\u001b[0;34m(\u001b[0m\u001b[0mself\u001b[0m\u001b[0;34m.\u001b[0m\u001b[0mindex\u001b[0m\u001b[0;34m,\u001b[0m \u001b[0mkey\u001b[0m\u001b[0;34m)\u001b[0m\u001b[0;34m\u001b[0m\u001b[0;34m\u001b[0m\u001b[0m\n\u001b[0m\u001b[1;32m   2946\u001b[0m         \u001b[0mindexer\u001b[0m \u001b[0;34m=\u001b[0m \u001b[0mkey\u001b[0m\u001b[0;34m.\u001b[0m\u001b[0mnonzero\u001b[0m\u001b[0;34m(\u001b[0m\u001b[0;34m)\u001b[0m\u001b[0;34m[\u001b[0m\u001b[0;36m0\u001b[0m\u001b[0;34m]\u001b[0m\u001b[0;34m\u001b[0m\u001b[0;34m\u001b[0m\u001b[0m\n\u001b[1;32m   2947\u001b[0m         \u001b[0;32mreturn\u001b[0m \u001b[0mself\u001b[0m\u001b[0;34m.\u001b[0m\u001b[0m_take_with_is_copy\u001b[0m\u001b[0;34m(\u001b[0m\u001b[0mindexer\u001b[0m\u001b[0;34m,\u001b[0m \u001b[0maxis\u001b[0m\u001b[0;34m=\u001b[0m\u001b[0;36m0\u001b[0m\u001b[0;34m)\u001b[0m\u001b[0;34m\u001b[0m\u001b[0;34m\u001b[0m\u001b[0m\n",
      "\u001b[0;32m~/opt/anaconda3/lib/python3.7/site-packages/pandas/core/indexing.py\u001b[0m in \u001b[0;36mcheck_bool_indexer\u001b[0;34m(index, key)\u001b[0m\n\u001b[1;32m   2183\u001b[0m         \u001b[0;32mif\u001b[0m \u001b[0mmask\u001b[0m\u001b[0;34m.\u001b[0m\u001b[0many\u001b[0m\u001b[0;34m(\u001b[0m\u001b[0;34m)\u001b[0m\u001b[0;34m:\u001b[0m\u001b[0;34m\u001b[0m\u001b[0;34m\u001b[0m\u001b[0m\n\u001b[1;32m   2184\u001b[0m             raise IndexingError(\n\u001b[0;32m-> 2185\u001b[0;31m                 \u001b[0;34m\"Unalignable boolean Series provided as \"\u001b[0m\u001b[0;34m\u001b[0m\u001b[0;34m\u001b[0m\u001b[0m\n\u001b[0m\u001b[1;32m   2186\u001b[0m                 \u001b[0;34m\"indexer (index of the boolean Series and of \"\u001b[0m\u001b[0;34m\u001b[0m\u001b[0;34m\u001b[0m\u001b[0m\n\u001b[1;32m   2187\u001b[0m                 \u001b[0;34m\"the indexed object do not match).\"\u001b[0m\u001b[0;34m\u001b[0m\u001b[0;34m\u001b[0m\u001b[0m\n",
      "\u001b[0;31mIndexingError\u001b[0m: Unalignable boolean Series provided as indexer (index of the boolean Series and of the indexed object do not match)."
     ]
    }
   ],
   "source": [
    "double_href = data[data.href.value_counts() == 1]"
   ]
  },
  {
   "cell_type": "code",
   "execution_count": 10,
   "metadata": {},
   "outputs": [
    {
     "data": {
      "text/plain": [
       "(20774, 16)"
      ]
     },
     "execution_count": 10,
     "metadata": {},
     "output_type": "execute_result"
    }
   ],
   "source": [
    "data.shape"
   ]
  },
  {
   "cell_type": "code",
   "execution_count": null,
   "metadata": {},
   "outputs": [],
   "source": []
  }
 ],
 "metadata": {
  "kernelspec": {
   "display_name": "Python 3",
   "language": "python",
   "name": "python3"
  },
  "language_info": {
   "codemirror_mode": {
    "name": "ipython",
    "version": 3
   },
   "file_extension": ".py",
   "mimetype": "text/x-python",
   "name": "python",
   "nbconvert_exporter": "python",
   "pygments_lexer": "ipython3",
   "version": "3.7.7"
  }
 },
 "nbformat": 4,
 "nbformat_minor": 4
}
