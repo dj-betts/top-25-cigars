{
 "cells": [
  {
   "cell_type": "code",
   "execution_count": 1,
   "metadata": {},
   "outputs": [],
   "source": [
    "import string"
   ]
  },
  {
   "cell_type": "code",
   "execution_count": 2,
   "metadata": {},
   "outputs": [],
   "source": [
    "from scipy import stats"
   ]
  },
  {
   "cell_type": "code",
   "execution_count": 3,
   "metadata": {},
   "outputs": [],
   "source": [
    "import pandas as pd\n",
    "import numpy as np"
   ]
  },
  {
   "cell_type": "code",
   "execution_count": 8,
   "metadata": {},
   "outputs": [],
   "source": [
    "import matplotlib.pyplot as plt"
   ]
  },
  {
   "cell_type": "code",
   "execution_count": 9,
   "metadata": {},
   "outputs": [],
   "source": [
    "import re"
   ]
  },
  {
   "cell_type": "code",
   "execution_count": 10,
   "metadata": {},
   "outputs": [],
   "source": [
    "def find_strength(string):\n",
    "    value = string.find('/6')\n",
    "    if string[value-1] is '(':\n",
    "        return (None)\n",
    "    else:\n",
    "        return string[value-1]"
   ]
  },
  {
   "cell_type": "code",
   "execution_count": 11,
   "metadata": {},
   "outputs": [],
   "source": [
    "def cigar_details(string):\n",
    "    size = string.split('\\n')\n",
    "    return size[2].strip()"
   ]
  },
  {
   "cell_type": "code",
   "execution_count": 12,
   "metadata": {},
   "outputs": [],
   "source": [
    "#consider striping '-' before date and turing string into date-time object\n",
    "def cigar_og_issue_date(string):\n",
    "    size = string.split('\\n')\n",
    "    return size[3].strip()"
   ]
  },
  {
   "cell_type": "code",
   "execution_count": 13,
   "metadata": {},
   "outputs": [],
   "source": [
    "#built for df.gauge\n",
    "def make_int(string):\n",
    "    try:\n",
    "        string = int(string)\n",
    "        return string\n",
    "    except:\n",
    "        pass"
   ]
  },
  {
   "cell_type": "code",
   "execution_count": 122,
   "metadata": {},
   "outputs": [],
   "source": [
    "from fractions import Fraction\n",
    "#convert some string into floats (inch)\n",
    "def convert_length_2_float(string):\n",
    "    try:\n",
    "        string = string.strip('\"')\n",
    "        string = string.split(' ')\n",
    "        inch = int(string[0])\n",
    "        if string[1]:\n",
    "            fraction = string[1]\n",
    "        return (inch + float(Fraction(fraction)))\n",
    "    except:\n",
    "        return None"
   ]
  },
  {
   "cell_type": "code",
   "execution_count": 230,
   "metadata": {},
   "outputs": [],
   "source": [
    "#still have 'miscellanious and misc.' as labels, but close enough for now.\n",
    "def size_filter(string):\n",
    "    try:\n",
    "        string = string.lower()\n",
    "        return(string)\n",
    "    except:\n",
    "        return None\n",
    "    \n",
    "#code to make a most common sizes data frame.   \n",
    "#df_common_size = df[df['size'].map(df['size'].value_counts()) > 100]    "
   ]
  },
  {
   "cell_type": "code",
   "execution_count": 123,
   "metadata": {},
   "outputs": [],
   "source": [
    "#replacement dictionary for the factory country column\n",
    "country_replacement_dict = {'Cuba':'cub', 'Dominican Republic':'dr', 'Nicaragua':'nic', 'Honduras':'hon', 'Jamaica':'jam',\n",
    "       'Mexico':'mex', 'U.S.A.':'usa', 'Philippines':'phl', 'Canary Islands':'can', 'Brazil':'brz',\n",
    "       'Nicaragua, Honduras':'nic', 'Costa Rica':'cst', 'Indonesia':'ind', 'Bahamas':'bah',\n",
    "       'Panama':'pan', 'nan':None, 'USA':'usa', 'NIcaragua':'nic', 'El Salvador':'sal', 'Colombia':'col',\n",
    "       'Dominican  Republic':'dr', 'Dominican Repubcic':'dr', 'Dominican Repubilc':'dr',\n",
    "       'Dom. Rep.':'dr', 'Nicaraqua':'nic', 'U.S.A':'usa', 'Domincan Republic':'dr',\n",
    "       'Nicarag’ua':'nic', 'Dominican Rep\"ublic':'dr'}\n",
    "#df.country.replace(replacement_dict, inplace=True)"
   ]
  },
  {
   "cell_type": "code",
   "execution_count": 124,
   "metadata": {},
   "outputs": [],
   "source": [
    "data = pd.read_csv('cigar_aficionado.csv', index_col='Unnamed: 0')"
   ]
  },
  {
   "cell_type": "code",
   "execution_count": 125,
   "metadata": {},
   "outputs": [
    {
     "data": {
      "text/plain": [
       "(20769, 19)"
      ]
     },
     "execution_count": 125,
     "metadata": {},
     "output_type": "execute_result"
    }
   ],
   "source": [
    "data.shape"
   ]
  },
  {
   "cell_type": "code",
   "execution_count": 205,
   "metadata": {},
   "outputs": [],
   "source": [
    "df = data.copy()"
   ]
  },
  {
   "cell_type": "code",
   "execution_count": 206,
   "metadata": {},
   "outputs": [
    {
     "data": {
      "text/plain": [
       "Index(['image', 'name', 'score', 'length', 'gauge', 'strenth_string',\n",
       "       'tasting_notes', 'size', 'filler', 'binder', 'wrapper', 'country',\n",
       "       'price', 'issue', 'more_reviews', 'href', 'strength', 'og_issue',\n",
       "       'og_issue_date'],\n",
       "      dtype='object')"
      ]
     },
     "execution_count": 206,
     "metadata": {},
     "output_type": "execute_result"
    }
   ],
   "source": [
    "df.columns"
   ]
  },
  {
   "cell_type": "code",
   "execution_count": 207,
   "metadata": {},
   "outputs": [
    {
     "data": {
      "text/html": [
       "<div>\n",
       "<style scoped>\n",
       "    .dataframe tbody tr th:only-of-type {\n",
       "        vertical-align: middle;\n",
       "    }\n",
       "\n",
       "    .dataframe tbody tr th {\n",
       "        vertical-align: top;\n",
       "    }\n",
       "\n",
       "    .dataframe thead th {\n",
       "        text-align: right;\n",
       "    }\n",
       "</style>\n",
       "<table border=\"1\" class=\"dataframe\">\n",
       "  <thead>\n",
       "    <tr style=\"text-align: right;\">\n",
       "      <th></th>\n",
       "      <th>image</th>\n",
       "      <th>name</th>\n",
       "      <th>score</th>\n",
       "      <th>length</th>\n",
       "      <th>gauge</th>\n",
       "      <th>strenth_string</th>\n",
       "      <th>tasting_notes</th>\n",
       "      <th>size</th>\n",
       "      <th>filler</th>\n",
       "      <th>binder</th>\n",
       "      <th>wrapper</th>\n",
       "      <th>country</th>\n",
       "      <th>price</th>\n",
       "      <th>issue</th>\n",
       "      <th>more_reviews</th>\n",
       "      <th>href</th>\n",
       "      <th>strength</th>\n",
       "      <th>og_issue</th>\n",
       "      <th>og_issue_date</th>\n",
       "    </tr>\n",
       "  </thead>\n",
       "  <tbody>\n",
       "    <tr>\n",
       "      <th>0</th>\n",
       "      <td>https://img.mshanken.com/d/cao/ratings_extras/...</td>\n",
       "      <td>BOLIVAR ROYAL CORONA</td>\n",
       "      <td>93</td>\n",
       "      <td>4 7/8\"</td>\n",
       "      <td>50.0</td>\n",
       "      <td>background:url('https://img.mshanken.com/d/cao...</td>\n",
       "      <td>This is an earthy, rich cigar with a lovely br...</td>\n",
       "      <td>Robusto</td>\n",
       "      <td>Cuba</td>\n",
       "      <td>Cuba</td>\n",
       "      <td>Cuba</td>\n",
       "      <td>cub</td>\n",
       "      <td>£10.00</td>\n",
       "      <td>\\nIssue:\\n                                    ...</td>\n",
       "      <td>[['89', ['Cigar Aficionado: ', '              ...</td>\n",
       "      <td>href</td>\n",
       "      <td>NaN</td>\n",
       "      <td>Cigar Aficionado</td>\n",
       "      <td>– Sep 01, 1992</td>\n",
       "    </tr>\n",
       "    <tr>\n",
       "      <th>2</th>\n",
       "      <td>https://img.mshanken.com/d/cao/ratings_extras/...</td>\n",
       "      <td>DAVIDOFF GRAN CRU NO. 2</td>\n",
       "      <td>89</td>\n",
       "      <td>5 5/8\"</td>\n",
       "      <td>43.0</td>\n",
       "      <td>background:url('https://img.mshanken.com/d/cao...</td>\n",
       "      <td>An enticing cigar that keeps you coming back f...</td>\n",
       "      <td>Corona</td>\n",
       "      <td>Dom. Rep.</td>\n",
       "      <td>Dom. Rep.</td>\n",
       "      <td>U.S.A./Conn. Shade</td>\n",
       "      <td>dr</td>\n",
       "      <td>NaN</td>\n",
       "      <td>\\nIssue:\\n                                    ...</td>\n",
       "      <td>[['86', ['Cigar Aficionado: ', '              ...</td>\n",
       "      <td>1001</td>\n",
       "      <td>NaN</td>\n",
       "      <td>Cigar Aficionado</td>\n",
       "      <td>– Mar 01, 1993</td>\n",
       "    </tr>\n",
       "    <tr>\n",
       "      <th>3</th>\n",
       "      <td>https://img.mshanken.com/d/cao/ratings_extras/...</td>\n",
       "      <td>ASHTON CORONA</td>\n",
       "      <td>86</td>\n",
       "      <td>5 1/2\"</td>\n",
       "      <td>44.0</td>\n",
       "      <td>background:url('https://img.mshanken.com/d/cao...</td>\n",
       "      <td>This cigar is well-made and gives plenty of fl...</td>\n",
       "      <td>Corona</td>\n",
       "      <td>Dom. Rep.</td>\n",
       "      <td>Dom. Rep.</td>\n",
       "      <td>U.S.A./Conn. Shade</td>\n",
       "      <td>dr</td>\n",
       "      <td>$6.25</td>\n",
       "      <td>\\nIssue:\\n                                    ...</td>\n",
       "      <td>[['90', ['Cigar Aficionado: ', '              ...</td>\n",
       "      <td>1002</td>\n",
       "      <td>NaN</td>\n",
       "      <td>Cigar Aficionado</td>\n",
       "      <td>– Mar 01, 1993</td>\n",
       "    </tr>\n",
       "    <tr>\n",
       "      <th>4</th>\n",
       "      <td>https://img.mshanken.com/d/cao/ratings_extras/...</td>\n",
       "      <td>ASHTON MAGNUM</td>\n",
       "      <td>82</td>\n",
       "      <td>5\"</td>\n",
       "      <td>50.0</td>\n",
       "      <td>background:url('https://img.mshanken.com/d/cao...</td>\n",
       "      <td>This is a clean, very mild well-made cigar, wi...</td>\n",
       "      <td>Robusto</td>\n",
       "      <td>Dom. Rep.</td>\n",
       "      <td>Dom. Rep.</td>\n",
       "      <td>U.S.A./Conn. Shade</td>\n",
       "      <td>dr</td>\n",
       "      <td>$6.75</td>\n",
       "      <td>\\nIssue:\\n                                    ...</td>\n",
       "      <td>[['87', ['Cigar Aficionado: ', '              ...</td>\n",
       "      <td>1003</td>\n",
       "      <td>NaN</td>\n",
       "      <td>Cigar Aficionado</td>\n",
       "      <td>– Sep 01, 1992</td>\n",
       "    </tr>\n",
       "    <tr>\n",
       "      <th>5</th>\n",
       "      <td>https://img.mshanken.com/d/cao/ratings_extras/...</td>\n",
       "      <td>ARTURO FUENTE CHATEAU FUENTE SUN GROWN</td>\n",
       "      <td>86</td>\n",
       "      <td>4 1/2\"</td>\n",
       "      <td>50.0</td>\n",
       "      <td>background:url('https://img.mshanken.com/d/cao...</td>\n",
       "      <td>Finely constructed, A. Fuente's robusto has a ...</td>\n",
       "      <td>Robusto</td>\n",
       "      <td>Dom. Rep.</td>\n",
       "      <td>Dom. Rep.</td>\n",
       "      <td>Ecuador</td>\n",
       "      <td>dr</td>\n",
       "      <td>NaN</td>\n",
       "      <td>\\nIssue:\\n                                    ...</td>\n",
       "      <td>[['89', ['Cigar Aficionado: ', '              ...</td>\n",
       "      <td>1004</td>\n",
       "      <td>NaN</td>\n",
       "      <td>Cigar Aficionado</td>\n",
       "      <td>– Sep 01, 1992</td>\n",
       "    </tr>\n",
       "  </tbody>\n",
       "</table>\n",
       "</div>"
      ],
      "text/plain": [
       "                                               image  \\\n",
       "0  https://img.mshanken.com/d/cao/ratings_extras/...   \n",
       "2  https://img.mshanken.com/d/cao/ratings_extras/...   \n",
       "3  https://img.mshanken.com/d/cao/ratings_extras/...   \n",
       "4  https://img.mshanken.com/d/cao/ratings_extras/...   \n",
       "5  https://img.mshanken.com/d/cao/ratings_extras/...   \n",
       "\n",
       "                                      name  score  length  gauge  \\\n",
       "0                     BOLIVAR ROYAL CORONA     93  4 7/8\"   50.0   \n",
       "2                  DAVIDOFF GRAN CRU NO. 2     89  5 5/8\"   43.0   \n",
       "3                            ASHTON CORONA     86  5 1/2\"   44.0   \n",
       "4                            ASHTON MAGNUM     82      5\"   50.0   \n",
       "5  ARTURO FUENTE CHATEAU FUENTE SUN GROWN      86  4 1/2\"   50.0   \n",
       "\n",
       "                                      strenth_string  \\\n",
       "0  background:url('https://img.mshanken.com/d/cao...   \n",
       "2  background:url('https://img.mshanken.com/d/cao...   \n",
       "3  background:url('https://img.mshanken.com/d/cao...   \n",
       "4  background:url('https://img.mshanken.com/d/cao...   \n",
       "5  background:url('https://img.mshanken.com/d/cao...   \n",
       "\n",
       "                                       tasting_notes     size     filler  \\\n",
       "0  This is an earthy, rich cigar with a lovely br...  Robusto       Cuba   \n",
       "2  An enticing cigar that keeps you coming back f...   Corona  Dom. Rep.   \n",
       "3  This cigar is well-made and gives plenty of fl...   Corona  Dom. Rep.   \n",
       "4  This is a clean, very mild well-made cigar, wi...  Robusto  Dom. Rep.   \n",
       "5  Finely constructed, A. Fuente's robusto has a ...  Robusto  Dom. Rep.   \n",
       "\n",
       "      binder             wrapper country   price  \\\n",
       "0       Cuba                Cuba     cub  £10.00   \n",
       "2  Dom. Rep.  U.S.A./Conn. Shade      dr     NaN   \n",
       "3  Dom. Rep.  U.S.A./Conn. Shade      dr   $6.25   \n",
       "4  Dom. Rep.  U.S.A./Conn. Shade      dr   $6.75   \n",
       "5  Dom. Rep.             Ecuador      dr     NaN   \n",
       "\n",
       "                                               issue  \\\n",
       "0  \\nIssue:\\n                                    ...   \n",
       "2  \\nIssue:\\n                                    ...   \n",
       "3  \\nIssue:\\n                                    ...   \n",
       "4  \\nIssue:\\n                                    ...   \n",
       "5  \\nIssue:\\n                                    ...   \n",
       "\n",
       "                                        more_reviews  href  strength  \\\n",
       "0  [['89', ['Cigar Aficionado: ', '              ...  href       NaN   \n",
       "2  [['86', ['Cigar Aficionado: ', '              ...  1001       NaN   \n",
       "3  [['90', ['Cigar Aficionado: ', '              ...  1002       NaN   \n",
       "4  [['87', ['Cigar Aficionado: ', '              ...  1003       NaN   \n",
       "5  [['89', ['Cigar Aficionado: ', '              ...  1004       NaN   \n",
       "\n",
       "           og_issue   og_issue_date  \n",
       "0  Cigar Aficionado  – Sep 01, 1992  \n",
       "2  Cigar Aficionado  – Mar 01, 1993  \n",
       "3  Cigar Aficionado  – Mar 01, 1993  \n",
       "4  Cigar Aficionado  – Sep 01, 1992  \n",
       "5  Cigar Aficionado  – Sep 01, 1992  "
      ]
     },
     "execution_count": 207,
     "metadata": {},
     "output_type": "execute_result"
    }
   ],
   "source": [
    "df.head()"
   ]
  },
  {
   "cell_type": "code",
   "execution_count": null,
   "metadata": {},
   "outputs": [],
   "source": []
  },
  {
   "cell_type": "markdown",
   "metadata": {},
   "source": [
    "# ttests of score by country "
   ]
  },
  {
   "cell_type": "code",
   "execution_count": 129,
   "metadata": {},
   "outputs": [],
   "source": [
    "scores_df = df.groupby(\"country\").filter(lambda x: len(x) > 10)"
   ]
  },
  {
   "cell_type": "code",
   "execution_count": 130,
   "metadata": {},
   "outputs": [
    {
     "data": {
      "text/plain": [
       "dr     8402\n",
       "nic    4941\n",
       "hon    3469\n",
       "cub    2763\n",
       "usa     371\n",
       "mex     201\n",
       "jam     175\n",
       "cst     117\n",
       "bah     111\n",
       "can      88\n",
       "brz      42\n",
       "phl      41\n",
       "ind      19\n",
       "Name: country, dtype: int64"
      ]
     },
     "execution_count": 130,
     "metadata": {},
     "output_type": "execute_result"
    }
   ],
   "source": [
    "scores_df.country.value_counts()"
   ]
  },
  {
   "cell_type": "code",
   "execution_count": 131,
   "metadata": {},
   "outputs": [
    {
     "data": {
      "image/png": "[encoded data removed]",
      "text/plain": [
       "<Figure size 432x288 with 1 Axes>"
      ]
     },
     "metadata": {
      "needs_background": "light"
     },
     "output_type": "display_data"
    }
   ],
   "source": [
    "scores_df.score.hist();"
   ]
  },
  {
   "cell_type": "code",
   "execution_count": 132,
   "metadata": {},
   "outputs": [
    {
     "name": "stdout",
     "output_type": "stream",
     "text": [
      "count    8402.000000\n",
      "mean       87.084385\n",
      "std         2.656531\n",
      "min        75.000000\n",
      "25%        85.000000\n",
      "50%        87.000000\n",
      "75%        89.000000\n",
      "max        97.000000\n",
      "Name: score, dtype: float64\n"
     ]
    },
    {
     "data": {
      "image/png": "[encoded data removed]",
      "text/plain": [
       "<Figure size 432x288 with 1 Axes>"
      ]
     },
     "metadata": {
      "needs_background": "light"
     },
     "output_type": "display_data"
    }
   ],
   "source": [
    "dr_score = scores_df[scores_df.country == 'dr'].score\n",
    "print(dr_score.describe())\n",
    "dr_score.hist();"
   ]
  },
  {
   "cell_type": "code",
   "execution_count": 133,
   "metadata": {},
   "outputs": [
    {
     "name": "stdout",
     "output_type": "stream",
     "text": [
      "count    2763.000000\n",
      "mean       89.540355\n",
      "std         2.364676\n",
      "min        80.000000\n",
      "25%        88.000000\n",
      "50%        90.000000\n",
      "75%        91.000000\n",
      "max        99.000000\n",
      "Name: score, dtype: float64\n"
     ]
    },
    {
     "data": {
      "image/png": "[encoded data removed]",
      "text/plain": [
       "<Figure size 432x288 with 1 Axes>"
      ]
     },
     "metadata": {
      "needs_background": "light"
     },
     "output_type": "display_data"
    }
   ],
   "source": [
    "cuba_score = scores_df[scores_df.country == 'cub'].score\n",
    "print(cuba_score.describe())\n",
    "cuba_score.hist();"
   ]
  },
  {
   "cell_type": "code",
   "execution_count": 134,
   "metadata": {},
   "outputs": [
    {
     "name": "stdout",
     "output_type": "stream",
     "text": [
      "count    4941.000000\n",
      "mean       88.638939\n",
      "std         2.487128\n",
      "min        76.000000\n",
      "25%        87.000000\n",
      "50%        89.000000\n",
      "75%        90.000000\n",
      "max        97.000000\n",
      "Name: score, dtype: float64\n"
     ]
    },
    {
     "data": {
      "image/png": "[encoded data removed]",
      "text/plain": [
       "<Figure size 432x288 with 1 Axes>"
      ]
     },
     "metadata": {
      "needs_background": "light"
     },
     "output_type": "display_data"
    }
   ],
   "source": [
    "nic_score = scores_df[scores_df.country == 'nic'].score\n",
    "print(nic_score.describe())\n",
    "nic_score.hist();"
   ]
  },
  {
   "cell_type": "code",
   "execution_count": 135,
   "metadata": {},
   "outputs": [
    {
     "name": "stdout",
     "output_type": "stream",
     "text": [
      "count    3469.000000\n",
      "mean       87.237532\n",
      "std         2.756678\n",
      "min        70.000000\n",
      "25%        86.000000\n",
      "50%        87.000000\n",
      "75%        89.000000\n",
      "max        96.000000\n",
      "Name: score, dtype: float64\n"
     ]
    },
    {
     "data": {
      "image/png": "[encoded data removed]",
      "text/plain": [
       "<Figure size 432x288 with 1 Axes>"
      ]
     },
     "metadata": {
      "needs_background": "light"
     },
     "output_type": "display_data"
    }
   ],
   "source": [
    "hon_score = scores_df[scores_df.country == 'hon'].score\n",
    "print(hon_score.describe())\n",
    "hon_score.hist();"
   ]
  },
  {
   "cell_type": "code",
   "execution_count": 136,
   "metadata": {},
   "outputs": [
    {
     "name": "stdout",
     "output_type": "stream",
     "text": [
      "count    371.000000\n",
      "mean      88.169811\n",
      "std        2.531051\n",
      "min       80.000000\n",
      "25%       87.000000\n",
      "50%       88.000000\n",
      "75%       90.000000\n",
      "max       93.000000\n",
      "Name: score, dtype: float64\n"
     ]
    },
    {
     "data": {
      "image/png": "[encoded data removed]",
      "text/plain": [
       "<Figure size 432x288 with 1 Axes>"
      ]
     },
     "metadata": {
      "needs_background": "light"
     },
     "output_type": "display_data"
    }
   ],
   "source": [
    "usa_score = scores_df[scores_df.country == 'usa'].score\n",
    "print(usa_score.describe())\n",
    "usa_score.hist();"
   ]
  },
  {
   "cell_type": "code",
   "execution_count": 137,
   "metadata": {},
   "outputs": [
    {
     "name": "stdout",
     "output_type": "stream",
     "text": [
      "count    175.000000\n",
      "mean      85.668571\n",
      "std        2.043742\n",
      "min       80.000000\n",
      "25%       84.000000\n",
      "50%       86.000000\n",
      "75%       87.000000\n",
      "max       91.000000\n",
      "Name: score, dtype: float64\n"
     ]
    },
    {
     "data": {
      "image/png": "[encoded data removed]",
      "text/plain": [
       "<Figure size 432x288 with 1 Axes>"
      ]
     },
     "metadata": {
      "needs_background": "light"
     },
     "output_type": "display_data"
    }
   ],
   "source": [
    "jam_score = scores_df[scores_df.country == 'jam'].score\n",
    "print(jam_score.describe())\n",
    "jam_score.hist();"
   ]
  },
  {
   "cell_type": "code",
   "execution_count": 138,
   "metadata": {},
   "outputs": [
    {
     "name": "stdout",
     "output_type": "stream",
     "text": [
      "count    201.000000\n",
      "mean      84.666667\n",
      "std        4.154917\n",
      "min       69.000000\n",
      "25%       82.000000\n",
      "50%       85.000000\n",
      "75%       87.000000\n",
      "max       94.000000\n",
      "Name: score, dtype: float64\n"
     ]
    },
    {
     "data": {
      "image/png": "[encoded data removed]",
      "text/plain": [
       "<Figure size 432x288 with 1 Axes>"
      ]
     },
     "metadata": {
      "needs_background": "light"
     },
     "output_type": "display_data"
    }
   ],
   "source": [
    "mex_score = scores_df[scores_df.country == 'mex'].score\n",
    "print(mex_score.describe())\n",
    "mex_score.hist();"
   ]
  },
  {
   "cell_type": "code",
   "execution_count": 139,
   "metadata": {},
   "outputs": [
    {
     "data": {
      "text/plain": [
       "count    20740.000000\n",
       "mean        87.766538\n",
       "std          2.812987\n",
       "min         69.000000\n",
       "25%         86.000000\n",
       "50%         88.000000\n",
       "75%         90.000000\n",
       "max         99.000000\n",
       "Name: score, dtype: float64"
      ]
     },
     "execution_count": 139,
     "metadata": {},
     "output_type": "execute_result"
    }
   ],
   "source": [
    "scores_df.score.describe()"
   ]
  },
  {
   "cell_type": "markdown",
   "metadata": {},
   "source": [
    "# ttest"
   ]
  },
  {
   "cell_type": "code",
   "execution_count": 140,
   "metadata": {},
   "outputs": [],
   "source": [
    "nic_usa_ttest = stats.ttest_ind(nic_score, usa_score, equal_var=False, alternative = 'greater')"
   ]
  },
  {
   "cell_type": "code",
   "execution_count": 141,
   "metadata": {},
   "outputs": [
    {
     "name": "stdout",
     "output_type": "stream",
     "text": [
      "t-statistic is 3.44729404129025, and p-value is 0.0003113023262242171\n"
     ]
    },
    {
     "data": {
      "image/png": "[encoded data removed]",
      "text/plain": [
       "<Figure size 1152x216 with 1 Axes>"
      ]
     },
     "metadata": {
      "needs_background": "light"
     },
     "output_type": "display_data"
    }
   ],
   "source": [
    "# Distribution of Welsh's Test Statistic Under the Null Hypothesis\n",
    "x = np.linspace(-10, 10, num=250)\n",
    "\n",
    "fig, ax = plt.subplots(1, figsize=(16, 3))\n",
    "curve = stats.t(160)\n",
    "ax.plot(x, curve.pdf(x), linewidth=2, label=\"Degree of Freedom: {:2.2f}\".format(160))\n",
    "ax.fill_between(x, curve.pdf(x), where=(x >= nic_usa_ttest[0]), color=\"red\", alpha=0.25)\n",
    "ax.fill_between(x, curve.pdf(x), where=(x <= -nic_usa_ttest[0]), color=\"red\", alpha=0.25)\n",
    "ax.legend()\n",
    "ax.set_title(\"Distribution of Welsh's Test Statistic Under the Null Hypothesis for nic vs usa\")\n",
    "\n",
    "print(f\"t-statistic is {nic_usa_ttest[0]}, and p-value is {nic_usa_ttest[1]}\")\n"
   ]
  },
  {
   "cell_type": "code",
   "execution_count": 142,
   "metadata": {},
   "outputs": [
    {
     "data": {
      "text/plain": [
       "8402"
      ]
     },
     "execution_count": 142,
     "metadata": {},
     "output_type": "execute_result"
    }
   ],
   "source": [
    "dr_score.mean()\n",
    "len(dr_score)"
   ]
  },
  {
   "cell_type": "code",
   "execution_count": 143,
   "metadata": {},
   "outputs": [
    {
     "data": {
      "text/plain": [
       "2763"
      ]
     },
     "execution_count": 143,
     "metadata": {},
     "output_type": "execute_result"
    }
   ],
   "source": [
    "cuba_score.mean()\n",
    "len(cuba_score)"
   ]
  },
  {
   "cell_type": "code",
   "execution_count": 144,
   "metadata": {},
   "outputs": [],
   "source": [
    "dr_cuba_ttest = stats.ttest_ind(dr_score, cuba_score, equal_var=False,alternative = 'less')"
   ]
  },
  {
   "cell_type": "code",
   "execution_count": 145,
   "metadata": {},
   "outputs": [
    {
     "name": "stdout",
     "output_type": "stream",
     "text": [
      "t-statistic is -45.89425465545143, and p-value is 0.0\n"
     ]
    },
    {
     "data": {
      "image/png": "[encoded data removed]",
      "text/plain": [
       "<Figure size 1152x216 with 1 Axes>"
      ]
     },
     "metadata": {
      "needs_background": "light"
     },
     "output_type": "display_data"
    }
   ],
   "source": [
    "# Distribution of Welsh's Test Statistic Under the Null Hypothesis\n",
    "x = np.linspace(-3, 3, num=250)\n",
    "\n",
    "fig, ax = plt.subplots(1, figsize=(16, 3))\n",
    "curve = stats.t(160)\n",
    "ax.plot(x, curve.pdf(x), linewidth=2, label=\"Degree of Freedom: {:2.2f}\".format(160))\n",
    "ax.fill_between(x, curve.pdf(x), where=(x >= -dr_cuba_ttest[0]), color=\"red\", alpha=0.25)\n",
    "ax.fill_between(x, curve.pdf(x), where=(x <= dr_cuba_ttest[0]), color=\"red\", alpha=0.25)\n",
    "ax.legend()\n",
    "ax.set_title(\"Distribution of Welsh's Test Statistic Under the Null Hypothesis for dr vs cuba\")\n",
    "\n",
    "print(f\"t-statistic is {dr_cuba_ttest[0]}, and p-value is {dr_cuba_ttest[1]}\")\n"
   ]
  },
  {
   "cell_type": "code",
   "execution_count": 146,
   "metadata": {},
   "outputs": [],
   "source": [
    "stat, p = stats.f_oneway(dr_score, cuba_score, nic_score, jam_score, hon_score)"
   ]
  },
  {
   "cell_type": "code",
   "execution_count": 147,
   "metadata": {},
   "outputs": [
    {
     "name": "stdout",
     "output_type": "stream",
     "text": [
      "0.0\n",
      "672.0690430681683\n"
     ]
    }
   ],
   "source": [
    "print(p)\n",
    "print(stat)"
   ]
  },
  {
   "cell_type": "markdown",
   "metadata": {},
   "source": [
    "# fixing the features"
   ]
  },
  {
   "cell_type": "code",
   "execution_count": 208,
   "metadata": {},
   "outputs": [
    {
     "data": {
      "text/plain": [
       "Index(['image', 'name', 'score', 'length', 'gauge', 'strenth_string',\n",
       "       'tasting_notes', 'size', 'filler', 'binder', 'wrapper', 'country',\n",
       "       'price', 'issue', 'more_reviews', 'href', 'strength', 'og_issue',\n",
       "       'og_issue_date'],\n",
       "      dtype='object')"
      ]
     },
     "execution_count": 208,
     "metadata": {},
     "output_type": "execute_result"
    }
   ],
   "source": [
    "df.columns"
   ]
  },
  {
   "cell_type": "code",
   "execution_count": 209,
   "metadata": {},
   "outputs": [
    {
     "data": {
      "text/plain": [
       "array(['cub', 'dr', 'nic', 'hon', 'jam', 'mex', 'usa', 'phl', 'can',\n",
       "       'brz', 'cst', 'ind', 'bah', 'pan', nan, 'sal', 'col'], dtype=object)"
      ]
     },
     "execution_count": 209,
     "metadata": {},
     "output_type": "execute_result"
    }
   ],
   "source": [
    "df.country.unique()"
   ]
  },
  {
   "cell_type": "code",
   "execution_count": 210,
   "metadata": {},
   "outputs": [
    {
     "data": {
      "text/plain": [
       "array([50., 43., 44., 52., 49., 42., 48., 47., 41., 56., 45., 46., 54.,\n",
       "       38., 36., 51., 34., 35., 30., 40., 55., 60., 58., 64., 33., 32.,\n",
       "       31., 66., 37., 28., 39., 53., nan, 62., 61., 29., 26., 57.,  5.,\n",
       "       67., 59.,  6., 65., 70., 24., 63., 80.])"
      ]
     },
     "execution_count": 210,
     "metadata": {},
     "output_type": "execute_result"
    }
   ],
   "source": [
    "df.gauge.unique()"
   ]
  },
  {
   "cell_type": "code",
   "execution_count": 281,
   "metadata": {},
   "outputs": [],
   "source": [
    "tk_binder = df[df.binder =='TK']"
   ]
  },
  {
   "cell_type": "code",
   "execution_count": 283,
   "metadata": {},
   "outputs": [
    {
     "data": {
      "text/html": [
       "<div>\n",
       "<style scoped>\n",
       "    .dataframe tbody tr th:only-of-type {\n",
       "        vertical-align: middle;\n",
       "    }\n",
       "\n",
       "    .dataframe tbody tr th {\n",
       "        vertical-align: top;\n",
       "    }\n",
       "\n",
       "    .dataframe thead th {\n",
       "        text-align: right;\n",
       "    }\n",
       "</style>\n",
       "<table border=\"1\" class=\"dataframe\">\n",
       "  <thead>\n",
       "    <tr style=\"text-align: right;\">\n",
       "      <th></th>\n",
       "      <th>image</th>\n",
       "      <th>name</th>\n",
       "      <th>score</th>\n",
       "      <th>length</th>\n",
       "      <th>gauge</th>\n",
       "      <th>strenth_string</th>\n",
       "      <th>tasting_notes</th>\n",
       "      <th>size</th>\n",
       "      <th>filler</th>\n",
       "      <th>binder</th>\n",
       "      <th>wrapper</th>\n",
       "      <th>country</th>\n",
       "      <th>price</th>\n",
       "      <th>issue</th>\n",
       "      <th>more_reviews</th>\n",
       "      <th>href</th>\n",
       "      <th>strength</th>\n",
       "      <th>og_issue</th>\n",
       "      <th>og_issue_date</th>\n",
       "    </tr>\n",
       "  </thead>\n",
       "  <tbody>\n",
       "    <tr>\n",
       "      <th>9574</th>\n",
       "      <td>https://img.mshanken.com/d/cao/ratings_extras/...</td>\n",
       "      <td>HOYO DE MONTERREY TUBO</td>\n",
       "      <td>85</td>\n",
       "      <td>6 1/4\"</td>\n",
       "      <td>43.0</td>\n",
       "      <td>background:url('https://img.mshanken.com/d/cao...</td>\n",
       "      <td>This rich looking cigar has a lumpy wrapper. T...</td>\n",
       "      <td>lonsdale</td>\n",
       "      <td>Honduras, Nicaragua, Dom. Rep.</td>\n",
       "      <td>TK</td>\n",
       "      <td>Ecuador</td>\n",
       "      <td>hon</td>\n",
       "      <td>$4.05</td>\n",
       "      <td>\\nIssue:\\n                                    ...</td>\n",
       "      <td>[['85', ['Cigar Aficionado: ', '              ...</td>\n",
       "      <td>10740</td>\n",
       "      <td>NaN</td>\n",
       "      <td>Cigar Aficionado</td>\n",
       "      <td>– Feb 01, 2006</td>\n",
       "    </tr>\n",
       "    <tr>\n",
       "      <th>9605</th>\n",
       "      <td>https://img.mshanken.com/d/cao/ratings_extras/...</td>\n",
       "      <td>MACANUDO MADURO HYDE PARK</td>\n",
       "      <td>84</td>\n",
       "      <td>5 1/2\"</td>\n",
       "      <td>49.0</td>\n",
       "      <td>background:url('https://img.mshanken.com/d/cao...</td>\n",
       "      <td>A dark and toothy cigar. It has some vanilla n...</td>\n",
       "      <td>robusto</td>\n",
       "      <td>Dom. Rep., Mexico</td>\n",
       "      <td>TK</td>\n",
       "      <td>U.S.A./Conn. Broadleaf</td>\n",
       "      <td>jam</td>\n",
       "      <td>$5.65</td>\n",
       "      <td>\\nIssue:\\n                                    ...</td>\n",
       "      <td>[['84', ['Cigar Aficionado: ', '              ...</td>\n",
       "      <td>10772</td>\n",
       "      <td>NaN</td>\n",
       "      <td>Cigar Aficionado</td>\n",
       "      <td>– Feb 01, 2006</td>\n",
       "    </tr>\n",
       "  </tbody>\n",
       "</table>\n",
       "</div>"
      ],
      "text/plain": [
       "                                                  image  \\\n",
       "9574  https://img.mshanken.com/d/cao/ratings_extras/...   \n",
       "9605  https://img.mshanken.com/d/cao/ratings_extras/...   \n",
       "\n",
       "                           name  score  length  gauge  \\\n",
       "9574     HOYO DE MONTERREY TUBO     85  6 1/4\"   43.0   \n",
       "9605  MACANUDO MADURO HYDE PARK     84  5 1/2\"   49.0   \n",
       "\n",
       "                                         strenth_string  \\\n",
       "9574  background:url('https://img.mshanken.com/d/cao...   \n",
       "9605  background:url('https://img.mshanken.com/d/cao...   \n",
       "\n",
       "                                          tasting_notes      size  \\\n",
       "9574  This rich looking cigar has a lumpy wrapper. T...  lonsdale   \n",
       "9605  A dark and toothy cigar. It has some vanilla n...   robusto   \n",
       "\n",
       "                              filler binder                 wrapper country  \\\n",
       "9574  Honduras, Nicaragua, Dom. Rep.     TK                 Ecuador     hon   \n",
       "9605               Dom. Rep., Mexico     TK  U.S.A./Conn. Broadleaf     jam   \n",
       "\n",
       "      price                                              issue  \\\n",
       "9574  $4.05  \\nIssue:\\n                                    ...   \n",
       "9605  $5.65  \\nIssue:\\n                                    ...   \n",
       "\n",
       "                                           more_reviews   href  strength  \\\n",
       "9574  [['85', ['Cigar Aficionado: ', '              ...  10740       NaN   \n",
       "9605  [['84', ['Cigar Aficionado: ', '              ...  10772       NaN   \n",
       "\n",
       "              og_issue   og_issue_date  \n",
       "9574  Cigar Aficionado  – Feb 01, 2006  \n",
       "9605  Cigar Aficionado  – Feb 01, 2006  "
      ]
     },
     "execution_count": 283,
     "metadata": {},
     "output_type": "execute_result"
    }
   ],
   "source": [
    "tk_binder"
   ]
  },
  {
   "cell_type": "code",
   "execution_count": 274,
   "metadata": {},
   "outputs": [
    {
     "data": {
      "text/plain": [
       "<AxesSubplot:>"
      ]
     },
     "execution_count": 274,
     "metadata": {},
     "output_type": "execute_result"
    },
    {
     "data": {
      "image/png": "[encoded data removed]",
      "text/plain": [
       "<Figure size 432x288 with 1 Axes>"
      ]
     },
     "metadata": {
      "needs_background": "light"
     },
     "output_type": "display_data"
    }
   ],
   "source": [
    "df.wrapp1er.value_counts().hist()"
   ]
  },
  {
   "cell_type": "code",
   "execution_count": 276,
   "metadata": {},
   "outputs": [
    {
     "data": {
      "text/plain": [
       "<AxesSubplot:>"
      ]
     },
     "execution_count": 276,
     "metadata": {},
     "output_type": "execute_result"
    },
    {
     "data": {
      "image/png": "[encoded data removed]",
      "text/plain": [
       "<Figure size 432x288 with 1 Axes>"
      ]
     },
     "metadata": {
      "needs_background": "light"
     },
     "output_type": "display_data"
    }
   ],
   "source": [
    "df.filler.value_counts().hist()"
   ]
  },
  {
   "cell_type": "code",
   "execution_count": null,
   "metadata": {},
   "outputs": [],
   "source": []
  },
  {
   "cell_type": "code",
   "execution_count": null,
   "metadata": {},
   "outputs": [],
   "source": []
  },
  {
   "cell_type": "code",
   "execution_count": null,
   "metadata": {},
   "outputs": [],
   "source": []
  },
  {
   "cell_type": "code",
   "execution_count": null,
   "metadata": {},
   "outputs": [],
   "source": []
  },
  {
   "cell_type": "code",
   "execution_count": 231,
   "metadata": {},
   "outputs": [
    {
     "data": {
      "text/html": [
       "<div>\n",
       "<style scoped>\n",
       "    .dataframe tbody tr th:only-of-type {\n",
       "        vertical-align: middle;\n",
       "    }\n",
       "\n",
       "    .dataframe tbody tr th {\n",
       "        vertical-align: top;\n",
       "    }\n",
       "\n",
       "    .dataframe thead th {\n",
       "        text-align: right;\n",
       "    }\n",
       "</style>\n",
       "<table border=\"1\" class=\"dataframe\">\n",
       "  <thead>\n",
       "    <tr style=\"text-align: right;\">\n",
       "      <th></th>\n",
       "      <th>image</th>\n",
       "      <th>name</th>\n",
       "      <th>score</th>\n",
       "      <th>length</th>\n",
       "      <th>gauge</th>\n",
       "      <th>strenth_string</th>\n",
       "      <th>tasting_notes</th>\n",
       "      <th>size</th>\n",
       "      <th>filler</th>\n",
       "      <th>binder</th>\n",
       "      <th>wrapper</th>\n",
       "      <th>country</th>\n",
       "      <th>price</th>\n",
       "      <th>issue</th>\n",
       "      <th>more_reviews</th>\n",
       "      <th>href</th>\n",
       "      <th>strength</th>\n",
       "      <th>og_issue</th>\n",
       "      <th>og_issue_date</th>\n",
       "    </tr>\n",
       "  </thead>\n",
       "  <tbody>\n",
       "    <tr>\n",
       "      <th>0</th>\n",
       "      <td>https://img.mshanken.com/d/cao/ratings_extras/...</td>\n",
       "      <td>BOLIVAR ROYAL CORONA</td>\n",
       "      <td>93</td>\n",
       "      <td>4 7/8\"</td>\n",
       "      <td>50.0</td>\n",
       "      <td>background:url('https://img.mshanken.com/d/cao...</td>\n",
       "      <td>This is an earthy, rich cigar with a lovely br...</td>\n",
       "      <td>robusto</td>\n",
       "      <td>Cuba</td>\n",
       "      <td>Cuba</td>\n",
       "      <td>Cuba</td>\n",
       "      <td>cub</td>\n",
       "      <td>£10.00</td>\n",
       "      <td>\\nIssue:\\n                                    ...</td>\n",
       "      <td>[['89', ['Cigar Aficionado: ', '              ...</td>\n",
       "      <td>href</td>\n",
       "      <td>NaN</td>\n",
       "      <td>Cigar Aficionado</td>\n",
       "      <td>– Sep 01, 1992</td>\n",
       "    </tr>\n",
       "    <tr>\n",
       "      <th>2</th>\n",
       "      <td>https://img.mshanken.com/d/cao/ratings_extras/...</td>\n",
       "      <td>DAVIDOFF GRAN CRU NO. 2</td>\n",
       "      <td>89</td>\n",
       "      <td>5 5/8\"</td>\n",
       "      <td>43.0</td>\n",
       "      <td>background:url('https://img.mshanken.com/d/cao...</td>\n",
       "      <td>An enticing cigar that keeps you coming back f...</td>\n",
       "      <td>corona</td>\n",
       "      <td>Dom. Rep.</td>\n",
       "      <td>Dom. Rep.</td>\n",
       "      <td>U.S.A./Conn. Shade</td>\n",
       "      <td>dr</td>\n",
       "      <td>NaN</td>\n",
       "      <td>\\nIssue:\\n                                    ...</td>\n",
       "      <td>[['86', ['Cigar Aficionado: ', '              ...</td>\n",
       "      <td>1001</td>\n",
       "      <td>NaN</td>\n",
       "      <td>Cigar Aficionado</td>\n",
       "      <td>– Mar 01, 1993</td>\n",
       "    </tr>\n",
       "    <tr>\n",
       "      <th>3</th>\n",
       "      <td>https://img.mshanken.com/d/cao/ratings_extras/...</td>\n",
       "      <td>ASHTON CORONA</td>\n",
       "      <td>86</td>\n",
       "      <td>5 1/2\"</td>\n",
       "      <td>44.0</td>\n",
       "      <td>background:url('https://img.mshanken.com/d/cao...</td>\n",
       "      <td>This cigar is well-made and gives plenty of fl...</td>\n",
       "      <td>corona</td>\n",
       "      <td>Dom. Rep.</td>\n",
       "      <td>Dom. Rep.</td>\n",
       "      <td>U.S.A./Conn. Shade</td>\n",
       "      <td>dr</td>\n",
       "      <td>$6.25</td>\n",
       "      <td>\\nIssue:\\n                                    ...</td>\n",
       "      <td>[['90', ['Cigar Aficionado: ', '              ...</td>\n",
       "      <td>1002</td>\n",
       "      <td>NaN</td>\n",
       "      <td>Cigar Aficionado</td>\n",
       "      <td>– Mar 01, 1993</td>\n",
       "    </tr>\n",
       "    <tr>\n",
       "      <th>4</th>\n",
       "      <td>https://img.mshanken.com/d/cao/ratings_extras/...</td>\n",
       "      <td>ASHTON MAGNUM</td>\n",
       "      <td>82</td>\n",
       "      <td>5\"</td>\n",
       "      <td>50.0</td>\n",
       "      <td>background:url('https://img.mshanken.com/d/cao...</td>\n",
       "      <td>This is a clean, very mild well-made cigar, wi...</td>\n",
       "      <td>robusto</td>\n",
       "      <td>Dom. Rep.</td>\n",
       "      <td>Dom. Rep.</td>\n",
       "      <td>U.S.A./Conn. Shade</td>\n",
       "      <td>dr</td>\n",
       "      <td>$6.75</td>\n",
       "      <td>\\nIssue:\\n                                    ...</td>\n",
       "      <td>[['87', ['Cigar Aficionado: ', '              ...</td>\n",
       "      <td>1003</td>\n",
       "      <td>NaN</td>\n",
       "      <td>Cigar Aficionado</td>\n",
       "      <td>– Sep 01, 1992</td>\n",
       "    </tr>\n",
       "    <tr>\n",
       "      <th>5</th>\n",
       "      <td>https://img.mshanken.com/d/cao/ratings_extras/...</td>\n",
       "      <td>ARTURO FUENTE CHATEAU FUENTE SUN GROWN</td>\n",
       "      <td>86</td>\n",
       "      <td>4 1/2\"</td>\n",
       "      <td>50.0</td>\n",
       "      <td>background:url('https://img.mshanken.com/d/cao...</td>\n",
       "      <td>Finely constructed, A. Fuente's robusto has a ...</td>\n",
       "      <td>robusto</td>\n",
       "      <td>Dom. Rep.</td>\n",
       "      <td>Dom. Rep.</td>\n",
       "      <td>Ecuador</td>\n",
       "      <td>dr</td>\n",
       "      <td>NaN</td>\n",
       "      <td>\\nIssue:\\n                                    ...</td>\n",
       "      <td>[['89', ['Cigar Aficionado: ', '              ...</td>\n",
       "      <td>1004</td>\n",
       "      <td>NaN</td>\n",
       "      <td>Cigar Aficionado</td>\n",
       "      <td>– Sep 01, 1992</td>\n",
       "    </tr>\n",
       "  </tbody>\n",
       "</table>\n",
       "</div>"
      ],
      "text/plain": [
       "                                               image  \\\n",
       "0  https://img.mshanken.com/d/cao/ratings_extras/...   \n",
       "2  https://img.mshanken.com/d/cao/ratings_extras/...   \n",
       "3  https://img.mshanken.com/d/cao/ratings_extras/...   \n",
       "4  https://img.mshanken.com/d/cao/ratings_extras/...   \n",
       "5  https://img.mshanken.com/d/cao/ratings_extras/...   \n",
       "\n",
       "                                      name  score  length  gauge  \\\n",
       "0                     BOLIVAR ROYAL CORONA     93  4 7/8\"   50.0   \n",
       "2                  DAVIDOFF GRAN CRU NO. 2     89  5 5/8\"   43.0   \n",
       "3                            ASHTON CORONA     86  5 1/2\"   44.0   \n",
       "4                            ASHTON MAGNUM     82      5\"   50.0   \n",
       "5  ARTURO FUENTE CHATEAU FUENTE SUN GROWN      86  4 1/2\"   50.0   \n",
       "\n",
       "                                      strenth_string  \\\n",
       "0  background:url('https://img.mshanken.com/d/cao...   \n",
       "2  background:url('https://img.mshanken.com/d/cao...   \n",
       "3  background:url('https://img.mshanken.com/d/cao...   \n",
       "4  background:url('https://img.mshanken.com/d/cao...   \n",
       "5  background:url('https://img.mshanken.com/d/cao...   \n",
       "\n",
       "                                       tasting_notes     size     filler  \\\n",
       "0  This is an earthy, rich cigar with a lovely br...  robusto       Cuba   \n",
       "2  An enticing cigar that keeps you coming back f...   corona  Dom. Rep.   \n",
       "3  This cigar is well-made and gives plenty of fl...   corona  Dom. Rep.   \n",
       "4  This is a clean, very mild well-made cigar, wi...  robusto  Dom. Rep.   \n",
       "5  Finely constructed, A. Fuente's robusto has a ...  robusto  Dom. Rep.   \n",
       "\n",
       "      binder             wrapper country   price  \\\n",
       "0       Cuba                Cuba     cub  £10.00   \n",
       "2  Dom. Rep.  U.S.A./Conn. Shade      dr     NaN   \n",
       "3  Dom. Rep.  U.S.A./Conn. Shade      dr   $6.25   \n",
       "4  Dom. Rep.  U.S.A./Conn. Shade      dr   $6.75   \n",
       "5  Dom. Rep.             Ecuador      dr     NaN   \n",
       "\n",
       "                                               issue  \\\n",
       "0  \\nIssue:\\n                                    ...   \n",
       "2  \\nIssue:\\n                                    ...   \n",
       "3  \\nIssue:\\n                                    ...   \n",
       "4  \\nIssue:\\n                                    ...   \n",
       "5  \\nIssue:\\n                                    ...   \n",
       "\n",
       "                                        more_reviews  href  strength  \\\n",
       "0  [['89', ['Cigar Aficionado: ', '              ...  href       NaN   \n",
       "2  [['86', ['Cigar Aficionado: ', '              ...  1001       NaN   \n",
       "3  [['90', ['Cigar Aficionado: ', '              ...  1002       NaN   \n",
       "4  [['87', ['Cigar Aficionado: ', '              ...  1003       NaN   \n",
       "5  [['89', ['Cigar Aficionado: ', '              ...  1004       NaN   \n",
       "\n",
       "           og_issue   og_issue_date  \n",
       "0  Cigar Aficionado  – Sep 01, 1992  \n",
       "2  Cigar Aficionado  – Mar 01, 1993  \n",
       "3  Cigar Aficionado  – Mar 01, 1993  \n",
       "4  Cigar Aficionado  – Sep 01, 1992  \n",
       "5  Cigar Aficionado  – Sep 01, 1992  "
      ]
     },
     "execution_count": 231,
     "metadata": {},
     "output_type": "execute_result"
    }
   ],
   "source": [
    "df.head()"
   ]
  },
  {
   "cell_type": "code",
   "execution_count": null,
   "metadata": {},
   "outputs": [],
   "source": []
  },
  {
   "cell_type": "code",
   "execution_count": null,
   "metadata": {},
   "outputs": [],
   "source": []
  },
  {
   "cell_type": "code",
   "execution_count": null,
   "metadata": {},
   "outputs": [],
   "source": []
  },
  {
   "cell_type": "code",
   "execution_count": null,
   "metadata": {},
   "outputs": [],
   "source": []
  },
  {
   "cell_type": "code",
   "execution_count": null,
   "metadata": {},
   "outputs": [],
   "source": []
  },
  {
   "cell_type": "code",
   "execution_count": null,
   "metadata": {},
   "outputs": [],
   "source": []
  },
  {
   "cell_type": "code",
   "execution_count": null,
   "metadata": {},
   "outputs": [],
   "source": []
  },
  {
   "cell_type": "code",
   "execution_count": null,
   "metadata": {},
   "outputs": [],
   "source": []
  },
  {
   "cell_type": "code",
   "execution_count": null,
   "metadata": {},
   "outputs": [],
   "source": []
  },
  {
   "cell_type": "code",
   "execution_count": null,
   "metadata": {},
   "outputs": [],
   "source": []
  },
  {
   "cell_type": "code",
   "execution_count": null,
   "metadata": {},
   "outputs": [],
   "source": []
  },
  {
   "cell_type": "code",
   "execution_count": null,
   "metadata": {},
   "outputs": [],
   "source": []
  }
 ],
 "metadata": {
  "kernelspec": {
   "display_name": "Python 3",
   "language": "python",
   "name": "python3"
  },
  "language_info": {
   "codemirror_mode": {
    "name": "ipython",
    "version": 3
   },
   "file_extension": ".py",
   "mimetype": "text/x-python",
   "name": "python",
   "nbconvert_exporter": "python",
   "pygments_lexer": "ipython3",
   "version": "3.7.10"
  }
 },
 "nbformat": 4,
 "nbformat_minor": 4
}
