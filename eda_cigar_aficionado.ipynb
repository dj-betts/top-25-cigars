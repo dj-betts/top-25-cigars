{
 "cells": [
  {
   "cell_type": "code",
   "execution_count": 1,
   "metadata": {},
   "outputs": [],
   "source": [
    "import string"
   ]
  },
  {
   "cell_type": "code",
   "execution_count": 2,
   "metadata": {},
   "outputs": [],
   "source": [
    "from scipy import stats"
   ]
  },
  {
   "cell_type": "code",
   "execution_count": 3,
   "metadata": {},
   "outputs": [],
   "source": [
    "import pandas as pd\n",
    "import numpy as np"
   ]
  },
  {
   "cell_type": "code",
   "execution_count": 4,
   "metadata": {},
   "outputs": [
    {
     "name": "stderr",
     "output_type": "stream",
     "text": [
      "In /Users/djbetts/opt/anaconda3/lib/python3.7/site-packages/matplotlib/mpl-data/stylelib/_classic_test.mplstyle: \n",
      "The text.latex.preview rcparam was deprecated in Matplotlib 3.3 and will be removed two minor releases later.\n",
      "In /Users/djbetts/opt/anaconda3/lib/python3.7/site-packages/matplotlib/mpl-data/stylelib/_classic_test.mplstyle: \n",
      "The mathtext.fallback_to_cm rcparam was deprecated in Matplotlib 3.3 and will be removed two minor releases later.\n",
      "In /Users/djbetts/opt/anaconda3/lib/python3.7/site-packages/matplotlib/mpl-data/stylelib/_classic_test.mplstyle: Support for setting the 'mathtext.fallback_to_cm' rcParam is deprecated since 3.3 and will be removed two minor releases later; use 'mathtext.fallback : 'cm' instead.\n",
      "In /Users/djbetts/opt/anaconda3/lib/python3.7/site-packages/matplotlib/mpl-data/stylelib/_classic_test.mplstyle: \n",
      "The validate_bool_maybe_none function was deprecated in Matplotlib 3.3 and will be removed two minor releases later.\n",
      "In /Users/djbetts/opt/anaconda3/lib/python3.7/site-packages/matplotlib/mpl-data/stylelib/_classic_test.mplstyle: \n",
      "The savefig.jpeg_quality rcparam was deprecated in Matplotlib 3.3 and will be removed two minor releases later.\n",
      "In /Users/djbetts/opt/anaconda3/lib/python3.7/site-packages/matplotlib/mpl-data/stylelib/_classic_test.mplstyle: \n",
      "The keymap.all_axes rcparam was deprecated in Matplotlib 3.3 and will be removed two minor releases later.\n",
      "In /Users/djbetts/opt/anaconda3/lib/python3.7/site-packages/matplotlib/mpl-data/stylelib/_classic_test.mplstyle: \n",
      "The animation.avconv_path rcparam was deprecated in Matplotlib 3.3 and will be removed two minor releases later.\n",
      "In /Users/djbetts/opt/anaconda3/lib/python3.7/site-packages/matplotlib/mpl-data/stylelib/_classic_test.mplstyle: \n",
      "The animation.avconv_args rcparam was deprecated in Matplotlib 3.3 and will be removed two minor releases later.\n"
     ]
    }
   ],
   "source": [
    "import matplotlib.pyplot as plt"
   ]
  },
  {
   "cell_type": "code",
   "execution_count": 5,
   "metadata": {},
   "outputs": [],
   "source": [
    "import re"
   ]
  },
  {
   "cell_type": "code",
   "execution_count": 6,
   "metadata": {},
   "outputs": [],
   "source": [
    "def find_strength(string):\n",
    "    value = string.find('/6')\n",
    "    if string[value-1] is '(':\n",
    "        return (None)\n",
    "    else:\n",
    "        return string[value-1]"
   ]
  },
  {
   "cell_type": "code",
   "execution_count": 7,
   "metadata": {},
   "outputs": [],
   "source": [
    "def cigar_details(string):\n",
    "    size = string.split('\\n')\n",
    "    return size[2].strip()"
   ]
  },
  {
   "cell_type": "code",
   "execution_count": 8,
   "metadata": {},
   "outputs": [],
   "source": [
    "#consider striping '-' before date and turing string into date-time object\n",
    "def cigar_og_issue_date(string):\n",
    "    size = string.split('\\n')\n",
    "    return size[3].strip()"
   ]
  },
  {
   "cell_type": "code",
   "execution_count": 9,
   "metadata": {},
   "outputs": [],
   "source": [
    "#built for df.gauge\n",
    "def make_int(string):\n",
    "    try:\n",
    "        string = int(string)\n",
    "        return string\n",
    "    except:\n",
    "        pass"
   ]
  },
  {
   "cell_type": "code",
   "execution_count": 10,
   "metadata": {},
   "outputs": [],
   "source": [
    "from fractions import Fraction\n",
    "#convert some string into floats (inch)\n",
    "def convert_length_2_float(string):\n",
    "    try:\n",
    "        string = string.strip('\"')\n",
    "        string = string.split(' ')\n",
    "        inch = int(string[0])\n",
    "        if string[1]:\n",
    "            fraction = string[1]\n",
    "        return (inch + float(Fraction(fraction)))\n",
    "    except:\n",
    "        string = string.strip('\"')\n",
    "        string = string.split(' ')\n",
    "        inch = int(string[0])\n",
    "        return inch"
   ]
  },
  {
   "cell_type": "code",
   "execution_count": 11,
   "metadata": {},
   "outputs": [],
   "source": [
    "#still have 'miscellanious and misc.' as labels, but close enough for now.\n",
    "def size_filter(string):\n",
    "    try:\n",
    "        string = string.lower()\n",
    "        return(string)\n",
    "    except:\n",
    "        return None\n",
    "    \n",
    "#code to make a most common sizes data frame.   \n",
    "#df_common_size = df[df['size'].map(df['size'].value_counts()) > 100]    "
   ]
  },
  {
   "cell_type": "code",
   "execution_count": 12,
   "metadata": {},
   "outputs": [],
   "source": [
    "#not a good way to do it.\n",
    "\n",
    "#or maybe filtering via dictionary is a good idea. either way, keep an original csv!!!!\n",
    "\n",
    "#replacement dictionary for the factory country column\n",
    "country_replacement_dict = {'Cuba':'cub', 'Dominican Republic':'dr', 'Nicaragua':'nic', 'Honduras':'hon', 'Jamaica':'jam',\n",
    "       'Mexico':'mex', 'U.S.A.':'usa', 'Philippines':'phl', 'Canary Islands':'can', 'Brazil':'brz',\n",
    "       'Nicaragua, Honduras':'nic', 'Costa Rica':'cst', 'Indonesia':'ind', 'Bahamas':'bah',\n",
    "       'Panama':'pan', 'nan':None, 'USA':'usa', 'NIcaragua':'nic', 'El Salvador':'sal', 'Colombia':'col',\n",
    "       'Dominican  Republic':'dr', 'Dominican Repubcic':'dr', 'Dominican Repubilc':'dr',\n",
    "       'Dom. Rep.':'dr', 'Nicaraqua':'nic', 'U.S.A':'usa', 'Domincan Republic':'dr',\n",
    "       'Nicarag’ua':'nic', 'Dominican Rep\"ublic':'dr'}\n",
    "#df.country.replace(replacement_dict, inplace=True)\n",
    "\n",
    "#will change the mispelling to the last mispelling so i only have one mispelled country instead of multiples\n",
    "replacement_dict = {value : key for (key, value) in country_replacement_dict.items()}\n",
    "\n",
    "#example\n",
    "replacement_dict['nic'] = 'Nicaragua'\n",
    "\n",
    "#return back to OG label w/ caps\n",
    "#df.country.replace(replacement_dict, inplace=True)\n"
   ]
  },
  {
   "cell_type": "code",
   "execution_count": 13,
   "metadata": {},
   "outputs": [],
   "source": [
    "#split binder, but it's terrible. went from 86 to 66 features\n",
    "def filler_binder_wrapper_reduce(string):\n",
    "    vowels = ['a','e','i','o','u']\n",
    "    try:\n",
    "        string = string.lower()\n",
    "        string = string.replace('.','')\n",
    "        string = string.replace(' ', '')\n",
    "        string = \"\".join([x for x in string if x not in vowels])\n",
    "        return (string)#[:10])\n",
    "    except AttributeError:\n",
    "        return None"
   ]
  },
  {
   "cell_type": "code",
   "execution_count": 54,
   "metadata": {},
   "outputs": [],
   "source": [
    "data = pd.read_csv('cigar_aficionado.csv', index_col='Unnamed: 0')"
   ]
  },
  {
   "cell_type": "code",
   "execution_count": 55,
   "metadata": {},
   "outputs": [
    {
     "data": {
      "text/plain": [
       "(20769, 19)"
      ]
     },
     "execution_count": 55,
     "metadata": {},
     "output_type": "execute_result"
    }
   ],
   "source": [
    "data.shape"
   ]
  },
  {
   "cell_type": "code",
   "execution_count": 56,
   "metadata": {},
   "outputs": [],
   "source": [
    "df = data.copy()"
   ]
  },
  {
   "cell_type": "code",
   "execution_count": 57,
   "metadata": {},
   "outputs": [
    {
     "data": {
      "text/plain": [
       "Index(['image', 'name', 'score', 'length', 'gauge', 'strenth_string',\n",
       "       'tasting_notes', 'size', 'filler', 'binder', 'wrapper', 'country',\n",
       "       'price', 'issue', 'more_reviews', 'href', 'strength', 'og_issue',\n",
       "       'og_issue_date'],\n",
       "      dtype='object')"
      ]
     },
     "execution_count": 57,
     "metadata": {},
     "output_type": "execute_result"
    }
   ],
   "source": [
    "df.columns"
   ]
  },
  {
   "cell_type": "code",
   "execution_count": 58,
   "metadata": {},
   "outputs": [
    {
     "data": {
      "text/html": [
       "<div>\n",
       "<style scoped>\n",
       "    .dataframe tbody tr th:only-of-type {\n",
       "        vertical-align: middle;\n",
       "    }\n",
       "\n",
       "    .dataframe tbody tr th {\n",
       "        vertical-align: top;\n",
       "    }\n",
       "\n",
       "    .dataframe thead th {\n",
       "        text-align: right;\n",
       "    }\n",
       "</style>\n",
       "<table border=\"1\" class=\"dataframe\">\n",
       "  <thead>\n",
       "    <tr style=\"text-align: right;\">\n",
       "      <th></th>\n",
       "      <th>image</th>\n",
       "      <th>name</th>\n",
       "      <th>score</th>\n",
       "      <th>length</th>\n",
       "      <th>gauge</th>\n",
       "      <th>strenth_string</th>\n",
       "      <th>tasting_notes</th>\n",
       "      <th>size</th>\n",
       "      <th>filler</th>\n",
       "      <th>binder</th>\n",
       "      <th>wrapper</th>\n",
       "      <th>country</th>\n",
       "      <th>price</th>\n",
       "      <th>issue</th>\n",
       "      <th>more_reviews</th>\n",
       "      <th>href</th>\n",
       "      <th>strength</th>\n",
       "      <th>og_issue</th>\n",
       "      <th>og_issue_date</th>\n",
       "    </tr>\n",
       "  </thead>\n",
       "  <tbody>\n",
       "    <tr>\n",
       "      <th>0</th>\n",
       "      <td>https://img.mshanken.com/d/cao/ratings_extras/...</td>\n",
       "      <td>BOLIVAR ROYAL CORONA</td>\n",
       "      <td>93</td>\n",
       "      <td>4 7/8\"</td>\n",
       "      <td>50.0</td>\n",
       "      <td>background:url('https://img.mshanken.com/d/cao...</td>\n",
       "      <td>This is an earthy, rich cigar with a lovely br...</td>\n",
       "      <td>Robusto</td>\n",
       "      <td>Cuba</td>\n",
       "      <td>Cuba</td>\n",
       "      <td>Cuba</td>\n",
       "      <td>Cuba</td>\n",
       "      <td>£10.00</td>\n",
       "      <td>\\nIssue:\\n                                    ...</td>\n",
       "      <td>[['89', ['Cigar Aficionado: ', '              ...</td>\n",
       "      <td>href</td>\n",
       "      <td>NaN</td>\n",
       "      <td>Cigar Aficionado</td>\n",
       "      <td>– Sep 01, 1992</td>\n",
       "    </tr>\n",
       "    <tr>\n",
       "      <th>2</th>\n",
       "      <td>https://img.mshanken.com/d/cao/ratings_extras/...</td>\n",
       "      <td>DAVIDOFF GRAN CRU NO. 2</td>\n",
       "      <td>89</td>\n",
       "      <td>5 5/8\"</td>\n",
       "      <td>43.0</td>\n",
       "      <td>background:url('https://img.mshanken.com/d/cao...</td>\n",
       "      <td>An enticing cigar that keeps you coming back f...</td>\n",
       "      <td>Corona</td>\n",
       "      <td>Dom. Rep.</td>\n",
       "      <td>Dom. Rep.</td>\n",
       "      <td>U.S.A./Conn. Shade</td>\n",
       "      <td>Dominican Republic</td>\n",
       "      <td>NaN</td>\n",
       "      <td>\\nIssue:\\n                                    ...</td>\n",
       "      <td>[['86', ['Cigar Aficionado: ', '              ...</td>\n",
       "      <td>1001</td>\n",
       "      <td>NaN</td>\n",
       "      <td>Cigar Aficionado</td>\n",
       "      <td>– Mar 01, 1993</td>\n",
       "    </tr>\n",
       "    <tr>\n",
       "      <th>3</th>\n",
       "      <td>https://img.mshanken.com/d/cao/ratings_extras/...</td>\n",
       "      <td>ASHTON CORONA</td>\n",
       "      <td>86</td>\n",
       "      <td>5 1/2\"</td>\n",
       "      <td>44.0</td>\n",
       "      <td>background:url('https://img.mshanken.com/d/cao...</td>\n",
       "      <td>This cigar is well-made and gives plenty of fl...</td>\n",
       "      <td>Corona</td>\n",
       "      <td>Dom. Rep.</td>\n",
       "      <td>Dom. Rep.</td>\n",
       "      <td>U.S.A./Conn. Shade</td>\n",
       "      <td>Dominican Republic</td>\n",
       "      <td>$6.25</td>\n",
       "      <td>\\nIssue:\\n                                    ...</td>\n",
       "      <td>[['90', ['Cigar Aficionado: ', '              ...</td>\n",
       "      <td>1002</td>\n",
       "      <td>NaN</td>\n",
       "      <td>Cigar Aficionado</td>\n",
       "      <td>– Mar 01, 1993</td>\n",
       "    </tr>\n",
       "    <tr>\n",
       "      <th>4</th>\n",
       "      <td>https://img.mshanken.com/d/cao/ratings_extras/...</td>\n",
       "      <td>ASHTON MAGNUM</td>\n",
       "      <td>82</td>\n",
       "      <td>5\"</td>\n",
       "      <td>50.0</td>\n",
       "      <td>background:url('https://img.mshanken.com/d/cao...</td>\n",
       "      <td>This is a clean, very mild well-made cigar, wi...</td>\n",
       "      <td>Robusto</td>\n",
       "      <td>Dom. Rep.</td>\n",
       "      <td>Dom. Rep.</td>\n",
       "      <td>U.S.A./Conn. Shade</td>\n",
       "      <td>Dominican Republic</td>\n",
       "      <td>$6.75</td>\n",
       "      <td>\\nIssue:\\n                                    ...</td>\n",
       "      <td>[['87', ['Cigar Aficionado: ', '              ...</td>\n",
       "      <td>1003</td>\n",
       "      <td>NaN</td>\n",
       "      <td>Cigar Aficionado</td>\n",
       "      <td>– Sep 01, 1992</td>\n",
       "    </tr>\n",
       "    <tr>\n",
       "      <th>5</th>\n",
       "      <td>https://img.mshanken.com/d/cao/ratings_extras/...</td>\n",
       "      <td>ARTURO FUENTE CHATEAU FUENTE SUN GROWN</td>\n",
       "      <td>86</td>\n",
       "      <td>4 1/2\"</td>\n",
       "      <td>50.0</td>\n",
       "      <td>background:url('https://img.mshanken.com/d/cao...</td>\n",
       "      <td>Finely constructed, A. Fuente's robusto has a ...</td>\n",
       "      <td>Robusto</td>\n",
       "      <td>Dom. Rep.</td>\n",
       "      <td>Dom. Rep.</td>\n",
       "      <td>Ecuador</td>\n",
       "      <td>Dominican Republic</td>\n",
       "      <td>NaN</td>\n",
       "      <td>\\nIssue:\\n                                    ...</td>\n",
       "      <td>[['89', ['Cigar Aficionado: ', '              ...</td>\n",
       "      <td>1004</td>\n",
       "      <td>NaN</td>\n",
       "      <td>Cigar Aficionado</td>\n",
       "      <td>– Sep 01, 1992</td>\n",
       "    </tr>\n",
       "  </tbody>\n",
       "</table>\n",
       "</div>"
      ],
      "text/plain": [
       "                                               image  \\\n",
       "0  https://img.mshanken.com/d/cao/ratings_extras/...   \n",
       "2  https://img.mshanken.com/d/cao/ratings_extras/...   \n",
       "3  https://img.mshanken.com/d/cao/ratings_extras/...   \n",
       "4  https://img.mshanken.com/d/cao/ratings_extras/...   \n",
       "5  https://img.mshanken.com/d/cao/ratings_extras/...   \n",
       "\n",
       "                                      name  score  length  gauge  \\\n",
       "0                     BOLIVAR ROYAL CORONA     93  4 7/8\"   50.0   \n",
       "2                  DAVIDOFF GRAN CRU NO. 2     89  5 5/8\"   43.0   \n",
       "3                            ASHTON CORONA     86  5 1/2\"   44.0   \n",
       "4                            ASHTON MAGNUM     82      5\"   50.0   \n",
       "5  ARTURO FUENTE CHATEAU FUENTE SUN GROWN      86  4 1/2\"   50.0   \n",
       "\n",
       "                                      strenth_string  \\\n",
       "0  background:url('https://img.mshanken.com/d/cao...   \n",
       "2  background:url('https://img.mshanken.com/d/cao...   \n",
       "3  background:url('https://img.mshanken.com/d/cao...   \n",
       "4  background:url('https://img.mshanken.com/d/cao...   \n",
       "5  background:url('https://img.mshanken.com/d/cao...   \n",
       "\n",
       "                                       tasting_notes     size     filler  \\\n",
       "0  This is an earthy, rich cigar with a lovely br...  Robusto       Cuba   \n",
       "2  An enticing cigar that keeps you coming back f...   Corona  Dom. Rep.   \n",
       "3  This cigar is well-made and gives plenty of fl...   Corona  Dom. Rep.   \n",
       "4  This is a clean, very mild well-made cigar, wi...  Robusto  Dom. Rep.   \n",
       "5  Finely constructed, A. Fuente's robusto has a ...  Robusto  Dom. Rep.   \n",
       "\n",
       "      binder             wrapper             country   price  \\\n",
       "0       Cuba                Cuba                Cuba  £10.00   \n",
       "2  Dom. Rep.  U.S.A./Conn. Shade  Dominican Republic     NaN   \n",
       "3  Dom. Rep.  U.S.A./Conn. Shade  Dominican Republic   $6.25   \n",
       "4  Dom. Rep.  U.S.A./Conn. Shade  Dominican Republic   $6.75   \n",
       "5  Dom. Rep.             Ecuador  Dominican Republic     NaN   \n",
       "\n",
       "                                               issue  \\\n",
       "0  \\nIssue:\\n                                    ...   \n",
       "2  \\nIssue:\\n                                    ...   \n",
       "3  \\nIssue:\\n                                    ...   \n",
       "4  \\nIssue:\\n                                    ...   \n",
       "5  \\nIssue:\\n                                    ...   \n",
       "\n",
       "                                        more_reviews  href  strength  \\\n",
       "0  [['89', ['Cigar Aficionado: ', '              ...  href       NaN   \n",
       "2  [['86', ['Cigar Aficionado: ', '              ...  1001       NaN   \n",
       "3  [['90', ['Cigar Aficionado: ', '              ...  1002       NaN   \n",
       "4  [['87', ['Cigar Aficionado: ', '              ...  1003       NaN   \n",
       "5  [['89', ['Cigar Aficionado: ', '              ...  1004       NaN   \n",
       "\n",
       "           og_issue   og_issue_date  \n",
       "0  Cigar Aficionado  – Sep 01, 1992  \n",
       "2  Cigar Aficionado  – Mar 01, 1993  \n",
       "3  Cigar Aficionado  – Mar 01, 1993  \n",
       "4  Cigar Aficionado  – Sep 01, 1992  \n",
       "5  Cigar Aficionado  – Sep 01, 1992  "
      ]
     },
     "execution_count": 58,
     "metadata": {},
     "output_type": "execute_result"
    }
   ],
   "source": [
    "df.head()"
   ]
  },
  {
   "cell_type": "markdown",
   "metadata": {},
   "source": [
    "# ttests of score by country "
   ]
  },
  {
   "cell_type": "code",
   "execution_count": 59,
   "metadata": {},
   "outputs": [],
   "source": [
    "scores_df = df.groupby(\"country\").filter(lambda x: len(x) > 10)"
   ]
  },
  {
   "cell_type": "code",
   "execution_count": 60,
   "metadata": {},
   "outputs": [
    {
     "data": {
      "text/plain": [
       "Dominican Republic    8402\n",
       "Nicaragua             4941\n",
       "Honduras              3469\n",
       "Cuba                  2763\n",
       "U.S.A                  371\n",
       "Mexico                 201\n",
       "Jamaica                175\n",
       "Costa Rica             117\n",
       "Bahamas                111\n",
       "Canary Islands          88\n",
       "Brazil                  42\n",
       "Philippines             41\n",
       "Indonesia               19\n",
       "Name: country, dtype: int64"
      ]
     },
     "execution_count": 60,
     "metadata": {},
     "output_type": "execute_result"
    }
   ],
   "source": [
    "scores_df.country.value_counts()"
   ]
  },
  {
   "cell_type": "code",
   "execution_count": 61,
   "metadata": {},
   "outputs": [
    {
     "data": {
      "image/png": "[encoded data removed]",
      "text/plain": [
       "<Figure size 432x288 with 1 Axes>"
      ]
     },
     "metadata": {
      "needs_background": "light"
     },
     "output_type": "display_data"
    }
   ],
   "source": [
    "scores_df.score.hist();"
   ]
  },
  {
   "cell_type": "code",
   "execution_count": 63,
   "metadata": {},
   "outputs": [
    {
     "name": "stdout",
     "output_type": "stream",
     "text": [
      "count    8402.000000\n",
      "mean       87.084385\n",
      "std         2.656531\n",
      "min        75.000000\n",
      "25%        85.000000\n",
      "50%        87.000000\n",
      "75%        89.000000\n",
      "max        97.000000\n",
      "Name: score, dtype: float64\n"
     ]
    },
    {
     "data": {
      "image/png": "[encoded data removed]",
      "text/plain": [
       "<Figure size 432x288 with 1 Axes>"
      ]
     },
     "metadata": {
      "needs_background": "light"
     },
     "output_type": "display_data"
    }
   ],
   "source": [
    "dr_score = scores_df[scores_df.country == 'Dominican Republic'].score\n",
    "print(dr_score.describe())\n",
    "dr_score.hist();"
   ]
  },
  {
   "cell_type": "code",
   "execution_count": 66,
   "metadata": {},
   "outputs": [
    {
     "name": "stdout",
     "output_type": "stream",
     "text": [
      "count    2763.000000\n",
      "mean       89.540355\n",
      "std         2.364676\n",
      "min        80.000000\n",
      "25%        88.000000\n",
      "50%        90.000000\n",
      "75%        91.000000\n",
      "max        99.000000\n",
      "Name: score, dtype: float64\n"
     ]
    },
    {
     "data": {
      "image/png": "[encoded data removed]",
      "text/plain": [
       "<Figure size 432x288 with 1 Axes>"
      ]
     },
     "metadata": {
      "needs_background": "light"
     },
     "output_type": "display_data"
    }
   ],
   "source": [
    "cuba_score = scores_df[scores_df.country == 'Cuba'].score\n",
    "print(cuba_score.describe())\n",
    "cuba_score.hist();"
   ]
  },
  {
   "cell_type": "code",
   "execution_count": 65,
   "metadata": {},
   "outputs": [
    {
     "name": "stdout",
     "output_type": "stream",
     "text": [
      "count    4941.000000\n",
      "mean       88.638939\n",
      "std         2.487128\n",
      "min        76.000000\n",
      "25%        87.000000\n",
      "50%        89.000000\n",
      "75%        90.000000\n",
      "max        97.000000\n",
      "Name: score, dtype: float64\n"
     ]
    },
    {
     "data": {
      "image/png": "[encoded data removed]",
      "text/plain": [
       "<Figure size 432x288 with 1 Axes>"
      ]
     },
     "metadata": {
      "needs_background": "light"
     },
     "output_type": "display_data"
    }
   ],
   "source": [
    "nic_score = scores_df[scores_df.country == 'Nicaragua'].score\n",
    "print(nic_score.describe())\n",
    "nic_score.hist();"
   ]
  },
  {
   "cell_type": "code",
   "execution_count": 64,
   "metadata": {},
   "outputs": [
    {
     "name": "stdout",
     "output_type": "stream",
     "text": [
      "count    3469.000000\n",
      "mean       87.237532\n",
      "std         2.756678\n",
      "min        70.000000\n",
      "25%        86.000000\n",
      "50%        87.000000\n",
      "75%        89.000000\n",
      "max        96.000000\n",
      "Name: score, dtype: float64\n"
     ]
    },
    {
     "data": {
      "image/png": "[encoded data removed]",
      "text/plain": [
       "<Figure size 432x288 with 1 Axes>"
      ]
     },
     "metadata": {
      "needs_background": "light"
     },
     "output_type": "display_data"
    }
   ],
   "source": [
    "hon_score = scores_df[scores_df.country == 'Honduras'].score\n",
    "print(hon_score.describe())\n",
    "hon_score.hist();"
   ]
  },
  {
   "cell_type": "code",
   "execution_count": 92,
   "metadata": {},
   "outputs": [
    {
     "name": "stdout",
     "output_type": "stream",
     "text": [
      "count    371.000000\n",
      "mean      88.169811\n",
      "std        2.531051\n",
      "min       80.000000\n",
      "25%       87.000000\n",
      "50%       88.000000\n",
      "75%       90.000000\n",
      "max       93.000000\n",
      "Name: score, dtype: float64\n"
     ]
    },
    {
     "data": {
      "image/png": "[encoded data removed]",
      "text/plain": [
       "<Figure size 432x288 with 1 Axes>"
      ]
     },
     "metadata": {
      "needs_background": "light"
     },
     "output_type": "display_data"
    }
   ],
   "source": [
    "usa_score = scores_df[scores_df.country == 'U.S.A'].score\n",
    "print(usa_score.describe())\n",
    "usa_score.hist();"
   ]
  },
  {
   "cell_type": "code",
   "execution_count": 93,
   "metadata": {},
   "outputs": [
    {
     "name": "stdout",
     "output_type": "stream",
     "text": [
      "count    175.000000\n",
      "mean      85.668571\n",
      "std        2.043742\n",
      "min       80.000000\n",
      "25%       84.000000\n",
      "50%       86.000000\n",
      "75%       87.000000\n",
      "max       91.000000\n",
      "Name: score, dtype: float64\n"
     ]
    },
    {
     "data": {
      "image/png": "[encoded data removed]",
      "text/plain": [
       "<Figure size 432x288 with 1 Axes>"
      ]
     },
     "metadata": {
      "needs_background": "light"
     },
     "output_type": "display_data"
    }
   ],
   "source": [
    "jam_score = scores_df[scores_df.country == 'Jamaica'].score\n",
    "print(jam_score.describe())\n",
    "jam_score.hist();"
   ]
  },
  {
   "cell_type": "code",
   "execution_count": 94,
   "metadata": {},
   "outputs": [
    {
     "name": "stdout",
     "output_type": "stream",
     "text": [
      "count    201.000000\n",
      "mean      84.666667\n",
      "std        4.154917\n",
      "min       69.000000\n",
      "25%       82.000000\n",
      "50%       85.000000\n",
      "75%       87.000000\n",
      "max       94.000000\n",
      "Name: score, dtype: float64\n"
     ]
    },
    {
     "data": {
      "image/png": "[encoded data removed]",
      "text/plain": [
       "<Figure size 432x288 with 1 Axes>"
      ]
     },
     "metadata": {
      "needs_background": "light"
     },
     "output_type": "display_data"
    }
   ],
   "source": [
    "mex_score = scores_df[scores_df.country == 'Mexico'].score\n",
    "print(mex_score.describe())\n",
    "mex_score.hist();"
   ]
  },
  {
   "cell_type": "code",
   "execution_count": 95,
   "metadata": {},
   "outputs": [
    {
     "data": {
      "text/plain": [
       "count    20740.000000\n",
       "mean        87.766538\n",
       "std          2.812987\n",
       "min         69.000000\n",
       "25%         86.000000\n",
       "50%         88.000000\n",
       "75%         90.000000\n",
       "max         99.000000\n",
       "Name: score, dtype: float64"
      ]
     },
     "execution_count": 95,
     "metadata": {},
     "output_type": "execute_result"
    }
   ],
   "source": [
    "scores_df.score.describe()"
   ]
  },
  {
   "cell_type": "markdown",
   "metadata": {},
   "source": [
    "# ttest"
   ]
  },
  {
   "cell_type": "code",
   "execution_count": 96,
   "metadata": {},
   "outputs": [],
   "source": [
    "nic_usa_ttest = stats.ttest_ind(nic_score, usa_score)#, equal_var=False, alternative = 'greater')"
   ]
  },
  {
   "cell_type": "code",
   "execution_count": 97,
   "metadata": {},
   "outputs": [
    {
     "data": {
      "text/plain": [
       "Ttest_indResult(statistic=3.4996154046405596, pvalue=0.0004697545455294946)"
      ]
     },
     "execution_count": 97,
     "metadata": {},
     "output_type": "execute_result"
    }
   ],
   "source": [
    "nic_usa_ttest"
   ]
  },
  {
   "cell_type": "code",
   "execution_count": 98,
   "metadata": {},
   "outputs": [
    {
     "name": "stdout",
     "output_type": "stream",
     "text": [
      "t-statistic is 3.4996154046405596, and p-value is 0.0004697545455294946\n"
     ]
    },
    {
     "data": {
      "image/png": "[encoded data removed]",
      "text/plain": [
       "<Figure size 1152x216 with 1 Axes>"
      ]
     },
     "metadata": {
      "needs_background": "light"
     },
     "output_type": "display_data"
    }
   ],
   "source": [
    "# Distribution of Welsh's Test Statistic Under the Null Hypothesis\n",
    "x = np.linspace(-10, 10, num=250)\n",
    "\n",
    "fig, ax = plt.subplots(1, figsize=(16, 3))\n",
    "curve = stats.t(160)\n",
    "ax.plot(x, curve.pdf(x), linewidth=2, label=\"Degree of Freedom: {:2.2f}\".format(160))\n",
    "ax.fill_between(x, curve.pdf(x), where=(x >= nic_usa_ttest[0]), color=\"red\", alpha=0.25)\n",
    "ax.fill_between(x, curve.pdf(x), where=(x <= -nic_usa_ttest[0]), color=\"red\", alpha=0.25)\n",
    "ax.legend()\n",
    "ax.set_title(\"Distribution of Welsh's Test Statistic Under the Null Hypothesis for nic vs usa\")\n",
    "\n",
    "print(f\"t-statistic is {nic_usa_ttest[0]}, and p-value is {nic_usa_ttest[1]}\")\n"
   ]
  },
  {
   "cell_type": "code",
   "execution_count": 99,
   "metadata": {},
   "outputs": [
    {
     "data": {
      "text/plain": [
       "8402"
      ]
     },
     "execution_count": 99,
     "metadata": {},
     "output_type": "execute_result"
    }
   ],
   "source": [
    "dr_score.mean()\n",
    "len(dr_score)"
   ]
  },
  {
   "cell_type": "code",
   "execution_count": 100,
   "metadata": {},
   "outputs": [
    {
     "data": {
      "text/plain": [
       "2763"
      ]
     },
     "execution_count": 100,
     "metadata": {},
     "output_type": "execute_result"
    }
   ],
   "source": [
    "cuba_score.mean()\n",
    "len(cuba_score)"
   ]
  },
  {
   "cell_type": "code",
   "execution_count": 101,
   "metadata": {},
   "outputs": [],
   "source": [
    "dr_cuba_ttest = stats.ttest_ind(dr_score, cuba_score, equal_var=False,alternative = 'less')"
   ]
  },
  {
   "cell_type": "code",
   "execution_count": 102,
   "metadata": {},
   "outputs": [
    {
     "name": "stdout",
     "output_type": "stream",
     "text": [
      "t-statistic is -45.89425465545143, and p-value is 0.0\n"
     ]
    },
    {
     "data": {
      "image/png": "[encoded data removed]",
      "text/plain": [
       "<Figure size 1152x216 with 1 Axes>"
      ]
     },
     "metadata": {
      "needs_background": "light"
     },
     "output_type": "display_data"
    }
   ],
   "source": [
    "# Distribution of Welsh's Test Statistic Under the Null Hypothesis\n",
    "x = np.linspace(-3, 3, num=250)\n",
    "\n",
    "fig, ax = plt.subplots(1, figsize=(16, 3))\n",
    "curve = stats.t(160)\n",
    "ax.plot(x, curve.pdf(x), linewidth=2, label=\"Degree of Freedom: {:2.2f}\".format(160))\n",
    "ax.fill_between(x, curve.pdf(x), where=(x >= -dr_cuba_ttest[0]), color=\"red\", alpha=0.25)\n",
    "ax.fill_between(x, curve.pdf(x), where=(x <= dr_cuba_ttest[0]), color=\"red\", alpha=0.25)\n",
    "ax.legend()\n",
    "ax.set_title(\"Distribution of Welsh's Test Statistic Under the Null Hypothesis for dr vs cuba\")\n",
    "\n",
    "print(f\"t-statistic is {dr_cuba_ttest[0]}, and p-value is {dr_cuba_ttest[1]}\")\n"
   ]
  },
  {
   "cell_type": "code",
   "execution_count": 103,
   "metadata": {},
   "outputs": [],
   "source": [
    "stat, p = stats.f_oneway(dr_score, cuba_score, nic_score, jam_score, hon_score)"
   ]
  },
  {
   "cell_type": "code",
   "execution_count": 104,
   "metadata": {},
   "outputs": [
    {
     "name": "stdout",
     "output_type": "stream",
     "text": [
      "0.0\n",
      "672.0690430681683\n"
     ]
    }
   ],
   "source": [
    "print(p)\n",
    "print(stat)"
   ]
  },
  {
   "cell_type": "markdown",
   "metadata": {},
   "source": [
    "# fixing the features"
   ]
  },
  {
   "cell_type": "code",
   "execution_count": 105,
   "metadata": {},
   "outputs": [
    {
     "data": {
      "text/plain": [
       "Index(['image', 'name', 'score', 'length', 'gauge', 'strenth_string',\n",
       "       'tasting_notes', 'size', 'filler', 'binder', 'wrapper', 'country',\n",
       "       'price', 'issue', 'more_reviews', 'href', 'strength', 'og_issue',\n",
       "       'og_issue_date'],\n",
       "      dtype='object')"
      ]
     },
     "execution_count": 105,
     "metadata": {},
     "output_type": "execute_result"
    }
   ],
   "source": [
    "df.columns"
   ]
  },
  {
   "cell_type": "code",
   "execution_count": 106,
   "metadata": {},
   "outputs": [
    {
     "data": {
      "text/plain": [
       "array(['Cuba', 'Dominican Republic', 'Nicaragua', 'Honduras', 'Jamaica',\n",
       "       'Mexico', 'U.S.A', 'Philippines', 'Canary Islands', 'Brazil',\n",
       "       'Costa Rica', 'Indonesia', 'Bahamas', 'Panama', nan, 'El Salvador',\n",
       "       'Colombia'], dtype=object)"
      ]
     },
     "execution_count": 106,
     "metadata": {},
     "output_type": "execute_result"
    }
   ],
   "source": [
    "df.country.unique()"
   ]
  },
  {
   "cell_type": "code",
   "execution_count": 107,
   "metadata": {},
   "outputs": [
    {
     "data": {
      "text/plain": [
       "array([50., 43., 44., 52., 49., 42., 48., 47., 41., 56., 45., 46., 54.,\n",
       "       38., 36., 51., 34., 35., 30., 40., 55., 60., 58., 64., 33., 32.,\n",
       "       31., 66., 37., 28., 39., 53., nan, 62., 61., 29., 26., 57.,  5.,\n",
       "       67., 59.,  6., 65., 70., 24., 63., 80.])"
      ]
     },
     "execution_count": 107,
     "metadata": {},
     "output_type": "execute_result"
    }
   ],
   "source": [
    "df.gauge.unique()"
   ]
  },
  {
   "cell_type": "code",
   "execution_count": 108,
   "metadata": {},
   "outputs": [
    {
     "data": {
      "text/plain": [
       "86"
      ]
     },
     "execution_count": 108,
     "metadata": {},
     "output_type": "execute_result"
    }
   ],
   "source": [
    "len(df.binder.unique())"
   ]
  },
  {
   "cell_type": "code",
   "execution_count": 42,
   "metadata": {},
   "outputs": [
    {
     "data": {
      "text/plain": [
       "count         20739\n",
       "unique           85\n",
       "top       Dom. Rep.\n",
       "freq           6006\n",
       "Name: binder, dtype: object"
      ]
     },
     "execution_count": 42,
     "metadata": {},
     "output_type": "execute_result"
    }
   ],
   "source": [
    "df.binder.describe()"
   ]
  },
  {
   "cell_type": "code",
   "execution_count": 43,
   "metadata": {},
   "outputs": [
    {
     "data": {
      "text/plain": [
       "Dom. Rep.                 6006\n",
       "Nicaragua                 5899\n",
       "Cuba                      2760\n",
       "Honduras                  1573\n",
       "Mexico                    1309\n",
       "                          ... \n",
       "Connecticut                  1\n",
       "Cameroon, Ecuador            1\n",
       "U.S.A./Penn. Broadleaf       1\n",
       "tk                           1\n",
       "honduras                     1\n",
       "Name: binder, Length: 85, dtype: int64"
      ]
     },
     "execution_count": 43,
     "metadata": {},
     "output_type": "execute_result"
    }
   ],
   "source": [
    "df.binder.value_counts()"
   ]
  },
  {
   "cell_type": "markdown",
   "metadata": {},
   "source": [
    "# filler -start at 387 to 334"
   ]
  },
  {
   "cell_type": "code",
   "execution_count": 44,
   "metadata": {},
   "outputs": [
    {
     "data": {
      "text/html": [
       "<div>\n",
       "<style scoped>\n",
       "    .dataframe tbody tr th:only-of-type {\n",
       "        vertical-align: middle;\n",
       "    }\n",
       "\n",
       "    .dataframe tbody tr th {\n",
       "        vertical-align: top;\n",
       "    }\n",
       "\n",
       "    .dataframe thead th {\n",
       "        text-align: right;\n",
       "    }\n",
       "</style>\n",
       "<table border=\"1\" class=\"dataframe\">\n",
       "  <thead>\n",
       "    <tr style=\"text-align: right;\">\n",
       "      <th></th>\n",
       "      <th>image</th>\n",
       "      <th>name</th>\n",
       "      <th>score</th>\n",
       "      <th>length</th>\n",
       "      <th>gauge</th>\n",
       "      <th>strenth_string</th>\n",
       "      <th>tasting_notes</th>\n",
       "      <th>size</th>\n",
       "      <th>filler</th>\n",
       "      <th>binder</th>\n",
       "      <th>wrapper</th>\n",
       "      <th>country</th>\n",
       "      <th>price</th>\n",
       "      <th>issue</th>\n",
       "      <th>more_reviews</th>\n",
       "      <th>href</th>\n",
       "      <th>strength</th>\n",
       "      <th>og_issue</th>\n",
       "      <th>og_issue_date</th>\n",
       "    </tr>\n",
       "  </thead>\n",
       "  <tbody>\n",
       "    <tr>\n",
       "      <th>0</th>\n",
       "      <td>https://img.mshanken.com/d/cao/ratings_extras/...</td>\n",
       "      <td>BOLIVAR ROYAL CORONA</td>\n",
       "      <td>93</td>\n",
       "      <td>4 7/8\"</td>\n",
       "      <td>50.0</td>\n",
       "      <td>background:url('https://img.mshanken.com/d/cao...</td>\n",
       "      <td>This is an earthy, rich cigar with a lovely br...</td>\n",
       "      <td>Robusto</td>\n",
       "      <td>Cuba</td>\n",
       "      <td>Cuba</td>\n",
       "      <td>Cuba</td>\n",
       "      <td>Cuba</td>\n",
       "      <td>£10.00</td>\n",
       "      <td>\\nIssue:\\n                                    ...</td>\n",
       "      <td>[['89', ['Cigar Aficionado: ', '              ...</td>\n",
       "      <td>href</td>\n",
       "      <td>NaN</td>\n",
       "      <td>Cigar Aficionado</td>\n",
       "      <td>– Sep 01, 1992</td>\n",
       "    </tr>\n",
       "    <tr>\n",
       "      <th>2</th>\n",
       "      <td>https://img.mshanken.com/d/cao/ratings_extras/...</td>\n",
       "      <td>DAVIDOFF GRAN CRU NO. 2</td>\n",
       "      <td>89</td>\n",
       "      <td>5 5/8\"</td>\n",
       "      <td>43.0</td>\n",
       "      <td>background:url('https://img.mshanken.com/d/cao...</td>\n",
       "      <td>An enticing cigar that keeps you coming back f...</td>\n",
       "      <td>Corona</td>\n",
       "      <td>Dom. Rep.</td>\n",
       "      <td>Dom. Rep.</td>\n",
       "      <td>U.S.A./Conn. Shade</td>\n",
       "      <td>Dominican Republic</td>\n",
       "      <td>NaN</td>\n",
       "      <td>\\nIssue:\\n                                    ...</td>\n",
       "      <td>[['86', ['Cigar Aficionado: ', '              ...</td>\n",
       "      <td>1001</td>\n",
       "      <td>NaN</td>\n",
       "      <td>Cigar Aficionado</td>\n",
       "      <td>– Mar 01, 1993</td>\n",
       "    </tr>\n",
       "    <tr>\n",
       "      <th>3</th>\n",
       "      <td>https://img.mshanken.com/d/cao/ratings_extras/...</td>\n",
       "      <td>ASHTON CORONA</td>\n",
       "      <td>86</td>\n",
       "      <td>5 1/2\"</td>\n",
       "      <td>44.0</td>\n",
       "      <td>background:url('https://img.mshanken.com/d/cao...</td>\n",
       "      <td>This cigar is well-made and gives plenty of fl...</td>\n",
       "      <td>Corona</td>\n",
       "      <td>Dom. Rep.</td>\n",
       "      <td>Dom. Rep.</td>\n",
       "      <td>U.S.A./Conn. Shade</td>\n",
       "      <td>Dominican Republic</td>\n",
       "      <td>$6.25</td>\n",
       "      <td>\\nIssue:\\n                                    ...</td>\n",
       "      <td>[['90', ['Cigar Aficionado: ', '              ...</td>\n",
       "      <td>1002</td>\n",
       "      <td>NaN</td>\n",
       "      <td>Cigar Aficionado</td>\n",
       "      <td>– Mar 01, 1993</td>\n",
       "    </tr>\n",
       "    <tr>\n",
       "      <th>4</th>\n",
       "      <td>https://img.mshanken.com/d/cao/ratings_extras/...</td>\n",
       "      <td>ASHTON MAGNUM</td>\n",
       "      <td>82</td>\n",
       "      <td>5\"</td>\n",
       "      <td>50.0</td>\n",
       "      <td>background:url('https://img.mshanken.com/d/cao...</td>\n",
       "      <td>This is a clean, very mild well-made cigar, wi...</td>\n",
       "      <td>Robusto</td>\n",
       "      <td>Dom. Rep.</td>\n",
       "      <td>Dom. Rep.</td>\n",
       "      <td>U.S.A./Conn. Shade</td>\n",
       "      <td>Dominican Republic</td>\n",
       "      <td>$6.75</td>\n",
       "      <td>\\nIssue:\\n                                    ...</td>\n",
       "      <td>[['87', ['Cigar Aficionado: ', '              ...</td>\n",
       "      <td>1003</td>\n",
       "      <td>NaN</td>\n",
       "      <td>Cigar Aficionado</td>\n",
       "      <td>– Sep 01, 1992</td>\n",
       "    </tr>\n",
       "    <tr>\n",
       "      <th>5</th>\n",
       "      <td>https://img.mshanken.com/d/cao/ratings_extras/...</td>\n",
       "      <td>ARTURO FUENTE CHATEAU FUENTE SUN GROWN</td>\n",
       "      <td>86</td>\n",
       "      <td>4 1/2\"</td>\n",
       "      <td>50.0</td>\n",
       "      <td>background:url('https://img.mshanken.com/d/cao...</td>\n",
       "      <td>Finely constructed, A. Fuente's robusto has a ...</td>\n",
       "      <td>Robusto</td>\n",
       "      <td>Dom. Rep.</td>\n",
       "      <td>Dom. Rep.</td>\n",
       "      <td>Ecuador</td>\n",
       "      <td>Dominican Republic</td>\n",
       "      <td>NaN</td>\n",
       "      <td>\\nIssue:\\n                                    ...</td>\n",
       "      <td>[['89', ['Cigar Aficionado: ', '              ...</td>\n",
       "      <td>1004</td>\n",
       "      <td>NaN</td>\n",
       "      <td>Cigar Aficionado</td>\n",
       "      <td>– Sep 01, 1992</td>\n",
       "    </tr>\n",
       "  </tbody>\n",
       "</table>\n",
       "</div>"
      ],
      "text/plain": [
       "                                               image  \\\n",
       "0  https://img.mshanken.com/d/cao/ratings_extras/...   \n",
       "2  https://img.mshanken.com/d/cao/ratings_extras/...   \n",
       "3  https://img.mshanken.com/d/cao/ratings_extras/...   \n",
       "4  https://img.mshanken.com/d/cao/ratings_extras/...   \n",
       "5  https://img.mshanken.com/d/cao/ratings_extras/...   \n",
       "\n",
       "                                      name  score  length  gauge  \\\n",
       "0                     BOLIVAR ROYAL CORONA     93  4 7/8\"   50.0   \n",
       "2                  DAVIDOFF GRAN CRU NO. 2     89  5 5/8\"   43.0   \n",
       "3                            ASHTON CORONA     86  5 1/2\"   44.0   \n",
       "4                            ASHTON MAGNUM     82      5\"   50.0   \n",
       "5  ARTURO FUENTE CHATEAU FUENTE SUN GROWN      86  4 1/2\"   50.0   \n",
       "\n",
       "                                      strenth_string  \\\n",
       "0  background:url('https://img.mshanken.com/d/cao...   \n",
       "2  background:url('https://img.mshanken.com/d/cao...   \n",
       "3  background:url('https://img.mshanken.com/d/cao...   \n",
       "4  background:url('https://img.mshanken.com/d/cao...   \n",
       "5  background:url('https://img.mshanken.com/d/cao...   \n",
       "\n",
       "                                       tasting_notes     size     filler  \\\n",
       "0  This is an earthy, rich cigar with a lovely br...  Robusto       Cuba   \n",
       "2  An enticing cigar that keeps you coming back f...   Corona  Dom. Rep.   \n",
       "3  This cigar is well-made and gives plenty of fl...   Corona  Dom. Rep.   \n",
       "4  This is a clean, very mild well-made cigar, wi...  Robusto  Dom. Rep.   \n",
       "5  Finely constructed, A. Fuente's robusto has a ...  Robusto  Dom. Rep.   \n",
       "\n",
       "      binder             wrapper             country   price  \\\n",
       "0       Cuba                Cuba                Cuba  £10.00   \n",
       "2  Dom. Rep.  U.S.A./Conn. Shade  Dominican Republic     NaN   \n",
       "3  Dom. Rep.  U.S.A./Conn. Shade  Dominican Republic   $6.25   \n",
       "4  Dom. Rep.  U.S.A./Conn. Shade  Dominican Republic   $6.75   \n",
       "5  Dom. Rep.             Ecuador  Dominican Republic     NaN   \n",
       "\n",
       "                                               issue  \\\n",
       "0  \\nIssue:\\n                                    ...   \n",
       "2  \\nIssue:\\n                                    ...   \n",
       "3  \\nIssue:\\n                                    ...   \n",
       "4  \\nIssue:\\n                                    ...   \n",
       "5  \\nIssue:\\n                                    ...   \n",
       "\n",
       "                                        more_reviews  href  strength  \\\n",
       "0  [['89', ['Cigar Aficionado: ', '              ...  href       NaN   \n",
       "2  [['86', ['Cigar Aficionado: ', '              ...  1001       NaN   \n",
       "3  [['90', ['Cigar Aficionado: ', '              ...  1002       NaN   \n",
       "4  [['87', ['Cigar Aficionado: ', '              ...  1003       NaN   \n",
       "5  [['89', ['Cigar Aficionado: ', '              ...  1004       NaN   \n",
       "\n",
       "           og_issue   og_issue_date  \n",
       "0  Cigar Aficionado  – Sep 01, 1992  \n",
       "2  Cigar Aficionado  – Mar 01, 1993  \n",
       "3  Cigar Aficionado  – Mar 01, 1993  \n",
       "4  Cigar Aficionado  – Sep 01, 1992  \n",
       "5  Cigar Aficionado  – Sep 01, 1992  "
      ]
     },
     "execution_count": 44,
     "metadata": {},
     "output_type": "execute_result"
    }
   ],
   "source": [
    "df.head()"
   ]
  },
  {
   "cell_type": "markdown",
   "metadata": {},
   "source": [
    "# length"
   ]
  },
  {
   "cell_type": "code",
   "execution_count": 45,
   "metadata": {},
   "outputs": [
    {
     "data": {
      "text/plain": [
       "array(['4 7/8\"', '5 5/8\"', '5 1/2\"', '5\"', '4 1/2\"', '7 5/8\"', '7 1/2\"',\n",
       "       '6\"', '5 9/16\"', '5 1/4\"', '5 7/8\"', '5 3/4\"', '6 1/2\"', '6 5/8\"',\n",
       "       '6 3/4\"', '7\"', '6 1/4\"', '6 7/8\"', '6 9/16\"', '4 3/4\"', '5 1/8\"',\n",
       "       '8 1/2\"', '8\"', '7 1/4\"', '6 3/8\"', '6 1/8\"', '6 5/16\"', '4 5/8\"',\n",
       "       '7 3/4\"', '6 1/2', '4 1/4\"', '9\"', '6 15/16', '8 1/4\"', '8 2/3\"',\n",
       "       '5 1/16\"', '6 7/4\"', '4\"', '5 3/5\"', '8 1/2', '7 1/2', '7 5/8',\n",
       "       '7 3/4', '9 1/4\"', '5 3/8\"', '8 7/8\"', '7 1/8\"', '5 1/5\"',\n",
       "       '5 3/16\"', '8 1/4', '10\"', '4 1/5\"', '4 1/4 \"', '5 1/3\"',\n",
       "       '4 1/2 \"', '6 1/3\"', '6 1/5\"', '8', nan, '9 1/2\"', '3 1/2\"',\n",
       "       '4 3/8\"', '7 7/8\"', '7 3/8\"', '4', '6 1/2 \"', \"7 1/4'\", '7 2/4\"',\n",
       "       '6 3/32\"', '8 5/8\"', '3 5/8\"', '8 3/4\"', '4 1/3\"', '5 5/8\"\"',\n",
       "       '5\"\\x0b', '3 15/16\"', '6 11/16\"', '5 11/16\"', '4 5/16\"', '4 1/8\"',\n",
       "       '4 15/16\"', '4 3/16\"', '\"', '6 1/8', '9 1/8', '7 1/4', '4 4/5\"',\n",
       "       '6 9/6\"', 'tk\"', '12\"', '50', '52', 'TK', '6 1/4', '3 3/4\"',\n",
       "       '5 3/4', \"5'\", \"6'\", \"6 1/2'\", '3 7/8\"', '50\"', '6 3/16\"', '5 3/8',\n",
       "       '5 7/8', '4 3/8', '4 7/8', '7 1/8', '5 3/4 inch', '6 1/4 inch',\n",
       "       '4 1/ 2 inc', '5 1/4', '5 5/16\"', '4\" 1/4', '4 3/4', '52\"',\n",
       "       '5 5/8', '3 1/4\"', '60', '3 5/8\"\"', '2\"', '4 1/2', '3\"', '6 1/10\"',\n",
       "       '5 15/16\"', '4 3/5\"', '4 5/7\"', '4 1/4'], dtype=object)"
      ]
     },
     "execution_count": 45,
     "metadata": {},
     "output_type": "execute_result"
    }
   ],
   "source": [
    "df.length.unique()"
   ]
  },
  {
   "cell_type": "code",
   "execution_count": 46,
   "metadata": {},
   "outputs": [
    {
     "ename": "AttributeError",
     "evalue": "'list' object has no attribute 'strip'",
     "output_type": "error",
     "traceback": [
      "\u001b[0;31m---------------------------------------------------------------------------\u001b[0m",
      "\u001b[0;31mIndexError\u001b[0m                                Traceback (most recent call last)",
      "\u001b[0;32m<ipython-input-10-35485aa04631>\u001b[0m in \u001b[0;36mconvert_length_2_float\u001b[0;34m(string)\u001b[0m\n\u001b[1;32m      7\u001b[0m         \u001b[0minch\u001b[0m \u001b[0;34m=\u001b[0m \u001b[0mint\u001b[0m\u001b[0;34m(\u001b[0m\u001b[0mstring\u001b[0m\u001b[0;34m[\u001b[0m\u001b[0;36m0\u001b[0m\u001b[0;34m]\u001b[0m\u001b[0;34m)\u001b[0m\u001b[0;34m\u001b[0m\u001b[0;34m\u001b[0m\u001b[0m\n\u001b[0;32m----> 8\u001b[0;31m         \u001b[0;32mif\u001b[0m \u001b[0mstring\u001b[0m\u001b[0;34m[\u001b[0m\u001b[0;36m1\u001b[0m\u001b[0;34m]\u001b[0m\u001b[0;34m:\u001b[0m\u001b[0;34m\u001b[0m\u001b[0;34m\u001b[0m\u001b[0m\n\u001b[0m\u001b[1;32m      9\u001b[0m             \u001b[0mfraction\u001b[0m \u001b[0;34m=\u001b[0m \u001b[0mstring\u001b[0m\u001b[0;34m[\u001b[0m\u001b[0;36m1\u001b[0m\u001b[0;34m]\u001b[0m\u001b[0;34m\u001b[0m\u001b[0;34m\u001b[0m\u001b[0m\n",
      "\u001b[0;31mIndexError\u001b[0m: list index out of range",
      "\nDuring handling of the above exception, another exception occurred:\n",
      "\u001b[0;31mAttributeError\u001b[0m                            Traceback (most recent call last)",
      "\u001b[0;32m<ipython-input-46-1d6f38e48296>\u001b[0m in \u001b[0;36m<module>\u001b[0;34m\u001b[0m\n\u001b[0;32m----> 1\u001b[0;31m \u001b[0mdf\u001b[0m\u001b[0;34m[\u001b[0m\u001b[0;34m'filter_length'\u001b[0m\u001b[0;34m]\u001b[0m \u001b[0;34m=\u001b[0m \u001b[0;34m[\u001b[0m\u001b[0mconvert_length_2_float\u001b[0m\u001b[0;34m(\u001b[0m\u001b[0mmetric\u001b[0m\u001b[0;34m)\u001b[0m \u001b[0;32mfor\u001b[0m \u001b[0mmetric\u001b[0m \u001b[0;32min\u001b[0m \u001b[0mdf\u001b[0m\u001b[0;34m.\u001b[0m\u001b[0mlength\u001b[0m\u001b[0;34m]\u001b[0m\u001b[0;34m\u001b[0m\u001b[0;34m\u001b[0m\u001b[0m\n\u001b[0m",
      "\u001b[0;32m<ipython-input-46-1d6f38e48296>\u001b[0m in \u001b[0;36m<listcomp>\u001b[0;34m(.0)\u001b[0m\n\u001b[0;32m----> 1\u001b[0;31m \u001b[0mdf\u001b[0m\u001b[0;34m[\u001b[0m\u001b[0;34m'filter_length'\u001b[0m\u001b[0;34m]\u001b[0m \u001b[0;34m=\u001b[0m \u001b[0;34m[\u001b[0m\u001b[0mconvert_length_2_float\u001b[0m\u001b[0;34m(\u001b[0m\u001b[0mmetric\u001b[0m\u001b[0;34m)\u001b[0m \u001b[0;32mfor\u001b[0m \u001b[0mmetric\u001b[0m \u001b[0;32min\u001b[0m \u001b[0mdf\u001b[0m\u001b[0;34m.\u001b[0m\u001b[0mlength\u001b[0m\u001b[0;34m]\u001b[0m\u001b[0;34m\u001b[0m\u001b[0;34m\u001b[0m\u001b[0m\n\u001b[0m",
      "\u001b[0;32m<ipython-input-10-35485aa04631>\u001b[0m in \u001b[0;36mconvert_length_2_float\u001b[0;34m(string)\u001b[0m\n\u001b[1;32m     10\u001b[0m         \u001b[0;32mreturn\u001b[0m \u001b[0;34m(\u001b[0m\u001b[0minch\u001b[0m \u001b[0;34m+\u001b[0m \u001b[0mfloat\u001b[0m\u001b[0;34m(\u001b[0m\u001b[0mFraction\u001b[0m\u001b[0;34m(\u001b[0m\u001b[0mfraction\u001b[0m\u001b[0;34m)\u001b[0m\u001b[0;34m)\u001b[0m\u001b[0;34m)\u001b[0m\u001b[0;34m\u001b[0m\u001b[0;34m\u001b[0m\u001b[0m\n\u001b[1;32m     11\u001b[0m     \u001b[0;32mexcept\u001b[0m\u001b[0;34m:\u001b[0m\u001b[0;34m\u001b[0m\u001b[0;34m\u001b[0m\u001b[0m\n\u001b[0;32m---> 12\u001b[0;31m         \u001b[0mstring\u001b[0m \u001b[0;34m=\u001b[0m \u001b[0mstring\u001b[0m\u001b[0;34m.\u001b[0m\u001b[0mstrip\u001b[0m\u001b[0;34m(\u001b[0m\u001b[0;34m'\"'\u001b[0m\u001b[0;34m)\u001b[0m\u001b[0;34m\u001b[0m\u001b[0;34m\u001b[0m\u001b[0m\n\u001b[0m\u001b[1;32m     13\u001b[0m         \u001b[0mstring\u001b[0m \u001b[0;34m=\u001b[0m \u001b[0mstring\u001b[0m\u001b[0;34m.\u001b[0m\u001b[0msplit\u001b[0m\u001b[0;34m(\u001b[0m\u001b[0;34m' '\u001b[0m\u001b[0;34m)\u001b[0m\u001b[0;34m\u001b[0m\u001b[0;34m\u001b[0m\u001b[0m\n\u001b[1;32m     14\u001b[0m         \u001b[0minch\u001b[0m \u001b[0;34m=\u001b[0m \u001b[0mint\u001b[0m\u001b[0;34m(\u001b[0m\u001b[0mstring\u001b[0m\u001b[0;34m[\u001b[0m\u001b[0;36m0\u001b[0m\u001b[0;34m]\u001b[0m\u001b[0;34m)\u001b[0m\u001b[0;34m\u001b[0m\u001b[0;34m\u001b[0m\u001b[0m\n",
      "\u001b[0;31mAttributeError\u001b[0m: 'list' object has no attribute 'strip'"
     ]
    }
   ],
   "source": [
    "df['filter_length'] = [convert_length_2_float(metric) for metric in df.length]"
   ]
  },
  {
   "cell_type": "code",
   "execution_count": null,
   "metadata": {},
   "outputs": [],
   "source": [
    "sum(df['filter_length'].isna())"
   ]
  },
  {
   "cell_type": "code",
   "execution_count": null,
   "metadata": {},
   "outputs": [],
   "source": [
    "df.filter_length"
   ]
  },
  {
   "cell_type": "code",
   "execution_count": 47,
   "metadata": {},
   "outputs": [
    {
     "data": {
      "text/plain": [
       "'5\"'"
      ]
     },
     "execution_count": 47,
     "metadata": {},
     "output_type": "execute_result"
    }
   ],
   "source": [
    "df.length.loc[4]"
   ]
  },
  {
   "cell_type": "code",
   "execution_count": 48,
   "metadata": {},
   "outputs": [
    {
     "data": {
      "text/plain": [
       "0     4 7/8\"\n",
       "2     5 5/8\"\n",
       "3     5 1/2\"\n",
       "4         5\"\n",
       "5     4 1/2\"\n",
       "6     4 1/2\"\n",
       "7     4 1/2\"\n",
       "8     4 7/8\"\n",
       "9     4 7/8\"\n",
       "10    4 7/8\"\n",
       "Name: length, dtype: object"
      ]
     },
     "execution_count": 48,
     "metadata": {},
     "output_type": "execute_result"
    }
   ],
   "source": [
    "df.length.iloc[:10]"
   ]
  },
  {
   "cell_type": "code",
   "execution_count": null,
   "metadata": {},
   "outputs": [],
   "source": []
  },
  {
   "cell_type": "code",
   "execution_count": null,
   "metadata": {},
   "outputs": [],
   "source": []
  },
  {
   "cell_type": "code",
   "execution_count": null,
   "metadata": {},
   "outputs": [],
   "source": []
  },
  {
   "cell_type": "code",
   "execution_count": null,
   "metadata": {},
   "outputs": [],
   "source": []
  },
  {
   "cell_type": "code",
   "execution_count": null,
   "metadata": {},
   "outputs": [],
   "source": []
  },
  {
   "cell_type": "code",
   "execution_count": null,
   "metadata": {},
   "outputs": [],
   "source": []
  },
  {
   "cell_type": "code",
   "execution_count": null,
   "metadata": {},
   "outputs": [],
   "source": []
  },
  {
   "cell_type": "code",
   "execution_count": null,
   "metadata": {},
   "outputs": [],
   "source": []
  },
  {
   "cell_type": "code",
   "execution_count": null,
   "metadata": {},
   "outputs": [],
   "source": []
  }
 ],
 "metadata": {
  "kernelspec": {
   "display_name": "Python 3",
   "language": "python",
   "name": "python3"
  },
  "language_info": {
   "codemirror_mode": {
    "name": "ipython",
    "version": 3
   },
   "file_extension": ".py",
   "mimetype": "text/x-python",
   "name": "python",
   "nbconvert_exporter": "python",
   "pygments_lexer": "ipython3",
   "version": "3.7.10"
  }
 },
 "nbformat": 4,
 "nbformat_minor": 4
}
