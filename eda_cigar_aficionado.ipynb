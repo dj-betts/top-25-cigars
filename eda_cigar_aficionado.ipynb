{
 "cells": [
  {
   "cell_type": "code",
   "execution_count": 52,
   "metadata": {},
   "outputs": [],
   "source": [
    "from scipy import stats"
   ]
  },
  {
   "cell_type": "code",
   "execution_count": 53,
   "metadata": {},
   "outputs": [],
   "source": [
    "import pandas as pd"
   ]
  },
  {
   "cell_type": "code",
   "execution_count": 54,
   "metadata": {},
   "outputs": [],
   "source": [
    "import re"
   ]
  },
  {
   "cell_type": "code",
   "execution_count": 55,
   "metadata": {},
   "outputs": [],
   "source": [
    "def find_strength(string):\n",
    "    value = string.find('/6')\n",
    "    if string[value-1] is '(':\n",
    "        return (None)\n",
    "    else:\n",
    "        return string[value-1]"
   ]
  },
  {
   "cell_type": "code",
   "execution_count": 56,
   "metadata": {},
   "outputs": [],
   "source": [
    "def cigar_details(string):\n",
    "    size = string.split('\\n')\n",
    "    return size[2].strip()"
   ]
  },
  {
   "cell_type": "code",
   "execution_count": 57,
   "metadata": {},
   "outputs": [],
   "source": [
    "#consider striping '-' before date and turing string into date-time object\n",
    "def cigar_og_issue_date(string):\n",
    "    size = string.split('\\n')\n",
    "    return size[3].strip()"
   ]
  },
  {
   "cell_type": "code",
   "execution_count": 58,
   "metadata": {},
   "outputs": [],
   "source": [
    "data = pd.read_csv('cigar_aficionado.csv', index_col='Unnamed: 0')"
   ]
  },
  {
   "cell_type": "code",
   "execution_count": 59,
   "metadata": {},
   "outputs": [
    {
     "data": {
      "text/plain": [
       "(20769, 19)"
      ]
     },
     "execution_count": 59,
     "metadata": {},
     "output_type": "execute_result"
    }
   ],
   "source": [
    "data.shape"
   ]
  },
  {
   "cell_type": "code",
   "execution_count": 60,
   "metadata": {},
   "outputs": [],
   "source": [
    "df = data.copy()"
   ]
  },
  {
   "cell_type": "code",
   "execution_count": 61,
   "metadata": {},
   "outputs": [
    {
     "data": {
      "text/plain": [
       "Index(['image', 'name', 'score', 'length', 'gauge', 'strenth_string',\n",
       "       'tasting_notes', 'size', 'filler', 'binder', 'wrapper', 'country',\n",
       "       'price', 'issue', 'more_reviews', 'href', 'strength', 'og_issue',\n",
       "       'og_issue_date'],\n",
       "      dtype='object')"
      ]
     },
     "execution_count": 61,
     "metadata": {},
     "output_type": "execute_result"
    }
   ],
   "source": [
    "df.columns"
   ]
  },
  {
   "cell_type": "code",
   "execution_count": 62,
   "metadata": {},
   "outputs": [
    {
     "data": {
      "text/html": [
       "<div>\n",
       "<style scoped>\n",
       "    .dataframe tbody tr th:only-of-type {\n",
       "        vertical-align: middle;\n",
       "    }\n",
       "\n",
       "    .dataframe tbody tr th {\n",
       "        vertical-align: top;\n",
       "    }\n",
       "\n",
       "    .dataframe thead th {\n",
       "        text-align: right;\n",
       "    }\n",
       "</style>\n",
       "<table border=\"1\" class=\"dataframe\">\n",
       "  <thead>\n",
       "    <tr style=\"text-align: right;\">\n",
       "      <th></th>\n",
       "      <th>image</th>\n",
       "      <th>name</th>\n",
       "      <th>score</th>\n",
       "      <th>length</th>\n",
       "      <th>gauge</th>\n",
       "      <th>strenth_string</th>\n",
       "      <th>tasting_notes</th>\n",
       "      <th>size</th>\n",
       "      <th>filler</th>\n",
       "      <th>binder</th>\n",
       "      <th>wrapper</th>\n",
       "      <th>country</th>\n",
       "      <th>price</th>\n",
       "      <th>issue</th>\n",
       "      <th>more_reviews</th>\n",
       "      <th>href</th>\n",
       "      <th>strength</th>\n",
       "      <th>og_issue</th>\n",
       "      <th>og_issue_date</th>\n",
       "    </tr>\n",
       "  </thead>\n",
       "  <tbody>\n",
       "    <tr>\n",
       "      <th>0</th>\n",
       "      <td>https://img.mshanken.com/d/cao/ratings_extras/...</td>\n",
       "      <td>BOLIVAR ROYAL CORONA</td>\n",
       "      <td>93</td>\n",
       "      <td>4 7/8\"</td>\n",
       "      <td>50</td>\n",
       "      <td>background:url('https://img.mshanken.com/d/cao...</td>\n",
       "      <td>This is an earthy, rich cigar with a lovely br...</td>\n",
       "      <td>Robusto</td>\n",
       "      <td>Cuba</td>\n",
       "      <td>Cuba</td>\n",
       "      <td>Cuba</td>\n",
       "      <td>Cuba</td>\n",
       "      <td>£10.00</td>\n",
       "      <td>\\nIssue:\\n                                    ...</td>\n",
       "      <td>[['89', ['Cigar Aficionado: ', '              ...</td>\n",
       "      <td>href</td>\n",
       "      <td>NaN</td>\n",
       "      <td>Cigar Aficionado</td>\n",
       "      <td>– Sep 01, 1992</td>\n",
       "    </tr>\n",
       "    <tr>\n",
       "      <th>2</th>\n",
       "      <td>https://img.mshanken.com/d/cao/ratings_extras/...</td>\n",
       "      <td>DAVIDOFF GRAN CRU NO. 2</td>\n",
       "      <td>89</td>\n",
       "      <td>5 5/8\"</td>\n",
       "      <td>43</td>\n",
       "      <td>background:url('https://img.mshanken.com/d/cao...</td>\n",
       "      <td>An enticing cigar that keeps you coming back f...</td>\n",
       "      <td>Corona</td>\n",
       "      <td>Dom. Rep.</td>\n",
       "      <td>Dom. Rep.</td>\n",
       "      <td>U.S.A./Conn. Shade</td>\n",
       "      <td>Dominican Republic</td>\n",
       "      <td>NaN</td>\n",
       "      <td>\\nIssue:\\n                                    ...</td>\n",
       "      <td>[['86', ['Cigar Aficionado: ', '              ...</td>\n",
       "      <td>1001</td>\n",
       "      <td>NaN</td>\n",
       "      <td>Cigar Aficionado</td>\n",
       "      <td>– Mar 01, 1993</td>\n",
       "    </tr>\n",
       "    <tr>\n",
       "      <th>3</th>\n",
       "      <td>https://img.mshanken.com/d/cao/ratings_extras/...</td>\n",
       "      <td>ASHTON CORONA</td>\n",
       "      <td>86</td>\n",
       "      <td>5 1/2\"</td>\n",
       "      <td>44</td>\n",
       "      <td>background:url('https://img.mshanken.com/d/cao...</td>\n",
       "      <td>This cigar is well-made and gives plenty of fl...</td>\n",
       "      <td>Corona</td>\n",
       "      <td>Dom. Rep.</td>\n",
       "      <td>Dom. Rep.</td>\n",
       "      <td>U.S.A./Conn. Shade</td>\n",
       "      <td>Dominican Republic</td>\n",
       "      <td>$6.25</td>\n",
       "      <td>\\nIssue:\\n                                    ...</td>\n",
       "      <td>[['90', ['Cigar Aficionado: ', '              ...</td>\n",
       "      <td>1002</td>\n",
       "      <td>NaN</td>\n",
       "      <td>Cigar Aficionado</td>\n",
       "      <td>– Mar 01, 1993</td>\n",
       "    </tr>\n",
       "    <tr>\n",
       "      <th>4</th>\n",
       "      <td>https://img.mshanken.com/d/cao/ratings_extras/...</td>\n",
       "      <td>ASHTON MAGNUM</td>\n",
       "      <td>82</td>\n",
       "      <td>5\"</td>\n",
       "      <td>50</td>\n",
       "      <td>background:url('https://img.mshanken.com/d/cao...</td>\n",
       "      <td>This is a clean, very mild well-made cigar, wi...</td>\n",
       "      <td>Robusto</td>\n",
       "      <td>Dom. Rep.</td>\n",
       "      <td>Dom. Rep.</td>\n",
       "      <td>U.S.A./Conn. Shade</td>\n",
       "      <td>Dominican Republic</td>\n",
       "      <td>$6.75</td>\n",
       "      <td>\\nIssue:\\n                                    ...</td>\n",
       "      <td>[['87', ['Cigar Aficionado: ', '              ...</td>\n",
       "      <td>1003</td>\n",
       "      <td>NaN</td>\n",
       "      <td>Cigar Aficionado</td>\n",
       "      <td>– Sep 01, 1992</td>\n",
       "    </tr>\n",
       "    <tr>\n",
       "      <th>5</th>\n",
       "      <td>https://img.mshanken.com/d/cao/ratings_extras/...</td>\n",
       "      <td>ARTURO FUENTE CHATEAU FUENTE SUN GROWN</td>\n",
       "      <td>86</td>\n",
       "      <td>4 1/2\"</td>\n",
       "      <td>50</td>\n",
       "      <td>background:url('https://img.mshanken.com/d/cao...</td>\n",
       "      <td>Finely constructed, A. Fuente's robusto has a ...</td>\n",
       "      <td>Robusto</td>\n",
       "      <td>Dom. Rep.</td>\n",
       "      <td>Dom. Rep.</td>\n",
       "      <td>Ecuador</td>\n",
       "      <td>Dominican Republic</td>\n",
       "      <td>NaN</td>\n",
       "      <td>\\nIssue:\\n                                    ...</td>\n",
       "      <td>[['89', ['Cigar Aficionado: ', '              ...</td>\n",
       "      <td>1004</td>\n",
       "      <td>NaN</td>\n",
       "      <td>Cigar Aficionado</td>\n",
       "      <td>– Sep 01, 1992</td>\n",
       "    </tr>\n",
       "  </tbody>\n",
       "</table>\n",
       "</div>"
      ],
      "text/plain": [
       "                                               image  \\\n",
       "0  https://img.mshanken.com/d/cao/ratings_extras/...   \n",
       "2  https://img.mshanken.com/d/cao/ratings_extras/...   \n",
       "3  https://img.mshanken.com/d/cao/ratings_extras/...   \n",
       "4  https://img.mshanken.com/d/cao/ratings_extras/...   \n",
       "5  https://img.mshanken.com/d/cao/ratings_extras/...   \n",
       "\n",
       "                                      name  score  length gauge  \\\n",
       "0                     BOLIVAR ROYAL CORONA     93  4 7/8\"    50   \n",
       "2                  DAVIDOFF GRAN CRU NO. 2     89  5 5/8\"    43   \n",
       "3                            ASHTON CORONA     86  5 1/2\"    44   \n",
       "4                            ASHTON MAGNUM     82      5\"    50   \n",
       "5  ARTURO FUENTE CHATEAU FUENTE SUN GROWN      86  4 1/2\"    50   \n",
       "\n",
       "                                      strenth_string  \\\n",
       "0  background:url('https://img.mshanken.com/d/cao...   \n",
       "2  background:url('https://img.mshanken.com/d/cao...   \n",
       "3  background:url('https://img.mshanken.com/d/cao...   \n",
       "4  background:url('https://img.mshanken.com/d/cao...   \n",
       "5  background:url('https://img.mshanken.com/d/cao...   \n",
       "\n",
       "                                       tasting_notes     size     filler  \\\n",
       "0  This is an earthy, rich cigar with a lovely br...  Robusto       Cuba   \n",
       "2  An enticing cigar that keeps you coming back f...   Corona  Dom. Rep.   \n",
       "3  This cigar is well-made and gives plenty of fl...   Corona  Dom. Rep.   \n",
       "4  This is a clean, very mild well-made cigar, wi...  Robusto  Dom. Rep.   \n",
       "5  Finely constructed, A. Fuente's robusto has a ...  Robusto  Dom. Rep.   \n",
       "\n",
       "      binder             wrapper             country   price  \\\n",
       "0       Cuba                Cuba                Cuba  £10.00   \n",
       "2  Dom. Rep.  U.S.A./Conn. Shade  Dominican Republic     NaN   \n",
       "3  Dom. Rep.  U.S.A./Conn. Shade  Dominican Republic   $6.25   \n",
       "4  Dom. Rep.  U.S.A./Conn. Shade  Dominican Republic   $6.75   \n",
       "5  Dom. Rep.             Ecuador  Dominican Republic     NaN   \n",
       "\n",
       "                                               issue  \\\n",
       "0  \\nIssue:\\n                                    ...   \n",
       "2  \\nIssue:\\n                                    ...   \n",
       "3  \\nIssue:\\n                                    ...   \n",
       "4  \\nIssue:\\n                                    ...   \n",
       "5  \\nIssue:\\n                                    ...   \n",
       "\n",
       "                                        more_reviews  href  strength  \\\n",
       "0  [['89', ['Cigar Aficionado: ', '              ...  href       NaN   \n",
       "2  [['86', ['Cigar Aficionado: ', '              ...  1001       NaN   \n",
       "3  [['90', ['Cigar Aficionado: ', '              ...  1002       NaN   \n",
       "4  [['87', ['Cigar Aficionado: ', '              ...  1003       NaN   \n",
       "5  [['89', ['Cigar Aficionado: ', '              ...  1004       NaN   \n",
       "\n",
       "           og_issue   og_issue_date  \n",
       "0  Cigar Aficionado  – Sep 01, 1992  \n",
       "2  Cigar Aficionado  – Mar 01, 1993  \n",
       "3  Cigar Aficionado  – Mar 01, 1993  \n",
       "4  Cigar Aficionado  – Sep 01, 1992  \n",
       "5  Cigar Aficionado  – Sep 01, 1992  "
      ]
     },
     "execution_count": 62,
     "metadata": {},
     "output_type": "execute_result"
    }
   ],
   "source": [
    "df.head()"
   ]
  },
  {
   "cell_type": "code",
   "execution_count": 63,
   "metadata": {},
   "outputs": [
    {
     "data": {
      "text/plain": [
       "'https://img.mshanken.com/d/cao/ratings_extras/silo-corona-gorda.png'"
      ]
     },
     "execution_count": 63,
     "metadata": {},
     "output_type": "execute_result"
    }
   ],
   "source": [
    "df.image.iloc[0]"
   ]
  },
  {
   "cell_type": "code",
   "execution_count": 64,
   "metadata": {},
   "outputs": [],
   "source": [
    "test_length = df.length.iloc[0]"
   ]
  },
  {
   "cell_type": "code",
   "execution_count": 65,
   "metadata": {},
   "outputs": [],
   "source": [
    "# >>> from fractions import Fraction\n",
    "# >>> def Arch2Float(num):\n",
    "#     #First Partition from Right so that the Feet and Unit always\n",
    "#     #Remains aligned even if one of them is absent\n",
    "#     ft,x,inch=num.rpartition(\"\\'\")\n",
    "#     #Convert the inch to a real and frac part after stripping the\n",
    "#     #inch (\") identifier. Note it is assumed that the real and frac\n",
    "#     #parts are delimited by '-'\n",
    "#     real,x,frac=inch.strip(\"\\\"\").rpartition(\"-\")\n",
    "#     #Now Convert every thing in terms of feet which can then be converted\n",
    "#     #to float. Note to trap Error's like missing or invalid items, its better\n",
    "#     #to convert each items seperately\n",
    "#     result=0\n",
    "#     try:\n",
    "#         result = int(ft.strip(\"\\'\"))\n",
    "#     except ValueError:\n",
    "#         None\n",
    "#     #Convert the real inch part as a fraction of feet\n",
    "#     try:\n",
    "#         result +=  Fraction(int(real),12)\n",
    "#     except ValueError:\n",
    "#         None\n",
    "#     #Now finally convert the Fractional part using the fractions module and convert to feet\n",
    "#     try:\n",
    "#         result+=Fraction(frac)/12\n",
    "#     except ValueError:\n",
    "#         None\n",
    "#     return float(result)    "
   ]
  },
  {
   "cell_type": "code",
   "execution_count": 66,
   "metadata": {},
   "outputs": [],
   "source": [
    "scores_df = df.groupby(\"country\").filter(lambda x: len(x) > 10)"
   ]
  },
  {
   "cell_type": "code",
   "execution_count": 67,
   "metadata": {},
   "outputs": [
    {
     "data": {
      "text/plain": [
       "Dominican Republic    8385\n",
       "Nicaragua             4922\n",
       "Honduras              3469\n",
       "Cuba                  2763\n",
       "U.S.A.                 366\n",
       "Mexico                 201\n",
       "Jamaica                175\n",
       "Costa Rica             117\n",
       "Bahamas                111\n",
       "Canary Islands          88\n",
       "Brazil                  42\n",
       "Philippines             41\n",
       "Indonesia               19\n",
       "Name: country, dtype: int64"
      ]
     },
     "execution_count": 67,
     "metadata": {},
     "output_type": "execute_result"
    }
   ],
   "source": [
    "scores_df.country.value_counts()"
   ]
  },
  {
   "cell_type": "code",
   "execution_count": 68,
   "metadata": {},
   "outputs": [
    {
     "data": {
      "text/plain": [
       "<AxesSubplot:>"
      ]
     },
     "execution_count": 68,
     "metadata": {},
     "output_type": "execute_result"
    },
    {
     "data": {
      "image/png": "[encoded data removed]",
      "text/plain": [
       "<Figure size 432x288 with 1 Axes>"
      ]
     },
     "metadata": {
      "needs_background": "light"
     },
     "output_type": "display_data"
    }
   ],
   "source": [
    "scores_df.score.hist()"
   ]
  },
  {
   "cell_type": "code",
   "execution_count": 91,
   "metadata": {},
   "outputs": [
    {
     "name": "stdout",
     "output_type": "stream",
     "text": [
      "87.0814549791294\n"
     ]
    },
    {
     "data": {
      "text/plain": [
       "8385"
      ]
     },
     "execution_count": 91,
     "metadata": {},
     "output_type": "execute_result"
    }
   ],
   "source": [
    "dr_score = scores_df[scores_df.country == 'Dominican Republic'].score\n",
    "print(dr_score.mean())\n",
    "len(dr_score)"
   ]
  },
  {
   "cell_type": "code",
   "execution_count": 92,
   "metadata": {},
   "outputs": [
    {
     "name": "stdout",
     "output_type": "stream",
     "text": [
      "89.54035468693449\n"
     ]
    },
    {
     "data": {
      "text/plain": [
       "2763"
      ]
     },
     "execution_count": 92,
     "metadata": {},
     "output_type": "execute_result"
    }
   ],
   "source": [
    "cuba_score = scores_df[scores_df.country == 'Cuba'].score\n",
    "print(cuba_score.mean())\n",
    "len(cuba_score)"
   ]
  },
  {
   "cell_type": "code",
   "execution_count": 93,
   "metadata": {},
   "outputs": [
    {
     "name": "stdout",
     "output_type": "stream",
     "text": [
      "88.63896789922795\n"
     ]
    },
    {
     "data": {
      "text/plain": [
       "4922"
      ]
     },
     "execution_count": 93,
     "metadata": {},
     "output_type": "execute_result"
    }
   ],
   "source": [
    "nic_score = scores_df[scores_df.country == 'Nicaragua'].score\n",
    "print(nic_score.mean())\n",
    "len(nic_score)"
   ]
  },
  {
   "cell_type": "code",
   "execution_count": 101,
   "metadata": {},
   "outputs": [
    {
     "name": "stdout",
     "output_type": "stream",
     "text": [
      "87.23753243009513\n"
     ]
    },
    {
     "data": {
      "text/plain": [
       "3469"
      ]
     },
     "execution_count": 101,
     "metadata": {},
     "output_type": "execute_result"
    }
   ],
   "source": [
    "hon_score = scores_df[scores_df.country == 'Honduras'].score\n",
    "print(hon_score.mean())\n",
    "len(hon_score)"
   ]
  },
  {
   "cell_type": "code",
   "execution_count": 102,
   "metadata": {},
   "outputs": [
    {
     "name": "stdout",
     "output_type": "stream",
     "text": [
      "88.18579234972678\n"
     ]
    },
    {
     "data": {
      "text/plain": [
       "366"
      ]
     },
     "execution_count": 102,
     "metadata": {},
     "output_type": "execute_result"
    }
   ],
   "source": [
    "usa_score = scores_df[scores_df.country == 'U.S.A.'].score\n",
    "print(usa_score.mean())\n",
    "len(usa_score)"
   ]
  },
  {
   "cell_type": "code",
   "execution_count": 107,
   "metadata": {},
   "outputs": [
    {
     "name": "stdout",
     "output_type": "stream",
     "text": [
      "85.66857142857143\n"
     ]
    },
    {
     "data": {
      "text/plain": [
       "175"
      ]
     },
     "execution_count": 107,
     "metadata": {},
     "output_type": "execute_result"
    }
   ],
   "source": [
    "jam_score = scores_df[scores_df.country == 'Jamaica'].score\n",
    "print(jam_score.mean())\n",
    "len(jam_score)"
   ]
  },
  {
   "cell_type": "code",
   "execution_count": 108,
   "metadata": {},
   "outputs": [
    {
     "name": "stdout",
     "output_type": "stream",
     "text": [
      "84.66666666666667\n"
     ]
    },
    {
     "data": {
      "text/plain": [
       "201"
      ]
     },
     "execution_count": 108,
     "metadata": {},
     "output_type": "execute_result"
    }
   ],
   "source": [
    "mex_score = scores_df[scores_df.country == 'Mexico'].score\n",
    "print(mex_score.mean())\n",
    "len(mex_score)"
   ]
  },
  {
   "cell_type": "code",
   "execution_count": null,
   "metadata": {},
   "outputs": [],
   "source": []
  },
  {
   "cell_type": "code",
   "execution_count": null,
   "metadata": {},
   "outputs": [],
   "source": []
  },
  {
   "cell_type": "code",
   "execution_count": null,
   "metadata": {},
   "outputs": [],
   "source": []
  },
  {
   "cell_type": "code",
   "execution_count": 111,
   "metadata": {},
   "outputs": [
    {
     "data": {
      "text/plain": [
       "BartlettResult(statistic=238.42537345345127, pvalue=1.2175551584769307e-48)"
      ]
     },
     "execution_count": 111,
     "metadata": {},
     "output_type": "execute_result"
    }
   ],
   "source": [
    "stats.bartlett(dr_score, cuba_score, nic_score, hon_score, usa_score, mex_score, jam_score)"
   ]
  },
  {
   "cell_type": "code",
   "execution_count": null,
   "metadata": {},
   "outputs": [],
   "source": []
  },
  {
   "cell_type": "code",
   "execution_count": null,
   "metadata": {},
   "outputs": [],
   "source": [
    "dr_scores.mean()"
   ]
  },
  {
   "cell_type": "code",
   "execution_count": 76,
   "metadata": {},
   "outputs": [
    {
     "data": {
      "text/plain": [
       "89.54035468693449"
      ]
     },
     "execution_count": 76,
     "metadata": {},
     "output_type": "execute_result"
    }
   ],
   "source": [
    "cuba_scores.mean()"
   ]
  },
  {
   "cell_type": "code",
   "execution_count": 105,
   "metadata": {},
   "outputs": [
    {
     "data": {
      "text/plain": [
       "Ttest_indResult(statistic=3.296090553359113, pvalue=0.0010639238963812366)"
      ]
     },
     "execution_count": 105,
     "metadata": {},
     "output_type": "execute_result"
    }
   ],
   "source": [
    "stats.ttest_ind(nic_score,usa_score, equal_var = False)"
   ]
  },
  {
   "cell_type": "code",
   "execution_count": null,
   "metadata": {},
   "outputs": [],
   "source": []
  },
  {
   "cell_type": "code",
   "execution_count": null,
   "metadata": {},
   "outputs": [],
   "source": [
    "#Null: all countries scores are the same"
   ]
  },
  {
   "cell_type": "code",
   "execution_count": 98,
   "metadata": {},
   "outputs": [
    {
     "data": {
      "text/plain": [
       "Ttest_indResult(statistic=-0.2561846444534243, pvalue=0.797861060982467)"
      ]
     },
     "execution_count": 98,
     "metadata": {},
     "output_type": "execute_result"
    }
   ],
   "source": [
    "rvs1 = stats.norm.rvs(loc=5,scale=10,size=500)\n",
    "rvs2 = stats.norm.rvs(loc=5,scale=10,size=500)\n",
    "stats.ttest_ind(rvs1,rvs2)"
   ]
  },
  {
   "cell_type": "code",
   "execution_count": 112,
   "metadata": {},
   "outputs": [
    {
     "data": {
      "text/plain": [
       "BartlettResult(statistic=0.16205052507247125, pvalue=0.6872756224097636)"
      ]
     },
     "execution_count": 112,
     "metadata": {},
     "output_type": "execute_result"
    }
   ],
   "source": [
    "stats.bartlett(rvs1, rvs2)"
   ]
  },
  {
   "cell_type": "code",
   "execution_count": null,
   "metadata": {},
   "outputs": [],
   "source": []
  },
  {
   "cell_type": "code",
   "execution_count": null,
   "metadata": {},
   "outputs": [],
   "source": []
  },
  {
   "cell_type": "code",
   "execution_count": null,
   "metadata": {},
   "outputs": [],
   "source": []
  },
  {
   "cell_type": "code",
   "execution_count": null,
   "metadata": {},
   "outputs": [],
   "source": []
  },
  {
   "cell_type": "code",
   "execution_count": 16,
   "metadata": {},
   "outputs": [
    {
     "data": {
      "text/html": [
       "<div>\n",
       "<style scoped>\n",
       "    .dataframe tbody tr th:only-of-type {\n",
       "        vertical-align: middle;\n",
       "    }\n",
       "\n",
       "    .dataframe tbody tr th {\n",
       "        vertical-align: top;\n",
       "    }\n",
       "\n",
       "    .dataframe thead th {\n",
       "        text-align: right;\n",
       "    }\n",
       "</style>\n",
       "<table border=\"1\" class=\"dataframe\">\n",
       "  <thead>\n",
       "    <tr style=\"text-align: right;\">\n",
       "      <th></th>\n",
       "      <th>image</th>\n",
       "      <th>name</th>\n",
       "      <th>score</th>\n",
       "      <th>length</th>\n",
       "      <th>gauge</th>\n",
       "      <th>strenth_string</th>\n",
       "      <th>tasting_notes</th>\n",
       "      <th>size</th>\n",
       "      <th>filler</th>\n",
       "      <th>binder</th>\n",
       "      <th>wrapper</th>\n",
       "      <th>country</th>\n",
       "      <th>price</th>\n",
       "      <th>issue</th>\n",
       "      <th>more_reviews</th>\n",
       "      <th>href</th>\n",
       "      <th>strength</th>\n",
       "      <th>og_issue</th>\n",
       "      <th>og_issue_date</th>\n",
       "    </tr>\n",
       "  </thead>\n",
       "  <tbody>\n",
       "    <tr>\n",
       "      <th>0</th>\n",
       "      <td>https://img.mshanken.com/d/cao/ratings_extras/...</td>\n",
       "      <td>BOLIVAR ROYAL CORONA</td>\n",
       "      <td>93</td>\n",
       "      <td>4 7/8\"</td>\n",
       "      <td>50</td>\n",
       "      <td>background:url('https://img.mshanken.com/d/cao...</td>\n",
       "      <td>This is an earthy, rich cigar with a lovely br...</td>\n",
       "      <td>Robusto</td>\n",
       "      <td>Cuba</td>\n",
       "      <td>Cuba</td>\n",
       "      <td>Cuba</td>\n",
       "      <td>Cuba</td>\n",
       "      <td>£10.00</td>\n",
       "      <td>\\nIssue:\\n                                    ...</td>\n",
       "      <td>[['89', ['Cigar Aficionado: ', '              ...</td>\n",
       "      <td>href</td>\n",
       "      <td>NaN</td>\n",
       "      <td>Cigar Aficionado</td>\n",
       "      <td>– Sep 01, 1992</td>\n",
       "    </tr>\n",
       "    <tr>\n",
       "      <th>2</th>\n",
       "      <td>https://img.mshanken.com/d/cao/ratings_extras/...</td>\n",
       "      <td>DAVIDOFF GRAN CRU NO. 2</td>\n",
       "      <td>89</td>\n",
       "      <td>5 5/8\"</td>\n",
       "      <td>43</td>\n",
       "      <td>background:url('https://img.mshanken.com/d/cao...</td>\n",
       "      <td>An enticing cigar that keeps you coming back f...</td>\n",
       "      <td>Corona</td>\n",
       "      <td>Dom. Rep.</td>\n",
       "      <td>Dom. Rep.</td>\n",
       "      <td>U.S.A./Conn. Shade</td>\n",
       "      <td>Dominican Republic</td>\n",
       "      <td>NaN</td>\n",
       "      <td>\\nIssue:\\n                                    ...</td>\n",
       "      <td>[['86', ['Cigar Aficionado: ', '              ...</td>\n",
       "      <td>1001</td>\n",
       "      <td>NaN</td>\n",
       "      <td>Cigar Aficionado</td>\n",
       "      <td>– Mar 01, 1993</td>\n",
       "    </tr>\n",
       "    <tr>\n",
       "      <th>3</th>\n",
       "      <td>https://img.mshanken.com/d/cao/ratings_extras/...</td>\n",
       "      <td>ASHTON CORONA</td>\n",
       "      <td>86</td>\n",
       "      <td>5 1/2\"</td>\n",
       "      <td>44</td>\n",
       "      <td>background:url('https://img.mshanken.com/d/cao...</td>\n",
       "      <td>This cigar is well-made and gives plenty of fl...</td>\n",
       "      <td>Corona</td>\n",
       "      <td>Dom. Rep.</td>\n",
       "      <td>Dom. Rep.</td>\n",
       "      <td>U.S.A./Conn. Shade</td>\n",
       "      <td>Dominican Republic</td>\n",
       "      <td>$6.25</td>\n",
       "      <td>\\nIssue:\\n                                    ...</td>\n",
       "      <td>[['90', ['Cigar Aficionado: ', '              ...</td>\n",
       "      <td>1002</td>\n",
       "      <td>NaN</td>\n",
       "      <td>Cigar Aficionado</td>\n",
       "      <td>– Mar 01, 1993</td>\n",
       "    </tr>\n",
       "    <tr>\n",
       "      <th>4</th>\n",
       "      <td>https://img.mshanken.com/d/cao/ratings_extras/...</td>\n",
       "      <td>ASHTON MAGNUM</td>\n",
       "      <td>82</td>\n",
       "      <td>5\"</td>\n",
       "      <td>50</td>\n",
       "      <td>background:url('https://img.mshanken.com/d/cao...</td>\n",
       "      <td>This is a clean, very mild well-made cigar, wi...</td>\n",
       "      <td>Robusto</td>\n",
       "      <td>Dom. Rep.</td>\n",
       "      <td>Dom. Rep.</td>\n",
       "      <td>U.S.A./Conn. Shade</td>\n",
       "      <td>Dominican Republic</td>\n",
       "      <td>$6.75</td>\n",
       "      <td>\\nIssue:\\n                                    ...</td>\n",
       "      <td>[['87', ['Cigar Aficionado: ', '              ...</td>\n",
       "      <td>1003</td>\n",
       "      <td>NaN</td>\n",
       "      <td>Cigar Aficionado</td>\n",
       "      <td>– Sep 01, 1992</td>\n",
       "    </tr>\n",
       "    <tr>\n",
       "      <th>5</th>\n",
       "      <td>https://img.mshanken.com/d/cao/ratings_extras/...</td>\n",
       "      <td>ARTURO FUENTE CHATEAU FUENTE SUN GROWN</td>\n",
       "      <td>86</td>\n",
       "      <td>4 1/2\"</td>\n",
       "      <td>50</td>\n",
       "      <td>background:url('https://img.mshanken.com/d/cao...</td>\n",
       "      <td>Finely constructed, A. Fuente's robusto has a ...</td>\n",
       "      <td>Robusto</td>\n",
       "      <td>Dom. Rep.</td>\n",
       "      <td>Dom. Rep.</td>\n",
       "      <td>Ecuador</td>\n",
       "      <td>Dominican Republic</td>\n",
       "      <td>NaN</td>\n",
       "      <td>\\nIssue:\\n                                    ...</td>\n",
       "      <td>[['89', ['Cigar Aficionado: ', '              ...</td>\n",
       "      <td>1004</td>\n",
       "      <td>NaN</td>\n",
       "      <td>Cigar Aficionado</td>\n",
       "      <td>– Sep 01, 1992</td>\n",
       "    </tr>\n",
       "    <tr>\n",
       "      <th>...</th>\n",
       "      <td>...</td>\n",
       "      <td>...</td>\n",
       "      <td>...</td>\n",
       "      <td>...</td>\n",
       "      <td>...</td>\n",
       "      <td>...</td>\n",
       "      <td>...</td>\n",
       "      <td>...</td>\n",
       "      <td>...</td>\n",
       "      <td>...</td>\n",
       "      <td>...</td>\n",
       "      <td>...</td>\n",
       "      <td>...</td>\n",
       "      <td>...</td>\n",
       "      <td>...</td>\n",
       "      <td>...</td>\n",
       "      <td>...</td>\n",
       "      <td>...</td>\n",
       "      <td>...</td>\n",
       "    </tr>\n",
       "    <tr>\n",
       "      <th>20769</th>\n",
       "      <td>https://img.mshanken.com/d/cao/ratings_extras/...</td>\n",
       "      <td>E.P. Carrillo Encore TAA 656</td>\n",
       "      <td>89</td>\n",
       "      <td>5\"</td>\n",
       "      <td>56</td>\n",
       "      <td>background:url('https://img.mshanken.com/d/cao...</td>\n",
       "      <td>Chocolate-brown with a multi-seamed cap, this ...</td>\n",
       "      <td>Toro</td>\n",
       "      <td>Nicaragua</td>\n",
       "      <td>Nicaragua</td>\n",
       "      <td>Nicaragua</td>\n",
       "      <td>Dominican Republic</td>\n",
       "      <td>$13.25</td>\n",
       "      <td>\\nIssue:\\n                                    ...</td>\n",
       "      <td>[['89', ['Cigar Insider: ', '                 ...</td>\n",
       "      <td>22539</td>\n",
       "      <td>5.0</td>\n",
       "      <td>Cigar Insider</td>\n",
       "      <td>– Dec 08, 2020</td>\n",
       "    </tr>\n",
       "    <tr>\n",
       "      <th>20770</th>\n",
       "      <td>https://img.mshanken.com/d/cao/ratings_extras/...</td>\n",
       "      <td>Romeo y Julieta Short Churchill (Tubo)</td>\n",
       "      <td>92</td>\n",
       "      <td>4 7/8\"</td>\n",
       "      <td>50</td>\n",
       "      <td>background:url('https://img.mshanken.com/d/cao...</td>\n",
       "      <td>The smoke from this oily robusto imparts a bol...</td>\n",
       "      <td>Robusto</td>\n",
       "      <td>Cuba</td>\n",
       "      <td>Cuba</td>\n",
       "      <td>Cuba</td>\n",
       "      <td>Cuba</td>\n",
       "      <td>£24.50</td>\n",
       "      <td>\\nIssue:\\n                                    ...</td>\n",
       "      <td>[['90', ['Cigar Aficionado: ', '              ...</td>\n",
       "      <td>22540</td>\n",
       "      <td>5.0</td>\n",
       "      <td>Cigar Insider</td>\n",
       "      <td>– Dec 08, 2020</td>\n",
       "    </tr>\n",
       "    <tr>\n",
       "      <th>20771</th>\n",
       "      <td>https://img.mshanken.com/d/cao/ratings_extras/...</td>\n",
       "      <td>Romeo y Julieta Wide Churchill (Tubo)</td>\n",
       "      <td>89</td>\n",
       "      <td>5 1/8\"</td>\n",
       "      <td>55</td>\n",
       "      <td>background:url('https://img.mshanken.com/d/cao...</td>\n",
       "      <td>Dark and well-made with a multi-seamed cap and...</td>\n",
       "      <td>Robusto</td>\n",
       "      <td>Cuba</td>\n",
       "      <td>Cuba</td>\n",
       "      <td>Cuba</td>\n",
       "      <td>Cuba</td>\n",
       "      <td>£31.70</td>\n",
       "      <td>\\nIssue:\\n                                    ...</td>\n",
       "      <td>[['89', ['Cigar Insider: ', '                 ...</td>\n",
       "      <td>22541</td>\n",
       "      <td>5.0</td>\n",
       "      <td>Cigar Insider</td>\n",
       "      <td>– Dec 08, 2020</td>\n",
       "    </tr>\n",
       "    <tr>\n",
       "      <th>20772</th>\n",
       "      <td>https://img.mshanken.com/d/cao/ratings_extras/...</td>\n",
       "      <td>Romeo y Julieta Petit Churchill (Tubo)</td>\n",
       "      <td>86</td>\n",
       "      <td>4\"</td>\n",
       "      <td>50</td>\n",
       "      <td>background:url('https://img.mshanken.com/d/cao...</td>\n",
       "      <td>The smoke of this dark, oily cigar is somewhat...</td>\n",
       "      <td>Odd</td>\n",
       "      <td>Cuba</td>\n",
       "      <td>Cuba</td>\n",
       "      <td>Cuba</td>\n",
       "      <td>Cuba</td>\n",
       "      <td>£22.10</td>\n",
       "      <td>\\nIssue:\\n                                    ...</td>\n",
       "      <td>[['90', ['Cigar Aficionado: ', '              ...</td>\n",
       "      <td>22542</td>\n",
       "      <td>5.0</td>\n",
       "      <td>Cigar Insider</td>\n",
       "      <td>– Dec 08, 2020</td>\n",
       "    </tr>\n",
       "    <tr>\n",
       "      <th>20773</th>\n",
       "      <td>https://img.mshanken.com/d/cao/ratings_extras/...</td>\n",
       "      <td>Romeo y Julieta Churchill (Tubo)</td>\n",
       "      <td>93</td>\n",
       "      <td>7\"</td>\n",
       "      <td>47</td>\n",
       "      <td>background:url('https://img.mshanken.com/d/cao...</td>\n",
       "      <td>Topped with a triple-seam cap, this Churchill ...</td>\n",
       "      <td>Churchill</td>\n",
       "      <td>Cuba</td>\n",
       "      <td>Cuba</td>\n",
       "      <td>Cuba</td>\n",
       "      <td>Cuba</td>\n",
       "      <td>£31.75</td>\n",
       "      <td>\\nIssue:\\n                                    ...</td>\n",
       "      <td>[['90', ['Cigar Aficionado: ', '              ...</td>\n",
       "      <td>22543</td>\n",
       "      <td>5.0</td>\n",
       "      <td>Cigar Insider</td>\n",
       "      <td>– Dec 08, 2020</td>\n",
       "    </tr>\n",
       "  </tbody>\n",
       "</table>\n",
       "<p>20769 rows × 19 columns</p>\n",
       "</div>"
      ],
      "text/plain": [
       "                                                   image  \\\n",
       "0      https://img.mshanken.com/d/cao/ratings_extras/...   \n",
       "2      https://img.mshanken.com/d/cao/ratings_extras/...   \n",
       "3      https://img.mshanken.com/d/cao/ratings_extras/...   \n",
       "4      https://img.mshanken.com/d/cao/ratings_extras/...   \n",
       "5      https://img.mshanken.com/d/cao/ratings_extras/...   \n",
       "...                                                  ...   \n",
       "20769  https://img.mshanken.com/d/cao/ratings_extras/...   \n",
       "20770  https://img.mshanken.com/d/cao/ratings_extras/...   \n",
       "20771  https://img.mshanken.com/d/cao/ratings_extras/...   \n",
       "20772  https://img.mshanken.com/d/cao/ratings_extras/...   \n",
       "20773  https://img.mshanken.com/d/cao/ratings_extras/...   \n",
       "\n",
       "                                          name  score  length gauge  \\\n",
       "0                         BOLIVAR ROYAL CORONA     93  4 7/8\"    50   \n",
       "2                      DAVIDOFF GRAN CRU NO. 2     89  5 5/8\"    43   \n",
       "3                                ASHTON CORONA     86  5 1/2\"    44   \n",
       "4                                ASHTON MAGNUM     82      5\"    50   \n",
       "5      ARTURO FUENTE CHATEAU FUENTE SUN GROWN      86  4 1/2\"    50   \n",
       "...                                        ...    ...     ...   ...   \n",
       "20769             E.P. Carrillo Encore TAA 656     89      5\"    56   \n",
       "20770   Romeo y Julieta Short Churchill (Tubo)     92  4 7/8\"    50   \n",
       "20771    Romeo y Julieta Wide Churchill (Tubo)     89  5 1/8\"    55   \n",
       "20772   Romeo y Julieta Petit Churchill (Tubo)     86      4\"    50   \n",
       "20773         Romeo y Julieta Churchill (Tubo)     93      7\"    47   \n",
       "\n",
       "                                          strenth_string  \\\n",
       "0      background:url('https://img.mshanken.com/d/cao...   \n",
       "2      background:url('https://img.mshanken.com/d/cao...   \n",
       "3      background:url('https://img.mshanken.com/d/cao...   \n",
       "4      background:url('https://img.mshanken.com/d/cao...   \n",
       "5      background:url('https://img.mshanken.com/d/cao...   \n",
       "...                                                  ...   \n",
       "20769  background:url('https://img.mshanken.com/d/cao...   \n",
       "20770  background:url('https://img.mshanken.com/d/cao...   \n",
       "20771  background:url('https://img.mshanken.com/d/cao...   \n",
       "20772  background:url('https://img.mshanken.com/d/cao...   \n",
       "20773  background:url('https://img.mshanken.com/d/cao...   \n",
       "\n",
       "                                           tasting_notes       size  \\\n",
       "0      This is an earthy, rich cigar with a lovely br...    Robusto   \n",
       "2      An enticing cigar that keeps you coming back f...     Corona   \n",
       "3      This cigar is well-made and gives plenty of fl...     Corona   \n",
       "4      This is a clean, very mild well-made cigar, wi...    Robusto   \n",
       "5      Finely constructed, A. Fuente's robusto has a ...    Robusto   \n",
       "...                                                  ...        ...   \n",
       "20769  Chocolate-brown with a multi-seamed cap, this ...       Toro   \n",
       "20770  The smoke from this oily robusto imparts a bol...    Robusto   \n",
       "20771  Dark and well-made with a multi-seamed cap and...    Robusto   \n",
       "20772  The smoke of this dark, oily cigar is somewhat...        Odd   \n",
       "20773  Topped with a triple-seam cap, this Churchill ...  Churchill   \n",
       "\n",
       "          filler     binder             wrapper             country   price  \\\n",
       "0           Cuba       Cuba                Cuba                Cuba  £10.00   \n",
       "2      Dom. Rep.  Dom. Rep.  U.S.A./Conn. Shade  Dominican Republic     NaN   \n",
       "3      Dom. Rep.  Dom. Rep.  U.S.A./Conn. Shade  Dominican Republic   $6.25   \n",
       "4      Dom. Rep.  Dom. Rep.  U.S.A./Conn. Shade  Dominican Republic   $6.75   \n",
       "5      Dom. Rep.  Dom. Rep.             Ecuador  Dominican Republic     NaN   \n",
       "...          ...        ...                 ...                 ...     ...   \n",
       "20769  Nicaragua  Nicaragua           Nicaragua  Dominican Republic  $13.25   \n",
       "20770       Cuba       Cuba                Cuba                Cuba  £24.50   \n",
       "20771       Cuba       Cuba                Cuba                Cuba  £31.70   \n",
       "20772       Cuba       Cuba                Cuba                Cuba  £22.10   \n",
       "20773       Cuba       Cuba                Cuba                Cuba  £31.75   \n",
       "\n",
       "                                                   issue  \\\n",
       "0      \\nIssue:\\n                                    ...   \n",
       "2      \\nIssue:\\n                                    ...   \n",
       "3      \\nIssue:\\n                                    ...   \n",
       "4      \\nIssue:\\n                                    ...   \n",
       "5      \\nIssue:\\n                                    ...   \n",
       "...                                                  ...   \n",
       "20769  \\nIssue:\\n                                    ...   \n",
       "20770  \\nIssue:\\n                                    ...   \n",
       "20771  \\nIssue:\\n                                    ...   \n",
       "20772  \\nIssue:\\n                                    ...   \n",
       "20773  \\nIssue:\\n                                    ...   \n",
       "\n",
       "                                            more_reviews   href  strength  \\\n",
       "0      [['89', ['Cigar Aficionado: ', '              ...   href       NaN   \n",
       "2      [['86', ['Cigar Aficionado: ', '              ...   1001       NaN   \n",
       "3      [['90', ['Cigar Aficionado: ', '              ...   1002       NaN   \n",
       "4      [['87', ['Cigar Aficionado: ', '              ...   1003       NaN   \n",
       "5      [['89', ['Cigar Aficionado: ', '              ...   1004       NaN   \n",
       "...                                                  ...    ...       ...   \n",
       "20769  [['89', ['Cigar Insider: ', '                 ...  22539       5.0   \n",
       "20770  [['90', ['Cigar Aficionado: ', '              ...  22540       5.0   \n",
       "20771  [['89', ['Cigar Insider: ', '                 ...  22541       5.0   \n",
       "20772  [['90', ['Cigar Aficionado: ', '              ...  22542       5.0   \n",
       "20773  [['90', ['Cigar Aficionado: ', '              ...  22543       5.0   \n",
       "\n",
       "               og_issue   og_issue_date  \n",
       "0      Cigar Aficionado  – Sep 01, 1992  \n",
       "2      Cigar Aficionado  – Mar 01, 1993  \n",
       "3      Cigar Aficionado  – Mar 01, 1993  \n",
       "4      Cigar Aficionado  – Sep 01, 1992  \n",
       "5      Cigar Aficionado  – Sep 01, 1992  \n",
       "...                 ...             ...  \n",
       "20769     Cigar Insider  – Dec 08, 2020  \n",
       "20770     Cigar Insider  – Dec 08, 2020  \n",
       "20771     Cigar Insider  – Dec 08, 2020  \n",
       "20772     Cigar Insider  – Dec 08, 2020  \n",
       "20773     Cigar Insider  – Dec 08, 2020  \n",
       "\n",
       "[20769 rows x 19 columns]"
      ]
     },
     "execution_count": 16,
     "metadata": {},
     "output_type": "execute_result"
    }
   ],
   "source": [
    "df"
   ]
  },
  {
   "cell_type": "code",
   "execution_count": null,
   "metadata": {},
   "outputs": [],
   "source": []
  },
  {
   "cell_type": "code",
   "execution_count": null,
   "metadata": {},
   "outputs": [],
   "source": []
  },
  {
   "cell_type": "code",
   "execution_count": null,
   "metadata": {},
   "outputs": [],
   "source": []
  }
 ],
 "metadata": {
  "kernelspec": {
   "display_name": "Python 3",
   "language": "python",
   "name": "python3"
  },
  "language_info": {
   "codemirror_mode": {
    "name": "ipython",
    "version": 3
   },
   "file_extension": ".py",
   "mimetype": "text/x-python",
   "name": "python",
   "nbconvert_exporter": "python",
   "pygments_lexer": "ipython3",
   "version": "3.7.10"
  }
 },
 "nbformat": 4,
 "nbformat_minor": 4
}
