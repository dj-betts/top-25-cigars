{
 "cells": [
  {
   "cell_type": "code",
   "execution_count": 2,
   "id": "guided-sleeping",
   "metadata": {},
   "outputs": [],
   "source": [
    "import pandas as pd"
   ]
  },
  {
   "cell_type": "code",
   "execution_count": 3,
   "id": "variable-render",
   "metadata": {},
   "outputs": [],
   "source": [
    "import numpy as np"
   ]
  },
  {
   "cell_type": "code",
   "execution_count": 4,
   "id": "guilty-demographic",
   "metadata": {},
   "outputs": [],
   "source": [
    "from datetime import datetime"
   ]
  },
  {
   "cell_type": "code",
   "execution_count": 5,
   "id": "yellow-color",
   "metadata": {},
   "outputs": [
    {
     "name": "stderr",
     "output_type": "stream",
     "text": [
      "In /Users/djbetts/opt/anaconda3/lib/python3.7/site-packages/matplotlib/mpl-data/stylelib/_classic_test.mplstyle: \n",
      "The text.latex.preview rcparam was deprecated in Matplotlib 3.3 and will be removed two minor releases later.\n",
      "In /Users/djbetts/opt/anaconda3/lib/python3.7/site-packages/matplotlib/mpl-data/stylelib/_classic_test.mplstyle: \n",
      "The mathtext.fallback_to_cm rcparam was deprecated in Matplotlib 3.3 and will be removed two minor releases later.\n",
      "In /Users/djbetts/opt/anaconda3/lib/python3.7/site-packages/matplotlib/mpl-data/stylelib/_classic_test.mplstyle: Support for setting the 'mathtext.fallback_to_cm' rcParam is deprecated since 3.3 and will be removed two minor releases later; use 'mathtext.fallback : 'cm' instead.\n",
      "In /Users/djbetts/opt/anaconda3/lib/python3.7/site-packages/matplotlib/mpl-data/stylelib/_classic_test.mplstyle: \n",
      "The validate_bool_maybe_none function was deprecated in Matplotlib 3.3 and will be removed two minor releases later.\n",
      "In /Users/djbetts/opt/anaconda3/lib/python3.7/site-packages/matplotlib/mpl-data/stylelib/_classic_test.mplstyle: \n",
      "The savefig.jpeg_quality rcparam was deprecated in Matplotlib 3.3 and will be removed two minor releases later.\n",
      "In /Users/djbetts/opt/anaconda3/lib/python3.7/site-packages/matplotlib/mpl-data/stylelib/_classic_test.mplstyle: \n",
      "The keymap.all_axes rcparam was deprecated in Matplotlib 3.3 and will be removed two minor releases later.\n",
      "In /Users/djbetts/opt/anaconda3/lib/python3.7/site-packages/matplotlib/mpl-data/stylelib/_classic_test.mplstyle: \n",
      "The animation.avconv_path rcparam was deprecated in Matplotlib 3.3 and will be removed two minor releases later.\n",
      "In /Users/djbetts/opt/anaconda3/lib/python3.7/site-packages/matplotlib/mpl-data/stylelib/_classic_test.mplstyle: \n",
      "The animation.avconv_args rcparam was deprecated in Matplotlib 3.3 and will be removed two minor releases later.\n"
     ]
    }
   ],
   "source": [
    "import matplotlib.pyplot as plt"
   ]
  },
  {
   "cell_type": "code",
   "execution_count": 6,
   "id": "roman-observation",
   "metadata": {},
   "outputs": [],
   "source": [
    "from sklearn.feature_extraction.text import CountVectorizer, TfidfVectorizer\n",
    "from sklearn.model_selection import train_test_split\n",
    "from sklearn.metrics import confusion_matrix, plot_confusion_matrix\n",
    "from sklearn.naive_bayes import MultinomialNB\n",
    "from sklearn.ensemble import RandomForestClassifier\n",
    "from sklearn.inspection import permutation_importance"
   ]
  },
  {
   "cell_type": "code",
   "execution_count": 7,
   "id": "corrected-panel",
   "metadata": {},
   "outputs": [],
   "source": [
    "import nltk\n",
    "import string"
   ]
  },
  {
   "cell_type": "code",
   "execution_count": 8,
   "id": "stunning-conservation",
   "metadata": {},
   "outputs": [],
   "source": [
    "from nltk.stem.snowball import SnowballStemmer\n",
    "from nltk.stem.wordnet import WordNetLemmatizer\n",
    "from nltk.tokenize import word_tokenize\n",
    "from nltk.corpus import stopwords"
   ]
  },
  {
   "cell_type": "code",
   "execution_count": 9,
   "id": "marked-advocacy",
   "metadata": {},
   "outputs": [],
   "source": [
    "from sklearn.cluster import KMeans\n",
    "from sklearn.metrics import silhouette_score"
   ]
  },
  {
   "cell_type": "code",
   "execution_count": 10,
   "id": "ordinary-solid",
   "metadata": {},
   "outputs": [],
   "source": [
    "data = pd.read_csv('/Users/djbetts/Desktop/top-25-cigars/cigar_aficionado.csv', usecols=['name','tasting_notes','score'])"
   ]
  },
  {
   "cell_type": "code",
   "execution_count": 11,
   "id": "cathedral-cleanup",
   "metadata": {},
   "outputs": [],
   "source": [
    "df = data.copy()"
   ]
  },
  {
   "cell_type": "code",
   "execution_count": 12,
   "id": "altered-client",
   "metadata": {},
   "outputs": [
    {
     "data": {
      "text/plain": [
       "Index(['name', 'score', 'tasting_notes'], dtype='object')"
      ]
     },
     "execution_count": 12,
     "metadata": {},
     "output_type": "execute_result"
    }
   ],
   "source": [
    "df.columns"
   ]
  },
  {
   "cell_type": "code",
   "execution_count": 13,
   "id": "legislative-softball",
   "metadata": {},
   "outputs": [
    {
     "data": {
      "text/plain": [
       "(20769, 3)"
      ]
     },
     "execution_count": 13,
     "metadata": {},
     "output_type": "execute_result"
    }
   ],
   "source": [
    "df.shape"
   ]
  },
  {
   "cell_type": "code",
   "execution_count": 14,
   "id": "controlled-official",
   "metadata": {},
   "outputs": [],
   "source": [
    "df.dropna(axis=0, inplace=True)"
   ]
  },
  {
   "cell_type": "code",
   "execution_count": 15,
   "id": "extensive-legislation",
   "metadata": {},
   "outputs": [
    {
     "data": {
      "text/html": [
       "<div>\n",
       "<style scoped>\n",
       "    .dataframe tbody tr th:only-of-type {\n",
       "        vertical-align: middle;\n",
       "    }\n",
       "\n",
       "    .dataframe tbody tr th {\n",
       "        vertical-align: top;\n",
       "    }\n",
       "\n",
       "    .dataframe thead th {\n",
       "        text-align: right;\n",
       "    }\n",
       "</style>\n",
       "<table border=\"1\" class=\"dataframe\">\n",
       "  <thead>\n",
       "    <tr style=\"text-align: right;\">\n",
       "      <th></th>\n",
       "      <th>name</th>\n",
       "      <th>score</th>\n",
       "      <th>tasting_notes</th>\n",
       "    </tr>\n",
       "  </thead>\n",
       "  <tbody>\n",
       "    <tr>\n",
       "      <th>0</th>\n",
       "      <td>BOLIVAR ROYAL CORONA</td>\n",
       "      <td>93</td>\n",
       "      <td>This is an earthy, rich cigar with a lovely br...</td>\n",
       "    </tr>\n",
       "    <tr>\n",
       "      <th>1</th>\n",
       "      <td>DAVIDOFF GRAN CRU NO. 2</td>\n",
       "      <td>89</td>\n",
       "      <td>An enticing cigar that keeps you coming back f...</td>\n",
       "    </tr>\n",
       "    <tr>\n",
       "      <th>2</th>\n",
       "      <td>ASHTON CORONA</td>\n",
       "      <td>86</td>\n",
       "      <td>This cigar is well-made and gives plenty of fl...</td>\n",
       "    </tr>\n",
       "    <tr>\n",
       "      <th>3</th>\n",
       "      <td>ASHTON MAGNUM</td>\n",
       "      <td>82</td>\n",
       "      <td>This is a clean, very mild well-made cigar, wi...</td>\n",
       "    </tr>\n",
       "    <tr>\n",
       "      <th>4</th>\n",
       "      <td>ARTURO FUENTE CHATEAU FUENTE SUN GROWN</td>\n",
       "      <td>86</td>\n",
       "      <td>Finely constructed, A. Fuente's robusto has a ...</td>\n",
       "    </tr>\n",
       "  </tbody>\n",
       "</table>\n",
       "</div>"
      ],
      "text/plain": [
       "                                      name  score  \\\n",
       "0                     BOLIVAR ROYAL CORONA     93   \n",
       "1                  DAVIDOFF GRAN CRU NO. 2     89   \n",
       "2                            ASHTON CORONA     86   \n",
       "3                            ASHTON MAGNUM     82   \n",
       "4  ARTURO FUENTE CHATEAU FUENTE SUN GROWN      86   \n",
       "\n",
       "                                       tasting_notes  \n",
       "0  This is an earthy, rich cigar with a lovely br...  \n",
       "1  An enticing cigar that keeps you coming back f...  \n",
       "2  This cigar is well-made and gives plenty of fl...  \n",
       "3  This is a clean, very mild well-made cigar, wi...  \n",
       "4  Finely constructed, A. Fuente's robusto has a ...  "
      ]
     },
     "execution_count": 15,
     "metadata": {},
     "output_type": "execute_result"
    }
   ],
   "source": [
    "df.head()"
   ]
  },
  {
   "cell_type": "code",
   "execution_count": 67,
   "id": "comic-clearing",
   "metadata": {},
   "outputs": [],
   "source": [
    "X = df.tasting_notes\n",
    "corpus = list(X)"
   ]
  },
  {
   "cell_type": "code",
   "execution_count": 68,
   "id": "killing-scheduling",
   "metadata": {},
   "outputs": [
    {
     "data": {
      "text/plain": [
       "'This is an earthy, rich cigar with a lovely brown wrapper and dense spicy aromas. The flavors are mellow with a clean finish. '"
      ]
     },
     "execution_count": 68,
     "metadata": {},
     "output_type": "execute_result"
    }
   ],
   "source": [
    "corpus[0]"
   ]
  },
  {
   "cell_type": "code",
   "execution_count": 69,
   "id": "suspended-lancaster",
   "metadata": {},
   "outputs": [],
   "source": [
    "y = df.score"
   ]
  },
  {
   "cell_type": "code",
   "execution_count": 70,
   "id": "unlimited-optimization",
   "metadata": {},
   "outputs": [],
   "source": [
    "from nltk.corpus import stopwords"
   ]
  },
  {
   "cell_type": "code",
   "execution_count": 71,
   "id": "original-empty",
   "metadata": {},
   "outputs": [],
   "source": [
    "import nltk\n",
    "from nltk.corpus import stopwords\n",
    "stopwords = stopwords.words('english')"
   ]
  },
  {
   "cell_type": "code",
   "execution_count": 72,
   "id": "addressed-closer",
   "metadata": {},
   "outputs": [],
   "source": [
    "#wordnet lemmatizer and lowercase words.\n",
    "def wordnet_tokenize(doc):\n",
    "    wordnet = WordNetLemmatizer()\n",
    "    return  [wordnet.lemmatize(word) for word in word_tokenize(doc.lower())]\n",
    "#split article and return quote"
   ]
  },
  {
   "cell_type": "code",
   "execution_count": 74,
   "id": "piano-bosnia",
   "metadata": {},
   "outputs": [
    {
     "name": "stdout",
     "output_type": "stream",
     "text": [
      "0: This is an earthy  rich cigar with a lovely brown wrapper and dense spicy aromas  The flavors are mellow with a clean finish  \n",
      "1: An enticing cigar that keeps you coming back for more  Beautifully made with a aluscious brown wrapper and a aslow even draw  it's smooth and rich on the palate witha  awonderful coffee  toffee character \n",
      "2: This cigar is well-made and gives plenty of flavor  which goes from coffee to a light spiciness on the palate  \n",
      "3: This is a clean  very mild well-made cigar  with grassy  earthy aromas and flavors    \n",
      "4: Finely constructed  A  Fuente's robusto has a nice draw and an elegant texture  It is soft and almost sweet on the palate with well-integrated herbal flavors      \n",
      "5: This is well made  with a light brown wrapper  It burns a little fast but very even  Flavors are mild and nutty     \n",
      "6: It looks like a rich maduro  with a very dark brown wrapper and solid construction  This cigar has lots of peppery      nutty flavors and a delicate finish      \n",
      "7: Mouth-filling with rich  coffee and spicy flavors and a impressively long finish     \n",
      "8: A full-bodied style with some bitterness on the aftertaste  may not be everyone's smoke  but it is well-constructed for an ultra-even draw    \n",
      "9: A rich  full-bodied cigar with spice and coffee flavors  and a nice nut and cedar finish       \n",
      "10: This legendary cigar became slightly soft while we smoked it  Otherwise  it shows finesse and delicacy with creamy flavors and a silky texture  \n",
      "11: An absolute joy to smoke  this cigar is packed with spice  tobacco and chocolate character  Wonderfully constructed  it burns superbly  and the flavors go on forever  \n",
      "12: This cigar is beautiful  with an oily brown wrapper that smokes at an even  steady pace  The aromas and flavors are reminiscent of coffee and cream  and last for a long time on the palate     \n",
      "13: The moment you take this cigar out of the cellophane  you know it is going to be superb  It looks and tastes great  A smooth medium-brown wrapper  the No  10 has lovely  earthy tobacco flavors and a long aftertaste  \n",
      "14: With a dark brown  rather coarse wrapper  this cigar burns very     well and has an even draw  It is medium-bodied with  spicy  roasted nut flavors and a medium  almost green  tobacco finish      \n",
      "15: This is succulent and savory with delicious coffee and      tobacco flavors and a light cedar aftertaste \n",
      "16: Light-brown and well-made  it's light in style with a grassy  tea character and a slightly sharp aftertaste \n",
      "17: This cigar has a pretty  light-brown  silky wrapper and an ample amount of nutty  coffee character  \n",
      "18:  A corona with attractive medium-bodied  earthy  peppery flavors and a light coffee finish  Our tasters complained about the draw  \n",
      "19: This cigar is very well-made with a pretty  light-brown      wrapper  It is smooth and easy to smoke with mild spicy     flavors  \n",
      "20: The Avo No  7 is extremely attractive and well-made  It's medium- bodied with a delicious pepper  spice and leather character and a long rich aftertaste \n",
      "21: A bit rough-looking with veins and spots on the wrapper  but this cigar shows plenty of nutty  earthy  herbal character and a medium  rich aftertaste  \n",
      "22: An exquisite deep-brown wrapper and solid construction that lack some intensity of flavor  It has mellow creamy and peppery flavors and a light aftertaste  \n",
      "23: A well-made corona that burns perfectly  but it's a little too light and mellow  It has very delicate  creamy  grassy flavors \n",
      "24: This is a harmonious smoke with cedar and tobacco flavors  which go on and on in the aftertaste \n",
      "25: As rich as it looks  The Bauza Grecos corona has a dark-brown  oily wrapper and smokes cool and smooth  It's full-bodied with a wonderful  spicy  earthy character \n",
      "26: With a handsome light-brown wrapper  this cigar is medium-bodied with an attractive  earthy  herbal character and a mild aftertaste \n",
      "27: A powerful  spicy smoke with rich  earthy flavors of leather  sweet spices like cinnamon and nutmeg and a dash of chocolate  It delivers a smooth  nutty  long-lasting finish  Scored 93 in Vol  1  No  1  \n",
      "28: A well-made medium-bodied cigar with excellent spice flavors  including nutmeg  There's a solid nutty core and a pleasant finish \n",
      "29: A nice  mild cigar with some light spicy flavors and a pleasant herbal character  \n",
      "30: A pleasant  medium-bodied cigar with solid flavors of mild spices and an earthy quality on the finish  Scored 82 in Vol  1  No  1    \n",
      "31: Some inconsistency in this cigar  Good spice flavors with several woody notes  A Chateau Rothschild  the cigar has been renamed  scored 86 in Vol  1  No  1    \n",
      "32: A rough  rustic smoke with some creamy notes  but with dry  strawlike flavors and a sharp bite on the finish  Scored 84 in Vol  1  No  1   \n",
      "33: A loose fill in this cigar creates a hot  spicy draw that mellows a bit to some nut and wood flavors  Scored 84 in Vol  1  No  1    \n",
      "34: This cigar's wrapper has a nice sheen  It is a rich smoke that smooths out quickly to full-bodied  earthy flavors of nutmeg and cocoa with a long  spicy finish  Scored 96 in Vol  1  No  1     \n",
      "35: A solid  rich cigar with mellow spiciness and coffee flavors and a good balance on the finish  Can be slow to start  Scored 89 in Vol  1  No  1    \n",
      "36: A rich  full-bodied cigar with spice and coffee flavors and a nice nut-and-cedar finish  Scored 87 in Vol  1  No  1    \n",
      "37: This is a cigar with a dry taste on the finish but some nutty  mild spice flavors   \n",
      "38: A very pleasant  attractive  medium-bodied smoke with mild  sweet spice flavors and a creamy aftertaste \n",
      "39: A mild cigar with spicy  dry woody flavors  It also has some solid tobacco notes \n",
      "40: A very light  mellow smoke with some creamy  mild spice flavors but a flat  neutral finish \n",
      "41: A well-balanced cigar that shows a pleasing smooth  creamy texture with hints of spice and leather and solid tobacco flavors   \n",
      "42: This cigar has a nice nutty flavor with hints of spice and dried orange peel  and a strong woody finish    \n",
      "43: A creamy-tasting cigar  It is medium-bodied with solid spice and herbal flavors and a light  woody finish   \n",
      "44: A smooth-tasting  mild cigar that has some floral notes and a slight nutty flavor  but an overall papery character  \n",
      "45: Although some tightness was noted in the draw  this cigar has a good creamy texture with a strong flavor of chestnuts and a pleasant toasty finish \n",
      "46: This cigar  a medium-bodied smoke  offers some herbal notes followed by strong chestnut flavors and an overall toast-like character    \n",
      "47: A mild cigar with a pleasing woody spiciness and a hint of nuts   \n",
      "48: A rustic cigar that had a loose draw  some strong grassy flavors and a wood component   \n",
      "49: A mild cigar with flavors of nuts and a pleasant creamy texture  Smooth and mellow \n",
      "50: An attractive dark-brown wrapper  This cigar has an earthy quality with smooth flavors  but a dry wood finish \n",
      "51: A spicy cigar with a light backbone of nut flavors and mild chocolate  It is still young    \n",
      "52: This is a well-balanced  medium-bodied cigar  It has some good hints of nuts with a creamy texture   \n",
      "53: A powerful  spicy smoke with rich  earthy flavors of leather  sweet spices like cinnamon and nutmeg and a dash of chocolate  It delivers a smooth  nutty  long-lasting finish \n",
      "54: This is a cigar with a solid herbal character  There are some strong nut flavors on the palate  Medium-bodied \n",
      "55: A smooth  creamy-tasting cigar  There are solid notes of sweet herbs and a sweet wood finish  mild- to medium-bodied \n",
      "56:  A very well-balanced cigar with a smooth  creamy character  There are solid hints of toastiness and leather and a cedary finish \n",
      "57: A mild to medium bodied cigar  It has a mix of herbal and dry wood flavors on the palate  and a slighty dry  woody finish \n",
      "58: This cigar has rich flavors of cocoa bean and cedar wood  There is a deep  earthy spiciness too on the palate  Some inconsistency held this cigar back \n",
      "59: This is a solid cigar with good tobacco qualities  There is a hint of burnt coffee  and a very woody finish \n",
      "60: A beautiful oily wrapper  This cigar has some youth on it  but it is powerfully spicy with a solid leathery  earthy backbone of flavors  A long spicy finish   \n",
      "61: This is a wonderully balanced cigar with a medium to full body  There are deep elements of earthiness and leather on the palate  and it has a long  smooth but very spicy finish  \n",
      "62: A full bodied cigar  It smokes beautifully  and it has a smooth palate of flavors including a spicy earthiness and a hint of toasted nuts and a sweet  cedar finish \n",
      "63: A powerhouse of flavors  This cigar is filled with a earthy  spiciness and strong pepper flavors  There is a hint of cocoa bean  Complex  and will age well \n",
      "64: A young cigar with a slight gumminess to the wrapper  But it has an underlying sweet herbalness with a dry  woody finish \n",
      "65: This is a mild-to-medium bodied cigar  It has a dryness on the palate  with a light nutty finish \n",
      "66: A medium bodied cigar with a solid core of spicy flavors  There are hints of a light  vegetal element on the palate \n",
      "67: This cigar has a great balance  It is filled with a rich  coffee bean flavor  and hints of nuts  It has an overall cedary character  but a slight dry woody finish \n",
      "68: A mild to medium bodied cigar  It has some flavors of roasted nuts on the palate  and some sweet wood notes  \n",
      "69: This is a well-made cigar  There is a  hint of spice and flintiness on the palate  on a medium length finish \n",
      "70: A quite mild cigar  It has a papery  balsa wood quality on the palate  and there is a bit of tang on the finish \n",
      "71: A cigar with an herbal character  There are strong flavors of dry wood on the palate  A young cigar \n",
      "72: A cigar with a solid core of peppery flavors  on a sweet  woody character  The finish is a little short  but the wood comes through \n",
      "73: Some evidence of extreme youth holds this cigar back  There are some good qualities of spiciness  and a salty character  Good texture and balance \n",
      "74: A cigar with a good spiciness  There is some earthy notes on the palate  and it has a short finish \n",
      "75: A mild to medium bodied  cigar  It has some mild nut and light pepper spice  with a slight backdrop of vegetal character  Well-made \n",
      "76: Very well-made cigar  It has a excellent flavors of sweet spice  and a pleasant earthy mustiness  The only drawback is a slightly short finish  \n",
      "77: This cigar has dominant woody character  There is some nuttiness on the palate  but it finishes a little short and dry \n",
      "78: A cigar with a good aroma  There's a bit of a bite of youth  and some solid earthy tones in this cigar \n",
      "79: A  cigar with a medium bodied smoke  It has some flavors of sweet herbs and a light spiciness  It finishes a little dry \n",
      "80: A cigar with a dose of youth  It starts out a bit harsh  but quickly rounds into a nutty and spicy cigar with a core of cinnamon  Good medium to full bodied \n",
      "81: A well-balanced cigar with a smooth creaminess   It is also a bit toasty  Mild to medium bodied  It's a bit dry on the finish \n",
      "82: A mild to medium bodied cigar  It is a quite woody with a dry character \n",
      "83: A cigar with a toasty character  There are some woody elements on the palate  and a little dryness  Nice medium body \n",
      "84: A good cigar with a woody character  There is a hint of coffee on the palate  and a strong woody component in the taste  Medium bodied \n",
      "85: There is hint of earthiness in this cigar  It is medium bodied  and has some wood and spice flavors  But it has a very short finish \n",
      "86: A full-bodied cigar that has a core of coffee bean and sweet spice flavors  It has a slightly short woody finish  Should improve with age \n",
      "87: A full-bodied cigar  There is a funky  earthy  note  with a strong flavors of cocoa beans and pepper  Excellent cigar \n",
      "88: A powerhouse  This is extremely well-made with a great dark reddish brown color wrapper  Flavors of cocoa bean  leather and a deep  complex earthiness  It has an excellent balance  and a smooth taste \n",
      "89: A medium to full bodied cigar  Well-made  It has a woody and earthy character  with a pepper note  and some coffee grounds on the finish \n",
      "90: A cigar that lacks real depth  It has a medium body  with some nutty flavors  but a strong vegetal note on the palate too \n",
      "91: A very well-balanced cigar  It has a smooth earthiness  with a solid core of toasty and nutty flavors \n",
      "92: A very well-made medium bodied cigar  There is a strong core of pepper and coffee beans flavors  with an light cocoa bean note  and a sweet cedary finish  Good earthy character \n",
      "93: A well-made cigar with a spicy character  It has some nutty flavors  with a creamy smoothness  A mild light finish \n",
      "94: This cigar has a core of woody flavors  that end up quite dry and light  almost papery  It is mild \n",
      "95: A core of herbal spices marks this cigar  It is mild to medium-bodied  There are good flavors of toast with a smooth creaminess \n",
      "96: This is mild to medium body cigar  There is a light touch of salt  It is well balanced with hints of toast and leather \n",
      "97: A candela wrapper  Basically  a flat  mild cigar  Tasters noted an inconsistency burn and draw  but there was a core of woody flavors \n",
      "98: This is a medium bodied cigar  It has some hints of leather and cedar \n",
      "99: A marked inconsistency with a tight draw  It shows some youth with a pencil lead and dry character  A light peppery finish \n"
     ]
    }
   ],
   "source": [
    "for i, txt in enumerate(test):\n",
    "    print(f'{i}: {punc_strip(txt)}')"
   ]
  },
  {
   "cell_type": "code",
   "execution_count": 23,
   "id": "christian-cleaning",
   "metadata": {},
   "outputs": [],
   "source": [
    "#removed '-' for strings like 'well-made' or 'full-bodied'\n",
    "def punc_strip(doc):\n",
    "    for char in word_tokenize(doc):\n",
    "        if char in '!\"#$%&\\'()*+,./:;<=>?@[\\\\]^_`{|}~—':\n",
    "            doc = doc.replace(char, \" \")\n",
    "        if char == \"’\":\n",
    "            doc = doc.replace(char, \"\")\n",
    "    return doc"
   ]
  },
  {
   "cell_type": "code",
   "execution_count": 83,
   "id": "simplified-smart",
   "metadata": {},
   "outputs": [
    {
     "name": "stdout",
     "output_type": "stream",
     "text": [
      "CPU times: user 18 µs, sys: 1e+03 ns, total: 19 µs\n",
      "Wall time: 22.2 µs\n"
     ]
    }
   ],
   "source": [
    "%%time\n",
    "#create vectorizer\n",
    "\n",
    "vectorizer = CountVectorizer(#input='content', \n",
    "#                 encoding='utf-8', \n",
    "#                 decode_error='strict', \n",
    "#                 strip_accents='ascii', \n",
    "#                 lowercase=True, \n",
    "                 preprocessor=punc_strip, \n",
    "                tokenizer=wordnet_tokenize, \n",
    "#                 analyzer='word', \n",
    "                stop_words='english',\n",
    "#                 token_pattern='(?u)\\b\\w\\w+\\b', \n",
    "                 ngram_range=(1, 2), \n",
    "#                  max_df=0.9, \n",
    "                min_df=0.01, \n",
    "                 max_features=None, \n",
    "#                 vocabulary=None, \n",
    "#                 binary=False, \n",
    "#                 dtype=<class 'numpy.float64'>, \n",
    "#                 norm='l2', \n",
    "#                 use_idf=True, \n",
    "#                 smooth_idf=True, \n",
    "#                 sublinear_tf=False\n",
    ")"
   ]
  },
  {
   "cell_type": "code",
   "execution_count": 84,
   "id": "advised-network",
   "metadata": {},
   "outputs": [
    {
     "name": "stderr",
     "output_type": "stream",
     "text": [
      "/Users/djbetts/opt/anaconda3/lib/python3.7/site-packages/sklearn/feature_extraction/text.py:391: UserWarning: Your stop_words may be inconsistent with your preprocessing. Tokenizing the stop words generated tokens ['ha', 'le', 'u', 'wa'] not in stop_words.\n",
      "  'stop_words.' % sorted(inconsistent))\n"
     ]
    }
   ],
   "source": [
    "X = vectorizer.fit_transform(corpus)"
   ]
  },
  {
   "cell_type": "code",
   "execution_count": 85,
   "id": "recent-volleyball",
   "metadata": {},
   "outputs": [
    {
     "name": "stdout",
     "output_type": "stream",
     "text": [
      "344\n"
     ]
    }
   ],
   "source": [
    "print(len(vectorizer.get_feature_names()))"
   ]
  },
  {
   "cell_type": "code",
   "execution_count": 86,
   "id": "likely-coral",
   "metadata": {},
   "outputs": [],
   "source": [
    "from scipy.spatial import distance"
   ]
  },
  {
   "cell_type": "code",
   "execution_count": 87,
   "id": "accepted-ensemble",
   "metadata": {},
   "outputs": [],
   "source": [
    "a = X[0].toarray()"
   ]
  },
  {
   "cell_type": "code",
   "execution_count": 88,
   "id": "medium-ordinance",
   "metadata": {},
   "outputs": [],
   "source": [
    "b = X[100].toarray()"
   ]
  },
  {
   "cell_type": "code",
   "execution_count": 89,
   "id": "ultimate-penny",
   "metadata": {},
   "outputs": [
    {
     "data": {
      "text/plain": [
       "0.8327515979985818"
      ]
     },
     "execution_count": 89,
     "metadata": {},
     "output_type": "execute_result"
    }
   ],
   "source": [
    "distance.cosine(a, b)"
   ]
  },
  {
   "cell_type": "code",
   "execution_count": 90,
   "id": "integral-establishment",
   "metadata": {},
   "outputs": [
    {
     "name": "stdout",
     "output_type": "stream",
     "text": [
      "1.0\n",
      "1.0\n",
      "0.29289321881345254\n"
     ]
    }
   ],
   "source": [
    "print(distance.cosine([1, 0, 0], [0, 1, 0]))\n",
    "\n",
    "print(distance.cosine([100, 0, 0], [0, 1, 0]))\n",
    "\n",
    "print(distance.cosine([1, 1, 0], [0, 1, 0]))"
   ]
  },
  {
   "cell_type": "markdown",
   "id": "graphic-density",
   "metadata": {},
   "source": [
    "# min_df_plot"
   ]
  },
  {
   "cell_type": "code",
   "execution_count": 91,
   "id": "promotional-defense",
   "metadata": {},
   "outputs": [
    {
     "name": "stdout",
     "output_type": "stream",
     "text": [
      "CPU times: user 9.63 s, sys: 177 ms, total: 9.8 s\n",
      "Wall time: 9.84 s\n"
     ]
    }
   ],
   "source": [
    "%%time\n",
    "num_feat_min = []\n",
    "\n",
    "min_df = np.linspace(0,0.01,15)\n",
    "\n",
    "for val in min_df:\n",
    "    vectorizer_plot = CountVectorizer(#preprocessor=punc_strip,\n",
    "#                 tokenizer=wordnet_tokenize,\n",
    "                stop_words='english',\n",
    "            ngram_range=(1,2),\n",
    "#                 max_df=0.95,\n",
    "                 min_df=val,\n",
    "                 max_features=None)\n",
    "    \n",
    "    vectorizer_plot.fit(corpus)\n",
    "    \n",
    "    features = vectorizer_plot.get_feature_names()\n",
    "    stop_word = vectorizer_plot.get_stop_words()\n",
    "\n",
    "    num_feat_min.append(len(features))"
   ]
  },
  {
   "cell_type": "code",
   "execution_count": 92,
   "id": "charming-mayor",
   "metadata": {},
   "outputs": [
    {
     "name": "stdout",
     "output_type": "stream",
     "text": [
      "CPU times: user 15 ms, sys: 1.79 ms, total: 16.8 ms\n",
      "Wall time: 15.2 ms\n"
     ]
    },
    {
     "data": {
      "text/plain": [
       "[<matplotlib.lines.Line2D at 0x7f8a96fed750>]"
      ]
     },
     "execution_count": 92,
     "metadata": {},
     "output_type": "execute_result"
    },
    {
     "data": {
      "image/png": "[encoded data removed]",
      "text/plain": [
       "<Figure size 432x288 with 1 Axes>"
      ]
     },
     "metadata": {
      "needs_background": "light"
     },
     "output_type": "display_data"
    }
   ],
   "source": [
    "%%time\n",
    "fig, ax = plt.subplots()\n",
    "ax.plot(min_df, num_feat_min);"
   ]
  },
  {
   "cell_type": "code",
   "execution_count": 93,
   "id": "fresh-place",
   "metadata": {},
   "outputs": [
    {
     "name": "stdout",
     "output_type": "stream",
     "text": [
      "2021-04-02 13:14:57.784904\n",
      "CPU times: user 14min 2s, sys: 12 s, total: 14min 14s\n",
      "Wall time: 1min 56s\n"
     ]
    }
   ],
   "source": [
    "%%time\n",
    "print(datetime.now())\n",
    "distortions = []\n",
    "K = range(1,30)\n",
    "for k in K:\n",
    "    kmeansModel = KMeans(n_clusters=k)\n",
    "    kmeansModel = kmeansModel.fit(X)\n",
    "    distortions.append(kmeansModel.inertia_)"
   ]
  },
  {
   "cell_type": "code",
   "execution_count": 94,
   "id": "behavioral-integration",
   "metadata": {},
   "outputs": [
    {
     "data": {
      "image/png": "[encoded data removed]",
      "text/plain": [
       "<Figure size 864x576 with 1 Axes>"
      ]
     },
     "metadata": {
      "needs_background": "light"
     },
     "output_type": "display_data"
    },
    {
     "name": "stdout",
     "output_type": "stream",
     "text": [
      "CPU times: user 918 ms, sys: 121 ms, total: 1.04 s\n",
      "Wall time: 200 ms\n"
     ]
    }
   ],
   "source": [
    "%%time\n",
    "fig, ax = plt.subplots(figsize=(12,8))\n",
    "plt.plot(K, distortions, marker='o')\n",
    "plt.xlabel('k')\n",
    "plt.ylabel('Distortions')\n",
    "plt.title(\"Elbow Method For Optimal k\")\n",
    "plt.show()"
   ]
  },
  {
   "cell_type": "markdown",
   "id": "chubby-celtic",
   "metadata": {},
   "source": [
    "# linear regression"
   ]
  },
  {
   "cell_type": "code",
   "execution_count": 220,
   "id": "executive-associate",
   "metadata": {},
   "outputs": [],
   "source": [
    "# from sklearn.pipeline import Pipeline, FeatureUnion\n",
    "# from sklearn.model_selection import GridSearchCV\n",
    "# from sklearn.svm import SVC\n",
    "# from sklearn.datasets import load_iris\n",
    "# from sklearn.decomposition import PCA, TruncatedSVD\n",
    "# from sklearn.feature_selection import SelectKBest\n",
    "\n",
    "# X, y = X, y\n",
    "\n",
    "# # This dataset is way too high-dimensional. Better do PCA:\n",
    "# pca = TruncatedSVD(n_components=2)\n",
    "\n",
    "# # Maybe some original features where good, too?\n",
    "# selection = SelectKBest(k=1)\n",
    "\n",
    "# # Build estimator from PCA and Univariate selection:\n",
    "\n",
    "# combined_features = FeatureUnion([(\"pca\", pca), (\"univ_select\", selection)])\n",
    "\n",
    "# # Use combined features to transform dataset:\n",
    "# X_features = combined_features.fit(X, y).transform(X)\n",
    "# print(\"Combined space has\", X_features.shape[1], \"features\")\n",
    "\n",
    "# svm = SVC(kernel=\"linear\")\n",
    "\n",
    "# # Do grid search over k, n_components and C:\n",
    "\n",
    "# pipeline = Pipeline([(\"features\", combined_features), (\"svm\", svm)])\n",
    "\n",
    "# param_grid = dict(features__pca__n_components=[1, 2, 3],\n",
    "#                   features__univ_select__k=[1, 2],\n",
    "#                   svm__C=[0.1, 1, 10])\n",
    "\n",
    "# grid_search = GridSearchCV(pipeline, param_grid=param_grid, cv=5, verbose=10)\n",
    "# grid_search.fit(X, y)\n",
    "# print(grid_search.best_estimator_)\n"
   ]
  },
  {
   "cell_type": "code",
   "execution_count": 231,
   "id": "through-overall",
   "metadata": {},
   "outputs": [],
   "source": [
    "import numpy as np\n",
    "from sklearn.model_selection import train_test_split\n",
    "from sklearn.linear_model import LinearRegression"
   ]
  },
  {
   "cell_type": "code",
   "execution_count": 246,
   "id": "tribal-celebration",
   "metadata": {},
   "outputs": [],
   "source": [
    "X_train, X_test, y_train, y_test = train_test_split(X, y,test_size=0.2)"
   ]
  },
  {
   "cell_type": "code",
   "execution_count": 247,
   "id": "loaded-manchester",
   "metadata": {},
   "outputs": [
    {
     "data": {
      "text/plain": [
       "0.6923018712421541"
      ]
     },
     "execution_count": 247,
     "metadata": {},
     "output_type": "execute_result"
    }
   ],
   "source": [
    "reg = LinearRegression().fit(X_train, y_train)\n",
    "reg.score(X_test, y_test)"
   ]
  },
  {
   "cell_type": "code",
   "execution_count": 251,
   "id": "champion-million",
   "metadata": {},
   "outputs": [],
   "source": [
    "import matplotlib.pyplot as plt\n",
    "import numpy as np\n",
    "from sklearn import datasets, linear_model\n",
    "from sklearn.metrics import mean_squared_error, r2_score"
   ]
  },
  {
   "cell_type": "code",
   "execution_count": 1,
   "id": "binding-bunny",
   "metadata": {},
   "outputs": [
    {
     "ename": "NameError",
     "evalue": "name 'linear_model' is not defined",
     "output_type": "error",
     "traceback": [
      "\u001b[0;31m---------------------------------------------------------------------------\u001b[0m",
      "\u001b[0;31mNameError\u001b[0m                                 Traceback (most recent call last)",
      "\u001b[0;32m<ipython-input-1-0b95cd3d5026>\u001b[0m in \u001b[0;36m<module>\u001b[0;34m\u001b[0m\n\u001b[1;32m      1\u001b[0m \u001b[0;31m# Create linear regression object\u001b[0m\u001b[0;34m\u001b[0m\u001b[0;34m\u001b[0m\u001b[0;34m\u001b[0m\u001b[0m\n\u001b[0;32m----> 2\u001b[0;31m \u001b[0mregr\u001b[0m \u001b[0;34m=\u001b[0m \u001b[0mlinear_model\u001b[0m\u001b[0;34m.\u001b[0m\u001b[0mLinearRegression\u001b[0m\u001b[0;34m(\u001b[0m\u001b[0;34m)\u001b[0m\u001b[0;34m\u001b[0m\u001b[0;34m\u001b[0m\u001b[0m\n\u001b[0m\u001b[1;32m      3\u001b[0m \u001b[0;34m\u001b[0m\u001b[0m\n\u001b[1;32m      4\u001b[0m \u001b[0;31m# Train the model using the training sets\u001b[0m\u001b[0;34m\u001b[0m\u001b[0;34m\u001b[0m\u001b[0;34m\u001b[0m\u001b[0m\n\u001b[1;32m      5\u001b[0m \u001b[0mregr\u001b[0m\u001b[0;34m.\u001b[0m\u001b[0mfit\u001b[0m\u001b[0;34m(\u001b[0m\u001b[0mX_train\u001b[0m\u001b[0;34m,\u001b[0m \u001b[0my_train\u001b[0m\u001b[0;34m)\u001b[0m\u001b[0;34m\u001b[0m\u001b[0;34m\u001b[0m\u001b[0m\n",
      "\u001b[0;31mNameError\u001b[0m: name 'linear_model' is not defined"
     ]
    }
   ],
   "source": [
    "# Create linear regression object\n",
    "regr = linear_model.LinearRegression()\n",
    "\n",
    "# Train the model using the training sets\n",
    "regr.fit(X_train, y_train)"
   ]
  },
  {
   "cell_type": "code",
   "execution_count": 253,
   "id": "automated-kidney",
   "metadata": {},
   "outputs": [],
   "source": [
    "# Make predictions using the testing set\n",
    "y_pred = regr.predict(X_test)\n"
   ]
  },
  {
   "cell_type": "code",
   "execution_count": 255,
   "id": "authorized-hanging",
   "metadata": {},
   "outputs": [
    {
     "data": {
      "text/plain": [
       "(4145, 3079)"
      ]
     },
     "execution_count": 255,
     "metadata": {},
     "output_type": "execute_result"
    }
   ],
   "source": [
    "X_test.shape"
   ]
  },
  {
   "cell_type": "code",
   "execution_count": 258,
   "id": "native-horror",
   "metadata": {},
   "outputs": [
    {
     "name": "stdout",
     "output_type": "stream",
     "text": [
      "Coefficients: \n",
      " [-1.19672234  1.97461333  3.69461296 ... -0.06961293  0.25158763\n",
      "  1.94314927]\n",
      "Mean squared error: 2.36\n",
      "Coefficient of determination: 0.69\n"
     ]
    }
   ],
   "source": [
    "# The coefficients\n",
    "print('Coefficients: \\n', regr.coef_)\n",
    "# The mean squared error\n",
    "print('Mean squared error: %.2f'\n",
    "      % mean_squared_error(y_test, y_pred))\n",
    "# The coefficient of determination: 1 is perfect prediction\n",
    "print('Coefficient of determination: %.2f'\n",
    "      % r2_score(y_test, y_pred))"
   ]
  },
  {
   "cell_type": "code",
   "execution_count": null,
   "id": "continuous-prime",
   "metadata": {},
   "outputs": [],
   "source": []
  },
  {
   "cell_type": "code",
   "execution_count": null,
   "id": "reasonable-youth",
   "metadata": {},
   "outputs": [],
   "source": []
  },
  {
   "cell_type": "code",
   "execution_count": null,
   "id": "continental-chocolate",
   "metadata": {},
   "outputs": [],
   "source": []
  },
  {
   "cell_type": "code",
   "execution_count": null,
   "id": "straight-repository",
   "metadata": {},
   "outputs": [],
   "source": []
  },
  {
   "cell_type": "code",
   "execution_count": null,
   "id": "numerical-bunny",
   "metadata": {},
   "outputs": [],
   "source": []
  }
 ],
 "metadata": {
  "kernelspec": {
   "display_name": "Python 3",
   "language": "python",
   "name": "python3"
  },
  "language_info": {
   "codemirror_mode": {
    "name": "ipython",
    "version": 3
   },
   "file_extension": ".py",
   "mimetype": "text/x-python",
   "name": "python",
   "nbconvert_exporter": "python",
   "pygments_lexer": "ipython3",
   "version": "3.7.10"
  }
 },
 "nbformat": 4,
 "nbformat_minor": 5
}
