{
 "cells": [
  {
   "cell_type": "code",
   "execution_count": 36,
   "id": "guided-sleeping",
   "metadata": {},
   "outputs": [],
   "source": [
    "import pandas as pd"
   ]
  },
  {
   "cell_type": "code",
   "execution_count": 37,
   "id": "variable-render",
   "metadata": {},
   "outputs": [],
   "source": [
    "import numpy as np"
   ]
  },
  {
   "cell_type": "code",
   "execution_count": 38,
   "id": "guilty-demographic",
   "metadata": {},
   "outputs": [],
   "source": [
    "from datetime import datetime"
   ]
  },
  {
   "cell_type": "code",
   "execution_count": 39,
   "id": "yellow-color",
   "metadata": {},
   "outputs": [],
   "source": [
    "import matplotlib.pyplot as plt"
   ]
  },
  {
   "cell_type": "code",
   "execution_count": 287,
   "id": "roman-observation",
   "metadata": {},
   "outputs": [],
   "source": [
    "from sklearn.feature_extraction.text import CountVectorizer, TfidfVectorizer\n",
    "from sklearn.model_selection import train_test_split\n",
    "from sklearn.metrics import confusion_matrix, plot_confusion_matrix\n",
    "from sklearn.naive_bayes import MultinomialNB\n",
    "from sklearn.ensemble import RandomForestClassifier\n",
    "from sklearn.inspection import permutation_importance"
   ]
  },
  {
   "cell_type": "code",
   "execution_count": 288,
   "id": "corrected-panel",
   "metadata": {},
   "outputs": [],
   "source": [
    "import nltk\n",
    "import string"
   ]
  },
  {
   "cell_type": "code",
   "execution_count": 310,
   "id": "stunning-conservation",
   "metadata": {},
   "outputs": [],
   "source": [
    "from nltk.stem.snowball import SnowballStemmer\n",
    "from nltk.stem.wordnet import WordNetLemmatizer\n",
    "from nltk.tokenize import word_tokenize\n",
    "from nltk.corpus import stopwords"
   ]
  },
  {
   "cell_type": "code",
   "execution_count": 289,
   "id": "marked-advocacy",
   "metadata": {},
   "outputs": [],
   "source": [
    "from sklearn.cluster import KMeans\n",
    "from sklearn.metrics import silhouette_score"
   ]
  },
  {
   "cell_type": "code",
   "execution_count": 290,
   "id": "ordinary-solid",
   "metadata": {},
   "outputs": [],
   "source": [
    "data = pd.read_csv('/Users/djbetts/Desktop/top-25-cigars/cigar_aficionado.csv', usecols=['name','tasting_notes','score'])"
   ]
  },
  {
   "cell_type": "code",
   "execution_count": 291,
   "id": "cathedral-cleanup",
   "metadata": {},
   "outputs": [],
   "source": [
    "df = data.copy()"
   ]
  },
  {
   "cell_type": "code",
   "execution_count": 292,
   "id": "altered-client",
   "metadata": {},
   "outputs": [
    {
     "data": {
      "text/plain": [
       "Index(['name', 'score', 'tasting_notes'], dtype='object')"
      ]
     },
     "execution_count": 292,
     "metadata": {},
     "output_type": "execute_result"
    }
   ],
   "source": [
    "df.columns"
   ]
  },
  {
   "cell_type": "code",
   "execution_count": 293,
   "id": "legislative-softball",
   "metadata": {},
   "outputs": [
    {
     "data": {
      "text/plain": [
       "(20769, 3)"
      ]
     },
     "execution_count": 293,
     "metadata": {},
     "output_type": "execute_result"
    }
   ],
   "source": [
    "df.shape"
   ]
  },
  {
   "cell_type": "code",
   "execution_count": 294,
   "id": "controlled-official",
   "metadata": {},
   "outputs": [],
   "source": [
    "df.dropna(axis=0, inplace=True)"
   ]
  },
  {
   "cell_type": "code",
   "execution_count": 295,
   "id": "extensive-legislation",
   "metadata": {},
   "outputs": [
    {
     "data": {
      "text/html": [
       "<div>\n",
       "<style scoped>\n",
       "    .dataframe tbody tr th:only-of-type {\n",
       "        vertical-align: middle;\n",
       "    }\n",
       "\n",
       "    .dataframe tbody tr th {\n",
       "        vertical-align: top;\n",
       "    }\n",
       "\n",
       "    .dataframe thead th {\n",
       "        text-align: right;\n",
       "    }\n",
       "</style>\n",
       "<table border=\"1\" class=\"dataframe\">\n",
       "  <thead>\n",
       "    <tr style=\"text-align: right;\">\n",
       "      <th></th>\n",
       "      <th>name</th>\n",
       "      <th>score</th>\n",
       "      <th>tasting_notes</th>\n",
       "    </tr>\n",
       "  </thead>\n",
       "  <tbody>\n",
       "    <tr>\n",
       "      <th>0</th>\n",
       "      <td>BOLIVAR ROYAL CORONA</td>\n",
       "      <td>93</td>\n",
       "      <td>This is an earthy, rich cigar with a lovely br...</td>\n",
       "    </tr>\n",
       "    <tr>\n",
       "      <th>1</th>\n",
       "      <td>DAVIDOFF GRAN CRU NO. 2</td>\n",
       "      <td>89</td>\n",
       "      <td>An enticing cigar that keeps you coming back f...</td>\n",
       "    </tr>\n",
       "    <tr>\n",
       "      <th>2</th>\n",
       "      <td>ASHTON CORONA</td>\n",
       "      <td>86</td>\n",
       "      <td>This cigar is well-made and gives plenty of fl...</td>\n",
       "    </tr>\n",
       "    <tr>\n",
       "      <th>3</th>\n",
       "      <td>ASHTON MAGNUM</td>\n",
       "      <td>82</td>\n",
       "      <td>This is a clean, very mild well-made cigar, wi...</td>\n",
       "    </tr>\n",
       "    <tr>\n",
       "      <th>4</th>\n",
       "      <td>ARTURO FUENTE CHATEAU FUENTE SUN GROWN</td>\n",
       "      <td>86</td>\n",
       "      <td>Finely constructed, A. Fuente's robusto has a ...</td>\n",
       "    </tr>\n",
       "  </tbody>\n",
       "</table>\n",
       "</div>"
      ],
      "text/plain": [
       "                                      name  score  \\\n",
       "0                     BOLIVAR ROYAL CORONA     93   \n",
       "1                  DAVIDOFF GRAN CRU NO. 2     89   \n",
       "2                            ASHTON CORONA     86   \n",
       "3                            ASHTON MAGNUM     82   \n",
       "4  ARTURO FUENTE CHATEAU FUENTE SUN GROWN      86   \n",
       "\n",
       "                                       tasting_notes  \n",
       "0  This is an earthy, rich cigar with a lovely br...  \n",
       "1  An enticing cigar that keeps you coming back f...  \n",
       "2  This cigar is well-made and gives plenty of fl...  \n",
       "3  This is a clean, very mild well-made cigar, wi...  \n",
       "4  Finely constructed, A. Fuente's robusto has a ...  "
      ]
     },
     "execution_count": 295,
     "metadata": {},
     "output_type": "execute_result"
    }
   ],
   "source": [
    "df.head()"
   ]
  },
  {
   "cell_type": "code",
   "execution_count": 296,
   "id": "comic-clearing",
   "metadata": {},
   "outputs": [],
   "source": [
    "X = df.tasting_notes\n",
    "corpus = list(X)"
   ]
  },
  {
   "cell_type": "code",
   "execution_count": 297,
   "id": "killing-scheduling",
   "metadata": {},
   "outputs": [
    {
     "data": {
      "text/plain": [
       "'This is an earthy, rich cigar with a lovely brown wrapper and dense spicy aromas. The flavors are mellow with a clean finish. '"
      ]
     },
     "execution_count": 297,
     "metadata": {},
     "output_type": "execute_result"
    }
   ],
   "source": [
    "corpus[0]"
   ]
  },
  {
   "cell_type": "code",
   "execution_count": 298,
   "id": "suspended-lancaster",
   "metadata": {},
   "outputs": [],
   "source": [
    "y = df.score"
   ]
  },
  {
   "cell_type": "code",
   "execution_count": 299,
   "id": "unlimited-optimization",
   "metadata": {},
   "outputs": [],
   "source": [
    "from nltk.corpus import stopwords"
   ]
  },
  {
   "cell_type": "code",
   "execution_count": 300,
   "id": "constitutional-vermont",
   "metadata": {},
   "outputs": [
    {
     "name": "stderr",
     "output_type": "stream",
     "text": [
      "[nltk_data] Downloading package stopwords to\n",
      "[nltk_data]     /Users/djbetts/nltk_data...\n",
      "[nltk_data]   Package stopwords is already up-to-date!\n"
     ]
    },
    {
     "data": {
      "text/plain": [
       "True"
      ]
     },
     "execution_count": 300,
     "metadata": {},
     "output_type": "execute_result"
    }
   ],
   "source": [
    "nltk.download('stopwords')"
   ]
  },
  {
   "cell_type": "code",
   "execution_count": 301,
   "id": "original-empty",
   "metadata": {},
   "outputs": [],
   "source": [
    "import nltk\n",
    "from nltk.corpus import stopwords\n",
    "s = stopwords.words('english')"
   ]
  },
  {
   "cell_type": "code",
   "execution_count": 306,
   "id": "addressed-closer",
   "metadata": {},
   "outputs": [],
   "source": [
    "#wordnet lemmatizer and lowercase words.\n",
    "def wordnet_tokenize(doc):\n",
    "    wordnet = WordNetLemmatizer()\n",
    "    return  [wordnet.lemmatize(word) for word in word_tokenize(doc.lower())]\n",
    "#split article and return quote"
   ]
  },
  {
   "cell_type": "code",
   "execution_count": 307,
   "id": "christian-cleaning",
   "metadata": {},
   "outputs": [],
   "source": [
    "def punc_strip(doc):\n",
    "    for char in word_tokenize(doc):\n",
    "        if char in '!\"#$%&\\'()*+,-./:;<=>?@[\\\\]^_`{|}~—':\n",
    "            doc = doc.replace(char, \" \")\n",
    "        if char == \"’\":\n",
    "            doc = doc.replace(char, \"\")\n",
    "    return doc"
   ]
  },
  {
   "cell_type": "code",
   "execution_count": 317,
   "id": "simplified-smart",
   "metadata": {},
   "outputs": [
    {
     "name": "stdout",
     "output_type": "stream",
     "text": [
      "CPU times: user 2.23 ms, sys: 927 µs, total: 3.15 ms\n",
      "Wall time: 3.17 ms\n"
     ]
    }
   ],
   "source": [
    "%%time\n",
    "#create vectorizer\n",
    "\n",
    "vectorizer = TfidfVectorizer(#input='content', \n",
    "#                 encoding='utf-8', \n",
    "#                 decode_error='strict', \n",
    "#                 strip_accents='ascii', \n",
    "#                 lowercase=True, \n",
    "                 preprocessor=punc_strip, \n",
    "                tokenizer=wordnet_tokenize, \n",
    "#                 analyzer='word', \n",
    "                stop_words='english',\n",
    "#                 token_pattern='(?u)\\b\\w\\w+\\b', \n",
    "                 ngram_range=(1, 2), \n",
    "#                  max_df=0.9, \n",
    "                min_df=0.01, \n",
    "                 max_features=None, \n",
    "#                 vocabulary=None, \n",
    "#                 binary=False, \n",
    "#                 dtype=<class 'numpy.float64'>, \n",
    "#                 norm='l2', \n",
    "#                 use_idf=True, \n",
    "#                 smooth_idf=True, \n",
    "#                 sublinear_tf=False\n",
    ")"
   ]
  },
  {
   "cell_type": "code",
   "execution_count": 318,
   "id": "advised-network",
   "metadata": {},
   "outputs": [
    {
     "name": "stderr",
     "output_type": "stream",
     "text": [
      "/Users/djbetts/opt/anaconda3/lib/python3.7/site-packages/sklearn/feature_extraction/text.py:391: UserWarning: Your stop_words may be inconsistent with your preprocessing. Tokenizing the stop words generated tokens ['ha', 'le', 'u', 'wa'] not in stop_words.\n",
      "  'stop_words.' % sorted(inconsistent))\n"
     ]
    }
   ],
   "source": [
    "X = vectorizer.fit_transform(corpus)"
   ]
  },
  {
   "cell_type": "code",
   "execution_count": 319,
   "id": "recent-volleyball",
   "metadata": {},
   "outputs": [
    {
     "name": "stdout",
     "output_type": "stream",
     "text": [
      "344\n"
     ]
    }
   ],
   "source": [
    "print(len(vectorizer.get_feature_names()))"
   ]
  },
  {
   "cell_type": "code",
   "execution_count": 320,
   "id": "integral-establishment",
   "metadata": {},
   "outputs": [
    {
     "name": "stdout",
     "output_type": "stream",
     "text": [
      "{'earthy': 100, 'rich': 250, 'cigar': 51, 'brown': 30, 'wrapper': 337, 'dense': 84, 'spicy': 278, 'aroma': 5, 'flavor': 123, 'mellow': 192, 'finish': 116, 'beautifully': 13, 'draw': 86, \"'s\": 0, 'smooth': 270, 'palate': 227, 'coffee': 62, 'character': 44, \"draw 's\": 87, 'well-made': 321, 'plenty': 240, 'light': 175, 'spiciness': 277, 'mild': 194, 'grassy': 139, 'well-made cigar': 322, 'robusto': 252, 'ha': 141, 'nice': 198, 'elegant': 105, 'texture': 291, 'soft': 271, 'sweet': 282, 'herbal': 153, 'burn': 31, 'little': 177, 'nutty': 213, 'like': 176, 'maduro': 183, 'dark': 78, 'solid': 272, 'construction': 69, 'lot': 180, 'peppery': 232, 'cigar ha': 55, 'nutty flavor': 214, 'long': 179, 'full-bodied': 131, 'aftertaste': 1, 'smoke': 267, 'spice': 276, 'nut': 210, 'cedar': 42, 'full-bodied cigar': 132, 'slightly': 265, 'creamy': 77, 'silky': 262, 'tobacco': 300, 'chocolate': 49, 'beautiful': 12, 'oily': 220, 'cream': 76, 'taste': 288, 'great': 140, 'medium-bodied': 189, 'roasted': 251, 'medium': 185, 'wrapper cigar': 339, 'cigar burn': 53, 'savory': 257, 'tea': 290, 'sharp': 258, 'corona': 71, 'attractive': 7, 'easy': 103, 'medium-': 188, 'bodied': 21, 'pepper': 231, 'leather': 171, 'bit': 16, 'vein': 313, 'lack': 165, 'perfectly': 234, 'oily wrapper': 222, 'cinnamon': 57, 'nutmeg': 211, 'delivers': 83, 'earthy flavor': 101, 'sweet spice': 283, 'excellent': 109, 'core': 70, 'pleasant': 239, 'medium-bodied cigar': 190, 'mild cigar': 195, 'quality': 245, 'inconsistency': 161, 'good': 134, 'woody': 331, 'note': 200, 'woody note': 335, 'rough': 254, 'rustic': 255, 'dry': 94, 'hot': 157, 'wood': 326, 'wood flavor': 328, 'cocoa': 59, \"cigar 's\": 52, 'wrapper ha': 341, 'balance': 9, 'start': 279, 'medium-bodied smoke': 191, 'dry woody': 97, 'woody flavor': 334, 'flat': 122, 'well-balanced': 320, 'hint': 155, 'dried': 93, 'orange': 224, 'peel': 230, 'strong': 280, 'flavor hint': 125, 'orange peel': 225, 'woody finish': 333, 'floral': 127, 'slight': 264, 'overall': 226, 'papery': 229, 'floral note': 128, 'wa': 317, 'noted': 208, 'toasty': 299, 'wa noted': 318, 'ha good': 144, 'offer': 217, 'dry wood': 96, 'wood finish': 327, 'young': 343, 'herb': 152, 'note sweet': 206, 'sweet wood': 284, 'cedary': 43, 'mild medium': 196, 'medium bodied': 186, 'bodied cigar': 22, 'bean': 11, 'cocoa bean': 60, 'leathery': 173, 'balanced': 10, 'body': 23, 'element': 106, 'earthiness': 99, 'medium body': 187, 'toasted': 298, 'cigar smoke': 56, 'complex': 68, 'vegetal': 312, 'coffee bean': 63, 'wood note': 329, 'quite': 246, 'short': 259, 'come': 66, 'woody character': 332, 'salty': 256, 'earthy note': 102, 'note palate': 205, 'short finish': 260, 'nuttiness': 212, 'smoke ha': 269, 'harsh': 148, 'dry finish': 95, 'reddish': 249, 'color': 65, 'note coffee': 201, 'depth': 85, 'toast': 297, 'touch': 305, 'burn draw': 33, 'ha hint': 145, 'hint leather': 156, 'tight': 294, 'lead': 169, 'tight draw': 295, 'sweetness': 285, 'faint': 110, 'gorgeous': 136, \"wrapper 's\": 338, 'uneven': 308, 'uneven burn': 309, 'draw ha': 91, 'flavor finish': 124, 'undertone': 307, 'fairly': 111, 'good draw': 135, 'draw delivers': 90, 'tangy': 286, 'firm': 120, 'firm draw': 121, 'rolled': 253, 'caramel': 40, 'ha sweet': 147, 'perfect': 233, 'big': 15, 'white': 324, 'churchill': 50, 'black': 18, 'ha firm': 143, 'black pepper': 20, 'turn': 306, 'puff': 243, 'raisin': 247, 'mineral': 197, 'citrus': 58, 'finish ha': 118, 'earth': 98, 'somewhat': 274, 'vanilla': 311, 'fruit': 130, 'heavy': 151, 'woodiness': 330, 'finish bit': 117, 'year': 342, 'substantial': 281, 'box': 25, 'red': 248, 'finish medium': 119, 'coffee note': 64, 'ha note': 146, 'dark wrapper': 81, 'tart': 287, 'almond': 2, 'evenly': 108, 'ash': 6, 'smoke evenly': 268, 'fine': 114, 'anise': 3, 'inconsistent': 162, 'flavorful': 126, 'meaty': 184, 'attractive cigar': 8, 'easy draw': 104, 'draw burn': 89, 'lack depth': 166, 'metallic': 193, 'walnut': 319, 'note hint': 203, 'note finish': 202, 'espresso': 107, 'open': 223, 'lush': 181, 'note leather': 204, 'pyramid': 244, 'sour': 275, 'small': 266, 'veiny': 314, 'veiny wrapper': 316, 'tasty': 289, 'bitter': 17, 'hearty': 150, 'torpedo': 304, 'leather note': 172, 'cap': 37, 'cherry': 47, 'black cherry': 19, 'burn evenly': 34, 'unevenly': 310, 'showing': 261, 'brand': 28, 'produce': 242, 'leaf': 170, 'little cigar': 178, 'impression': 160, 'appearance': 4, 'charred': 45, 'dark oily': 80, 'box-pressed': 26, 'box-pressed cigar': 27, 'veiny cigar': 315, \"burn 's\": 32, 'cap draw': 39, 'white ash': 325, 'oily cigar': 221, 'perfecto': 235, 'toothy': 301, 'coconut': 61, 'draw bit': 88, 'pressed': 241, 'bready': 29, 'ha fine': 142, 'wrapper draw': 340, 'crafted': 75, 'pale': 228, 'burn smoke': 35, 'bold': 24, 'chewy': 48, 'draw smoke': 92, 'licorice': 174, 'three-seam': 292, 'three-seam cap': 293, 'oil': 219, 'oaky': 216, 'cigar draw': 54, 'charry': 46, 'tip': 296, 'burn unevenly': 36, 'wheaty': 323, 'dark cigar': 79, 'head': 149, 'toothy wrapper': 302, 'delivering': 82, 'figurado': 113, 'lancero': 167, 'belicoso': 14, 'cap cigar': 38, 'cover': 72, 'fat': 112, 'note touch': 207, 'fine draw': 115, 'complemented': 67, 'nougat': 209, 'toro': 303, 'pigtail': 237, 'golden': 133, 'foot': 129, 'size': 263, 'large': 168, 'carry': 41, 'pigtail cap': 238, 'lush draw': 182, 'petit': 236, 'solidly': 273, 'hickory': 154, 'woody smoke': 336, 'oak': 215, 'graham': 137, 'cracker': 74, 'graham cracker': 138, 'covered': 73, 'offering': 218, 'imparting': 158, 'imparts': 159, 'intonation': 164, 'initial': 163, 'notably': 199}\n"
     ]
    }
   ],
   "source": [
    "print(vectorizer.vocabulary_)"
   ]
  },
  {
   "cell_type": "markdown",
   "id": "graphic-density",
   "metadata": {},
   "source": [
    "# min_df_plot"
   ]
  },
  {
   "cell_type": "code",
   "execution_count": 315,
   "id": "promotional-defense",
   "metadata": {},
   "outputs": [
    {
     "name": "stdout",
     "output_type": "stream",
     "text": [
      "CPU times: user 9.2 s, sys: 201 ms, total: 9.4 s\n",
      "Wall time: 9.42 s\n"
     ]
    }
   ],
   "source": [
    "%%time\n",
    "num_feat_min = []\n",
    "\n",
    "min_df = np.linspace(0,0.01,15)\n",
    "\n",
    "for val in min_df:\n",
    "    vectorizer_plot = TfidfVectorizer(#preprocessor=punc_strip,\n",
    "#                 tokenizer=wordnet_tokenize,\n",
    "                stop_words='english',\n",
    "            ngram_range=(1,2),\n",
    "#                 max_df=0.95,\n",
    "                 min_df=val,\n",
    "                 max_features=None)\n",
    "    \n",
    "    vectorizer_plot.fit(corpus)\n",
    "    \n",
    "    features = vectorizer_plot.get_feature_names()\n",
    "    stop_word = vectorizer_plot.get_stop_words()\n",
    "\n",
    "    num_feat_min.append(len(features))"
   ]
  },
  {
   "cell_type": "code",
   "execution_count": 316,
   "id": "charming-mayor",
   "metadata": {},
   "outputs": [
    {
     "name": "stdout",
     "output_type": "stream",
     "text": [
      "CPU times: user 16.9 ms, sys: 2.04 ms, total: 18.9 ms\n",
      "Wall time: 17.1 ms\n"
     ]
    },
    {
     "data": {
      "text/plain": [
       "[<matplotlib.lines.Line2D at 0x7fddaa3fbe90>]"
      ]
     },
     "execution_count": 316,
     "metadata": {},
     "output_type": "execute_result"
    },
    {
     "data": {
      "image/png": "[encoded data removed]",
      "text/plain": [
       "<Figure size 432x288 with 1 Axes>"
      ]
     },
     "metadata": {
      "needs_background": "light"
     },
     "output_type": "display_data"
    }
   ],
   "source": [
    "%%time\n",
    "fig, ax = plt.subplots()\n",
    "ax.plot(min_df, num_feat_min);"
   ]
  },
  {
   "cell_type": "code",
   "execution_count": null,
   "id": "eligible-maldives",
   "metadata": {},
   "outputs": [],
   "source": []
  },
  {
   "cell_type": "code",
   "execution_count": null,
   "id": "determined-uzbekistan",
   "metadata": {},
   "outputs": [],
   "source": []
  },
  {
   "cell_type": "code",
   "execution_count": 145,
   "id": "fresh-place",
   "metadata": {},
   "outputs": [
    {
     "name": "stdout",
     "output_type": "stream",
     "text": [
      "2021-03-26 13:08:25.233996\n",
      "CPU times: user 10min 3s, sys: 12.2 s, total: 10min 16s\n",
      "Wall time: 1min 30s\n"
     ]
    }
   ],
   "source": [
    "%%time\n",
    "print(datetime.now())\n",
    "distortions = []\n",
    "K = range(1,30)\n",
    "for k in K:\n",
    "    kmeansModel = KMeans(n_clusters=k)\n",
    "    kmeansModel = kmeansModel.fit(X)\n",
    "    distortions.append(kmeansModel.inertia_)"
   ]
  },
  {
   "cell_type": "code",
   "execution_count": 146,
   "id": "behavioral-integration",
   "metadata": {},
   "outputs": [
    {
     "data": {
      "image/png": "[encoded data removed]",
      "text/plain": [
       "<Figure size 864x576 with 1 Axes>"
      ]
     },
     "metadata": {
      "needs_background": "light"
     },
     "output_type": "display_data"
    },
    {
     "name": "stdout",
     "output_type": "stream",
     "text": [
      "CPU times: user 607 ms, sys: 68.8 ms, total: 676 ms\n",
      "Wall time: 235 ms\n"
     ]
    }
   ],
   "source": [
    "%%time\n",
    "fig, ax = plt.subplots(figsize=(12,8))\n",
    "plt.plot(K, distortions, marker='o')\n",
    "plt.xlabel('k')\n",
    "plt.ylabel('Distortions')\n",
    "plt.title(\"Elbow Method For Optimal k\")\n",
    "plt.show()"
   ]
  },
  {
   "cell_type": "markdown",
   "id": "chubby-celtic",
   "metadata": {},
   "source": [
    "# linear regression"
   ]
  },
  {
   "cell_type": "code",
   "execution_count": 220,
   "id": "executive-associate",
   "metadata": {},
   "outputs": [],
   "source": [
    "# from sklearn.pipeline import Pipeline, FeatureUnion\n",
    "# from sklearn.model_selection import GridSearchCV\n",
    "# from sklearn.svm import SVC\n",
    "# from sklearn.datasets import load_iris\n",
    "# from sklearn.decomposition import PCA, TruncatedSVD\n",
    "# from sklearn.feature_selection import SelectKBest\n",
    "\n",
    "# X, y = X, y\n",
    "\n",
    "# # This dataset is way too high-dimensional. Better do PCA:\n",
    "# pca = TruncatedSVD(n_components=2)\n",
    "\n",
    "# # Maybe some original features where good, too?\n",
    "# selection = SelectKBest(k=1)\n",
    "\n",
    "# # Build estimator from PCA and Univariate selection:\n",
    "\n",
    "# combined_features = FeatureUnion([(\"pca\", pca), (\"univ_select\", selection)])\n",
    "\n",
    "# # Use combined features to transform dataset:\n",
    "# X_features = combined_features.fit(X, y).transform(X)\n",
    "# print(\"Combined space has\", X_features.shape[1], \"features\")\n",
    "\n",
    "# svm = SVC(kernel=\"linear\")\n",
    "\n",
    "# # Do grid search over k, n_components and C:\n",
    "\n",
    "# pipeline = Pipeline([(\"features\", combined_features), (\"svm\", svm)])\n",
    "\n",
    "# param_grid = dict(features__pca__n_components=[1, 2, 3],\n",
    "#                   features__univ_select__k=[1, 2],\n",
    "#                   svm__C=[0.1, 1, 10])\n",
    "\n",
    "# grid_search = GridSearchCV(pipeline, param_grid=param_grid, cv=5, verbose=10)\n",
    "# grid_search.fit(X, y)\n",
    "# print(grid_search.best_estimator_)\n"
   ]
  },
  {
   "cell_type": "code",
   "execution_count": 231,
   "id": "through-overall",
   "metadata": {},
   "outputs": [],
   "source": [
    "import numpy as np\n",
    "from sklearn.model_selection import train_test_split\n",
    "from sklearn.linear_model import LinearRegression"
   ]
  },
  {
   "cell_type": "code",
   "execution_count": 246,
   "id": "tribal-celebration",
   "metadata": {},
   "outputs": [],
   "source": [
    "X_train, X_test, y_train, y_test = train_test_split(X, y,test_size=0.2)"
   ]
  },
  {
   "cell_type": "code",
   "execution_count": 247,
   "id": "loaded-manchester",
   "metadata": {},
   "outputs": [
    {
     "data": {
      "text/plain": [
       "0.6923018712421541"
      ]
     },
     "execution_count": 247,
     "metadata": {},
     "output_type": "execute_result"
    }
   ],
   "source": [
    "reg = LinearRegression().fit(X_train, y_train)\n",
    "reg.score(X_test, y_test)"
   ]
  },
  {
   "cell_type": "code",
   "execution_count": null,
   "id": "hawaiian-suspect",
   "metadata": {},
   "outputs": [],
   "source": []
  },
  {
   "cell_type": "code",
   "execution_count": 251,
   "id": "champion-million",
   "metadata": {},
   "outputs": [],
   "source": [
    "import matplotlib.pyplot as plt\n",
    "import numpy as np\n",
    "from sklearn import datasets, linear_model\n",
    "from sklearn.metrics import mean_squared_error, r2_score"
   ]
  },
  {
   "cell_type": "code",
   "execution_count": 252,
   "id": "binding-bunny",
   "metadata": {},
   "outputs": [
    {
     "data": {
      "text/plain": [
       "LinearRegression()"
      ]
     },
     "execution_count": 252,
     "metadata": {},
     "output_type": "execute_result"
    }
   ],
   "source": [
    "\n",
    "# Create linear regression object\n",
    "regr = linear_model.LinearRegression()\n",
    "\n",
    "# Train the model using the training sets\n",
    "regr.fit(X_train, y_train)\n",
    "\n"
   ]
  },
  {
   "cell_type": "code",
   "execution_count": 253,
   "id": "automated-kidney",
   "metadata": {},
   "outputs": [],
   "source": [
    "# Make predictions using the testing set\n",
    "y_pred = regr.predict(X_test)\n"
   ]
  },
  {
   "cell_type": "code",
   "execution_count": 255,
   "id": "authorized-hanging",
   "metadata": {},
   "outputs": [
    {
     "data": {
      "text/plain": [
       "(4145, 3079)"
      ]
     },
     "execution_count": 255,
     "metadata": {},
     "output_type": "execute_result"
    }
   ],
   "source": [
    "X_test.shape"
   ]
  },
  {
   "cell_type": "code",
   "execution_count": 258,
   "id": "native-horror",
   "metadata": {},
   "outputs": [
    {
     "name": "stdout",
     "output_type": "stream",
     "text": [
      "Coefficients: \n",
      " [-1.19672234  1.97461333  3.69461296 ... -0.06961293  0.25158763\n",
      "  1.94314927]\n",
      "Mean squared error: 2.36\n",
      "Coefficient of determination: 0.69\n"
     ]
    }
   ],
   "source": [
    "# The coefficients\n",
    "print('Coefficients: \\n', regr.coef_)\n",
    "# The mean squared error\n",
    "print('Mean squared error: %.2f'\n",
    "      % mean_squared_error(y_test, y_pred))\n",
    "# The coefficient of determination: 1 is perfect prediction\n",
    "print('Coefficient of determination: %.2f'\n",
    "      % r2_score(y_test, y_pred))"
   ]
  },
  {
   "cell_type": "code",
   "execution_count": null,
   "id": "continuous-prime",
   "metadata": {},
   "outputs": [],
   "source": []
  },
  {
   "cell_type": "code",
   "execution_count": null,
   "id": "reasonable-youth",
   "metadata": {},
   "outputs": [],
   "source": []
  },
  {
   "cell_type": "code",
   "execution_count": null,
   "id": "continental-chocolate",
   "metadata": {},
   "outputs": [],
   "source": []
  },
  {
   "cell_type": "code",
   "execution_count": null,
   "id": "straight-repository",
   "metadata": {},
   "outputs": [],
   "source": []
  },
  {
   "cell_type": "code",
   "execution_count": null,
   "id": "numerical-bunny",
   "metadata": {},
   "outputs": [],
   "source": []
  }
 ],
 "metadata": {
  "kernelspec": {
   "display_name": "Python 3",
   "language": "python",
   "name": "python3"
  },
  "language_info": {
   "codemirror_mode": {
    "name": "ipython",
    "version": 3
   },
   "file_extension": ".py",
   "mimetype": "text/x-python",
   "name": "python",
   "nbconvert_exporter": "python",
   "pygments_lexer": "ipython3",
   "version": "3.7.10"
  }
 },
 "nbformat": 4,
 "nbformat_minor": 5
}
